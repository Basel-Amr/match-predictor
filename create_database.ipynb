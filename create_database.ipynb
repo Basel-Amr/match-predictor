{
 "cells": [
  {
   "cell_type": "code",
   "execution_count": 17,
   "id": "aa00b0c6",
   "metadata": {},
   "outputs": [],
   "source": [
    "import os\n",
    "from dotenv import load_dotenv\n",
    "import sqlite3\n",
    "from rich.console import Console\n",
    "from rich.table import Table\n",
    "from rich.panel import Panel\n",
    "from rich import box"
   ]
  },
  {
   "cell_type": "code",
   "execution_count": 18,
   "id": "740fdb56",
   "metadata": {},
   "outputs": [],
   "source": [
    "# Load environment variables\n",
    "load_dotenv()\n",
    "\n",
    "console = Console()"
   ]
  },
  {
   "cell_type": "code",
   "execution_count": 19,
   "id": "966e0abc",
   "metadata": {},
   "outputs": [],
   "source": [
    "DB_FILE = os.getenv(\"DB_FILE\", \"game_database.db\")\n",
    "DB_PASSWORD = os.getenv(\"DB_PASSWORD\")"
   ]
  },
  {
   "cell_type": "code",
   "execution_count": 32,
   "id": "b6e71748",
   "metadata": {},
   "outputs": [],
   "source": [
    "def get_connection():\n",
    "    conn = sqlite3.connect(DB_FILE)\n",
    "    # If using SQLCipher, uncomment the following lines after installing pysqlcipher3\n",
    "    cursor = conn.cursor()\n",
    "    cursor.execute(f\"PRAGMA key = '{DB_PASSWORD}';\")\n",
    "    cursor.close()\n",
    "    return conn"
   ]
  },
  {
   "cell_type": "code",
   "execution_count": 33,
   "id": "1becba0a",
   "metadata": {},
   "outputs": [],
   "source": [
    "def execute_query(query: str):\n",
    "    try:\n",
    "        conn = get_connection()\n",
    "        cursor = conn.cursor()\n",
    "\n",
    "        console.print(\"[bold cyan]📡 Executing Query...[/bold cyan]\")\n",
    "        cursor.execute(query)\n",
    "\n",
    "        if query.strip().lower().startswith(\"select\"):\n",
    "            rows = cursor.fetchall()\n",
    "            if rows:\n",
    "                columns = [description[0] for description in cursor.description]\n",
    "\n",
    "                table = Table(title=\"Query Results\", box=box.ROUNDED, show_lines=True)\n",
    "                for col in columns:\n",
    "                    table.add_column(col, style=\"bold magenta\")\n",
    "\n",
    "                for row in rows:\n",
    "                    table.add_row(*[str(cell) for cell in row])\n",
    "\n",
    "                console.print(table)\n",
    "                console.print(f\"✅ [green]{len(rows)} rows fetched successfully.[/green]\")\n",
    "            else:\n",
    "                console.print(Panel(\"[yellow]⚠️ Query returned no rows.[/yellow]\", title=\"No Data\", style=\"yellow\"))\n",
    "        else:\n",
    "            conn.commit()\n",
    "            console.print(Panel(f\"✅ [green]Query executed successfully.[/green]\", title=\"Success\", style=\"green\"))\n",
    "\n",
    "    except Exception as e:\n",
    "        console.print(Panel(f\"❗ [red]Error executing query:[/red] {str(e)}\", title=\"Error\", style=\"red\"))\n",
    "\n",
    "    finally:\n",
    "        cursor.close()\n",
    "        conn.close()\n",
    "        console.print(\"[bold cyan]🔌 Connection closed.[/bold cyan]\\n\")"
   ]
  },
  {
   "cell_type": "code",
   "execution_count": 34,
   "id": "0df71eb5",
   "metadata": {},
   "outputs": [],
   "source": [
    "def list_tables():\n",
    "    \"\"\"List all tables with row counts.\"\"\"\n",
    "    query = \"\"\"\n",
    "    SELECT name FROM sqlite_master \n",
    "    WHERE type='table' AND name NOT LIKE 'sqlite_%'\n",
    "    ORDER BY name;\n",
    "    \"\"\"\n",
    "    try:\n",
    "        conn = get_connection()\n",
    "        cursor = conn.cursor()\n",
    "        cursor.execute(query)\n",
    "        tables = cursor.fetchall()\n",
    "\n",
    "        if not tables:\n",
    "            console.print(Panel(\"[yellow]⚠️ No tables found in the database.[/yellow]\", title=\"No Tables\", style=\"yellow\"))\n",
    "            return\n",
    "\n",
    "        table = Table(title=\"Tables in Database\", box=box.ROUNDED, show_lines=True)\n",
    "        table.add_column(\"Table Name\", style=\"bold green\")\n",
    "        table.add_column(\"Number of Records\", style=\"bold cyan\", justify=\"right\")\n",
    "\n",
    "        for (table_name,) in tables:\n",
    "            cursor.execute(f\"SELECT COUNT(*) FROM {table_name}\")\n",
    "            count = cursor.fetchone()[0]\n",
    "            table.add_row(f\"📋 {table_name}\", str(count))\n",
    "\n",
    "        console.print(table)\n",
    "    except Exception as e:\n",
    "        console.print(Panel(f\"❗ [red]Error listing tables:[/red] {str(e)}\", title=\"Error\", style=\"red\"))\n",
    "    finally:\n",
    "        cursor.close()\n",
    "        conn.close()\n",
    "        console.print(\"[bold cyan]🔌 Connection closed.[/bold cyan]\\n\")"
   ]
  },
  {
   "cell_type": "code",
   "execution_count": 35,
   "id": "e5662e81",
   "metadata": {},
   "outputs": [],
   "source": [
    "def table_info(table_name: str):\n",
    "    \"\"\"Show info about table: columns, row count, and sample rows (max 10).\"\"\"\n",
    "    try:\n",
    "        conn = get_connection()\n",
    "        cursor = conn.cursor()\n",
    "\n",
    "        # Check if table exists\n",
    "        cursor.execute(\"SELECT name FROM sqlite_master WHERE type='table' AND name=?\", (table_name,))\n",
    "        if not cursor.fetchone():\n",
    "            console.print(Panel(f\"⚠️ Table '{table_name}' does not exist.\", style=\"yellow\"))\n",
    "            return\n",
    "\n",
    "        # Get columns info\n",
    "        cursor.execute(f\"PRAGMA table_info({table_name})\")\n",
    "        columns_info = cursor.fetchall()\n",
    "        columns = [col[1] for col in columns_info]\n",
    "\n",
    "        # Get row count\n",
    "        cursor.execute(f\"SELECT COUNT(*) FROM {table_name}\")\n",
    "        row_count = cursor.fetchone()[0]\n",
    "\n",
    "        # Print columns and row count\n",
    "        info_panel = Panel.fit(\n",
    "            f\"📋 [bold green]Table:[/bold green] {table_name}\\n\"\n",
    "            f\"🔢 [bold cyan]Columns:[/bold cyan] {', '.join(columns)}\\n\"\n",
    "            f\"📊 [bold magenta]Total Rows:[/bold magenta] {row_count}\",\n",
    "            title=\"Table Info\",\n",
    "            style=\"blue\",\n",
    "        )\n",
    "        console.print(info_panel)\n",
    "\n",
    "        # Fetch and show up to 10 rows\n",
    "        cursor.execute(f\"SELECT * FROM {table_name} LIMIT 10\")\n",
    "        rows = cursor.fetchall()\n",
    "\n",
    "        if rows:\n",
    "            table = Table(title=f\"Sample Data from {table_name}\", box=box.ROUNDED, show_lines=True)\n",
    "            for col in columns:\n",
    "                table.add_column(col, style=\"bold magenta\")\n",
    "            for row in rows:\n",
    "                table.add_row(*[str(cell) for cell in row])\n",
    "            console.print(table)\n",
    "        else:\n",
    "            console.print(Panel(\"[yellow]⚠️ No data found in the table.[/yellow]\", title=\"Empty Table\", style=\"yellow\"))\n",
    "\n",
    "    except Exception as e:\n",
    "        console.print(Panel(f\"❗ [red]Error fetching table info:[/red] {str(e)}\", title=\"Error\", style=\"red\"))\n",
    "    finally:\n",
    "        cursor.close()\n",
    "        conn.close()\n",
    "        console.print(\"[bold cyan]🔌 Connection closed.[/bold cyan]\\n\")"
   ]
  },
  {
   "cell_type": "code",
   "execution_count": 40,
   "id": "4d4b74ad",
   "metadata": {},
   "outputs": [
    {
     "data": {
      "text/html": [
       "<pre style=\"white-space:pre;overflow-x:auto;line-height:normal;font-family:Menlo,'DejaVu Sans Mono',consolas,'Courier New',monospace\"><span style=\"color: #808000; text-decoration-color: #808000\">╭───────────────────────────────────────────────────</span> No Tables <span style=\"color: #808000; text-decoration-color: #808000\">───────────────────────────────────────────────────╮</span>\n",
       "<span style=\"color: #808000; text-decoration-color: #808000\">│ ⚠️ No tables found in the database.                                                                              │</span>\n",
       "<span style=\"color: #808000; text-decoration-color: #808000\">╰─────────────────────────────────────────────────────────────────────────────────────────────────────────────────╯</span>\n",
       "</pre>\n"
      ],
      "text/plain": [
       "\u001b[33m╭─\u001b[0m\u001b[33m──────────────────────────────────────────────────\u001b[0m No Tables \u001b[33m──────────────────────────────────────────────────\u001b[0m\u001b[33m─╮\u001b[0m\n",
       "\u001b[33m│\u001b[0m\u001b[33m \u001b[0m\u001b[33m⚠️ No tables found in the database.\u001b[0m\u001b[33m                                                                             \u001b[0m\u001b[33m \u001b[0m\u001b[33m│\u001b[0m\n",
       "\u001b[33m╰─────────────────────────────────────────────────────────────────────────────────────────────────────────────────╯\u001b[0m\n"
      ]
     },
     "metadata": {},
     "output_type": "display_data"
    },
    {
     "data": {
      "text/html": [
       "<pre style=\"white-space:pre;overflow-x:auto;line-height:normal;font-family:Menlo,'DejaVu Sans Mono',consolas,'Courier New',monospace\"><span style=\"color: #008080; text-decoration-color: #008080; font-weight: bold\">🔌 Connection closed.</span>\n",
       "\n",
       "</pre>\n"
      ],
      "text/plain": [
       "\u001b[1;36m🔌 Connection closed.\u001b[0m\n",
       "\n"
      ]
     },
     "metadata": {},
     "output_type": "display_data"
    }
   ],
   "source": [
    "list_tables()"
   ]
  },
  {
   "cell_type": "code",
   "execution_count": 41,
   "id": "f1a33eac",
   "metadata": {},
   "outputs": [],
   "source": [
    "def drop_tables_interactive():\n",
    "    conn = get_connection()\n",
    "    cursor = conn.cursor()\n",
    "    \n",
    "    # Get list of user tables in SQLite\n",
    "    cursor.execute(\"SELECT name FROM sqlite_master WHERE type='table' AND name NOT LIKE 'sqlite_%';\")\n",
    "    tables = [row[0] for row in cursor.fetchall()]\n",
    "    \n",
    "    if not tables:\n",
    "        print(\"No user tables found to drop.\")\n",
    "        cursor.close()\n",
    "        conn.close()\n",
    "        return\n",
    "    \n",
    "    print(\"\\nExisting tables:\")\n",
    "    for idx, table in enumerate(tables, 1):\n",
    "        print(f\"{idx}. {table}\")\n",
    "    \n",
    "    print(\"\\nOptions:\")\n",
    "    print(\"  Enter the table number to drop a specific table\")\n",
    "    print(\"  Enter 'all' to drop ALL tables\")\n",
    "    print(\"  Enter 'exit' to cancel and exit\")\n",
    "    \n",
    "    while True:\n",
    "        choice = input(\"\\nYour choice: \").strip().lower()\n",
    "        \n",
    "        if choice == 'exit':\n",
    "            print(\"Exit without dropping tables.\")\n",
    "            break\n",
    "        \n",
    "        elif choice == 'all':\n",
    "            for table in tables:\n",
    "                cursor.execute(f\"DROP TABLE IF EXISTS {table};\")\n",
    "                print(f\"✅ Dropped table '{table}'\")\n",
    "            conn.commit()\n",
    "            break\n",
    "        \n",
    "        elif choice.isdigit():\n",
    "            idx = int(choice)\n",
    "            if 1 <= idx <= len(tables):\n",
    "                table = tables[idx - 1]\n",
    "                cursor.execute(f\"DROP TABLE IF EXISTS {table};\")\n",
    "                conn.commit()\n",
    "                print(f\"✅ Dropped table '{table}'\")\n",
    "                # Update tables list after drop\n",
    "                tables.pop(idx - 1)\n",
    "                if not tables:\n",
    "                    print(\"No more tables left.\")\n",
    "                    break\n",
    "                else:\n",
    "                    print(\"\\nRemaining tables:\")\n",
    "                    for idx2, t in enumerate(tables, 1):\n",
    "                        print(f\"{idx2}. {t}\")\n",
    "            else:\n",
    "                print(\"Invalid table number, try again.\")\n",
    "        else:\n",
    "            print(\"Invalid input, try again.\")\n",
    "    \n",
    "    cursor.close()\n",
    "    conn.close()"
   ]
  },
  {
   "cell_type": "code",
   "execution_count": 42,
   "id": "d43e0204",
   "metadata": {},
   "outputs": [
    {
     "name": "stdout",
     "output_type": "stream",
     "text": [
      "No user tables found to drop.\n"
     ]
    }
   ],
   "source": [
    "drop_tables_interactive()"
   ]
  },
  {
   "cell_type": "markdown",
   "id": "17228cff",
   "metadata": {},
   "source": [
    "## 1.1 🧑‍💼 1. Players Table"
   ]
  },
  {
   "cell_type": "code",
   "execution_count": 51,
   "id": "15734788",
   "metadata": {},
   "outputs": [
    {
     "data": {
      "text/html": [
       "<pre style=\"white-space:pre;overflow-x:auto;line-height:normal;font-family:Menlo,'DejaVu Sans Mono',consolas,'Courier New',monospace\"><span style=\"color: #008080; text-decoration-color: #008080; font-weight: bold\">📡 Executing Query...</span>\n",
       "</pre>\n"
      ],
      "text/plain": [
       "\u001b[1;36m📡 Executing Query\u001b[0m\u001b[1;36m...\u001b[0m\n"
      ]
     },
     "metadata": {},
     "output_type": "display_data"
    },
    {
     "data": {
      "text/html": [
       "<pre style=\"white-space:pre;overflow-x:auto;line-height:normal;font-family:Menlo,'DejaVu Sans Mono',consolas,'Courier New',monospace\"><span style=\"color: #008000; text-decoration-color: #008000\">╭────────────────────────────────────────────────────</span> Success <span style=\"color: #008000; text-decoration-color: #008000\">────────────────────────────────────────────────────╮</span>\n",
       "<span style=\"color: #008000; text-decoration-color: #008000\">│ ✅ Query executed successfully.                                                                                 │</span>\n",
       "<span style=\"color: #008000; text-decoration-color: #008000\">╰─────────────────────────────────────────────────────────────────────────────────────────────────────────────────╯</span>\n",
       "</pre>\n"
      ],
      "text/plain": [
       "\u001b[32m╭─\u001b[0m\u001b[32m───────────────────────────────────────────────────\u001b[0m Success \u001b[32m───────────────────────────────────────────────────\u001b[0m\u001b[32m─╮\u001b[0m\n",
       "\u001b[32m│\u001b[0m\u001b[32m \u001b[0m\u001b[32m✅ \u001b[0m\u001b[32mQuery executed successfully.\u001b[0m\u001b[32m                                                                                \u001b[0m\u001b[32m \u001b[0m\u001b[32m│\u001b[0m\n",
       "\u001b[32m╰─────────────────────────────────────────────────────────────────────────────────────────────────────────────────╯\u001b[0m\n"
      ]
     },
     "metadata": {},
     "output_type": "display_data"
    },
    {
     "data": {
      "text/html": [
       "<pre style=\"white-space:pre;overflow-x:auto;line-height:normal;font-family:Menlo,'DejaVu Sans Mono',consolas,'Courier New',monospace\"><span style=\"color: #008080; text-decoration-color: #008080; font-weight: bold\">🔌 Connection closed.</span>\n",
       "\n",
       "</pre>\n"
      ],
      "text/plain": [
       "\u001b[1;36m🔌 Connection closed.\u001b[0m\n",
       "\n"
      ]
     },
     "metadata": {},
     "output_type": "display_data"
    }
   ],
   "source": [
    "query_players = \"\"\"\n",
    "CREATE TABLE IF NOT EXISTS players (\n",
    "    id INTEGER PRIMARY KEY AUTOINCREMENT,\n",
    "    username TEXT NOT NULL UNIQUE,\n",
    "    email TEXT UNIQUE NOT NULL,\n",
    "    password_hash TEXT NOT NULL,\n",
    "    avatar_id INTEGER,                                -- Foreign key to avatars\n",
    "    confirmation_token TEXT,\n",
    "    is_confirmed INTEGER DEFAULT 0,\n",
    "    reset_token TEXT,\n",
    "    role TEXT CHECK (role IN ('admin', 'player')) DEFAULT 'player',\n",
    "    created_at TEXT DEFAULT CURRENT_TIMESTAMP,\n",
    "    updated_at TEXT DEFAULT CURRENT_TIMESTAMP,\n",
    "    last_login_at TEXT,\n",
    "    FOREIGN KEY (avatar_id) REFERENCES avatars(id) ON DELETE SET NULL\n",
    ");\n",
    "\"\"\"\n",
    "execute_query(query_players)"
   ]
  },
  {
   "cell_type": "markdown",
   "id": "ffaaad36",
   "metadata": {},
   "source": [
    "## 2.2 🏆 2. Leagues Table"
   ]
  },
  {
   "cell_type": "code",
   "execution_count": 66,
   "id": "dffafa97",
   "metadata": {},
   "outputs": [
    {
     "data": {
      "text/html": [
       "<pre style=\"white-space:pre;overflow-x:auto;line-height:normal;font-family:Menlo,'DejaVu Sans Mono',consolas,'Courier New',monospace\"><span style=\"color: #008080; text-decoration-color: #008080; font-weight: bold\">📡 Executing Query...</span>\n",
       "</pre>\n"
      ],
      "text/plain": [
       "\u001b[1;36m📡 Executing Query\u001b[0m\u001b[1;36m...\u001b[0m\n"
      ]
     },
     "metadata": {},
     "output_type": "display_data"
    },
    {
     "data": {
      "text/html": [
       "<pre style=\"white-space:pre;overflow-x:auto;line-height:normal;font-family:Menlo,'DejaVu Sans Mono',consolas,'Courier New',monospace\"><span style=\"color: #008000; text-decoration-color: #008000\">╭────────────────────────────────────────────────────</span> Success <span style=\"color: #008000; text-decoration-color: #008000\">────────────────────────────────────────────────────╮</span>\n",
       "<span style=\"color: #008000; text-decoration-color: #008000\">│ ✅ Query executed successfully.                                                                                 │</span>\n",
       "<span style=\"color: #008000; text-decoration-color: #008000\">╰─────────────────────────────────────────────────────────────────────────────────────────────────────────────────╯</span>\n",
       "</pre>\n"
      ],
      "text/plain": [
       "\u001b[32m╭─\u001b[0m\u001b[32m───────────────────────────────────────────────────\u001b[0m Success \u001b[32m───────────────────────────────────────────────────\u001b[0m\u001b[32m─╮\u001b[0m\n",
       "\u001b[32m│\u001b[0m\u001b[32m \u001b[0m\u001b[32m✅ \u001b[0m\u001b[32mQuery executed successfully.\u001b[0m\u001b[32m                                                                                \u001b[0m\u001b[32m \u001b[0m\u001b[32m│\u001b[0m\n",
       "\u001b[32m╰─────────────────────────────────────────────────────────────────────────────────────────────────────────────────╯\u001b[0m\n"
      ]
     },
     "metadata": {},
     "output_type": "display_data"
    },
    {
     "data": {
      "text/html": [
       "<pre style=\"white-space:pre;overflow-x:auto;line-height:normal;font-family:Menlo,'DejaVu Sans Mono',consolas,'Courier New',monospace\"><span style=\"color: #008080; text-decoration-color: #008080; font-weight: bold\">🔌 Connection closed.</span>\n",
       "\n",
       "</pre>\n"
      ],
      "text/plain": [
       "\u001b[1;36m🔌 Connection closed.\u001b[0m\n",
       "\n"
      ]
     },
     "metadata": {},
     "output_type": "display_data"
    }
   ],
   "source": [
    "query_leagues = \"\"\"\n",
    "CREATE TABLE IF NOT EXISTS leagues (\n",
    "    id INTEGER PRIMARY KEY AUTOINCREMENT,\n",
    "    name TEXT UNIQUE NOT NULL,\n",
    "    country TEXT,\n",
    "    logo_path TEXT,                          -- Path to local league logo\n",
    "    can_be_draw INTEGER DEFAULT 1,           -- 1 = draw allowed\n",
    "    two_legs INTEGER DEFAULT 0,              -- 1 = two-legged ties\n",
    "    must_have_winner INTEGER DEFAULT 0,      -- 1 = no draw allowed (e.g., finals)\n",
    "    created_at TEXT DEFAULT CURRENT_TIMESTAMP\n",
    ");\n",
    "\"\"\"\n",
    "execute_query(query_leagues)\n"
   ]
  },
  {
   "cell_type": "markdown",
   "id": "7eb75d7c",
   "metadata": {},
   "source": [
    "## 3.3 📅 3. Rounds Table"
   ]
  },
  {
   "cell_type": "code",
   "execution_count": 53,
   "id": "4f920f5e",
   "metadata": {},
   "outputs": [
    {
     "data": {
      "text/html": [
       "<pre style=\"white-space:pre;overflow-x:auto;line-height:normal;font-family:Menlo,'DejaVu Sans Mono',consolas,'Courier New',monospace\"><span style=\"color: #008080; text-decoration-color: #008080; font-weight: bold\">📡 Executing Query...</span>\n",
       "</pre>\n"
      ],
      "text/plain": [
       "\u001b[1;36m📡 Executing Query\u001b[0m\u001b[1;36m...\u001b[0m\n"
      ]
     },
     "metadata": {},
     "output_type": "display_data"
    },
    {
     "data": {
      "text/html": [
       "<pre style=\"white-space:pre;overflow-x:auto;line-height:normal;font-family:Menlo,'DejaVu Sans Mono',consolas,'Courier New',monospace\"><span style=\"color: #008000; text-decoration-color: #008000\">╭────────────────────────────────────────────────────</span> Success <span style=\"color: #008000; text-decoration-color: #008000\">────────────────────────────────────────────────────╮</span>\n",
       "<span style=\"color: #008000; text-decoration-color: #008000\">│ ✅ Query executed successfully.                                                                                 │</span>\n",
       "<span style=\"color: #008000; text-decoration-color: #008000\">╰─────────────────────────────────────────────────────────────────────────────────────────────────────────────────╯</span>\n",
       "</pre>\n"
      ],
      "text/plain": [
       "\u001b[32m╭─\u001b[0m\u001b[32m───────────────────────────────────────────────────\u001b[0m Success \u001b[32m───────────────────────────────────────────────────\u001b[0m\u001b[32m─╮\u001b[0m\n",
       "\u001b[32m│\u001b[0m\u001b[32m \u001b[0m\u001b[32m✅ \u001b[0m\u001b[32mQuery executed successfully.\u001b[0m\u001b[32m                                                                                \u001b[0m\u001b[32m \u001b[0m\u001b[32m│\u001b[0m\n",
       "\u001b[32m╰─────────────────────────────────────────────────────────────────────────────────────────────────────────────────╯\u001b[0m\n"
      ]
     },
     "metadata": {},
     "output_type": "display_data"
    },
    {
     "data": {
      "text/html": [
       "<pre style=\"white-space:pre;overflow-x:auto;line-height:normal;font-family:Menlo,'DejaVu Sans Mono',consolas,'Courier New',monospace\"><span style=\"color: #008080; text-decoration-color: #008080; font-weight: bold\">🔌 Connection closed.</span>\n",
       "\n",
       "</pre>\n"
      ],
      "text/plain": [
       "\u001b[1;36m🔌 Connection closed.\u001b[0m\n",
       "\n"
      ]
     },
     "metadata": {},
     "output_type": "display_data"
    }
   ],
   "source": [
    "query_rounds = \"\"\"\n",
    "CREATE TABLE IF NOT EXISTS rounds (\n",
    "    id INTEGER PRIMARY KEY AUTOINCREMENT,\n",
    "    name TEXT NOT NULL,\n",
    "    start_date TEXT NOT NULL,\n",
    "    end_date TEXT NOT NULL,\n",
    "    created_at TEXT DEFAULT CURRENT_TIMESTAMP\n",
    ");\n",
    "\"\"\"\n",
    "execute_query(query_rounds)"
   ]
  },
  {
   "cell_type": "markdown",
   "id": "357393e7",
   "metadata": {},
   "source": [
    "## 4.4 🏟️ 4. Teams Table"
   ]
  },
  {
   "cell_type": "code",
   "execution_count": null,
   "id": "e5136418",
   "metadata": {},
   "outputs": [
    {
     "data": {
      "text/html": [
       "<pre style=\"white-space:pre;overflow-x:auto;line-height:normal;font-family:Menlo,'DejaVu Sans Mono',consolas,'Courier New',monospace\"><span style=\"color: #008080; text-decoration-color: #008080; font-weight: bold\">📡 Executing Query...</span>\n",
       "</pre>\n"
      ],
      "text/plain": [
       "\u001b[1;36m📡 Executing Query\u001b[0m\u001b[1;36m...\u001b[0m\n"
      ]
     },
     "metadata": {},
     "output_type": "display_data"
    },
    {
     "data": {
      "text/html": [
       "<pre style=\"white-space:pre;overflow-x:auto;line-height:normal;font-family:Menlo,'DejaVu Sans Mono',consolas,'Courier New',monospace\"><span style=\"color: #008000; text-decoration-color: #008000\">╭────────────────────────────────────────────────────</span> Success <span style=\"color: #008000; text-decoration-color: #008000\">────────────────────────────────────────────────────╮</span>\n",
       "<span style=\"color: #008000; text-decoration-color: #008000\">│ ✅ Query executed successfully.                                                                                 │</span>\n",
       "<span style=\"color: #008000; text-decoration-color: #008000\">╰─────────────────────────────────────────────────────────────────────────────────────────────────────────────────╯</span>\n",
       "</pre>\n"
      ],
      "text/plain": [
       "\u001b[32m╭─\u001b[0m\u001b[32m───────────────────────────────────────────────────\u001b[0m Success \u001b[32m───────────────────────────────────────────────────\u001b[0m\u001b[32m─╮\u001b[0m\n",
       "\u001b[32m│\u001b[0m\u001b[32m \u001b[0m\u001b[32m✅ \u001b[0m\u001b[32mQuery executed successfully.\u001b[0m\u001b[32m                                                                                \u001b[0m\u001b[32m \u001b[0m\u001b[32m│\u001b[0m\n",
       "\u001b[32m╰─────────────────────────────────────────────────────────────────────────────────────────────────────────────────╯\u001b[0m\n"
      ]
     },
     "metadata": {},
     "output_type": "display_data"
    },
    {
     "data": {
      "text/html": [
       "<pre style=\"white-space:pre;overflow-x:auto;line-height:normal;font-family:Menlo,'DejaVu Sans Mono',consolas,'Courier New',monospace\"><span style=\"color: #008080; text-decoration-color: #008080; font-weight: bold\">🔌 Connection closed.</span>\n",
       "\n",
       "</pre>\n"
      ],
      "text/plain": [
       "\u001b[1;36m🔌 Connection closed.\u001b[0m\n",
       "\n"
      ]
     },
     "metadata": {},
     "output_type": "display_data"
    }
   ],
   "source": [
    "query_teams = \"\"\"\n",
    "CREATE TABLE IF NOT EXISTS teams (\n",
    "    id INTEGER PRIMARY KEY AUTOINCREMENT,\n",
    "    name TEXT NOT NULL UNIQUE,\n",
    "    logo_path TEXT,\n",
    "    league_id INTEGER NOT NULL,\n",
    "    created_at TEXT DEFAULT CURRENT_TIMESTAMP,\n",
    "    FOREIGN KEY (league_id) REFERENCES leagues(id) ON DELETE CASCADE\n",
    ");\n",
    "\"\"\"\n",
    "execute_query(query_teams)\n"
   ]
  },
  {
   "cell_type": "markdown",
   "id": "b67d06c4",
   "metadata": {},
   "source": [
    "## team_league join table"
   ]
  },
  {
   "cell_type": "code",
   "execution_count": 67,
   "id": "42a5dd89",
   "metadata": {},
   "outputs": [
    {
     "data": {
      "text/html": [
       "<pre style=\"white-space:pre;overflow-x:auto;line-height:normal;font-family:Menlo,'DejaVu Sans Mono',consolas,'Courier New',monospace\"><span style=\"color: #008080; text-decoration-color: #008080; font-weight: bold\">📡 Executing Query...</span>\n",
       "</pre>\n"
      ],
      "text/plain": [
       "\u001b[1;36m📡 Executing Query\u001b[0m\u001b[1;36m...\u001b[0m\n"
      ]
     },
     "metadata": {},
     "output_type": "display_data"
    },
    {
     "data": {
      "text/html": [
       "<pre style=\"white-space:pre;overflow-x:auto;line-height:normal;font-family:Menlo,'DejaVu Sans Mono',consolas,'Courier New',monospace\"><span style=\"color: #008000; text-decoration-color: #008000\">╭────────────────────────────────────────────────────</span> Success <span style=\"color: #008000; text-decoration-color: #008000\">────────────────────────────────────────────────────╮</span>\n",
       "<span style=\"color: #008000; text-decoration-color: #008000\">│ ✅ Query executed successfully.                                                                                 │</span>\n",
       "<span style=\"color: #008000; text-decoration-color: #008000\">╰─────────────────────────────────────────────────────────────────────────────────────────────────────────────────╯</span>\n",
       "</pre>\n"
      ],
      "text/plain": [
       "\u001b[32m╭─\u001b[0m\u001b[32m───────────────────────────────────────────────────\u001b[0m Success \u001b[32m───────────────────────────────────────────────────\u001b[0m\u001b[32m─╮\u001b[0m\n",
       "\u001b[32m│\u001b[0m\u001b[32m \u001b[0m\u001b[32m✅ \u001b[0m\u001b[32mQuery executed successfully.\u001b[0m\u001b[32m                                                                                \u001b[0m\u001b[32m \u001b[0m\u001b[32m│\u001b[0m\n",
       "\u001b[32m╰─────────────────────────────────────────────────────────────────────────────────────────────────────────────────╯\u001b[0m\n"
      ]
     },
     "metadata": {},
     "output_type": "display_data"
    },
    {
     "data": {
      "text/html": [
       "<pre style=\"white-space:pre;overflow-x:auto;line-height:normal;font-family:Menlo,'DejaVu Sans Mono',consolas,'Courier New',monospace\"><span style=\"color: #008080; text-decoration-color: #008080; font-weight: bold\">🔌 Connection closed.</span>\n",
       "\n",
       "</pre>\n"
      ],
      "text/plain": [
       "\u001b[1;36m🔌 Connection closed.\u001b[0m\n",
       "\n"
      ]
     },
     "metadata": {},
     "output_type": "display_data"
    }
   ],
   "source": [
    "execute_query(\"\"\"\n",
    "CREATE TABLE IF NOT EXISTS team_league (\n",
    "    team_id INTEGER NOT NULL,\n",
    "    league_id INTEGER NOT NULL,\n",
    "    PRIMARY KEY (team_id, league_id),\n",
    "    FOREIGN KEY (team_id) REFERENCES teams(id) ON DELETE CASCADE,\n",
    "    FOREIGN KEY (league_id) REFERENCES leagues(id) ON DELETE CASCADE\n",
    ");\n",
    "\"\"\")"
   ]
  },
  {
   "cell_type": "markdown",
   "id": "4093b967",
   "metadata": {},
   "source": [
    "## 5.5 ⚽ 5. Matches Table"
   ]
  },
  {
   "cell_type": "code",
   "execution_count": null,
   "id": "be691de7",
   "metadata": {},
   "outputs": [
    {
     "data": {
      "text/html": [
       "<pre style=\"white-space:pre;overflow-x:auto;line-height:normal;font-family:Menlo,'DejaVu Sans Mono',consolas,'Courier New',monospace\"><span style=\"color: #008080; text-decoration-color: #008080; font-weight: bold\">📡 Executing Query...</span>\n",
       "</pre>\n"
      ],
      "text/plain": [
       "\u001b[1;36m📡 Executing Query\u001b[0m\u001b[1;36m...\u001b[0m\n"
      ]
     },
     "metadata": {},
     "output_type": "display_data"
    },
    {
     "data": {
      "text/html": [
       "<pre style=\"white-space:pre;overflow-x:auto;line-height:normal;font-family:Menlo,'DejaVu Sans Mono',consolas,'Courier New',monospace\"><span style=\"color: #008000; text-decoration-color: #008000\">╭────────────────────────────────────────────────────</span> Success <span style=\"color: #008000; text-decoration-color: #008000\">────────────────────────────────────────────────────╮</span>\n",
       "<span style=\"color: #008000; text-decoration-color: #008000\">│ ✅ Query executed successfully.                                                                                 │</span>\n",
       "<span style=\"color: #008000; text-decoration-color: #008000\">╰─────────────────────────────────────────────────────────────────────────────────────────────────────────────────╯</span>\n",
       "</pre>\n"
      ],
      "text/plain": [
       "\u001b[32m╭─\u001b[0m\u001b[32m───────────────────────────────────────────────────\u001b[0m Success \u001b[32m───────────────────────────────────────────────────\u001b[0m\u001b[32m─╮\u001b[0m\n",
       "\u001b[32m│\u001b[0m\u001b[32m \u001b[0m\u001b[32m✅ \u001b[0m\u001b[32mQuery executed successfully.\u001b[0m\u001b[32m                                                                                \u001b[0m\u001b[32m \u001b[0m\u001b[32m│\u001b[0m\n",
       "\u001b[32m╰─────────────────────────────────────────────────────────────────────────────────────────────────────────────────╯\u001b[0m\n"
      ]
     },
     "metadata": {},
     "output_type": "display_data"
    },
    {
     "data": {
      "text/html": [
       "<pre style=\"white-space:pre;overflow-x:auto;line-height:normal;font-family:Menlo,'DejaVu Sans Mono',consolas,'Courier New',monospace\"><span style=\"color: #008080; text-decoration-color: #008080; font-weight: bold\">🔌 Connection closed.</span>\n",
       "\n",
       "</pre>\n"
      ],
      "text/plain": [
       "\u001b[1;36m🔌 Connection closed.\u001b[0m\n",
       "\n"
      ]
     },
     "metadata": {},
     "output_type": "display_data"
    }
   ],
   "source": [
    "query_matches = \"\"\"\n",
    "CREATE TABLE IF NOT EXISTS matches (\n",
    "    id INTEGER PRIMARY KEY AUTOINCREMENT,\n",
    "    round_id INTEGER NOT NULL,\n",
    "    league_id INTEGER NOT NULL,\n",
    "    home_team_id INTEGER NOT NULL,\n",
    "    away_team_id INTEGER NOT NULL,\n",
    "    match_datetime TEXT NOT NULL,\n",
    "    status TEXT CHECK (status IN ('upcoming', 'live', 'finished', 'cancelled')) DEFAULT 'upcoming',\n",
    "    FOREIGN KEY (round_id) REFERENCES rounds(id) ON DELETE CASCADE,\n",
    "    FOREIGN KEY (league_id) REFERENCES leagues(id) ON DELETE CASCADE,\n",
    "    FOREIGN KEY (home_team_id) REFERENCES teams(id) ON DELETE CASCADE,\n",
    "    FOREIGN KEY (away_team_id) REFERENCES teams(id) ON DELETE CASCADE\n",
    ");\n",
    "\"\"\"\n",
    "execute_query(query_matches)"
   ]
  },
  {
   "cell_type": "markdown",
   "id": "609674d2",
   "metadata": {},
   "source": [
    "## 6.6 🔁 6. Legs Table"
   ]
  },
  {
   "cell_type": "code",
   "execution_count": 56,
   "id": "f69d6930",
   "metadata": {},
   "outputs": [
    {
     "data": {
      "text/html": [
       "<pre style=\"white-space:pre;overflow-x:auto;line-height:normal;font-family:Menlo,'DejaVu Sans Mono',consolas,'Courier New',monospace\"><span style=\"color: #008080; text-decoration-color: #008080; font-weight: bold\">📡 Executing Query...</span>\n",
       "</pre>\n"
      ],
      "text/plain": [
       "\u001b[1;36m📡 Executing Query\u001b[0m\u001b[1;36m...\u001b[0m\n"
      ]
     },
     "metadata": {},
     "output_type": "display_data"
    },
    {
     "data": {
      "text/html": [
       "<pre style=\"white-space:pre;overflow-x:auto;line-height:normal;font-family:Menlo,'DejaVu Sans Mono',consolas,'Courier New',monospace\"><span style=\"color: #008000; text-decoration-color: #008000\">╭────────────────────────────────────────────────────</span> Success <span style=\"color: #008000; text-decoration-color: #008000\">────────────────────────────────────────────────────╮</span>\n",
       "<span style=\"color: #008000; text-decoration-color: #008000\">│ ✅ Query executed successfully.                                                                                 │</span>\n",
       "<span style=\"color: #008000; text-decoration-color: #008000\">╰─────────────────────────────────────────────────────────────────────────────────────────────────────────────────╯</span>\n",
       "</pre>\n"
      ],
      "text/plain": [
       "\u001b[32m╭─\u001b[0m\u001b[32m───────────────────────────────────────────────────\u001b[0m Success \u001b[32m───────────────────────────────────────────────────\u001b[0m\u001b[32m─╮\u001b[0m\n",
       "\u001b[32m│\u001b[0m\u001b[32m \u001b[0m\u001b[32m✅ \u001b[0m\u001b[32mQuery executed successfully.\u001b[0m\u001b[32m                                                                                \u001b[0m\u001b[32m \u001b[0m\u001b[32m│\u001b[0m\n",
       "\u001b[32m╰─────────────────────────────────────────────────────────────────────────────────────────────────────────────────╯\u001b[0m\n"
      ]
     },
     "metadata": {},
     "output_type": "display_data"
    },
    {
     "data": {
      "text/html": [
       "<pre style=\"white-space:pre;overflow-x:auto;line-height:normal;font-family:Menlo,'DejaVu Sans Mono',consolas,'Courier New',monospace\"><span style=\"color: #008080; text-decoration-color: #008080; font-weight: bold\">🔌 Connection closed.</span>\n",
       "\n",
       "</pre>\n"
      ],
      "text/plain": [
       "\u001b[1;36m🔌 Connection closed.\u001b[0m\n",
       "\n"
      ]
     },
     "metadata": {},
     "output_type": "display_data"
    }
   ],
   "source": [
    "query_legs = \"\"\"\n",
    "CREATE TABLE IF NOT EXISTS legs (\n",
    "    id INTEGER PRIMARY KEY AUTOINCREMENT,\n",
    "    match_id INTEGER NOT NULL,\n",
    "    leg_number INTEGER NOT NULL,\n",
    "    leg_date TEXT NOT NULL,\n",
    "    home_score INTEGER,\n",
    "    away_score INTEGER,\n",
    "    can_draw BOOLEAN DEFAULT 1,\n",
    "    winner_team_id INTEGER,\n",
    "    notes TEXT,\n",
    "    FOREIGN KEY (match_id) REFERENCES matches(id) ON DELETE CASCADE,\n",
    "    FOREIGN KEY (winner_team_id) REFERENCES teams(id) ON DELETE SET NULL,\n",
    "    UNIQUE (match_id, leg_number)\n",
    ");\n",
    "\"\"\"\n",
    "execute_query(query_legs)\n"
   ]
  },
  {
   "cell_type": "markdown",
   "id": "7952b2ab",
   "metadata": {},
   "source": [
    "## 7.7 🖼️ 7. Avatars Table"
   ]
  },
  {
   "cell_type": "code",
   "execution_count": 57,
   "id": "6b1d3cfd",
   "metadata": {},
   "outputs": [
    {
     "data": {
      "text/html": [
       "<pre style=\"white-space:pre;overflow-x:auto;line-height:normal;font-family:Menlo,'DejaVu Sans Mono',consolas,'Courier New',monospace\"><span style=\"color: #008080; text-decoration-color: #008080; font-weight: bold\">📡 Executing Query...</span>\n",
       "</pre>\n"
      ],
      "text/plain": [
       "\u001b[1;36m📡 Executing Query\u001b[0m\u001b[1;36m...\u001b[0m\n"
      ]
     },
     "metadata": {},
     "output_type": "display_data"
    },
    {
     "data": {
      "text/html": [
       "<pre style=\"white-space:pre;overflow-x:auto;line-height:normal;font-family:Menlo,'DejaVu Sans Mono',consolas,'Courier New',monospace\"><span style=\"color: #008000; text-decoration-color: #008000\">╭────────────────────────────────────────────────────</span> Success <span style=\"color: #008000; text-decoration-color: #008000\">────────────────────────────────────────────────────╮</span>\n",
       "<span style=\"color: #008000; text-decoration-color: #008000\">│ ✅ Query executed successfully.                                                                                 │</span>\n",
       "<span style=\"color: #008000; text-decoration-color: #008000\">╰─────────────────────────────────────────────────────────────────────────────────────────────────────────────────╯</span>\n",
       "</pre>\n"
      ],
      "text/plain": [
       "\u001b[32m╭─\u001b[0m\u001b[32m───────────────────────────────────────────────────\u001b[0m Success \u001b[32m───────────────────────────────────────────────────\u001b[0m\u001b[32m─╮\u001b[0m\n",
       "\u001b[32m│\u001b[0m\u001b[32m \u001b[0m\u001b[32m✅ \u001b[0m\u001b[32mQuery executed successfully.\u001b[0m\u001b[32m                                                                                \u001b[0m\u001b[32m \u001b[0m\u001b[32m│\u001b[0m\n",
       "\u001b[32m╰─────────────────────────────────────────────────────────────────────────────────────────────────────────────────╯\u001b[0m\n"
      ]
     },
     "metadata": {},
     "output_type": "display_data"
    },
    {
     "data": {
      "text/html": [
       "<pre style=\"white-space:pre;overflow-x:auto;line-height:normal;font-family:Menlo,'DejaVu Sans Mono',consolas,'Courier New',monospace\"><span style=\"color: #008080; text-decoration-color: #008080; font-weight: bold\">🔌 Connection closed.</span>\n",
       "\n",
       "</pre>\n"
      ],
      "text/plain": [
       "\u001b[1;36m🔌 Connection closed.\u001b[0m\n",
       "\n"
      ]
     },
     "metadata": {},
     "output_type": "display_data"
    }
   ],
   "source": [
    "query_avatars = \"\"\"\n",
    "CREATE TABLE IF NOT EXISTS avatars (\n",
    "    id INTEGER PRIMARY KEY AUTOINCREMENT,\n",
    "    file_path TEXT NOT NULL,                          -- Local path to the image\n",
    "    uploaded_by_player_id INTEGER,                    -- Who uploaded the avatar\n",
    "    uploaded_at TEXT DEFAULT CURRENT_TIMESTAMP,\n",
    "    FOREIGN KEY (uploaded_by_player_id) REFERENCES players(id) ON DELETE SET NULL\n",
    ");\n",
    "\"\"\"\n",
    "execute_query(query_avatars)\n"
   ]
  },
  {
   "cell_type": "markdown",
   "id": "9da00b7b",
   "metadata": {},
   "source": [
    "## 8.8 predictions Table"
   ]
  },
  {
   "cell_type": "code",
   "execution_count": 63,
   "id": "25de2a39",
   "metadata": {},
   "outputs": [
    {
     "data": {
      "text/html": [
       "<pre style=\"white-space:pre;overflow-x:auto;line-height:normal;font-family:Menlo,'DejaVu Sans Mono',consolas,'Courier New',monospace\"><span style=\"color: #008080; text-decoration-color: #008080; font-weight: bold\">📡 Executing Query...</span>\n",
       "</pre>\n"
      ],
      "text/plain": [
       "\u001b[1;36m📡 Executing Query\u001b[0m\u001b[1;36m...\u001b[0m\n"
      ]
     },
     "metadata": {},
     "output_type": "display_data"
    },
    {
     "data": {
      "text/html": [
       "<pre style=\"white-space:pre;overflow-x:auto;line-height:normal;font-family:Menlo,'DejaVu Sans Mono',consolas,'Courier New',monospace\"><span style=\"color: #008000; text-decoration-color: #008000\">╭────────────────────────────────────────────────────</span> Success <span style=\"color: #008000; text-decoration-color: #008000\">────────────────────────────────────────────────────╮</span>\n",
       "<span style=\"color: #008000; text-decoration-color: #008000\">│ ✅ Query executed successfully.                                                                                 │</span>\n",
       "<span style=\"color: #008000; text-decoration-color: #008000\">╰─────────────────────────────────────────────────────────────────────────────────────────────────────────────────╯</span>\n",
       "</pre>\n"
      ],
      "text/plain": [
       "\u001b[32m╭─\u001b[0m\u001b[32m───────────────────────────────────────────────────\u001b[0m Success \u001b[32m───────────────────────────────────────────────────\u001b[0m\u001b[32m─╮\u001b[0m\n",
       "\u001b[32m│\u001b[0m\u001b[32m \u001b[0m\u001b[32m✅ \u001b[0m\u001b[32mQuery executed successfully.\u001b[0m\u001b[32m                                                                                \u001b[0m\u001b[32m \u001b[0m\u001b[32m│\u001b[0m\n",
       "\u001b[32m╰─────────────────────────────────────────────────────────────────────────────────────────────────────────────────╯\u001b[0m\n"
      ]
     },
     "metadata": {},
     "output_type": "display_data"
    },
    {
     "data": {
      "text/html": [
       "<pre style=\"white-space:pre;overflow-x:auto;line-height:normal;font-family:Menlo,'DejaVu Sans Mono',consolas,'Courier New',monospace\"><span style=\"color: #008080; text-decoration-color: #008080; font-weight: bold\">🔌 Connection closed.</span>\n",
       "\n",
       "</pre>\n"
      ],
      "text/plain": [
       "\u001b[1;36m🔌 Connection closed.\u001b[0m\n",
       "\n"
      ]
     },
     "metadata": {},
     "output_type": "display_data"
    }
   ],
   "source": [
    "query_predictions = \"\"\"\n",
    "CREATE TABLE IF NOT EXISTS predictions (\n",
    "    id INTEGER PRIMARY KEY AUTOINCREMENT,\n",
    "    player_id INTEGER NOT NULL,\n",
    "    match_id INTEGER NOT NULL,\n",
    "    \n",
    "    predicted_home_score INTEGER NOT NULL,\n",
    "    predicted_away_score INTEGER NOT NULL,\n",
    "    predicted_penalty_winner TEXT,                -- Team name or NULL\n",
    "    \n",
    "    score INTEGER DEFAULT 0,                      -- Computed after match ends\n",
    "\n",
    "    created_at TEXT DEFAULT CURRENT_TIMESTAMP,\n",
    "    \n",
    "    FOREIGN KEY (player_id) REFERENCES players(id) ON DELETE CASCADE,\n",
    "    FOREIGN KEY (match_id) REFERENCES matches(id) ON DELETE CASCADE,\n",
    "    \n",
    "    UNIQUE (player_id, match_id)                  -- Player can only predict once per match\n",
    ");\n",
    "\"\"\"\n",
    "execute_query(query_predictions)"
   ]
  },
  {
   "cell_type": "markdown",
   "id": "8d4f2677",
   "metadata": {},
   "source": [
    "## 9.9 achievements Table"
   ]
  },
  {
   "cell_type": "code",
   "execution_count": 64,
   "id": "47fbbb02",
   "metadata": {},
   "outputs": [
    {
     "data": {
      "text/html": [
       "<pre style=\"white-space:pre;overflow-x:auto;line-height:normal;font-family:Menlo,'DejaVu Sans Mono',consolas,'Courier New',monospace\"><span style=\"color: #008080; text-decoration-color: #008080; font-weight: bold\">📡 Executing Query...</span>\n",
       "</pre>\n"
      ],
      "text/plain": [
       "\u001b[1;36m📡 Executing Query\u001b[0m\u001b[1;36m...\u001b[0m\n"
      ]
     },
     "metadata": {},
     "output_type": "display_data"
    },
    {
     "data": {
      "text/html": [
       "<pre style=\"white-space:pre;overflow-x:auto;line-height:normal;font-family:Menlo,'DejaVu Sans Mono',consolas,'Courier New',monospace\"><span style=\"color: #008000; text-decoration-color: #008000\">╭────────────────────────────────────────────────────</span> Success <span style=\"color: #008000; text-decoration-color: #008000\">────────────────────────────────────────────────────╮</span>\n",
       "<span style=\"color: #008000; text-decoration-color: #008000\">│ ✅ Query executed successfully.                                                                                 │</span>\n",
       "<span style=\"color: #008000; text-decoration-color: #008000\">╰─────────────────────────────────────────────────────────────────────────────────────────────────────────────────╯</span>\n",
       "</pre>\n"
      ],
      "text/plain": [
       "\u001b[32m╭─\u001b[0m\u001b[32m───────────────────────────────────────────────────\u001b[0m Success \u001b[32m───────────────────────────────────────────────────\u001b[0m\u001b[32m─╮\u001b[0m\n",
       "\u001b[32m│\u001b[0m\u001b[32m \u001b[0m\u001b[32m✅ \u001b[0m\u001b[32mQuery executed successfully.\u001b[0m\u001b[32m                                                                                \u001b[0m\u001b[32m \u001b[0m\u001b[32m│\u001b[0m\n",
       "\u001b[32m╰─────────────────────────────────────────────────────────────────────────────────────────────────────────────────╯\u001b[0m\n"
      ]
     },
     "metadata": {},
     "output_type": "display_data"
    },
    {
     "data": {
      "text/html": [
       "<pre style=\"white-space:pre;overflow-x:auto;line-height:normal;font-family:Menlo,'DejaVu Sans Mono',consolas,'Courier New',monospace\"><span style=\"color: #008080; text-decoration-color: #008080; font-weight: bold\">🔌 Connection closed.</span>\n",
       "\n",
       "</pre>\n"
      ],
      "text/plain": [
       "\u001b[1;36m🔌 Connection closed.\u001b[0m\n",
       "\n"
      ]
     },
     "metadata": {},
     "output_type": "display_data"
    }
   ],
   "source": [
    "query_achievements = \"\"\"\n",
    "CREATE TABLE IF NOT EXISTS achievements (\n",
    "    id INTEGER PRIMARY KEY AUTOINCREMENT,\n",
    "    player_id INTEGER NOT NULL,\n",
    "    \n",
    "    total_leagues_won INTEGER DEFAULT 0,\n",
    "    total_cups_won INTEGER DEFAULT 0,\n",
    "\n",
    "    updated_at TEXT DEFAULT CURRENT_TIMESTAMP,\n",
    "\n",
    "    FOREIGN KEY (player_id) REFERENCES players(id) ON DELETE CASCADE,\n",
    "    UNIQUE (player_id)\n",
    ");\n",
    "\"\"\"\n",
    "execute_query(query_achievements)\n"
   ]
  },
  {
   "cell_type": "code",
   "execution_count": 65,
   "id": "3a766b79",
   "metadata": {},
   "outputs": [
    {
     "data": {
      "text/html": [
       "<pre style=\"white-space:pre;overflow-x:auto;line-height:normal;font-family:Menlo,'DejaVu Sans Mono',consolas,'Courier New',monospace\"><span style=\"font-style: italic\">          Tables in Database           </span>\n",
       "╭─────────────────┬───────────────────╮\n",
       "│<span style=\"font-weight: bold\"> Table Name      </span>│<span style=\"font-weight: bold\"> Number of Records </span>│\n",
       "├─────────────────┼───────────────────┤\n",
       "│<span style=\"color: #008000; text-decoration-color: #008000; font-weight: bold\"> 📋 achievements </span>│<span style=\"color: #008080; text-decoration-color: #008080; font-weight: bold\">                 0 </span>│\n",
       "├─────────────────┼───────────────────┤\n",
       "│<span style=\"color: #008000; text-decoration-color: #008000; font-weight: bold\"> 📋 avatars      </span>│<span style=\"color: #008080; text-decoration-color: #008080; font-weight: bold\">                 0 </span>│\n",
       "├─────────────────┼───────────────────┤\n",
       "│<span style=\"color: #008000; text-decoration-color: #008000; font-weight: bold\"> 📋 leagues      </span>│<span style=\"color: #008080; text-decoration-color: #008080; font-weight: bold\">                 0 </span>│\n",
       "├─────────────────┼───────────────────┤\n",
       "│<span style=\"color: #008000; text-decoration-color: #008000; font-weight: bold\"> 📋 legs         </span>│<span style=\"color: #008080; text-decoration-color: #008080; font-weight: bold\">                 0 </span>│\n",
       "├─────────────────┼───────────────────┤\n",
       "│<span style=\"color: #008000; text-decoration-color: #008000; font-weight: bold\"> 📋 matches      </span>│<span style=\"color: #008080; text-decoration-color: #008080; font-weight: bold\">                 0 </span>│\n",
       "├─────────────────┼───────────────────┤\n",
       "│<span style=\"color: #008000; text-decoration-color: #008000; font-weight: bold\"> 📋 players      </span>│<span style=\"color: #008080; text-decoration-color: #008080; font-weight: bold\">                 0 </span>│\n",
       "├─────────────────┼───────────────────┤\n",
       "│<span style=\"color: #008000; text-decoration-color: #008000; font-weight: bold\"> 📋 predictions  </span>│<span style=\"color: #008080; text-decoration-color: #008080; font-weight: bold\">                 0 </span>│\n",
       "├─────────────────┼───────────────────┤\n",
       "│<span style=\"color: #008000; text-decoration-color: #008000; font-weight: bold\"> 📋 rounds       </span>│<span style=\"color: #008080; text-decoration-color: #008080; font-weight: bold\">                 0 </span>│\n",
       "├─────────────────┼───────────────────┤\n",
       "│<span style=\"color: #008000; text-decoration-color: #008000; font-weight: bold\"> 📋 teams        </span>│<span style=\"color: #008080; text-decoration-color: #008080; font-weight: bold\">                 0 </span>│\n",
       "╰─────────────────┴───────────────────╯\n",
       "</pre>\n"
      ],
      "text/plain": [
       "\u001b[3m          Tables in Database           \u001b[0m\n",
       "╭─────────────────┬───────────────────╮\n",
       "│\u001b[1m \u001b[0m\u001b[1mTable Name     \u001b[0m\u001b[1m \u001b[0m│\u001b[1m \u001b[0m\u001b[1mNumber of Records\u001b[0m\u001b[1m \u001b[0m│\n",
       "├─────────────────┼───────────────────┤\n",
       "│\u001b[1;32m \u001b[0m\u001b[1;32m📋 achievements\u001b[0m\u001b[1;32m \u001b[0m│\u001b[1;36m \u001b[0m\u001b[1;36m                0\u001b[0m\u001b[1;36m \u001b[0m│\n",
       "├─────────────────┼───────────────────┤\n",
       "│\u001b[1;32m \u001b[0m\u001b[1;32m📋 avatars     \u001b[0m\u001b[1;32m \u001b[0m│\u001b[1;36m \u001b[0m\u001b[1;36m                0\u001b[0m\u001b[1;36m \u001b[0m│\n",
       "├─────────────────┼───────────────────┤\n",
       "│\u001b[1;32m \u001b[0m\u001b[1;32m📋 leagues     \u001b[0m\u001b[1;32m \u001b[0m│\u001b[1;36m \u001b[0m\u001b[1;36m                0\u001b[0m\u001b[1;36m \u001b[0m│\n",
       "├─────────────────┼───────────────────┤\n",
       "│\u001b[1;32m \u001b[0m\u001b[1;32m📋 legs        \u001b[0m\u001b[1;32m \u001b[0m│\u001b[1;36m \u001b[0m\u001b[1;36m                0\u001b[0m\u001b[1;36m \u001b[0m│\n",
       "├─────────────────┼───────────────────┤\n",
       "│\u001b[1;32m \u001b[0m\u001b[1;32m📋 matches     \u001b[0m\u001b[1;32m \u001b[0m│\u001b[1;36m \u001b[0m\u001b[1;36m                0\u001b[0m\u001b[1;36m \u001b[0m│\n",
       "├─────────────────┼───────────────────┤\n",
       "│\u001b[1;32m \u001b[0m\u001b[1;32m📋 players     \u001b[0m\u001b[1;32m \u001b[0m│\u001b[1;36m \u001b[0m\u001b[1;36m                0\u001b[0m\u001b[1;36m \u001b[0m│\n",
       "├─────────────────┼───────────────────┤\n",
       "│\u001b[1;32m \u001b[0m\u001b[1;32m📋 predictions \u001b[0m\u001b[1;32m \u001b[0m│\u001b[1;36m \u001b[0m\u001b[1;36m                0\u001b[0m\u001b[1;36m \u001b[0m│\n",
       "├─────────────────┼───────────────────┤\n",
       "│\u001b[1;32m \u001b[0m\u001b[1;32m📋 rounds      \u001b[0m\u001b[1;32m \u001b[0m│\u001b[1;36m \u001b[0m\u001b[1;36m                0\u001b[0m\u001b[1;36m \u001b[0m│\n",
       "├─────────────────┼───────────────────┤\n",
       "│\u001b[1;32m \u001b[0m\u001b[1;32m📋 teams       \u001b[0m\u001b[1;32m \u001b[0m│\u001b[1;36m \u001b[0m\u001b[1;36m                0\u001b[0m\u001b[1;36m \u001b[0m│\n",
       "╰─────────────────┴───────────────────╯\n"
      ]
     },
     "metadata": {},
     "output_type": "display_data"
    },
    {
     "data": {
      "text/html": [
       "<pre style=\"white-space:pre;overflow-x:auto;line-height:normal;font-family:Menlo,'DejaVu Sans Mono',consolas,'Courier New',monospace\"><span style=\"color: #008080; text-decoration-color: #008080; font-weight: bold\">🔌 Connection closed.</span>\n",
       "\n",
       "</pre>\n"
      ],
      "text/plain": [
       "\u001b[1;36m🔌 Connection closed.\u001b[0m\n",
       "\n"
      ]
     },
     "metadata": {},
     "output_type": "display_data"
    }
   ],
   "source": [
    "list_tables()"
   ]
  },
  {
   "cell_type": "code",
   "execution_count": 62,
   "id": "a3ce467c",
   "metadata": {},
   "outputs": [
    {
     "data": {
      "text/html": [
       "<pre style=\"white-space:pre;overflow-x:auto;line-height:normal;font-family:Menlo,'DejaVu Sans Mono',consolas,'Courier New',monospace\"><span style=\"color: #000080; text-decoration-color: #000080\">╭────────────────────────────────────────────────</span> Table Info <span style=\"color: #000080; text-decoration-color: #000080\">────────────────────────────────────────────────╮</span>\n",
       "<span style=\"color: #000080; text-decoration-color: #000080\">│ 📋 </span><span style=\"color: #008000; text-decoration-color: #008000; font-weight: bold\">Table:</span><span style=\"color: #000080; text-decoration-color: #000080\"> leagues                                                                                          │</span>\n",
       "<span style=\"color: #000080; text-decoration-color: #000080\">│ 🔢 </span><span style=\"color: #008080; text-decoration-color: #008080; font-weight: bold\">Columns:</span><span style=\"color: #000080; text-decoration-color: #000080\"> id, name, country, default_leg_count, default_can_draw, default_tie_break_required, created_at │</span>\n",
       "<span style=\"color: #000080; text-decoration-color: #000080\">│ 📊 </span><span style=\"color: #800080; text-decoration-color: #800080; font-weight: bold\">Total Rows:</span><span style=\"color: #000080; text-decoration-color: #000080\"> 0                                                                                           │</span>\n",
       "<span style=\"color: #000080; text-decoration-color: #000080\">╰────────────────────────────────────────────────────────────────────────────────────────────────────────────╯</span>\n",
       "</pre>\n"
      ],
      "text/plain": [
       "\u001b[34m╭─\u001b[0m\u001b[34m───────────────────────────────────────────────\u001b[0m Table Info \u001b[34m───────────────────────────────────────────────\u001b[0m\u001b[34m─╮\u001b[0m\n",
       "\u001b[34m│\u001b[0m\u001b[34m \u001b[0m\u001b[34m📋 \u001b[0m\u001b[1;32mTable:\u001b[0m\u001b[34m leagues\u001b[0m\u001b[34m                                                                                         \u001b[0m\u001b[34m \u001b[0m\u001b[34m│\u001b[0m\n",
       "\u001b[34m│\u001b[0m\u001b[34m \u001b[0m\u001b[34m🔢 \u001b[0m\u001b[1;36mColumns:\u001b[0m\u001b[34m id, name, country, default_leg_count, default_can_draw, default_tie_break_required, created_at\u001b[0m\u001b[34m \u001b[0m\u001b[34m│\u001b[0m\n",
       "\u001b[34m│\u001b[0m\u001b[34m \u001b[0m\u001b[34m📊 \u001b[0m\u001b[1;35mTotal Rows:\u001b[0m\u001b[34m 0\u001b[0m\u001b[34m                                                                                          \u001b[0m\u001b[34m \u001b[0m\u001b[34m│\u001b[0m\n",
       "\u001b[34m╰────────────────────────────────────────────────────────────────────────────────────────────────────────────╯\u001b[0m\n"
      ]
     },
     "metadata": {},
     "output_type": "display_data"
    },
    {
     "data": {
      "text/html": [
       "<pre style=\"white-space:pre;overflow-x:auto;line-height:normal;font-family:Menlo,'DejaVu Sans Mono',consolas,'Courier New',monospace\"><span style=\"color: #808000; text-decoration-color: #808000\">╭──────────────────────────────────────────────────</span> Empty Table <span style=\"color: #808000; text-decoration-color: #808000\">──────────────────────────────────────────────────╮</span>\n",
       "<span style=\"color: #808000; text-decoration-color: #808000\">│ ⚠️ No data found in the table.                                                                                   │</span>\n",
       "<span style=\"color: #808000; text-decoration-color: #808000\">╰─────────────────────────────────────────────────────────────────────────────────────────────────────────────────╯</span>\n",
       "</pre>\n"
      ],
      "text/plain": [
       "\u001b[33m╭─\u001b[0m\u001b[33m─────────────────────────────────────────────────\u001b[0m Empty Table \u001b[33m─────────────────────────────────────────────────\u001b[0m\u001b[33m─╮\u001b[0m\n",
       "\u001b[33m│\u001b[0m\u001b[33m \u001b[0m\u001b[33m⚠️ No data found in the table.\u001b[0m\u001b[33m                                                                                  \u001b[0m\u001b[33m \u001b[0m\u001b[33m│\u001b[0m\n",
       "\u001b[33m╰─────────────────────────────────────────────────────────────────────────────────────────────────────────────────╯\u001b[0m\n"
      ]
     },
     "metadata": {},
     "output_type": "display_data"
    },
    {
     "data": {
      "text/html": [
       "<pre style=\"white-space:pre;overflow-x:auto;line-height:normal;font-family:Menlo,'DejaVu Sans Mono',consolas,'Courier New',monospace\"><span style=\"color: #008080; text-decoration-color: #008080; font-weight: bold\">🔌 Connection closed.</span>\n",
       "\n",
       "</pre>\n"
      ],
      "text/plain": [
       "\u001b[1;36m🔌 Connection closed.\u001b[0m\n",
       "\n"
      ]
     },
     "metadata": {},
     "output_type": "display_data"
    }
   ],
   "source": [
    "table_info(\"leagues\")"
   ]
  },
  {
   "cell_type": "code",
   "execution_count": null,
   "id": "aaddaf40",
   "metadata": {},
   "outputs": [],
   "source": []
  }
 ],
 "metadata": {
  "language_info": {
   "name": "python"
  }
 },
 "nbformat": 4,
 "nbformat_minor": 5
}
