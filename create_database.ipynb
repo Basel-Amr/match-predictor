{
 "cells": [
  {
   "cell_type": "code",
   "execution_count": 1,
   "id": "aa00b0c6",
   "metadata": {},
   "outputs": [],
   "source": [
    "import os\n",
    "from dotenv import load_dotenv\n",
    "import sqlite3\n",
    "from rich.console import Console\n",
    "from rich.table import Table\n",
    "from rich.panel import Panel\n",
    "from rich import box"
   ]
  },
  {
   "cell_type": "code",
   "execution_count": 2,
   "id": "740fdb56",
   "metadata": {},
   "outputs": [],
   "source": [
    "# Load environment variables\n",
    "load_dotenv()\n",
    "\n",
    "console = Console()"
   ]
  },
  {
   "cell_type": "code",
   "execution_count": 3,
   "id": "966e0abc",
   "metadata": {},
   "outputs": [],
   "source": [
    "DB_FILE = os.getenv(\"DB_FILE\", \"game_database.db\")\n",
    "DB_PASSWORD = os.getenv(\"DB_PASSWORD\")"
   ]
  },
  {
   "cell_type": "code",
   "execution_count": 4,
   "id": "b6e71748",
   "metadata": {},
   "outputs": [],
   "source": [
    "def get_connection():\n",
    "    conn = sqlite3.connect(DB_FILE, timeout=10)  # Wait up to 10 seconds\n",
    "    cursor = conn.cursor()\n",
    "    cursor.execute(f\"PRAGMA key = '{DB_PASSWORD}';\")   # Your existing key setting\n",
    "    cursor.execute(\"PRAGMA foreign_keys = ON;\")        # Enable foreign key support\n",
    "    cursor.close()\n",
    "    return conn\n"
   ]
  },
  {
   "cell_type": "code",
   "execution_count": 5,
   "id": "1becba0a",
   "metadata": {},
   "outputs": [],
   "source": [
    "def execute_query(query: str):\n",
    "    try:\n",
    "        conn = get_connection()\n",
    "        cursor = conn.cursor()\n",
    "\n",
    "        console.print(\"[bold cyan]📡 Executing Query...[/bold cyan]\")\n",
    "        cursor.execute(query)\n",
    "\n",
    "        if query.strip().lower().startswith(\"select\"):\n",
    "            rows = cursor.fetchall()\n",
    "            if rows:\n",
    "                columns = [description[0] for description in cursor.description]\n",
    "\n",
    "                table = Table(title=\"Query Results\", box=box.ROUNDED, show_lines=True)\n",
    "                for col in columns:\n",
    "                    table.add_column(col, style=\"bold magenta\")\n",
    "\n",
    "                for row in rows:\n",
    "                    table.add_row(*[str(cell) for cell in row])\n",
    "\n",
    "                console.print(table)\n",
    "                console.print(f\"✅ [green]{len(rows)} rows fetched successfully.[/green]\")\n",
    "            else:\n",
    "                console.print(Panel(\"[yellow]⚠️ Query returned no rows.[/yellow]\", title=\"No Data\", style=\"yellow\"))\n",
    "        else:\n",
    "            conn.commit()\n",
    "            console.print(Panel(f\"✅ [green]Query executed successfully.[/green]\", title=\"Success\", style=\"green\"))\n",
    "\n",
    "    except Exception as e:\n",
    "        console.print(Panel(f\"❗ [red]Error executing query:[/red] {str(e)}\", title=\"Error\", style=\"red\"))\n",
    "\n",
    "    finally:\n",
    "        cursor.close()\n",
    "        conn.close()\n",
    "        console.print(\"[bold cyan]🔌 Connection closed.[/bold cyan]\\n\")"
   ]
  },
  {
   "cell_type": "code",
   "execution_count": 6,
   "id": "0df71eb5",
   "metadata": {},
   "outputs": [],
   "source": [
    "def list_tables():\n",
    "    \"\"\"List all tables with row counts.\"\"\"\n",
    "    query = \"\"\"\n",
    "    SELECT name FROM sqlite_master \n",
    "    WHERE type='table' AND name NOT LIKE 'sqlite_%'\n",
    "    ORDER BY name;\n",
    "    \"\"\"\n",
    "    try:\n",
    "        conn = get_connection()\n",
    "        cursor = conn.cursor()\n",
    "        cursor.execute(query)\n",
    "        tables = cursor.fetchall()\n",
    "\n",
    "        if not tables:\n",
    "            console.print(Panel(\"[yellow]⚠️ No tables found in the database.[/yellow]\", title=\"No Tables\", style=\"yellow\"))\n",
    "            return\n",
    "\n",
    "        table = Table(title=\"Tables in Database\", box=box.ROUNDED, show_lines=True)\n",
    "        table.add_column(\"Table Name\", style=\"bold green\")\n",
    "        table.add_column(\"Number of Records\", style=\"bold cyan\", justify=\"right\")\n",
    "\n",
    "        for (table_name,) in tables:\n",
    "            cursor.execute(f\"SELECT COUNT(*) FROM {table_name}\")\n",
    "            count = cursor.fetchone()[0]\n",
    "            table.add_row(f\"📋 {table_name}\", str(count))\n",
    "\n",
    "        console.print(table)\n",
    "    except Exception as e:\n",
    "        console.print(Panel(f\"❗ [red]Error listing tables:[/red] {str(e)}\", title=\"Error\", style=\"red\"))\n",
    "    finally:\n",
    "        cursor.close()\n",
    "        conn.close()\n",
    "        console.print(\"[bold cyan]🔌 Connection closed.[/bold cyan]\\n\")"
   ]
  },
  {
   "cell_type": "code",
   "execution_count": 7,
   "id": "e5662e81",
   "metadata": {},
   "outputs": [],
   "source": [
    "def table_info(table_name: str):\n",
    "    \"\"\"Show info about table: columns, row count, and sample rows (max 10).\"\"\"\n",
    "    try:\n",
    "        conn = get_connection()\n",
    "        cursor = conn.cursor()\n",
    "\n",
    "        # Check if table exists\n",
    "        cursor.execute(\"SELECT name FROM sqlite_master WHERE type='table' AND name=?\", (table_name,))\n",
    "        if not cursor.fetchone():\n",
    "            console.print(Panel(f\"⚠️ Table '{table_name}' does not exist.\", style=\"yellow\"))\n",
    "            return\n",
    "\n",
    "        # Get columns info\n",
    "        cursor.execute(f\"PRAGMA table_info({table_name})\")\n",
    "        columns_info = cursor.fetchall()\n",
    "        columns = [col[1] for col in columns_info]\n",
    "\n",
    "        # Get row count\n",
    "        cursor.execute(f\"SELECT COUNT(*) FROM {table_name}\")\n",
    "        row_count = cursor.fetchone()[0]\n",
    "\n",
    "        # Print columns and row count\n",
    "        info_panel = Panel.fit(\n",
    "            f\"📋 [bold green]Table:[/bold green] {table_name}\\n\"\n",
    "            f\"🔢 [bold cyan]Columns:[/bold cyan] {', '.join(columns)}\\n\"\n",
    "            f\"📊 [bold magenta]Total Rows:[/bold magenta] {row_count}\",\n",
    "            title=\"Table Info\",\n",
    "            style=\"blue\",\n",
    "        )\n",
    "        console.print(info_panel)\n",
    "\n",
    "        # Fetch and show up to 10 rows\n",
    "        cursor.execute(f\"SELECT * FROM {table_name} LIMIT 10\")\n",
    "        rows = cursor.fetchall()\n",
    "\n",
    "        if rows:\n",
    "            table = Table(title=f\"Sample Data from {table_name}\", box=box.ROUNDED, show_lines=True)\n",
    "            for col in columns:\n",
    "                table.add_column(col, style=\"bold magenta\")\n",
    "            for row in rows:\n",
    "                table.add_row(*[str(cell) for cell in row])\n",
    "            console.print(table)\n",
    "        else:\n",
    "            console.print(Panel(\"[yellow]⚠️ No data found in the table.[/yellow]\", title=\"Empty Table\", style=\"yellow\"))\n",
    "\n",
    "    except Exception as e:\n",
    "        console.print(Panel(f\"❗ [red]Error fetching table info:[/red] {str(e)}\", title=\"Error\", style=\"red\"))\n",
    "    finally:\n",
    "        cursor.close()\n",
    "        conn.close()\n",
    "        console.print(\"[bold cyan]🔌 Connection closed.[/bold cyan]\\n\")"
   ]
  },
  {
   "cell_type": "code",
   "execution_count": 8,
   "id": "4d4b74ad",
   "metadata": {},
   "outputs": [
    {
     "data": {
      "text/html": [
       "<pre style=\"white-space:pre;overflow-x:auto;line-height:normal;font-family:Menlo,'DejaVu Sans Mono',consolas,'Courier New',monospace\"><span style=\"font-style: italic\">          Tables in Database           </span>\n",
       "╭─────────────────┬───────────────────╮\n",
       "│<span style=\"font-weight: bold\"> Table Name      </span>│<span style=\"font-weight: bold\"> Number of Records </span>│\n",
       "├─────────────────┼───────────────────┤\n",
       "│<span style=\"color: #008000; text-decoration-color: #008000; font-weight: bold\"> 📋 achievements </span>│<span style=\"color: #008080; text-decoration-color: #008080; font-weight: bold\">                 0 </span>│\n",
       "├─────────────────┼───────────────────┤\n",
       "│<span style=\"color: #008000; text-decoration-color: #008000; font-weight: bold\"> 📋 avatars      </span>│<span style=\"color: #008080; text-decoration-color: #008080; font-weight: bold\">                 0 </span>│\n",
       "├─────────────────┼───────────────────┤\n",
       "│<span style=\"color: #008000; text-decoration-color: #008000; font-weight: bold\"> 📋 leagues      </span>│<span style=\"color: #008080; text-decoration-color: #008080; font-weight: bold\">                13 </span>│\n",
       "├─────────────────┼───────────────────┤\n",
       "│<span style=\"color: #008000; text-decoration-color: #008000; font-weight: bold\"> 📋 legs         </span>│<span style=\"color: #008080; text-decoration-color: #008080; font-weight: bold\">                 0 </span>│\n",
       "├─────────────────┼───────────────────┤\n",
       "│<span style=\"color: #008000; text-decoration-color: #008000; font-weight: bold\"> 📋 matches      </span>│<span style=\"color: #008080; text-decoration-color: #008080; font-weight: bold\">                 4 </span>│\n",
       "├─────────────────┼───────────────────┤\n",
       "│<span style=\"color: #008000; text-decoration-color: #008000; font-weight: bold\"> 📋 players      </span>│<span style=\"color: #008080; text-decoration-color: #008080; font-weight: bold\">                 2 </span>│\n",
       "├─────────────────┼───────────────────┤\n",
       "│<span style=\"color: #008000; text-decoration-color: #008000; font-weight: bold\"> 📋 predictions  </span>│<span style=\"color: #008080; text-decoration-color: #008080; font-weight: bold\">                 0 </span>│\n",
       "├─────────────────┼───────────────────┤\n",
       "│<span style=\"color: #008000; text-decoration-color: #008000; font-weight: bold\"> 📋 rounds       </span>│<span style=\"color: #008080; text-decoration-color: #008080; font-weight: bold\">                 2 </span>│\n",
       "├─────────────────┼───────────────────┤\n",
       "│<span style=\"color: #008000; text-decoration-color: #008000; font-weight: bold\"> 📋 team_league  </span>│<span style=\"color: #008080; text-decoration-color: #008080; font-weight: bold\">                61 </span>│\n",
       "├─────────────────┼───────────────────┤\n",
       "│<span style=\"color: #008000; text-decoration-color: #008000; font-weight: bold\"> 📋 teams        </span>│<span style=\"color: #008080; text-decoration-color: #008080; font-weight: bold\">                23 </span>│\n",
       "╰─────────────────┴───────────────────╯\n",
       "</pre>\n"
      ],
      "text/plain": [
       "\u001b[3m          Tables in Database           \u001b[0m\n",
       "╭─────────────────┬───────────────────╮\n",
       "│\u001b[1m \u001b[0m\u001b[1mTable Name     \u001b[0m\u001b[1m \u001b[0m│\u001b[1m \u001b[0m\u001b[1mNumber of Records\u001b[0m\u001b[1m \u001b[0m│\n",
       "├─────────────────┼───────────────────┤\n",
       "│\u001b[1;32m \u001b[0m\u001b[1;32m📋 achievements\u001b[0m\u001b[1;32m \u001b[0m│\u001b[1;36m \u001b[0m\u001b[1;36m                0\u001b[0m\u001b[1;36m \u001b[0m│\n",
       "├─────────────────┼───────────────────┤\n",
       "│\u001b[1;32m \u001b[0m\u001b[1;32m📋 avatars     \u001b[0m\u001b[1;32m \u001b[0m│\u001b[1;36m \u001b[0m\u001b[1;36m                0\u001b[0m\u001b[1;36m \u001b[0m│\n",
       "├─────────────────┼───────────────────┤\n",
       "│\u001b[1;32m \u001b[0m\u001b[1;32m📋 leagues     \u001b[0m\u001b[1;32m \u001b[0m│\u001b[1;36m \u001b[0m\u001b[1;36m               13\u001b[0m\u001b[1;36m \u001b[0m│\n",
       "├─────────────────┼───────────────────┤\n",
       "│\u001b[1;32m \u001b[0m\u001b[1;32m📋 legs        \u001b[0m\u001b[1;32m \u001b[0m│\u001b[1;36m \u001b[0m\u001b[1;36m                0\u001b[0m\u001b[1;36m \u001b[0m│\n",
       "├─────────────────┼───────────────────┤\n",
       "│\u001b[1;32m \u001b[0m\u001b[1;32m📋 matches     \u001b[0m\u001b[1;32m \u001b[0m│\u001b[1;36m \u001b[0m\u001b[1;36m                4\u001b[0m\u001b[1;36m \u001b[0m│\n",
       "├─────────────────┼───────────────────┤\n",
       "│\u001b[1;32m \u001b[0m\u001b[1;32m📋 players     \u001b[0m\u001b[1;32m \u001b[0m│\u001b[1;36m \u001b[0m\u001b[1;36m                2\u001b[0m\u001b[1;36m \u001b[0m│\n",
       "├─────────────────┼───────────────────┤\n",
       "│\u001b[1;32m \u001b[0m\u001b[1;32m📋 predictions \u001b[0m\u001b[1;32m \u001b[0m│\u001b[1;36m \u001b[0m\u001b[1;36m                0\u001b[0m\u001b[1;36m \u001b[0m│\n",
       "├─────────────────┼───────────────────┤\n",
       "│\u001b[1;32m \u001b[0m\u001b[1;32m📋 rounds      \u001b[0m\u001b[1;32m \u001b[0m│\u001b[1;36m \u001b[0m\u001b[1;36m                2\u001b[0m\u001b[1;36m \u001b[0m│\n",
       "├─────────────────┼───────────────────┤\n",
       "│\u001b[1;32m \u001b[0m\u001b[1;32m📋 team_league \u001b[0m\u001b[1;32m \u001b[0m│\u001b[1;36m \u001b[0m\u001b[1;36m               61\u001b[0m\u001b[1;36m \u001b[0m│\n",
       "├─────────────────┼───────────────────┤\n",
       "│\u001b[1;32m \u001b[0m\u001b[1;32m📋 teams       \u001b[0m\u001b[1;32m \u001b[0m│\u001b[1;36m \u001b[0m\u001b[1;36m               23\u001b[0m\u001b[1;36m \u001b[0m│\n",
       "╰─────────────────┴───────────────────╯\n"
      ]
     },
     "metadata": {},
     "output_type": "display_data"
    },
    {
     "data": {
      "text/html": [
       "<pre style=\"white-space:pre;overflow-x:auto;line-height:normal;font-family:Menlo,'DejaVu Sans Mono',consolas,'Courier New',monospace\"><span style=\"color: #008080; text-decoration-color: #008080; font-weight: bold\">🔌 Connection closed.</span>\n",
       "\n",
       "</pre>\n"
      ],
      "text/plain": [
       "\u001b[1;36m🔌 Connection closed.\u001b[0m\n",
       "\n"
      ]
     },
     "metadata": {},
     "output_type": "display_data"
    }
   ],
   "source": [
    "list_tables()"
   ]
  },
  {
   "cell_type": "code",
   "execution_count": 11,
   "id": "f1a33eac",
   "metadata": {},
   "outputs": [],
   "source": [
    "def drop_tables_interactive():\n",
    "    try:\n",
    "        conn = get_connection()\n",
    "        cursor = conn.cursor()\n",
    "\n",
    "        # Get list of user tables\n",
    "        cursor.execute(\"SELECT name FROM sqlite_master WHERE type='table' AND name NOT LIKE 'sqlite_%';\")\n",
    "        tables = [row[0] for row in cursor.fetchall()]\n",
    "\n",
    "        if not tables:\n",
    "            print(\"No user tables found to drop.\")\n",
    "            return\n",
    "\n",
    "        print(\"\\n📋 Existing tables:\")\n",
    "        for idx, table in enumerate(tables, 1):\n",
    "            print(f\"{idx}. {table}\")\n",
    "\n",
    "        print(\"\\nOptions:\")\n",
    "        print(\"  🔢 Enter the table number to drop a specific table\")\n",
    "        print(\"  💣 Enter 'all' to drop ALL tables\")\n",
    "        print(\"  ❌ Enter 'exit' to cancel and exit\")\n",
    "\n",
    "        while tables:\n",
    "            choice = input(\"\\nYour choice: \").strip().lower()\n",
    "\n",
    "            if choice == 'exit':\n",
    "                print(\"🚪 Exit without dropping tables.\")\n",
    "                break\n",
    "\n",
    "            elif choice == 'all':\n",
    "                for table in tables:\n",
    "                    try:\n",
    "                        cursor.execute(f\"DROP TABLE IF EXISTS {table};\")\n",
    "                        print(f\"✅ Dropped table '{table}'\")\n",
    "                    except sqlite3.OperationalError as e:\n",
    "                        print(f\"❌ Failed to drop '{table}': {e}\")\n",
    "                conn.commit()\n",
    "                break\n",
    "\n",
    "            elif choice.isdigit():\n",
    "                idx = int(choice)\n",
    "                if 1 <= idx <= len(tables):\n",
    "                    table = tables[idx - 1]\n",
    "                    try:\n",
    "                        cursor.execute(f\"DROP TABLE IF EXISTS {table};\")\n",
    "                        conn.commit()\n",
    "                        print(f\"✅ Dropped table '{table}'\")\n",
    "                        tables.pop(idx - 1)\n",
    "                    except sqlite3.OperationalError as e:\n",
    "                        print(f\"❌ Failed to drop '{table}': {e}\")\n",
    "\n",
    "                    if not tables:\n",
    "                        print(\"📭 No more tables left.\")\n",
    "                        break\n",
    "                    else:\n",
    "                        print(\"\\n📋 Remaining tables:\")\n",
    "                        for i, t in enumerate(tables, 1):\n",
    "                            print(f\"{i}. {t}\")\n",
    "                else:\n",
    "                    print(\"⚠️ Invalid table number, try again.\")\n",
    "            else:\n",
    "                print(\"⚠️ Invalid input, try again.\")\n",
    "\n",
    "    except sqlite3.OperationalError as e:\n",
    "        print(f\"🚫 Database operation failed: {e}\")\n",
    "    finally:\n",
    "        try:\n",
    "            cursor.close()\n",
    "        except:\n",
    "            pass\n",
    "        try:\n",
    "            conn.close()\n",
    "        except:\n",
    "            pass\n"
   ]
  },
  {
   "cell_type": "code",
   "execution_count": 13,
   "id": "d43e0204",
   "metadata": {},
   "outputs": [
    {
     "name": "stdout",
     "output_type": "stream",
     "text": [
      "\n",
      "📋 Existing tables:\n",
      "1. rounds\n",
      "2. teams\n",
      "3. matches\n",
      "4. legs\n",
      "5. avatars\n",
      "6. predictions\n",
      "7. achievements\n",
      "8. team_league\n",
      "9. players\n",
      "10. leagues\n",
      "\n",
      "Options:\n",
      "  🔢 Enter the table number to drop a specific table\n",
      "  💣 Enter 'all' to drop ALL tables\n",
      "  ❌ Enter 'exit' to cancel and exit\n",
      "❌ Failed to drop 'teams': database is locked\n",
      "\n",
      "📋 Remaining tables:\n",
      "1. rounds\n",
      "2. teams\n",
      "3. matches\n",
      "4. legs\n",
      "5. avatars\n",
      "6. predictions\n",
      "7. achievements\n",
      "8. team_league\n",
      "9. players\n",
      "10. leagues\n",
      "🚪 Exit without dropping tables.\n"
     ]
    }
   ],
   "source": [
    "drop_tables_interactive()"
   ]
  },
  {
   "cell_type": "markdown",
   "id": "17228cff",
   "metadata": {},
   "source": [
    "## 1.1 🧑‍💼 1. Players Table"
   ]
  },
  {
   "cell_type": "code",
   "execution_count": null,
   "id": "15734788",
   "metadata": {},
   "outputs": [
    {
     "data": {
      "text/html": [
       "<pre style=\"white-space:pre;overflow-x:auto;line-height:normal;font-family:Menlo,'DejaVu Sans Mono',consolas,'Courier New',monospace\"><span style=\"color: #008080; text-decoration-color: #008080; font-weight: bold\">📡 Executing Query...</span>\n",
       "</pre>\n"
      ],
      "text/plain": [
       "\u001b[1;36m📡 Executing Query\u001b[0m\u001b[1;36m...\u001b[0m\n"
      ]
     },
     "metadata": {},
     "output_type": "display_data"
    },
    {
     "data": {
      "text/html": [
       "<pre style=\"white-space:pre;overflow-x:auto;line-height:normal;font-family:Menlo,'DejaVu Sans Mono',consolas,'Courier New',monospace\"><span style=\"color: #008000; text-decoration-color: #008000\">╭────────────────────────────────────────────────────</span> Success <span style=\"color: #008000; text-decoration-color: #008000\">────────────────────────────────────────────────────╮</span>\n",
       "<span style=\"color: #008000; text-decoration-color: #008000\">│ ✅ Query executed successfully.                                                                                 │</span>\n",
       "<span style=\"color: #008000; text-decoration-color: #008000\">╰─────────────────────────────────────────────────────────────────────────────────────────────────────────────────╯</span>\n",
       "</pre>\n"
      ],
      "text/plain": [
       "\u001b[32m╭─\u001b[0m\u001b[32m───────────────────────────────────────────────────\u001b[0m Success \u001b[32m───────────────────────────────────────────────────\u001b[0m\u001b[32m─╮\u001b[0m\n",
       "\u001b[32m│\u001b[0m\u001b[32m \u001b[0m\u001b[32m✅ \u001b[0m\u001b[32mQuery executed successfully.\u001b[0m\u001b[32m                                                                                \u001b[0m\u001b[32m \u001b[0m\u001b[32m│\u001b[0m\n",
       "\u001b[32m╰─────────────────────────────────────────────────────────────────────────────────────────────────────────────────╯\u001b[0m\n"
      ]
     },
     "metadata": {},
     "output_type": "display_data"
    },
    {
     "data": {
      "text/html": [
       "<pre style=\"white-space:pre;overflow-x:auto;line-height:normal;font-family:Menlo,'DejaVu Sans Mono',consolas,'Courier New',monospace\"><span style=\"color: #008080; text-decoration-color: #008080; font-weight: bold\">🔌 Connection closed.</span>\n",
       "\n",
       "</pre>\n"
      ],
      "text/plain": [
       "\u001b[1;36m🔌 Connection closed.\u001b[0m\n",
       "\n"
      ]
     },
     "metadata": {},
     "output_type": "display_data"
    }
   ],
   "source": [
    "query_players = \"\"\"\n",
    "CREATE TABLE IF NOT EXISTS players (\n",
    "    id INTEGER PRIMARY KEY AUTOINCREMENT,\n",
    "    username TEXT NOT NULL UNIQUE,\n",
    "    email TEXT UNIQUE NOT NULL,\n",
    "    password_hash TEXT NOT NULL,\n",
    "    avatar_url TEXT,\n",
    "    role TEXT CHECK(role IN ('admin', 'player')) DEFAULT 'player',\n",
    "    is_confirmed INTEGER DEFAULT 1,\n",
    "    reset_token TEXT,\n",
    "    created_at TEXT DEFAULT CURRENT_TIMESTAMP,\n",
    "    updated_at TEXT DEFAULT CURRENT_TIMESTAMP,\n",
    "    last_login_at TEXT DEFAULT NULL\n",
    ");\n",
    "\"\"\"\n",
    "execute_query(query_players)\n"
   ]
  },
  {
   "cell_type": "markdown",
   "id": "ffaaad36",
   "metadata": {},
   "source": [
    "## 2.2 🏆 2. Leagues Table"
   ]
  },
  {
   "cell_type": "code",
   "execution_count": 11,
   "id": "dffafa97",
   "metadata": {},
   "outputs": [
    {
     "data": {
      "text/html": [
       "<pre style=\"white-space:pre;overflow-x:auto;line-height:normal;font-family:Menlo,'DejaVu Sans Mono',consolas,'Courier New',monospace\"><span style=\"color: #008080; text-decoration-color: #008080; font-weight: bold\">📡 Executing Query...</span>\n",
       "</pre>\n"
      ],
      "text/plain": [
       "\u001b[1;36m📡 Executing Query\u001b[0m\u001b[1;36m...\u001b[0m\n"
      ]
     },
     "metadata": {},
     "output_type": "display_data"
    },
    {
     "data": {
      "text/html": [
       "<pre style=\"white-space:pre;overflow-x:auto;line-height:normal;font-family:Menlo,'DejaVu Sans Mono',consolas,'Courier New',monospace\"><span style=\"color: #008000; text-decoration-color: #008000\">╭────────────────────────────────────────────────────</span> Success <span style=\"color: #008000; text-decoration-color: #008000\">────────────────────────────────────────────────────╮</span>\n",
       "<span style=\"color: #008000; text-decoration-color: #008000\">│ ✅ Query executed successfully.                                                                                 │</span>\n",
       "<span style=\"color: #008000; text-decoration-color: #008000\">╰─────────────────────────────────────────────────────────────────────────────────────────────────────────────────╯</span>\n",
       "</pre>\n"
      ],
      "text/plain": [
       "\u001b[32m╭─\u001b[0m\u001b[32m───────────────────────────────────────────────────\u001b[0m Success \u001b[32m───────────────────────────────────────────────────\u001b[0m\u001b[32m─╮\u001b[0m\n",
       "\u001b[32m│\u001b[0m\u001b[32m \u001b[0m\u001b[32m✅ \u001b[0m\u001b[32mQuery executed successfully.\u001b[0m\u001b[32m                                                                                \u001b[0m\u001b[32m \u001b[0m\u001b[32m│\u001b[0m\n",
       "\u001b[32m╰─────────────────────────────────────────────────────────────────────────────────────────────────────────────────╯\u001b[0m\n"
      ]
     },
     "metadata": {},
     "output_type": "display_data"
    },
    {
     "data": {
      "text/html": [
       "<pre style=\"white-space:pre;overflow-x:auto;line-height:normal;font-family:Menlo,'DejaVu Sans Mono',consolas,'Courier New',monospace\"><span style=\"color: #008080; text-decoration-color: #008080; font-weight: bold\">🔌 Connection closed.</span>\n",
       "\n",
       "</pre>\n"
      ],
      "text/plain": [
       "\u001b[1;36m🔌 Connection closed.\u001b[0m\n",
       "\n"
      ]
     },
     "metadata": {},
     "output_type": "display_data"
    }
   ],
   "source": [
    "query_leagues = \"\"\"\n",
    "CREATE TABLE IF NOT EXISTS leagues (\n",
    "    id INTEGER PRIMARY KEY AUTOINCREMENT,\n",
    "    name TEXT UNIQUE NOT NULL,\n",
    "    country TEXT,\n",
    "    logo_path TEXT,                          -- Path to local league logo\n",
    "    can_be_draw INTEGER DEFAULT 1,           -- 1 = draw allowed\n",
    "    two_legs INTEGER DEFAULT 0,              -- 1 = two-legged ties\n",
    "    must_have_winner INTEGER DEFAULT 0,      -- 1 = no draw allowed (e.g., finals)\n",
    "    created_at TEXT DEFAULT CURRENT_TIMESTAMP\n",
    ");\n",
    "\"\"\"\n",
    "execute_query(query_leagues)\n"
   ]
  },
  {
   "cell_type": "markdown",
   "id": "7eb75d7c",
   "metadata": {},
   "source": [
    "## 3.3 📅 3. Rounds Table"
   ]
  },
  {
   "cell_type": "code",
   "execution_count": 12,
   "id": "4f920f5e",
   "metadata": {},
   "outputs": [
    {
     "data": {
      "text/html": [
       "<pre style=\"white-space:pre;overflow-x:auto;line-height:normal;font-family:Menlo,'DejaVu Sans Mono',consolas,'Courier New',monospace\"><span style=\"color: #008080; text-decoration-color: #008080; font-weight: bold\">📡 Executing Query...</span>\n",
       "</pre>\n"
      ],
      "text/plain": [
       "\u001b[1;36m📡 Executing Query\u001b[0m\u001b[1;36m...\u001b[0m\n"
      ]
     },
     "metadata": {},
     "output_type": "display_data"
    },
    {
     "data": {
      "text/html": [
       "<pre style=\"white-space:pre;overflow-x:auto;line-height:normal;font-family:Menlo,'DejaVu Sans Mono',consolas,'Courier New',monospace\"><span style=\"color: #008000; text-decoration-color: #008000\">╭────────────────────────────────────────────────────</span> Success <span style=\"color: #008000; text-decoration-color: #008000\">────────────────────────────────────────────────────╮</span>\n",
       "<span style=\"color: #008000; text-decoration-color: #008000\">│ ✅ Query executed successfully.                                                                                 │</span>\n",
       "<span style=\"color: #008000; text-decoration-color: #008000\">╰─────────────────────────────────────────────────────────────────────────────────────────────────────────────────╯</span>\n",
       "</pre>\n"
      ],
      "text/plain": [
       "\u001b[32m╭─\u001b[0m\u001b[32m───────────────────────────────────────────────────\u001b[0m Success \u001b[32m───────────────────────────────────────────────────\u001b[0m\u001b[32m─╮\u001b[0m\n",
       "\u001b[32m│\u001b[0m\u001b[32m \u001b[0m\u001b[32m✅ \u001b[0m\u001b[32mQuery executed successfully.\u001b[0m\u001b[32m                                                                                \u001b[0m\u001b[32m \u001b[0m\u001b[32m│\u001b[0m\n",
       "\u001b[32m╰─────────────────────────────────────────────────────────────────────────────────────────────────────────────────╯\u001b[0m\n"
      ]
     },
     "metadata": {},
     "output_type": "display_data"
    },
    {
     "data": {
      "text/html": [
       "<pre style=\"white-space:pre;overflow-x:auto;line-height:normal;font-family:Menlo,'DejaVu Sans Mono',consolas,'Courier New',monospace\"><span style=\"color: #008080; text-decoration-color: #008080; font-weight: bold\">🔌 Connection closed.</span>\n",
       "\n",
       "</pre>\n"
      ],
      "text/plain": [
       "\u001b[1;36m🔌 Connection closed.\u001b[0m\n",
       "\n"
      ]
     },
     "metadata": {},
     "output_type": "display_data"
    }
   ],
   "source": [
    "query_rounds = \"\"\"\n",
    "CREATE TABLE IF NOT EXISTS rounds (\n",
    "    id INTEGER PRIMARY KEY AUTOINCREMENT,\n",
    "    name TEXT NOT NULL,\n",
    "    start_date TEXT NOT NULL,\n",
    "    end_date TEXT NOT NULL,\n",
    "    created_at TEXT DEFAULT CURRENT_TIMESTAMP\n",
    ");\n",
    "\"\"\"\n",
    "execute_query(query_rounds)"
   ]
  },
  {
   "cell_type": "markdown",
   "id": "357393e7",
   "metadata": {},
   "source": [
    "## 4.4 🏟️ 4. Teams Table"
   ]
  },
  {
   "cell_type": "code",
   "execution_count": 37,
   "id": "e5136418",
   "metadata": {},
   "outputs": [
    {
     "data": {
      "text/html": [
       "<pre style=\"white-space:pre;overflow-x:auto;line-height:normal;font-family:Menlo,'DejaVu Sans Mono',consolas,'Courier New',monospace\"><span style=\"color: #008080; text-decoration-color: #008080; font-weight: bold\">📡 Executing Query...</span>\n",
       "</pre>\n"
      ],
      "text/plain": [
       "\u001b[1;36m📡 Executing Query\u001b[0m\u001b[1;36m...\u001b[0m\n"
      ]
     },
     "metadata": {},
     "output_type": "display_data"
    },
    {
     "data": {
      "text/html": [
       "<pre style=\"white-space:pre;overflow-x:auto;line-height:normal;font-family:Menlo,'DejaVu Sans Mono',consolas,'Courier New',monospace\"><span style=\"color: #800000; text-decoration-color: #800000\">╭─────────────────────────────────────────────────────</span> Error <span style=\"color: #800000; text-decoration-color: #800000\">─────────────────────────────────────────────────────╮</span>\n",
       "<span style=\"color: #800000; text-decoration-color: #800000\">│ ❗ Error executing query: database is locked                                                                    │</span>\n",
       "<span style=\"color: #800000; text-decoration-color: #800000\">╰─────────────────────────────────────────────────────────────────────────────────────────────────────────────────╯</span>\n",
       "</pre>\n"
      ],
      "text/plain": [
       "\u001b[31m╭─\u001b[0m\u001b[31m────────────────────────────────────────────────────\u001b[0m Error \u001b[31m────────────────────────────────────────────────────\u001b[0m\u001b[31m─╮\u001b[0m\n",
       "\u001b[31m│\u001b[0m\u001b[31m \u001b[0m\u001b[31m❗ \u001b[0m\u001b[31mError executing query:\u001b[0m\u001b[31m database is locked\u001b[0m\u001b[31m                                                                   \u001b[0m\u001b[31m \u001b[0m\u001b[31m│\u001b[0m\n",
       "\u001b[31m╰─────────────────────────────────────────────────────────────────────────────────────────────────────────────────╯\u001b[0m\n"
      ]
     },
     "metadata": {},
     "output_type": "display_data"
    },
    {
     "data": {
      "text/html": [
       "<pre style=\"white-space:pre;overflow-x:auto;line-height:normal;font-family:Menlo,'DejaVu Sans Mono',consolas,'Courier New',monospace\"><span style=\"color: #008080; text-decoration-color: #008080; font-weight: bold\">🔌 Connection closed.</span>\n",
       "\n",
       "</pre>\n"
      ],
      "text/plain": [
       "\u001b[1;36m🔌 Connection closed.\u001b[0m\n",
       "\n"
      ]
     },
     "metadata": {},
     "output_type": "display_data"
    },
    {
     "data": {
      "text/html": [
       "<pre style=\"white-space:pre;overflow-x:auto;line-height:normal;font-family:Menlo,'DejaVu Sans Mono',consolas,'Courier New',monospace\"><span style=\"color: #008080; text-decoration-color: #008080; font-weight: bold\">📡 Executing Query...</span>\n",
       "</pre>\n"
      ],
      "text/plain": [
       "\u001b[1;36m📡 Executing Query\u001b[0m\u001b[1;36m...\u001b[0m\n"
      ]
     },
     "metadata": {},
     "output_type": "display_data"
    },
    {
     "data": {
      "text/html": [
       "<pre style=\"white-space:pre;overflow-x:auto;line-height:normal;font-family:Menlo,'DejaVu Sans Mono',consolas,'Courier New',monospace\"><span style=\"color: #800000; text-decoration-color: #800000\">╭─────────────────────────────────────────────────────</span> Error <span style=\"color: #800000; text-decoration-color: #800000\">─────────────────────────────────────────────────────╮</span>\n",
       "<span style=\"color: #800000; text-decoration-color: #800000\">│ ❗ Error executing query: table teams already exists                                                            │</span>\n",
       "<span style=\"color: #800000; text-decoration-color: #800000\">╰─────────────────────────────────────────────────────────────────────────────────────────────────────────────────╯</span>\n",
       "</pre>\n"
      ],
      "text/plain": [
       "\u001b[31m╭─\u001b[0m\u001b[31m────────────────────────────────────────────────────\u001b[0m Error \u001b[31m────────────────────────────────────────────────────\u001b[0m\u001b[31m─╮\u001b[0m\n",
       "\u001b[31m│\u001b[0m\u001b[31m \u001b[0m\u001b[31m❗ \u001b[0m\u001b[31mError executing query:\u001b[0m\u001b[31m table teams already exists\u001b[0m\u001b[31m                                                           \u001b[0m\u001b[31m \u001b[0m\u001b[31m│\u001b[0m\n",
       "\u001b[31m╰─────────────────────────────────────────────────────────────────────────────────────────────────────────────────╯\u001b[0m\n"
      ]
     },
     "metadata": {},
     "output_type": "display_data"
    },
    {
     "data": {
      "text/html": [
       "<pre style=\"white-space:pre;overflow-x:auto;line-height:normal;font-family:Menlo,'DejaVu Sans Mono',consolas,'Courier New',monospace\"><span style=\"color: #008080; text-decoration-color: #008080; font-weight: bold\">🔌 Connection closed.</span>\n",
       "\n",
       "</pre>\n"
      ],
      "text/plain": [
       "\u001b[1;36m🔌 Connection closed.\u001b[0m\n",
       "\n"
      ]
     },
     "metadata": {},
     "output_type": "display_data"
    }
   ],
   "source": [
    "query_teams = \"\"\"\n",
    "CREATE TABLE IF NOT EXISTS teams (\n",
    "    id INTEGER PRIMARY KEY AUTOINCREMENT,\n",
    "    name TEXT NOT NULL UNIQUE,\n",
    "    logo_path TEXT,\n",
    "    league_id INTEGER NOT NULL,\n",
    "    created_at TEXT DEFAULT CURRENT_TIMESTAMP,\n",
    "    FOREIGN KEY (league_id) REFERENCES leagues(id) ON DELETE CASCADE\n",
    ");\n",
    "\"\"\"\n",
    "execute_query(query_teams)\n"
   ]
  },
  {
   "cell_type": "markdown",
   "id": "b67d06c4",
   "metadata": {},
   "source": [
    "## team_league join table"
   ]
  },
  {
   "cell_type": "code",
   "execution_count": null,
   "id": "42a5dd89",
   "metadata": {},
   "outputs": [
    {
     "data": {
      "text/html": [
       "<pre style=\"white-space:pre;overflow-x:auto;line-height:normal;font-family:Menlo,'DejaVu Sans Mono',consolas,'Courier New',monospace\"><span style=\"color: #008080; text-decoration-color: #008080; font-weight: bold\">📡 Executing Query...</span>\n",
       "</pre>\n"
      ],
      "text/plain": [
       "\u001b[1;36m📡 Executing Query\u001b[0m\u001b[1;36m...\u001b[0m\n"
      ]
     },
     "metadata": {},
     "output_type": "display_data"
    },
    {
     "data": {
      "text/html": [
       "<pre style=\"white-space:pre;overflow-x:auto;line-height:normal;font-family:Menlo,'DejaVu Sans Mono',consolas,'Courier New',monospace\"><span style=\"color: #008000; text-decoration-color: #008000\">╭────────────────────────────────────────────────────</span> Success <span style=\"color: #008000; text-decoration-color: #008000\">────────────────────────────────────────────────────╮</span>\n",
       "<span style=\"color: #008000; text-decoration-color: #008000\">│ ✅ Query executed successfully.                                                                                 │</span>\n",
       "<span style=\"color: #008000; text-decoration-color: #008000\">╰─────────────────────────────────────────────────────────────────────────────────────────────────────────────────╯</span>\n",
       "</pre>\n"
      ],
      "text/plain": [
       "\u001b[32m╭─\u001b[0m\u001b[32m───────────────────────────────────────────────────\u001b[0m Success \u001b[32m───────────────────────────────────────────────────\u001b[0m\u001b[32m─╮\u001b[0m\n",
       "\u001b[32m│\u001b[0m\u001b[32m \u001b[0m\u001b[32m✅ \u001b[0m\u001b[32mQuery executed successfully.\u001b[0m\u001b[32m                                                                                \u001b[0m\u001b[32m \u001b[0m\u001b[32m│\u001b[0m\n",
       "\u001b[32m╰─────────────────────────────────────────────────────────────────────────────────────────────────────────────────╯\u001b[0m\n"
      ]
     },
     "metadata": {},
     "output_type": "display_data"
    },
    {
     "data": {
      "text/html": [
       "<pre style=\"white-space:pre;overflow-x:auto;line-height:normal;font-family:Menlo,'DejaVu Sans Mono',consolas,'Courier New',monospace\"><span style=\"color: #008080; text-decoration-color: #008080; font-weight: bold\">🔌 Connection closed.</span>\n",
       "\n",
       "</pre>\n"
      ],
      "text/plain": [
       "\u001b[1;36m🔌 Connection closed.\u001b[0m\n",
       "\n"
      ]
     },
     "metadata": {},
     "output_type": "display_data"
    }
   ],
   "source": [
    "execute_query(\"\"\"\n",
    "CREATE TABLE IF NOT EXISTS team_league (\n",
    "    team_id INTEGER NOT NULL,\n",
    "    league_id INTEGER NOT NULL,\n",
    "    PRIMARY KEY (team_id, league_id),\n",
    "    FOREIGN KEY (team_id) REFERENCES teams(id) ON DELETE CASCADE,\n",
    "    FOREIGN KEY (league_id) REFERENCES leagues(id) ON DELETE CASCADE\n",
    ");\n",
    "\"\"\")\n",
    "\n"
   ]
  },
  {
   "cell_type": "markdown",
   "id": "4093b967",
   "metadata": {},
   "source": [
    "## 5.5 ⚽ 5. Matches Table"
   ]
  },
  {
   "cell_type": "code",
   "execution_count": null,
   "id": "be691de7",
   "metadata": {},
   "outputs": [
    {
     "data": {
      "text/html": [
       "<pre style=\"white-space:pre;overflow-x:auto;line-height:normal;font-family:Menlo,'DejaVu Sans Mono',consolas,'Courier New',monospace\"><span style=\"color: #008080; text-decoration-color: #008080; font-weight: bold\">📡 Executing Query...</span>\n",
       "</pre>\n"
      ],
      "text/plain": [
       "\u001b[1;36m📡 Executing Query\u001b[0m\u001b[1;36m...\u001b[0m\n"
      ]
     },
     "metadata": {},
     "output_type": "display_data"
    },
    {
     "data": {
      "text/html": [
       "<pre style=\"white-space:pre;overflow-x:auto;line-height:normal;font-family:Menlo,'DejaVu Sans Mono',consolas,'Courier New',monospace\"><span style=\"color: #008000; text-decoration-color: #008000\">╭────────────────────────────────────────────────────</span> Success <span style=\"color: #008000; text-decoration-color: #008000\">────────────────────────────────────────────────────╮</span>\n",
       "<span style=\"color: #008000; text-decoration-color: #008000\">│ ✅ Query executed successfully.                                                                                 │</span>\n",
       "<span style=\"color: #008000; text-decoration-color: #008000\">╰─────────────────────────────────────────────────────────────────────────────────────────────────────────────────╯</span>\n",
       "</pre>\n"
      ],
      "text/plain": [
       "\u001b[32m╭─\u001b[0m\u001b[32m───────────────────────────────────────────────────\u001b[0m Success \u001b[32m───────────────────────────────────────────────────\u001b[0m\u001b[32m─╮\u001b[0m\n",
       "\u001b[32m│\u001b[0m\u001b[32m \u001b[0m\u001b[32m✅ \u001b[0m\u001b[32mQuery executed successfully.\u001b[0m\u001b[32m                                                                                \u001b[0m\u001b[32m \u001b[0m\u001b[32m│\u001b[0m\n",
       "\u001b[32m╰─────────────────────────────────────────────────────────────────────────────────────────────────────────────────╯\u001b[0m\n"
      ]
     },
     "metadata": {},
     "output_type": "display_data"
    },
    {
     "data": {
      "text/html": [
       "<pre style=\"white-space:pre;overflow-x:auto;line-height:normal;font-family:Menlo,'DejaVu Sans Mono',consolas,'Courier New',monospace\"><span style=\"color: #008080; text-decoration-color: #008080; font-weight: bold\">🔌 Connection closed.</span>\n",
       "\n",
       "</pre>\n"
      ],
      "text/plain": [
       "\u001b[1;36m🔌 Connection closed.\u001b[0m\n",
       "\n"
      ]
     },
     "metadata": {},
     "output_type": "display_data"
    },
    {
     "data": {
      "text/html": [
       "<pre style=\"white-space:pre;overflow-x:auto;line-height:normal;font-family:Menlo,'DejaVu Sans Mono',consolas,'Courier New',monospace\"><span style=\"color: #008080; text-decoration-color: #008080; font-weight: bold\">📡 Executing Query...</span>\n",
       "</pre>\n"
      ],
      "text/plain": [
       "\u001b[1;36m📡 Executing Query\u001b[0m\u001b[1;36m...\u001b[0m\n"
      ]
     },
     "metadata": {},
     "output_type": "display_data"
    },
    {
     "data": {
      "text/html": [
       "<pre style=\"white-space:pre;overflow-x:auto;line-height:normal;font-family:Menlo,'DejaVu Sans Mono',consolas,'Courier New',monospace\"><span style=\"color: #008000; text-decoration-color: #008000\">╭────────────────────────────────────────────────────</span> Success <span style=\"color: #008000; text-decoration-color: #008000\">────────────────────────────────────────────────────╮</span>\n",
       "<span style=\"color: #008000; text-decoration-color: #008000\">│ ✅ Query executed successfully.                                                                                 │</span>\n",
       "<span style=\"color: #008000; text-decoration-color: #008000\">╰─────────────────────────────────────────────────────────────────────────────────────────────────────────────────╯</span>\n",
       "</pre>\n"
      ],
      "text/plain": [
       "\u001b[32m╭─\u001b[0m\u001b[32m───────────────────────────────────────────────────\u001b[0m Success \u001b[32m───────────────────────────────────────────────────\u001b[0m\u001b[32m─╮\u001b[0m\n",
       "\u001b[32m│\u001b[0m\u001b[32m \u001b[0m\u001b[32m✅ \u001b[0m\u001b[32mQuery executed successfully.\u001b[0m\u001b[32m                                                                                \u001b[0m\u001b[32m \u001b[0m\u001b[32m│\u001b[0m\n",
       "\u001b[32m╰─────────────────────────────────────────────────────────────────────────────────────────────────────────────────╯\u001b[0m\n"
      ]
     },
     "metadata": {},
     "output_type": "display_data"
    },
    {
     "data": {
      "text/html": [
       "<pre style=\"white-space:pre;overflow-x:auto;line-height:normal;font-family:Menlo,'DejaVu Sans Mono',consolas,'Courier New',monospace\"><span style=\"color: #008080; text-decoration-color: #008080; font-weight: bold\">🔌 Connection closed.</span>\n",
       "\n",
       "</pre>\n"
      ],
      "text/plain": [
       "\u001b[1;36m🔌 Connection closed.\u001b[0m\n",
       "\n"
      ]
     },
     "metadata": {},
     "output_type": "display_data"
    }
   ],
   "source": [
    "query_matches = \"\"\"\n",
    "CREATE TABLE IF NOT EXISTS matches (\n",
    "    id INTEGER PRIMARY KEY AUTOINCREMENT,\n",
    "    round_id INTEGER NOT NULL,\n",
    "    league_id INTEGER NOT NULL,\n",
    "    home_team_id INTEGER NOT NULL,\n",
    "    away_team_id INTEGER NOT NULL,\n",
    "    match_datetime TEXT NOT NULL,\n",
    "    status TEXT CHECK (status IN ('upcoming', 'live', 'finished', 'cancelled')) DEFAULT 'upcoming',\n",
    "    home_score INTEGER DEFAULT NULL,\n",
    "    away_score INTEGER DEFAULT NULL,\n",
    "    FOREIGN KEY (round_id) REFERENCES rounds(id) ON DELETE CASCADE,\n",
    "    FOREIGN KEY (league_id) REFERENCES leagues(id) ON DELETE CASCADE,\n",
    "    FOREIGN KEY (home_team_id) REFERENCES teams(id) ON DELETE CASCADE,\n",
    "    FOREIGN KEY (away_team_id) REFERENCES teams(id) ON DELETE CASCADE\n",
    ");\n",
    "\"\"\"\n",
    "execute_query(query_matches)"
   ]
  },
  {
   "cell_type": "markdown",
   "id": "609674d2",
   "metadata": {},
   "source": [
    "## 6.6 🔁 6. Legs Table"
   ]
  },
  {
   "cell_type": "code",
   "execution_count": 16,
   "id": "f69d6930",
   "metadata": {},
   "outputs": [
    {
     "data": {
      "text/html": [
       "<pre style=\"white-space:pre;overflow-x:auto;line-height:normal;font-family:Menlo,'DejaVu Sans Mono',consolas,'Courier New',monospace\"><span style=\"color: #008080; text-decoration-color: #008080; font-weight: bold\">📡 Executing Query...</span>\n",
       "</pre>\n"
      ],
      "text/plain": [
       "\u001b[1;36m📡 Executing Query\u001b[0m\u001b[1;36m...\u001b[0m\n"
      ]
     },
     "metadata": {},
     "output_type": "display_data"
    },
    {
     "data": {
      "text/html": [
       "<pre style=\"white-space:pre;overflow-x:auto;line-height:normal;font-family:Menlo,'DejaVu Sans Mono',consolas,'Courier New',monospace\"><span style=\"color: #008000; text-decoration-color: #008000\">╭────────────────────────────────────────────────────</span> Success <span style=\"color: #008000; text-decoration-color: #008000\">────────────────────────────────────────────────────╮</span>\n",
       "<span style=\"color: #008000; text-decoration-color: #008000\">│ ✅ Query executed successfully.                                                                                 │</span>\n",
       "<span style=\"color: #008000; text-decoration-color: #008000\">╰─────────────────────────────────────────────────────────────────────────────────────────────────────────────────╯</span>\n",
       "</pre>\n"
      ],
      "text/plain": [
       "\u001b[32m╭─\u001b[0m\u001b[32m───────────────────────────────────────────────────\u001b[0m Success \u001b[32m───────────────────────────────────────────────────\u001b[0m\u001b[32m─╮\u001b[0m\n",
       "\u001b[32m│\u001b[0m\u001b[32m \u001b[0m\u001b[32m✅ \u001b[0m\u001b[32mQuery executed successfully.\u001b[0m\u001b[32m                                                                                \u001b[0m\u001b[32m \u001b[0m\u001b[32m│\u001b[0m\n",
       "\u001b[32m╰─────────────────────────────────────────────────────────────────────────────────────────────────────────────────╯\u001b[0m\n"
      ]
     },
     "metadata": {},
     "output_type": "display_data"
    },
    {
     "data": {
      "text/html": [
       "<pre style=\"white-space:pre;overflow-x:auto;line-height:normal;font-family:Menlo,'DejaVu Sans Mono',consolas,'Courier New',monospace\"><span style=\"color: #008080; text-decoration-color: #008080; font-weight: bold\">🔌 Connection closed.</span>\n",
       "\n",
       "</pre>\n"
      ],
      "text/plain": [
       "\u001b[1;36m🔌 Connection closed.\u001b[0m\n",
       "\n"
      ]
     },
     "metadata": {},
     "output_type": "display_data"
    }
   ],
   "source": [
    "query_legs = \"\"\"\n",
    "CREATE TABLE IF NOT EXISTS legs (\n",
    "    id INTEGER PRIMARY KEY AUTOINCREMENT,\n",
    "    match_id INTEGER NOT NULL,\n",
    "    leg_number INTEGER NOT NULL,\n",
    "    leg_date TEXT NOT NULL,\n",
    "    home_score INTEGER,\n",
    "    away_score INTEGER,\n",
    "    can_draw BOOLEAN DEFAULT 1,\n",
    "    winner_team_id INTEGER,\n",
    "    notes TEXT,\n",
    "    FOREIGN KEY (match_id) REFERENCES matches(id) ON DELETE CASCADE,\n",
    "    FOREIGN KEY (winner_team_id) REFERENCES teams(id) ON DELETE SET NULL,\n",
    "    UNIQUE (match_id, leg_number)\n",
    ");\n",
    "\"\"\"\n",
    "execute_query(query_legs)\n"
   ]
  },
  {
   "cell_type": "markdown",
   "id": "7952b2ab",
   "metadata": {},
   "source": [
    "## 7.7 🖼️ 7. Avatars Table"
   ]
  },
  {
   "cell_type": "code",
   "execution_count": 17,
   "id": "6b1d3cfd",
   "metadata": {},
   "outputs": [
    {
     "data": {
      "text/html": [
       "<pre style=\"white-space:pre;overflow-x:auto;line-height:normal;font-family:Menlo,'DejaVu Sans Mono',consolas,'Courier New',monospace\"><span style=\"color: #008080; text-decoration-color: #008080; font-weight: bold\">📡 Executing Query...</span>\n",
       "</pre>\n"
      ],
      "text/plain": [
       "\u001b[1;36m📡 Executing Query\u001b[0m\u001b[1;36m...\u001b[0m\n"
      ]
     },
     "metadata": {},
     "output_type": "display_data"
    },
    {
     "data": {
      "text/html": [
       "<pre style=\"white-space:pre;overflow-x:auto;line-height:normal;font-family:Menlo,'DejaVu Sans Mono',consolas,'Courier New',monospace\"><span style=\"color: #008000; text-decoration-color: #008000\">╭────────────────────────────────────────────────────</span> Success <span style=\"color: #008000; text-decoration-color: #008000\">────────────────────────────────────────────────────╮</span>\n",
       "<span style=\"color: #008000; text-decoration-color: #008000\">│ ✅ Query executed successfully.                                                                                 │</span>\n",
       "<span style=\"color: #008000; text-decoration-color: #008000\">╰─────────────────────────────────────────────────────────────────────────────────────────────────────────────────╯</span>\n",
       "</pre>\n"
      ],
      "text/plain": [
       "\u001b[32m╭─\u001b[0m\u001b[32m───────────────────────────────────────────────────\u001b[0m Success \u001b[32m───────────────────────────────────────────────────\u001b[0m\u001b[32m─╮\u001b[0m\n",
       "\u001b[32m│\u001b[0m\u001b[32m \u001b[0m\u001b[32m✅ \u001b[0m\u001b[32mQuery executed successfully.\u001b[0m\u001b[32m                                                                                \u001b[0m\u001b[32m \u001b[0m\u001b[32m│\u001b[0m\n",
       "\u001b[32m╰─────────────────────────────────────────────────────────────────────────────────────────────────────────────────╯\u001b[0m\n"
      ]
     },
     "metadata": {},
     "output_type": "display_data"
    },
    {
     "data": {
      "text/html": [
       "<pre style=\"white-space:pre;overflow-x:auto;line-height:normal;font-family:Menlo,'DejaVu Sans Mono',consolas,'Courier New',monospace\"><span style=\"color: #008080; text-decoration-color: #008080; font-weight: bold\">🔌 Connection closed.</span>\n",
       "\n",
       "</pre>\n"
      ],
      "text/plain": [
       "\u001b[1;36m🔌 Connection closed.\u001b[0m\n",
       "\n"
      ]
     },
     "metadata": {},
     "output_type": "display_data"
    }
   ],
   "source": [
    "query_avatars = \"\"\"\n",
    "CREATE TABLE IF NOT EXISTS avatars (\n",
    "    id INTEGER PRIMARY KEY AUTOINCREMENT,\n",
    "    file_path TEXT NOT NULL,                          -- Local path to the image\n",
    "    uploaded_by_player_id INTEGER,                    -- Who uploaded the avatar\n",
    "    uploaded_at TEXT DEFAULT CURRENT_TIMESTAMP,\n",
    "    FOREIGN KEY (uploaded_by_player_id) REFERENCES players(id) ON DELETE SET NULL\n",
    ");\n",
    "\"\"\"\n",
    "execute_query(query_avatars)\n"
   ]
  },
  {
   "cell_type": "markdown",
   "id": "9da00b7b",
   "metadata": {},
   "source": [
    "## 8.8 predictions Table"
   ]
  },
  {
   "cell_type": "code",
   "execution_count": 18,
   "id": "25de2a39",
   "metadata": {},
   "outputs": [
    {
     "data": {
      "text/html": [
       "<pre style=\"white-space:pre;overflow-x:auto;line-height:normal;font-family:Menlo,'DejaVu Sans Mono',consolas,'Courier New',monospace\"><span style=\"color: #008080; text-decoration-color: #008080; font-weight: bold\">📡 Executing Query...</span>\n",
       "</pre>\n"
      ],
      "text/plain": [
       "\u001b[1;36m📡 Executing Query\u001b[0m\u001b[1;36m...\u001b[0m\n"
      ]
     },
     "metadata": {},
     "output_type": "display_data"
    },
    {
     "data": {
      "text/html": [
       "<pre style=\"white-space:pre;overflow-x:auto;line-height:normal;font-family:Menlo,'DejaVu Sans Mono',consolas,'Courier New',monospace\"><span style=\"color: #008000; text-decoration-color: #008000\">╭────────────────────────────────────────────────────</span> Success <span style=\"color: #008000; text-decoration-color: #008000\">────────────────────────────────────────────────────╮</span>\n",
       "<span style=\"color: #008000; text-decoration-color: #008000\">│ ✅ Query executed successfully.                                                                                 │</span>\n",
       "<span style=\"color: #008000; text-decoration-color: #008000\">╰─────────────────────────────────────────────────────────────────────────────────────────────────────────────────╯</span>\n",
       "</pre>\n"
      ],
      "text/plain": [
       "\u001b[32m╭─\u001b[0m\u001b[32m───────────────────────────────────────────────────\u001b[0m Success \u001b[32m───────────────────────────────────────────────────\u001b[0m\u001b[32m─╮\u001b[0m\n",
       "\u001b[32m│\u001b[0m\u001b[32m \u001b[0m\u001b[32m✅ \u001b[0m\u001b[32mQuery executed successfully.\u001b[0m\u001b[32m                                                                                \u001b[0m\u001b[32m \u001b[0m\u001b[32m│\u001b[0m\n",
       "\u001b[32m╰─────────────────────────────────────────────────────────────────────────────────────────────────────────────────╯\u001b[0m\n"
      ]
     },
     "metadata": {},
     "output_type": "display_data"
    },
    {
     "data": {
      "text/html": [
       "<pre style=\"white-space:pre;overflow-x:auto;line-height:normal;font-family:Menlo,'DejaVu Sans Mono',consolas,'Courier New',monospace\"><span style=\"color: #008080; text-decoration-color: #008080; font-weight: bold\">🔌 Connection closed.</span>\n",
       "\n",
       "</pre>\n"
      ],
      "text/plain": [
       "\u001b[1;36m🔌 Connection closed.\u001b[0m\n",
       "\n"
      ]
     },
     "metadata": {},
     "output_type": "display_data"
    }
   ],
   "source": [
    "query_predictions = \"\"\"\n",
    "CREATE TABLE IF NOT EXISTS predictions (\n",
    "    id INTEGER PRIMARY KEY AUTOINCREMENT,\n",
    "    player_id INTEGER NOT NULL,\n",
    "    match_id INTEGER NOT NULL,\n",
    "    \n",
    "    predicted_home_score INTEGER NOT NULL,\n",
    "    predicted_away_score INTEGER NOT NULL,\n",
    "    predicted_penalty_winner TEXT,                -- Team name or NULL\n",
    "    \n",
    "    score INTEGER DEFAULT 0,                      -- Computed after match ends\n",
    "\n",
    "    created_at TEXT DEFAULT CURRENT_TIMESTAMP,\n",
    "    \n",
    "    FOREIGN KEY (player_id) REFERENCES players(id) ON DELETE CASCADE,\n",
    "    FOREIGN KEY (match_id) REFERENCES matches(id) ON DELETE CASCADE,\n",
    "    \n",
    "    UNIQUE (player_id, match_id)                  -- Player can only predict once per match\n",
    ");\n",
    "\"\"\"\n",
    "execute_query(query_predictions)"
   ]
  },
  {
   "cell_type": "markdown",
   "id": "8d4f2677",
   "metadata": {},
   "source": [
    "## 9.9 achievements Table"
   ]
  },
  {
   "cell_type": "code",
   "execution_count": 19,
   "id": "47fbbb02",
   "metadata": {},
   "outputs": [
    {
     "data": {
      "text/html": [
       "<pre style=\"white-space:pre;overflow-x:auto;line-height:normal;font-family:Menlo,'DejaVu Sans Mono',consolas,'Courier New',monospace\"><span style=\"color: #008080; text-decoration-color: #008080; font-weight: bold\">📡 Executing Query...</span>\n",
       "</pre>\n"
      ],
      "text/plain": [
       "\u001b[1;36m📡 Executing Query\u001b[0m\u001b[1;36m...\u001b[0m\n"
      ]
     },
     "metadata": {},
     "output_type": "display_data"
    },
    {
     "data": {
      "text/html": [
       "<pre style=\"white-space:pre;overflow-x:auto;line-height:normal;font-family:Menlo,'DejaVu Sans Mono',consolas,'Courier New',monospace\"><span style=\"color: #008000; text-decoration-color: #008000\">╭────────────────────────────────────────────────────</span> Success <span style=\"color: #008000; text-decoration-color: #008000\">────────────────────────────────────────────────────╮</span>\n",
       "<span style=\"color: #008000; text-decoration-color: #008000\">│ ✅ Query executed successfully.                                                                                 │</span>\n",
       "<span style=\"color: #008000; text-decoration-color: #008000\">╰─────────────────────────────────────────────────────────────────────────────────────────────────────────────────╯</span>\n",
       "</pre>\n"
      ],
      "text/plain": [
       "\u001b[32m╭─\u001b[0m\u001b[32m───────────────────────────────────────────────────\u001b[0m Success \u001b[32m───────────────────────────────────────────────────\u001b[0m\u001b[32m─╮\u001b[0m\n",
       "\u001b[32m│\u001b[0m\u001b[32m \u001b[0m\u001b[32m✅ \u001b[0m\u001b[32mQuery executed successfully.\u001b[0m\u001b[32m                                                                                \u001b[0m\u001b[32m \u001b[0m\u001b[32m│\u001b[0m\n",
       "\u001b[32m╰─────────────────────────────────────────────────────────────────────────────────────────────────────────────────╯\u001b[0m\n"
      ]
     },
     "metadata": {},
     "output_type": "display_data"
    },
    {
     "data": {
      "text/html": [
       "<pre style=\"white-space:pre;overflow-x:auto;line-height:normal;font-family:Menlo,'DejaVu Sans Mono',consolas,'Courier New',monospace\"><span style=\"color: #008080; text-decoration-color: #008080; font-weight: bold\">🔌 Connection closed.</span>\n",
       "\n",
       "</pre>\n"
      ],
      "text/plain": [
       "\u001b[1;36m🔌 Connection closed.\u001b[0m\n",
       "\n"
      ]
     },
     "metadata": {},
     "output_type": "display_data"
    }
   ],
   "source": [
    "query_achievements = \"\"\"\n",
    "CREATE TABLE IF NOT EXISTS achievements (\n",
    "    id INTEGER PRIMARY KEY AUTOINCREMENT,\n",
    "    player_id INTEGER NOT NULL,\n",
    "    \n",
    "    total_leagues_won INTEGER DEFAULT 0,\n",
    "    total_cups_won INTEGER DEFAULT 0,\n",
    "\n",
    "    updated_at TEXT DEFAULT CURRENT_TIMESTAMP,\n",
    "\n",
    "    FOREIGN KEY (player_id) REFERENCES players(id) ON DELETE CASCADE,\n",
    "    UNIQUE (player_id)\n",
    ");\n",
    "\"\"\"\n",
    "execute_query(query_achievements)\n"
   ]
  },
  {
   "cell_type": "code",
   "execution_count": 9,
   "id": "3a766b79",
   "metadata": {},
   "outputs": [
    {
     "data": {
      "text/html": [
       "<pre style=\"white-space:pre;overflow-x:auto;line-height:normal;font-family:Menlo,'DejaVu Sans Mono',consolas,'Courier New',monospace\"><span style=\"font-style: italic\">          Tables in Database           </span>\n",
       "╭─────────────────┬───────────────────╮\n",
       "│<span style=\"font-weight: bold\"> Table Name      </span>│<span style=\"font-weight: bold\"> Number of Records </span>│\n",
       "├─────────────────┼───────────────────┤\n",
       "│<span style=\"color: #008000; text-decoration-color: #008000; font-weight: bold\"> 📋 achievements </span>│<span style=\"color: #008080; text-decoration-color: #008080; font-weight: bold\">                 0 </span>│\n",
       "├─────────────────┼───────────────────┤\n",
       "│<span style=\"color: #008000; text-decoration-color: #008000; font-weight: bold\"> 📋 avatars      </span>│<span style=\"color: #008080; text-decoration-color: #008080; font-weight: bold\">                 0 </span>│\n",
       "├─────────────────┼───────────────────┤\n",
       "│<span style=\"color: #008000; text-decoration-color: #008000; font-weight: bold\"> 📋 leagues      </span>│<span style=\"color: #008080; text-decoration-color: #008080; font-weight: bold\">                11 </span>│\n",
       "├─────────────────┼───────────────────┤\n",
       "│<span style=\"color: #008000; text-decoration-color: #008000; font-weight: bold\"> 📋 legs         </span>│<span style=\"color: #008080; text-decoration-color: #008080; font-weight: bold\">                 0 </span>│\n",
       "├─────────────────┼───────────────────┤\n",
       "│<span style=\"color: #008000; text-decoration-color: #008000; font-weight: bold\"> 📋 matches      </span>│<span style=\"color: #008080; text-decoration-color: #008080; font-weight: bold\">                 0 </span>│\n",
       "├─────────────────┼───────────────────┤\n",
       "│<span style=\"color: #008000; text-decoration-color: #008000; font-weight: bold\"> 📋 players      </span>│<span style=\"color: #008080; text-decoration-color: #008080; font-weight: bold\">                 2 </span>│\n",
       "├─────────────────┼───────────────────┤\n",
       "│<span style=\"color: #008000; text-decoration-color: #008000; font-weight: bold\"> 📋 predictions  </span>│<span style=\"color: #008080; text-decoration-color: #008080; font-weight: bold\">                 0 </span>│\n",
       "├─────────────────┼───────────────────┤\n",
       "│<span style=\"color: #008000; text-decoration-color: #008000; font-weight: bold\"> 📋 rounds       </span>│<span style=\"color: #008080; text-decoration-color: #008080; font-weight: bold\">                 0 </span>│\n",
       "├─────────────────┼───────────────────┤\n",
       "│<span style=\"color: #008000; text-decoration-color: #008000; font-weight: bold\"> 📋 team_league  </span>│<span style=\"color: #008080; text-decoration-color: #008080; font-weight: bold\">                 0 </span>│\n",
       "├─────────────────┼───────────────────┤\n",
       "│<span style=\"color: #008000; text-decoration-color: #008000; font-weight: bold\"> 📋 teams        </span>│<span style=\"color: #008080; text-decoration-color: #008080; font-weight: bold\">                 0 </span>│\n",
       "╰─────────────────┴───────────────────╯\n",
       "</pre>\n"
      ],
      "text/plain": [
       "\u001b[3m          Tables in Database           \u001b[0m\n",
       "╭─────────────────┬───────────────────╮\n",
       "│\u001b[1m \u001b[0m\u001b[1mTable Name     \u001b[0m\u001b[1m \u001b[0m│\u001b[1m \u001b[0m\u001b[1mNumber of Records\u001b[0m\u001b[1m \u001b[0m│\n",
       "├─────────────────┼───────────────────┤\n",
       "│\u001b[1;32m \u001b[0m\u001b[1;32m📋 achievements\u001b[0m\u001b[1;32m \u001b[0m│\u001b[1;36m \u001b[0m\u001b[1;36m                0\u001b[0m\u001b[1;36m \u001b[0m│\n",
       "├─────────────────┼───────────────────┤\n",
       "│\u001b[1;32m \u001b[0m\u001b[1;32m📋 avatars     \u001b[0m\u001b[1;32m \u001b[0m│\u001b[1;36m \u001b[0m\u001b[1;36m                0\u001b[0m\u001b[1;36m \u001b[0m│\n",
       "├─────────────────┼───────────────────┤\n",
       "│\u001b[1;32m \u001b[0m\u001b[1;32m📋 leagues     \u001b[0m\u001b[1;32m \u001b[0m│\u001b[1;36m \u001b[0m\u001b[1;36m               11\u001b[0m\u001b[1;36m \u001b[0m│\n",
       "├─────────────────┼───────────────────┤\n",
       "│\u001b[1;32m \u001b[0m\u001b[1;32m📋 legs        \u001b[0m\u001b[1;32m \u001b[0m│\u001b[1;36m \u001b[0m\u001b[1;36m                0\u001b[0m\u001b[1;36m \u001b[0m│\n",
       "├─────────────────┼───────────────────┤\n",
       "│\u001b[1;32m \u001b[0m\u001b[1;32m📋 matches     \u001b[0m\u001b[1;32m \u001b[0m│\u001b[1;36m \u001b[0m\u001b[1;36m                0\u001b[0m\u001b[1;36m \u001b[0m│\n",
       "├─────────────────┼───────────────────┤\n",
       "│\u001b[1;32m \u001b[0m\u001b[1;32m📋 players     \u001b[0m\u001b[1;32m \u001b[0m│\u001b[1;36m \u001b[0m\u001b[1;36m                2\u001b[0m\u001b[1;36m \u001b[0m│\n",
       "├─────────────────┼───────────────────┤\n",
       "│\u001b[1;32m \u001b[0m\u001b[1;32m📋 predictions \u001b[0m\u001b[1;32m \u001b[0m│\u001b[1;36m \u001b[0m\u001b[1;36m                0\u001b[0m\u001b[1;36m \u001b[0m│\n",
       "├─────────────────┼───────────────────┤\n",
       "│\u001b[1;32m \u001b[0m\u001b[1;32m📋 rounds      \u001b[0m\u001b[1;32m \u001b[0m│\u001b[1;36m \u001b[0m\u001b[1;36m                0\u001b[0m\u001b[1;36m \u001b[0m│\n",
       "├─────────────────┼───────────────────┤\n",
       "│\u001b[1;32m \u001b[0m\u001b[1;32m📋 team_league \u001b[0m\u001b[1;32m \u001b[0m│\u001b[1;36m \u001b[0m\u001b[1;36m                0\u001b[0m\u001b[1;36m \u001b[0m│\n",
       "├─────────────────┼───────────────────┤\n",
       "│\u001b[1;32m \u001b[0m\u001b[1;32m📋 teams       \u001b[0m\u001b[1;32m \u001b[0m│\u001b[1;36m \u001b[0m\u001b[1;36m                0\u001b[0m\u001b[1;36m \u001b[0m│\n",
       "╰─────────────────┴───────────────────╯\n"
      ]
     },
     "metadata": {},
     "output_type": "display_data"
    },
    {
     "data": {
      "text/html": [
       "<pre style=\"white-space:pre;overflow-x:auto;line-height:normal;font-family:Menlo,'DejaVu Sans Mono',consolas,'Courier New',monospace\"><span style=\"color: #008080; text-decoration-color: #008080; font-weight: bold\">🔌 Connection closed.</span>\n",
       "\n",
       "</pre>\n"
      ],
      "text/plain": [
       "\u001b[1;36m🔌 Connection closed.\u001b[0m\n",
       "\n"
      ]
     },
     "metadata": {},
     "output_type": "display_data"
    }
   ],
   "source": [
    "list_tables()"
   ]
  },
  {
   "cell_type": "code",
   "execution_count": 47,
   "id": "a3ce467c",
   "metadata": {},
   "outputs": [
    {
     "data": {
      "text/html": [
       "<pre style=\"white-space:pre;overflow-x:auto;line-height:normal;font-family:Menlo,'DejaVu Sans Mono',consolas,'Courier New',monospace\"><span style=\"color: #000080; text-decoration-color: #000080\">╭──────────</span> Table Info <span style=\"color: #000080; text-decoration-color: #000080\">──────────╮</span>\n",
       "<span style=\"color: #000080; text-decoration-color: #000080\">│ 📋 </span><span style=\"color: #008000; text-decoration-color: #008000; font-weight: bold\">Table:</span><span style=\"color: #000080; text-decoration-color: #000080\"> team_league          │</span>\n",
       "<span style=\"color: #000080; text-decoration-color: #000080\">│ 🔢 </span><span style=\"color: #008080; text-decoration-color: #008080; font-weight: bold\">Columns:</span><span style=\"color: #000080; text-decoration-color: #000080\"> team_id, league_id │</span>\n",
       "<span style=\"color: #000080; text-decoration-color: #000080\">│ 📊 </span><span style=\"color: #800080; text-decoration-color: #800080; font-weight: bold\">Total Rows:</span><span style=\"color: #000080; text-decoration-color: #000080\"> 14              │</span>\n",
       "<span style=\"color: #000080; text-decoration-color: #000080\">╰────────────────────────────────╯</span>\n",
       "</pre>\n"
      ],
      "text/plain": [
       "\u001b[34m╭─\u001b[0m\u001b[34m─────────\u001b[0m Table Info \u001b[34m─────────\u001b[0m\u001b[34m─╮\u001b[0m\n",
       "\u001b[34m│\u001b[0m\u001b[34m \u001b[0m\u001b[34m📋 \u001b[0m\u001b[1;32mTable:\u001b[0m\u001b[34m team_league\u001b[0m\u001b[34m         \u001b[0m\u001b[34m \u001b[0m\u001b[34m│\u001b[0m\n",
       "\u001b[34m│\u001b[0m\u001b[34m \u001b[0m\u001b[34m🔢 \u001b[0m\u001b[1;36mColumns:\u001b[0m\u001b[34m team_id, league_id\u001b[0m\u001b[34m \u001b[0m\u001b[34m│\u001b[0m\n",
       "\u001b[34m│\u001b[0m\u001b[34m \u001b[0m\u001b[34m📊 \u001b[0m\u001b[1;35mTotal Rows:\u001b[0m\u001b[34m 14\u001b[0m\u001b[34m             \u001b[0m\u001b[34m \u001b[0m\u001b[34m│\u001b[0m\n",
       "\u001b[34m╰────────────────────────────────╯\u001b[0m\n"
      ]
     },
     "metadata": {},
     "output_type": "display_data"
    },
    {
     "data": {
      "text/html": [
       "<pre style=\"white-space:pre;overflow-x:auto;line-height:normal;font-family:Menlo,'DejaVu Sans Mono',consolas,'Courier New',monospace\"><span style=\"font-style: italic\">   Sample Data from    </span>\n",
       "<span style=\"font-style: italic\">      team_league      </span>\n",
       "╭─────────┬───────────╮\n",
       "│<span style=\"font-weight: bold\"> team_id </span>│<span style=\"font-weight: bold\"> league_id </span>│\n",
       "├─────────┼───────────┤\n",
       "│<span style=\"color: #800080; text-decoration-color: #800080; font-weight: bold\"> 7       </span>│<span style=\"color: #800080; text-decoration-color: #800080; font-weight: bold\"> 3         </span>│\n",
       "├─────────┼───────────┤\n",
       "│<span style=\"color: #800080; text-decoration-color: #800080; font-weight: bold\"> 7       </span>│<span style=\"color: #800080; text-decoration-color: #800080; font-weight: bold\"> 5         </span>│\n",
       "├─────────┼───────────┤\n",
       "│<span style=\"color: #800080; text-decoration-color: #800080; font-weight: bold\"> 7       </span>│<span style=\"color: #800080; text-decoration-color: #800080; font-weight: bold\"> 6         </span>│\n",
       "├─────────┼───────────┤\n",
       "│<span style=\"color: #800080; text-decoration-color: #800080; font-weight: bold\"> 7       </span>│<span style=\"color: #800080; text-decoration-color: #800080; font-weight: bold\"> 9         </span>│\n",
       "├─────────┼───────────┤\n",
       "│<span style=\"color: #800080; text-decoration-color: #800080; font-weight: bold\"> 8       </span>│<span style=\"color: #800080; text-decoration-color: #800080; font-weight: bold\"> 3         </span>│\n",
       "├─────────┼───────────┤\n",
       "│<span style=\"color: #800080; text-decoration-color: #800080; font-weight: bold\"> 8       </span>│<span style=\"color: #800080; text-decoration-color: #800080; font-weight: bold\"> 5         </span>│\n",
       "├─────────┼───────────┤\n",
       "│<span style=\"color: #800080; text-decoration-color: #800080; font-weight: bold\"> 8       </span>│<span style=\"color: #800080; text-decoration-color: #800080; font-weight: bold\"> 7         </span>│\n",
       "├─────────┼───────────┤\n",
       "│<span style=\"color: #800080; text-decoration-color: #800080; font-weight: bold\"> 8       </span>│<span style=\"color: #800080; text-decoration-color: #800080; font-weight: bold\"> 9         </span>│\n",
       "├─────────┼───────────┤\n",
       "│<span style=\"color: #800080; text-decoration-color: #800080; font-weight: bold\"> 8       </span>│<span style=\"color: #800080; text-decoration-color: #800080; font-weight: bold\"> 6         </span>│\n",
       "├─────────┼───────────┤\n",
       "│<span style=\"color: #800080; text-decoration-color: #800080; font-weight: bold\"> 9       </span>│<span style=\"color: #800080; text-decoration-color: #800080; font-weight: bold\"> 3         </span>│\n",
       "╰─────────┴───────────╯\n",
       "</pre>\n"
      ],
      "text/plain": [
       "\u001b[3m   Sample Data from    \u001b[0m\n",
       "\u001b[3m      team_league      \u001b[0m\n",
       "╭─────────┬───────────╮\n",
       "│\u001b[1m \u001b[0m\u001b[1mteam_id\u001b[0m\u001b[1m \u001b[0m│\u001b[1m \u001b[0m\u001b[1mleague_id\u001b[0m\u001b[1m \u001b[0m│\n",
       "├─────────┼───────────┤\n",
       "│\u001b[1;35m \u001b[0m\u001b[1;35m7      \u001b[0m\u001b[1;35m \u001b[0m│\u001b[1;35m \u001b[0m\u001b[1;35m3        \u001b[0m\u001b[1;35m \u001b[0m│\n",
       "├─────────┼───────────┤\n",
       "│\u001b[1;35m \u001b[0m\u001b[1;35m7      \u001b[0m\u001b[1;35m \u001b[0m│\u001b[1;35m \u001b[0m\u001b[1;35m5        \u001b[0m\u001b[1;35m \u001b[0m│\n",
       "├─────────┼───────────┤\n",
       "│\u001b[1;35m \u001b[0m\u001b[1;35m7      \u001b[0m\u001b[1;35m \u001b[0m│\u001b[1;35m \u001b[0m\u001b[1;35m6        \u001b[0m\u001b[1;35m \u001b[0m│\n",
       "├─────────┼───────────┤\n",
       "│\u001b[1;35m \u001b[0m\u001b[1;35m7      \u001b[0m\u001b[1;35m \u001b[0m│\u001b[1;35m \u001b[0m\u001b[1;35m9        \u001b[0m\u001b[1;35m \u001b[0m│\n",
       "├─────────┼───────────┤\n",
       "│\u001b[1;35m \u001b[0m\u001b[1;35m8      \u001b[0m\u001b[1;35m \u001b[0m│\u001b[1;35m \u001b[0m\u001b[1;35m3        \u001b[0m\u001b[1;35m \u001b[0m│\n",
       "├─────────┼───────────┤\n",
       "│\u001b[1;35m \u001b[0m\u001b[1;35m8      \u001b[0m\u001b[1;35m \u001b[0m│\u001b[1;35m \u001b[0m\u001b[1;35m5        \u001b[0m\u001b[1;35m \u001b[0m│\n",
       "├─────────┼───────────┤\n",
       "│\u001b[1;35m \u001b[0m\u001b[1;35m8      \u001b[0m\u001b[1;35m \u001b[0m│\u001b[1;35m \u001b[0m\u001b[1;35m7        \u001b[0m\u001b[1;35m \u001b[0m│\n",
       "├─────────┼───────────┤\n",
       "│\u001b[1;35m \u001b[0m\u001b[1;35m8      \u001b[0m\u001b[1;35m \u001b[0m│\u001b[1;35m \u001b[0m\u001b[1;35m9        \u001b[0m\u001b[1;35m \u001b[0m│\n",
       "├─────────┼───────────┤\n",
       "│\u001b[1;35m \u001b[0m\u001b[1;35m8      \u001b[0m\u001b[1;35m \u001b[0m│\u001b[1;35m \u001b[0m\u001b[1;35m6        \u001b[0m\u001b[1;35m \u001b[0m│\n",
       "├─────────┼───────────┤\n",
       "│\u001b[1;35m \u001b[0m\u001b[1;35m9      \u001b[0m\u001b[1;35m \u001b[0m│\u001b[1;35m \u001b[0m\u001b[1;35m3        \u001b[0m\u001b[1;35m \u001b[0m│\n",
       "╰─────────┴───────────╯\n"
      ]
     },
     "metadata": {},
     "output_type": "display_data"
    },
    {
     "data": {
      "text/html": [
       "<pre style=\"white-space:pre;overflow-x:auto;line-height:normal;font-family:Menlo,'DejaVu Sans Mono',consolas,'Courier New',monospace\"><span style=\"color: #008080; text-decoration-color: #008080; font-weight: bold\">🔌 Connection closed.</span>\n",
       "\n",
       "</pre>\n"
      ],
      "text/plain": [
       "\u001b[1;36m🔌 Connection closed.\u001b[0m\n",
       "\n"
      ]
     },
     "metadata": {},
     "output_type": "display_data"
    }
   ],
   "source": [
    "table_info(\"team_league\")"
   ]
  },
  {
   "cell_type": "code",
   "execution_count": 87,
   "id": "29327ccf",
   "metadata": {},
   "outputs": [
    {
     "data": {
      "text/html": [
       "<pre style=\"white-space:pre;overflow-x:auto;line-height:normal;font-family:Menlo,'DejaVu Sans Mono',consolas,'Courier New',monospace\"><span style=\"color: #000080; text-decoration-color: #000080\">╭──────────────────────────────────────────────────</span> Table Info <span style=\"color: #000080; text-decoration-color: #000080\">───────────────────────────────────────────────────╮</span>\n",
       "<span style=\"color: #000080; text-decoration-color: #000080\">│ 📋 </span><span style=\"color: #008000; text-decoration-color: #008000; font-weight: bold\">Table:</span><span style=\"color: #000080; text-decoration-color: #000080\"> matches                                                                                               │</span>\n",
       "<span style=\"color: #000080; text-decoration-color: #000080\">│ 🔢 </span><span style=\"color: #008080; text-decoration-color: #008080; font-weight: bold\">Columns:</span><span style=\"color: #000080; text-decoration-color: #000080\"> id, round_id, league_id, home_team_id, away_team_id, match_datetime, status, home_score, away_score │</span>\n",
       "<span style=\"color: #000080; text-decoration-color: #000080\">│ 📊 </span><span style=\"color: #800080; text-decoration-color: #800080; font-weight: bold\">Total Rows:</span><span style=\"color: #000080; text-decoration-color: #000080\"> 0                                                                                                │</span>\n",
       "<span style=\"color: #000080; text-decoration-color: #000080\">╰─────────────────────────────────────────────────────────────────────────────────────────────────────────────────╯</span>\n",
       "</pre>\n"
      ],
      "text/plain": [
       "\u001b[34m╭─\u001b[0m\u001b[34m─────────────────────────────────────────────────\u001b[0m Table Info \u001b[34m──────────────────────────────────────────────────\u001b[0m\u001b[34m─╮\u001b[0m\n",
       "\u001b[34m│\u001b[0m\u001b[34m \u001b[0m\u001b[34m📋 \u001b[0m\u001b[1;32mTable:\u001b[0m\u001b[34m matches\u001b[0m\u001b[34m                                                                                              \u001b[0m\u001b[34m \u001b[0m\u001b[34m│\u001b[0m\n",
       "\u001b[34m│\u001b[0m\u001b[34m \u001b[0m\u001b[34m🔢 \u001b[0m\u001b[1;36mColumns:\u001b[0m\u001b[34m id, round_id, league_id, home_team_id, away_team_id, match_datetime, status, home_score, away_score\u001b[0m\u001b[34m \u001b[0m\u001b[34m│\u001b[0m\n",
       "\u001b[34m│\u001b[0m\u001b[34m \u001b[0m\u001b[34m📊 \u001b[0m\u001b[1;35mTotal Rows:\u001b[0m\u001b[34m 0\u001b[0m\u001b[34m                                                                                               \u001b[0m\u001b[34m \u001b[0m\u001b[34m│\u001b[0m\n",
       "\u001b[34m╰─────────────────────────────────────────────────────────────────────────────────────────────────────────────────╯\u001b[0m\n"
      ]
     },
     "metadata": {},
     "output_type": "display_data"
    },
    {
     "data": {
      "text/html": [
       "<pre style=\"white-space:pre;overflow-x:auto;line-height:normal;font-family:Menlo,'DejaVu Sans Mono',consolas,'Courier New',monospace\"><span style=\"color: #808000; text-decoration-color: #808000\">╭──────────────────────────────────────────────────</span> Empty Table <span style=\"color: #808000; text-decoration-color: #808000\">──────────────────────────────────────────────────╮</span>\n",
       "<span style=\"color: #808000; text-decoration-color: #808000\">│ ⚠️ No data found in the table.                                                                                   │</span>\n",
       "<span style=\"color: #808000; text-decoration-color: #808000\">╰─────────────────────────────────────────────────────────────────────────────────────────────────────────────────╯</span>\n",
       "</pre>\n"
      ],
      "text/plain": [
       "\u001b[33m╭─\u001b[0m\u001b[33m─────────────────────────────────────────────────\u001b[0m Empty Table \u001b[33m─────────────────────────────────────────────────\u001b[0m\u001b[33m─╮\u001b[0m\n",
       "\u001b[33m│\u001b[0m\u001b[33m \u001b[0m\u001b[33m⚠️ No data found in the table.\u001b[0m\u001b[33m                                                                                  \u001b[0m\u001b[33m \u001b[0m\u001b[33m│\u001b[0m\n",
       "\u001b[33m╰─────────────────────────────────────────────────────────────────────────────────────────────────────────────────╯\u001b[0m\n"
      ]
     },
     "metadata": {},
     "output_type": "display_data"
    },
    {
     "data": {
      "text/html": [
       "<pre style=\"white-space:pre;overflow-x:auto;line-height:normal;font-family:Menlo,'DejaVu Sans Mono',consolas,'Courier New',monospace\"><span style=\"color: #008080; text-decoration-color: #008080; font-weight: bold\">🔌 Connection closed.</span>\n",
       "\n",
       "</pre>\n"
      ],
      "text/plain": [
       "\u001b[1;36m🔌 Connection closed.\u001b[0m\n",
       "\n"
      ]
     },
     "metadata": {},
     "output_type": "display_data"
    }
   ],
   "source": [
    "table_info(\"matches\")"
   ]
  },
  {
   "cell_type": "code",
   "execution_count": 90,
   "id": "aaddaf40",
   "metadata": {},
   "outputs": [],
   "source": [
    "import sqlite3\n",
    "\n",
    "conn = sqlite3.connect(\"game_database.db\")\n",
    "cur = conn.cursor()\n",
    "\n",
    "try:\n",
    "    cur.execute(\"ALTER TABLE players ADD COLUMN avatar_url TEXT\")\n",
    "except sqlite3.OperationalError as e:\n",
    "    print(\"Column probably already exists:\", e)\n",
    "\n",
    "conn.commit()\n",
    "conn.close()\n"
   ]
  },
  {
   "cell_type": "code",
   "execution_count": 41,
   "id": "757fb2a6",
   "metadata": {},
   "outputs": [],
   "source": [
    "def show_and_clear_teams():\n",
    "    conn = get_connection()\n",
    "    cursor = conn.cursor()\n",
    "\n",
    "    # Fetch all records from teams\n",
    "    cursor.execute(\"SELECT * FROM teams;\")\n",
    "    records = cursor.fetchall()\n",
    "    print(\"Records before deletion:\")\n",
    "    if records:\n",
    "        for row in records:\n",
    "            print(row)\n",
    "    else:\n",
    "        print(\"No records found.\")\n",
    "\n",
    "    # Delete all records from teams\n",
    "    cursor.execute(\"DELETE FROM teams;\")\n",
    "    conn.commit()\n",
    "\n",
    "    # Fetch again to confirm deletion\n",
    "    cursor.execute(\"SELECT * FROM teams;\")\n",
    "    records_after = cursor.fetchall()\n",
    "    print(\"\\nRecords after deletion:\")\n",
    "    if records_after:\n",
    "        for row in records_after:\n",
    "            print(row)\n",
    "    else:\n",
    "        print(\"No records found.\")\n",
    "\n",
    "    cursor.close()\n",
    "    conn.close()\n"
   ]
  },
  {
   "cell_type": "code",
   "execution_count": 46,
   "id": "a7e524c0",
   "metadata": {},
   "outputs": [
    {
     "name": "stdout",
     "output_type": "stream",
     "text": [
      "Records before deletion:\n",
      "(6, 'Barcelona', 'assets/leagues\\\\Barcelona.png', 3, '2025-06-06 15:59:32')\n",
      "\n",
      "Records after deletion:\n",
      "No records found.\n"
     ]
    }
   ],
   "source": [
    "show_and_clear_teams()"
   ]
  },
  {
   "cell_type": "code",
   "execution_count": 45,
   "id": "007b6570",
   "metadata": {},
   "outputs": [
    {
     "name": "stdout",
     "output_type": "stream",
     "text": [
      "📋 Current records in 'team_league':\n",
      "(3, 11)\n",
      "(5, 3)\n",
      "(5, 5)\n",
      "(5, 6)\n",
      "(5, 7)\n",
      "(5, 9)\n",
      "(6, 3)\n",
      "(6, 5)\n",
      "(6, 6)\n",
      "(6, 9)\n",
      "\n",
      "🗑️ Deleted all records from 'team_league'.\n",
      "\n",
      "📋 Records in 'team_league' after deletion:\n",
      "No records found.\n"
     ]
    }
   ],
   "source": [
    "def show_and_clear_team_league():\n",
    "    conn = get_connection()\n",
    "    cursor = conn.cursor()\n",
    "    \n",
    "    print(\"📋 Current records in 'team_league':\")\n",
    "    cursor.execute(\"SELECT * FROM team_league;\")\n",
    "    rows = cursor.fetchall()\n",
    "    if rows:\n",
    "        for row in rows:\n",
    "            print(row)\n",
    "    else:\n",
    "        print(\"No records found.\")\n",
    "    \n",
    "    # Delete all records\n",
    "    cursor.execute(\"DELETE FROM team_league;\")\n",
    "    conn.commit()\n",
    "    print(\"\\n🗑️ Deleted all records from 'team_league'.\")\n",
    "    \n",
    "    # Display again to confirm\n",
    "    cursor.execute(\"SELECT * FROM team_league;\")\n",
    "    rows_after_delete = cursor.fetchall()\n",
    "    print(\"\\n📋 Records in 'team_league' after deletion:\")\n",
    "    if rows_after_delete:\n",
    "        for row in rows_after_delete:\n",
    "            print(row)\n",
    "    else:\n",
    "        print(\"No records found.\")\n",
    "    \n",
    "    cursor.close()\n",
    "    conn.close()\n",
    "\n",
    "# Usage:\n",
    "show_and_clear_team_league()"
   ]
  },
  {
   "cell_type": "code",
   "execution_count": 56,
   "id": "9f2b25a5",
   "metadata": {},
   "outputs": [],
   "source": [
    "def show_and_clear_tables():\n",
    "    conn = get_connection()\n",
    "    cursor = conn.cursor()\n",
    "\n",
    "    # Fetch all table names\n",
    "    cursor.execute(\"SELECT name FROM sqlite_master WHERE type='table';\")\n",
    "    tables = [row[0] for row in cursor.fetchall()]\n",
    "\n",
    "    if not tables:\n",
    "        print(\"No tables found in the database.\")\n",
    "        cursor.close()\n",
    "        conn.close()\n",
    "        return\n",
    "\n",
    "    print(\"Tables in the database:\")\n",
    "    for i, table in enumerate(tables, 1):\n",
    "        print(f\"{i}. {table}\")\n",
    "\n",
    "    # Ask user to select a table\n",
    "    while True:\n",
    "        try:\n",
    "            choice = int(input(\"\\nEnter the number of the table you want to inspect: \"))\n",
    "            if 1 <= choice <= len(tables):\n",
    "                selected_table = tables[choice - 1]\n",
    "                break\n",
    "            else:\n",
    "                print(f\"Please enter a number between 1 and {len(tables)}.\")\n",
    "        except ValueError:\n",
    "            print(\"Invalid input. Please enter a valid number.\")\n",
    "\n",
    "    # Show number of records in the selected table\n",
    "    cursor.execute(f\"SELECT COUNT(*) FROM {selected_table};\")\n",
    "    record_count = cursor.fetchone()[0]\n",
    "    print(f\"\\nTable '{selected_table}' has {record_count} record(s).\")\n",
    "\n",
    "    # Ask if user wants to delete all records\n",
    "    delete_confirm = input(\"Do you want to delete all records in this table? (yes/no): \").strip().lower()\n",
    "    if delete_confirm == \"yes\":\n",
    "        cursor.execute(f\"DELETE FROM {selected_table};\")\n",
    "        conn.commit()\n",
    "        print(f\"All records in '{selected_table}' have been deleted.\")\n",
    "\n",
    "        # Confirm deletion\n",
    "        cursor.execute(f\"SELECT COUNT(*) FROM {selected_table};\")\n",
    "        new_count = cursor.fetchone()[0]\n",
    "        print(f\"Records remaining in '{selected_table}': {new_count}\")\n",
    "    else:\n",
    "        print(\"No records were deleted.\")\n",
    "\n",
    "    cursor.close()\n",
    "    conn.close()\n"
   ]
  },
  {
   "cell_type": "code",
   "execution_count": 105,
   "id": "9569aae6",
   "metadata": {},
   "outputs": [
    {
     "name": "stdout",
     "output_type": "stream",
     "text": [
      "Tables in the database:\n",
      "1. sqlite_sequence\n",
      "2. rounds\n",
      "3. teams\n",
      "4. legs\n",
      "5. avatars\n",
      "6. predictions\n",
      "7. achievements\n",
      "8. team_league\n",
      "9. players\n",
      "10. leagues\n",
      "11. matches\n",
      "\n",
      "Table 'rounds' has 2 record(s).\n",
      "All records in 'rounds' have been deleted.\n",
      "Records remaining in 'rounds': 0\n"
     ]
    }
   ],
   "source": [
    "show_and_clear_tables()"
   ]
  },
  {
   "cell_type": "code",
   "execution_count": 9,
   "id": "7801039c",
   "metadata": {},
   "outputs": [
    {
     "data": {
      "text/html": [
       "<pre style=\"white-space:pre;overflow-x:auto;line-height:normal;font-family:Menlo,'DejaVu Sans Mono',consolas,'Courier New',monospace\"><span style=\"color: #000080; text-decoration-color: #000080\">╭──────────────────────────────────────────────────</span> Table Info <span style=\"color: #000080; text-decoration-color: #000080\">───────────────────────────────────────────────────╮</span>\n",
       "<span style=\"color: #000080; text-decoration-color: #000080\">│ 📋 </span><span style=\"color: #008000; text-decoration-color: #008000; font-weight: bold\">Table:</span><span style=\"color: #000080; text-decoration-color: #000080\"> matches                                                                                               │</span>\n",
       "<span style=\"color: #000080; text-decoration-color: #000080\">│ 🔢 </span><span style=\"color: #008080; text-decoration-color: #008080; font-weight: bold\">Columns:</span><span style=\"color: #000080; text-decoration-color: #000080\"> id, round_id, league_id, home_team_id, away_team_id, match_datetime, status, home_score, away_score │</span>\n",
       "<span style=\"color: #000080; text-decoration-color: #000080\">│ 📊 </span><span style=\"color: #800080; text-decoration-color: #800080; font-weight: bold\">Total Rows:</span><span style=\"color: #000080; text-decoration-color: #000080\"> 4                                                                                                │</span>\n",
       "<span style=\"color: #000080; text-decoration-color: #000080\">╰─────────────────────────────────────────────────────────────────────────────────────────────────────────────────╯</span>\n",
       "</pre>\n"
      ],
      "text/plain": [
       "\u001b[34m╭─\u001b[0m\u001b[34m─────────────────────────────────────────────────\u001b[0m Table Info \u001b[34m──────────────────────────────────────────────────\u001b[0m\u001b[34m─╮\u001b[0m\n",
       "\u001b[34m│\u001b[0m\u001b[34m \u001b[0m\u001b[34m📋 \u001b[0m\u001b[1;32mTable:\u001b[0m\u001b[34m matches\u001b[0m\u001b[34m                                                                                              \u001b[0m\u001b[34m \u001b[0m\u001b[34m│\u001b[0m\n",
       "\u001b[34m│\u001b[0m\u001b[34m \u001b[0m\u001b[34m🔢 \u001b[0m\u001b[1;36mColumns:\u001b[0m\u001b[34m id, round_id, league_id, home_team_id, away_team_id, match_datetime, status, home_score, away_score\u001b[0m\u001b[34m \u001b[0m\u001b[34m│\u001b[0m\n",
       "\u001b[34m│\u001b[0m\u001b[34m \u001b[0m\u001b[34m📊 \u001b[0m\u001b[1;35mTotal Rows:\u001b[0m\u001b[34m 4\u001b[0m\u001b[34m                                                                                               \u001b[0m\u001b[34m \u001b[0m\u001b[34m│\u001b[0m\n",
       "\u001b[34m╰─────────────────────────────────────────────────────────────────────────────────────────────────────────────────╯\u001b[0m\n"
      ]
     },
     "metadata": {},
     "output_type": "display_data"
    },
    {
     "data": {
      "text/html": [
       "<pre style=\"white-space:pre;overflow-x:auto;line-height:normal;font-family:Menlo,'DejaVu Sans Mono',consolas,'Courier New',monospace\"><span style=\"font-style: italic\">                                             Sample Data from matches                                              </span>\n",
       "╭────┬──────────┬───────────┬──────────────┬──────────────┬──────────────────┬──────────┬────────────┬────────────╮\n",
       "│<span style=\"font-weight: bold\"> id </span>│<span style=\"font-weight: bold\"> round_id </span>│<span style=\"font-weight: bold\"> league_id </span>│<span style=\"font-weight: bold\"> home_team_id </span>│<span style=\"font-weight: bold\"> away_team_id </span>│<span style=\"font-weight: bold\"> match_datetime   </span>│<span style=\"font-weight: bold\"> status   </span>│<span style=\"font-weight: bold\"> home_score </span>│<span style=\"font-weight: bold\"> away_score </span>│\n",
       "├────┼──────────┼───────────┼──────────────┼──────────────┼──────────────────┼──────────┼────────────┼────────────┤\n",
       "│<span style=\"color: #800080; text-decoration-color: #800080; font-weight: bold\"> 3  </span>│<span style=\"color: #800080; text-decoration-color: #800080; font-weight: bold\"> 7        </span>│<span style=\"color: #800080; text-decoration-color: #800080; font-weight: bold\"> 13        </span>│<span style=\"color: #800080; text-decoration-color: #800080; font-weight: bold\"> 29           </span>│<span style=\"color: #800080; text-decoration-color: #800080; font-weight: bold\"> 28           </span>│<span style=\"color: #800080; text-decoration-color: #800080; font-weight: bold\"> 2025-06-04       </span>│<span style=\"color: #800080; text-decoration-color: #800080; font-weight: bold\"> upcoming </span>│<span style=\"color: #800080; text-decoration-color: #800080; font-weight: bold\"> None       </span>│<span style=\"color: #800080; text-decoration-color: #800080; font-weight: bold\"> None       </span>│\n",
       "│<span style=\"color: #800080; text-decoration-color: #800080; font-weight: bold\">    </span>│<span style=\"color: #800080; text-decoration-color: #800080; font-weight: bold\">          </span>│<span style=\"color: #800080; text-decoration-color: #800080; font-weight: bold\">           </span>│<span style=\"color: #800080; text-decoration-color: #800080; font-weight: bold\">              </span>│<span style=\"color: #800080; text-decoration-color: #800080; font-weight: bold\">              </span>│<span style=\"color: #800080; text-decoration-color: #800080; font-weight: bold\"> 22:15:00         </span>│<span style=\"color: #800080; text-decoration-color: #800080; font-weight: bold\">          </span>│<span style=\"color: #800080; text-decoration-color: #800080; font-weight: bold\">            </span>│<span style=\"color: #800080; text-decoration-color: #800080; font-weight: bold\">            </span>│\n",
       "├────┼──────────┼───────────┼──────────────┼──────────────┼──────────────────┼──────────┼────────────┼────────────┤\n",
       "│<span style=\"color: #800080; text-decoration-color: #800080; font-weight: bold\"> 4  </span>│<span style=\"color: #800080; text-decoration-color: #800080; font-weight: bold\"> 7        </span>│<span style=\"color: #800080; text-decoration-color: #800080; font-weight: bold\"> 13        </span>│<span style=\"color: #800080; text-decoration-color: #800080; font-weight: bold\"> 31           </span>│<span style=\"color: #800080; text-decoration-color: #800080; font-weight: bold\"> 29           </span>│<span style=\"color: #800080; text-decoration-color: #800080; font-weight: bold\"> 2025-06-05       </span>│<span style=\"color: #800080; text-decoration-color: #800080; font-weight: bold\"> upcoming </span>│<span style=\"color: #800080; text-decoration-color: #800080; font-weight: bold\"> None       </span>│<span style=\"color: #800080; text-decoration-color: #800080; font-weight: bold\"> None       </span>│\n",
       "│<span style=\"color: #800080; text-decoration-color: #800080; font-weight: bold\">    </span>│<span style=\"color: #800080; text-decoration-color: #800080; font-weight: bold\">          </span>│<span style=\"color: #800080; text-decoration-color: #800080; font-weight: bold\">           </span>│<span style=\"color: #800080; text-decoration-color: #800080; font-weight: bold\">              </span>│<span style=\"color: #800080; text-decoration-color: #800080; font-weight: bold\">              </span>│<span style=\"color: #800080; text-decoration-color: #800080; font-weight: bold\"> 22:00:00         </span>│<span style=\"color: #800080; text-decoration-color: #800080; font-weight: bold\">          </span>│<span style=\"color: #800080; text-decoration-color: #800080; font-weight: bold\">            </span>│<span style=\"color: #800080; text-decoration-color: #800080; font-weight: bold\">            </span>│\n",
       "├────┼──────────┼───────────┼──────────────┼──────────────┼──────────────────┼──────────┼────────────┼────────────┤\n",
       "│<span style=\"color: #800080; text-decoration-color: #800080; font-weight: bold\"> 5  </span>│<span style=\"color: #800080; text-decoration-color: #800080; font-weight: bold\"> 8        </span>│<span style=\"color: #800080; text-decoration-color: #800080; font-weight: bold\"> 13        </span>│<span style=\"color: #800080; text-decoration-color: #800080; font-weight: bold\"> 29           </span>│<span style=\"color: #800080; text-decoration-color: #800080; font-weight: bold\"> 30           </span>│<span style=\"color: #800080; text-decoration-color: #800080; font-weight: bold\"> 2025-06-08       </span>│<span style=\"color: #800080; text-decoration-color: #800080; font-weight: bold\"> upcoming </span>│<span style=\"color: #800080; text-decoration-color: #800080; font-weight: bold\"> None       </span>│<span style=\"color: #800080; text-decoration-color: #800080; font-weight: bold\"> None       </span>│\n",
       "│<span style=\"color: #800080; text-decoration-color: #800080; font-weight: bold\">    </span>│<span style=\"color: #800080; text-decoration-color: #800080; font-weight: bold\">          </span>│<span style=\"color: #800080; text-decoration-color: #800080; font-weight: bold\">           </span>│<span style=\"color: #800080; text-decoration-color: #800080; font-weight: bold\">              </span>│<span style=\"color: #800080; text-decoration-color: #800080; font-weight: bold\">              </span>│<span style=\"color: #800080; text-decoration-color: #800080; font-weight: bold\"> 16:00:00         </span>│<span style=\"color: #800080; text-decoration-color: #800080; font-weight: bold\">          </span>│<span style=\"color: #800080; text-decoration-color: #800080; font-weight: bold\">            </span>│<span style=\"color: #800080; text-decoration-color: #800080; font-weight: bold\">            </span>│\n",
       "├────┼──────────┼───────────┼──────────────┼──────────────┼──────────────────┼──────────┼────────────┼────────────┤\n",
       "│<span style=\"color: #800080; text-decoration-color: #800080; font-weight: bold\"> 6  </span>│<span style=\"color: #800080; text-decoration-color: #800080; font-weight: bold\"> 8        </span>│<span style=\"color: #800080; text-decoration-color: #800080; font-weight: bold\"> 13        </span>│<span style=\"color: #800080; text-decoration-color: #800080; font-weight: bold\"> 28           </span>│<span style=\"color: #800080; text-decoration-color: #800080; font-weight: bold\"> 31           </span>│<span style=\"color: #800080; text-decoration-color: #800080; font-weight: bold\"> 2025-06-08       </span>│<span style=\"color: #800080; text-decoration-color: #800080; font-weight: bold\"> upcoming </span>│<span style=\"color: #800080; text-decoration-color: #800080; font-weight: bold\"> None       </span>│<span style=\"color: #800080; text-decoration-color: #800080; font-weight: bold\"> None       </span>│\n",
       "│<span style=\"color: #800080; text-decoration-color: #800080; font-weight: bold\">    </span>│<span style=\"color: #800080; text-decoration-color: #800080; font-weight: bold\">          </span>│<span style=\"color: #800080; text-decoration-color: #800080; font-weight: bold\">           </span>│<span style=\"color: #800080; text-decoration-color: #800080; font-weight: bold\">              </span>│<span style=\"color: #800080; text-decoration-color: #800080; font-weight: bold\">              </span>│<span style=\"color: #800080; text-decoration-color: #800080; font-weight: bold\"> 22:00:00         </span>│<span style=\"color: #800080; text-decoration-color: #800080; font-weight: bold\">          </span>│<span style=\"color: #800080; text-decoration-color: #800080; font-weight: bold\">            </span>│<span style=\"color: #800080; text-decoration-color: #800080; font-weight: bold\">            </span>│\n",
       "╰────┴──────────┴───────────┴──────────────┴──────────────┴──────────────────┴──────────┴────────────┴────────────╯\n",
       "</pre>\n"
      ],
      "text/plain": [
       "\u001b[3m                                             Sample Data from matches                                              \u001b[0m\n",
       "╭────┬──────────┬───────────┬──────────────┬──────────────┬──────────────────┬──────────┬────────────┬────────────╮\n",
       "│\u001b[1m \u001b[0m\u001b[1mid\u001b[0m\u001b[1m \u001b[0m│\u001b[1m \u001b[0m\u001b[1mround_id\u001b[0m\u001b[1m \u001b[0m│\u001b[1m \u001b[0m\u001b[1mleague_id\u001b[0m\u001b[1m \u001b[0m│\u001b[1m \u001b[0m\u001b[1mhome_team_id\u001b[0m\u001b[1m \u001b[0m│\u001b[1m \u001b[0m\u001b[1maway_team_id\u001b[0m\u001b[1m \u001b[0m│\u001b[1m \u001b[0m\u001b[1mmatch_datetime  \u001b[0m\u001b[1m \u001b[0m│\u001b[1m \u001b[0m\u001b[1mstatus  \u001b[0m\u001b[1m \u001b[0m│\u001b[1m \u001b[0m\u001b[1mhome_score\u001b[0m\u001b[1m \u001b[0m│\u001b[1m \u001b[0m\u001b[1maway_score\u001b[0m\u001b[1m \u001b[0m│\n",
       "├────┼──────────┼───────────┼──────────────┼──────────────┼──────────────────┼──────────┼────────────┼────────────┤\n",
       "│\u001b[1;35m \u001b[0m\u001b[1;35m3 \u001b[0m\u001b[1;35m \u001b[0m│\u001b[1;35m \u001b[0m\u001b[1;35m7       \u001b[0m\u001b[1;35m \u001b[0m│\u001b[1;35m \u001b[0m\u001b[1;35m13       \u001b[0m\u001b[1;35m \u001b[0m│\u001b[1;35m \u001b[0m\u001b[1;35m29          \u001b[0m\u001b[1;35m \u001b[0m│\u001b[1;35m \u001b[0m\u001b[1;35m28          \u001b[0m\u001b[1;35m \u001b[0m│\u001b[1;35m \u001b[0m\u001b[1;35m2025-06-04      \u001b[0m\u001b[1;35m \u001b[0m│\u001b[1;35m \u001b[0m\u001b[1;35mupcoming\u001b[0m\u001b[1;35m \u001b[0m│\u001b[1;35m \u001b[0m\u001b[1;35mNone      \u001b[0m\u001b[1;35m \u001b[0m│\u001b[1;35m \u001b[0m\u001b[1;35mNone      \u001b[0m\u001b[1;35m \u001b[0m│\n",
       "│\u001b[1;35m    \u001b[0m│\u001b[1;35m          \u001b[0m│\u001b[1;35m           \u001b[0m│\u001b[1;35m              \u001b[0m│\u001b[1;35m              \u001b[0m│\u001b[1;35m \u001b[0m\u001b[1;35m22:15:00        \u001b[0m\u001b[1;35m \u001b[0m│\u001b[1;35m          \u001b[0m│\u001b[1;35m            \u001b[0m│\u001b[1;35m            \u001b[0m│\n",
       "├────┼──────────┼───────────┼──────────────┼──────────────┼──────────────────┼──────────┼────────────┼────────────┤\n",
       "│\u001b[1;35m \u001b[0m\u001b[1;35m4 \u001b[0m\u001b[1;35m \u001b[0m│\u001b[1;35m \u001b[0m\u001b[1;35m7       \u001b[0m\u001b[1;35m \u001b[0m│\u001b[1;35m \u001b[0m\u001b[1;35m13       \u001b[0m\u001b[1;35m \u001b[0m│\u001b[1;35m \u001b[0m\u001b[1;35m31          \u001b[0m\u001b[1;35m \u001b[0m│\u001b[1;35m \u001b[0m\u001b[1;35m29          \u001b[0m\u001b[1;35m \u001b[0m│\u001b[1;35m \u001b[0m\u001b[1;35m2025-06-05      \u001b[0m\u001b[1;35m \u001b[0m│\u001b[1;35m \u001b[0m\u001b[1;35mupcoming\u001b[0m\u001b[1;35m \u001b[0m│\u001b[1;35m \u001b[0m\u001b[1;35mNone      \u001b[0m\u001b[1;35m \u001b[0m│\u001b[1;35m \u001b[0m\u001b[1;35mNone      \u001b[0m\u001b[1;35m \u001b[0m│\n",
       "│\u001b[1;35m    \u001b[0m│\u001b[1;35m          \u001b[0m│\u001b[1;35m           \u001b[0m│\u001b[1;35m              \u001b[0m│\u001b[1;35m              \u001b[0m│\u001b[1;35m \u001b[0m\u001b[1;35m22:00:00        \u001b[0m\u001b[1;35m \u001b[0m│\u001b[1;35m          \u001b[0m│\u001b[1;35m            \u001b[0m│\u001b[1;35m            \u001b[0m│\n",
       "├────┼──────────┼───────────┼──────────────┼──────────────┼──────────────────┼──────────┼────────────┼────────────┤\n",
       "│\u001b[1;35m \u001b[0m\u001b[1;35m5 \u001b[0m\u001b[1;35m \u001b[0m│\u001b[1;35m \u001b[0m\u001b[1;35m8       \u001b[0m\u001b[1;35m \u001b[0m│\u001b[1;35m \u001b[0m\u001b[1;35m13       \u001b[0m\u001b[1;35m \u001b[0m│\u001b[1;35m \u001b[0m\u001b[1;35m29          \u001b[0m\u001b[1;35m \u001b[0m│\u001b[1;35m \u001b[0m\u001b[1;35m30          \u001b[0m\u001b[1;35m \u001b[0m│\u001b[1;35m \u001b[0m\u001b[1;35m2025-06-08      \u001b[0m\u001b[1;35m \u001b[0m│\u001b[1;35m \u001b[0m\u001b[1;35mupcoming\u001b[0m\u001b[1;35m \u001b[0m│\u001b[1;35m \u001b[0m\u001b[1;35mNone      \u001b[0m\u001b[1;35m \u001b[0m│\u001b[1;35m \u001b[0m\u001b[1;35mNone      \u001b[0m\u001b[1;35m \u001b[0m│\n",
       "│\u001b[1;35m    \u001b[0m│\u001b[1;35m          \u001b[0m│\u001b[1;35m           \u001b[0m│\u001b[1;35m              \u001b[0m│\u001b[1;35m              \u001b[0m│\u001b[1;35m \u001b[0m\u001b[1;35m16:00:00        \u001b[0m\u001b[1;35m \u001b[0m│\u001b[1;35m          \u001b[0m│\u001b[1;35m            \u001b[0m│\u001b[1;35m            \u001b[0m│\n",
       "├────┼──────────┼───────────┼──────────────┼──────────────┼──────────────────┼──────────┼────────────┼────────────┤\n",
       "│\u001b[1;35m \u001b[0m\u001b[1;35m6 \u001b[0m\u001b[1;35m \u001b[0m│\u001b[1;35m \u001b[0m\u001b[1;35m8       \u001b[0m\u001b[1;35m \u001b[0m│\u001b[1;35m \u001b[0m\u001b[1;35m13       \u001b[0m\u001b[1;35m \u001b[0m│\u001b[1;35m \u001b[0m\u001b[1;35m28          \u001b[0m\u001b[1;35m \u001b[0m│\u001b[1;35m \u001b[0m\u001b[1;35m31          \u001b[0m\u001b[1;35m \u001b[0m│\u001b[1;35m \u001b[0m\u001b[1;35m2025-06-08      \u001b[0m\u001b[1;35m \u001b[0m│\u001b[1;35m \u001b[0m\u001b[1;35mupcoming\u001b[0m\u001b[1;35m \u001b[0m│\u001b[1;35m \u001b[0m\u001b[1;35mNone      \u001b[0m\u001b[1;35m \u001b[0m│\u001b[1;35m \u001b[0m\u001b[1;35mNone      \u001b[0m\u001b[1;35m \u001b[0m│\n",
       "│\u001b[1;35m    \u001b[0m│\u001b[1;35m          \u001b[0m│\u001b[1;35m           \u001b[0m│\u001b[1;35m              \u001b[0m│\u001b[1;35m              \u001b[0m│\u001b[1;35m \u001b[0m\u001b[1;35m22:00:00        \u001b[0m\u001b[1;35m \u001b[0m│\u001b[1;35m          \u001b[0m│\u001b[1;35m            \u001b[0m│\u001b[1;35m            \u001b[0m│\n",
       "╰────┴──────────┴───────────┴──────────────┴──────────────┴──────────────────┴──────────┴────────────┴────────────╯\n"
      ]
     },
     "metadata": {},
     "output_type": "display_data"
    },
    {
     "data": {
      "text/html": [
       "<pre style=\"white-space:pre;overflow-x:auto;line-height:normal;font-family:Menlo,'DejaVu Sans Mono',consolas,'Courier New',monospace\"><span style=\"color: #008080; text-decoration-color: #008080; font-weight: bold\">🔌 Connection closed.</span>\n",
       "\n",
       "</pre>\n"
      ],
      "text/plain": [
       "\u001b[1;36m🔌 Connection closed.\u001b[0m\n",
       "\n"
      ]
     },
     "metadata": {},
     "output_type": "display_data"
    },
    {
     "data": {
      "text/html": [
       "<pre style=\"white-space:pre;overflow-x:auto;line-height:normal;font-family:Menlo,'DejaVu Sans Mono',consolas,'Courier New',monospace\"><span style=\"color: #000080; text-decoration-color: #000080\">╭──────────────────────</span> Table Info <span style=\"color: #000080; text-decoration-color: #000080\">──────────────────────╮</span>\n",
       "<span style=\"color: #000080; text-decoration-color: #000080\">│ 📋 </span><span style=\"color: #008000; text-decoration-color: #008000; font-weight: bold\">Table:</span><span style=\"color: #000080; text-decoration-color: #000080\"> rounds                                       │</span>\n",
       "<span style=\"color: #000080; text-decoration-color: #000080\">│ 🔢 </span><span style=\"color: #008080; text-decoration-color: #008080; font-weight: bold\">Columns:</span><span style=\"color: #000080; text-decoration-color: #000080\"> id, name, start_date, end_date, created_at │</span>\n",
       "<span style=\"color: #000080; text-decoration-color: #000080\">│ 📊 </span><span style=\"color: #800080; text-decoration-color: #800080; font-weight: bold\">Total Rows:</span><span style=\"color: #000080; text-decoration-color: #000080\"> 2                                       │</span>\n",
       "<span style=\"color: #000080; text-decoration-color: #000080\">╰────────────────────────────────────────────────────────╯</span>\n",
       "</pre>\n"
      ],
      "text/plain": [
       "\u001b[34m╭─\u001b[0m\u001b[34m─────────────────────\u001b[0m Table Info \u001b[34m─────────────────────\u001b[0m\u001b[34m─╮\u001b[0m\n",
       "\u001b[34m│\u001b[0m\u001b[34m \u001b[0m\u001b[34m📋 \u001b[0m\u001b[1;32mTable:\u001b[0m\u001b[34m rounds\u001b[0m\u001b[34m                                      \u001b[0m\u001b[34m \u001b[0m\u001b[34m│\u001b[0m\n",
       "\u001b[34m│\u001b[0m\u001b[34m \u001b[0m\u001b[34m🔢 \u001b[0m\u001b[1;36mColumns:\u001b[0m\u001b[34m id, name, start_date, end_date, created_at\u001b[0m\u001b[34m \u001b[0m\u001b[34m│\u001b[0m\n",
       "\u001b[34m│\u001b[0m\u001b[34m \u001b[0m\u001b[34m📊 \u001b[0m\u001b[1;35mTotal Rows:\u001b[0m\u001b[34m 2\u001b[0m\u001b[34m                                      \u001b[0m\u001b[34m \u001b[0m\u001b[34m│\u001b[0m\n",
       "\u001b[34m╰────────────────────────────────────────────────────────╯\u001b[0m\n"
      ]
     },
     "metadata": {},
     "output_type": "display_data"
    },
    {
     "data": {
      "text/html": [
       "<pre style=\"white-space:pre;overflow-x:auto;line-height:normal;font-family:Menlo,'DejaVu Sans Mono',consolas,'Courier New',monospace\"><span style=\"font-style: italic\">                    Sample Data from rounds                     </span>\n",
       "╭────┬─────────┬────────────┬────────────┬─────────────────────╮\n",
       "│<span style=\"font-weight: bold\"> id </span>│<span style=\"font-weight: bold\"> name    </span>│<span style=\"font-weight: bold\"> start_date </span>│<span style=\"font-weight: bold\"> end_date   </span>│<span style=\"font-weight: bold\"> created_at          </span>│\n",
       "├────┼─────────┼────────────┼────────────┼─────────────────────┤\n",
       "│<span style=\"color: #800080; text-decoration-color: #800080; font-weight: bold\"> 7  </span>│<span style=\"color: #800080; text-decoration-color: #800080; font-weight: bold\"> Round 1 </span>│<span style=\"color: #800080; text-decoration-color: #800080; font-weight: bold\"> 2025-05-31 </span>│<span style=\"color: #800080; text-decoration-color: #800080; font-weight: bold\"> 2025-06-06 </span>│<span style=\"color: #800080; text-decoration-color: #800080; font-weight: bold\"> 2025-06-07 14:11:45 </span>│\n",
       "├────┼─────────┼────────────┼────────────┼─────────────────────┤\n",
       "│<span style=\"color: #800080; text-decoration-color: #800080; font-weight: bold\"> 8  </span>│<span style=\"color: #800080; text-decoration-color: #800080; font-weight: bold\"> Round 2 </span>│<span style=\"color: #800080; text-decoration-color: #800080; font-weight: bold\"> 2025-06-07 </span>│<span style=\"color: #800080; text-decoration-color: #800080; font-weight: bold\"> 2025-06-13 </span>│<span style=\"color: #800080; text-decoration-color: #800080; font-weight: bold\"> 2025-06-07 14:12:54 </span>│\n",
       "╰────┴─────────┴────────────┴────────────┴─────────────────────╯\n",
       "</pre>\n"
      ],
      "text/plain": [
       "\u001b[3m                    Sample Data from rounds                     \u001b[0m\n",
       "╭────┬─────────┬────────────┬────────────┬─────────────────────╮\n",
       "│\u001b[1m \u001b[0m\u001b[1mid\u001b[0m\u001b[1m \u001b[0m│\u001b[1m \u001b[0m\u001b[1mname   \u001b[0m\u001b[1m \u001b[0m│\u001b[1m \u001b[0m\u001b[1mstart_date\u001b[0m\u001b[1m \u001b[0m│\u001b[1m \u001b[0m\u001b[1mend_date  \u001b[0m\u001b[1m \u001b[0m│\u001b[1m \u001b[0m\u001b[1mcreated_at         \u001b[0m\u001b[1m \u001b[0m│\n",
       "├────┼─────────┼────────────┼────────────┼─────────────────────┤\n",
       "│\u001b[1;35m \u001b[0m\u001b[1;35m7 \u001b[0m\u001b[1;35m \u001b[0m│\u001b[1;35m \u001b[0m\u001b[1;35mRound 1\u001b[0m\u001b[1;35m \u001b[0m│\u001b[1;35m \u001b[0m\u001b[1;35m2025-05-31\u001b[0m\u001b[1;35m \u001b[0m│\u001b[1;35m \u001b[0m\u001b[1;35m2025-06-06\u001b[0m\u001b[1;35m \u001b[0m│\u001b[1;35m \u001b[0m\u001b[1;35m2025-06-07 14:11:45\u001b[0m\u001b[1;35m \u001b[0m│\n",
       "├────┼─────────┼────────────┼────────────┼─────────────────────┤\n",
       "│\u001b[1;35m \u001b[0m\u001b[1;35m8 \u001b[0m\u001b[1;35m \u001b[0m│\u001b[1;35m \u001b[0m\u001b[1;35mRound 2\u001b[0m\u001b[1;35m \u001b[0m│\u001b[1;35m \u001b[0m\u001b[1;35m2025-06-07\u001b[0m\u001b[1;35m \u001b[0m│\u001b[1;35m \u001b[0m\u001b[1;35m2025-06-13\u001b[0m\u001b[1;35m \u001b[0m│\u001b[1;35m \u001b[0m\u001b[1;35m2025-06-07 14:12:54\u001b[0m\u001b[1;35m \u001b[0m│\n",
       "╰────┴─────────┴────────────┴────────────┴─────────────────────╯\n"
      ]
     },
     "metadata": {},
     "output_type": "display_data"
    },
    {
     "data": {
      "text/html": [
       "<pre style=\"white-space:pre;overflow-x:auto;line-height:normal;font-family:Menlo,'DejaVu Sans Mono',consolas,'Courier New',monospace\"><span style=\"color: #008080; text-decoration-color: #008080; font-weight: bold\">🔌 Connection closed.</span>\n",
       "\n",
       "</pre>\n"
      ],
      "text/plain": [
       "\u001b[1;36m🔌 Connection closed.\u001b[0m\n",
       "\n"
      ]
     },
     "metadata": {},
     "output_type": "display_data"
    },
    {
     "data": {
      "text/html": [
       "<pre style=\"white-space:pre;overflow-x:auto;line-height:normal;font-family:Menlo,'DejaVu Sans Mono',consolas,'Courier New',monospace\"><span style=\"color: #000080; text-decoration-color: #000080\">╭──────────────────────</span> Table Info <span style=\"color: #000080; text-decoration-color: #000080\">──────────────────────╮</span>\n",
       "<span style=\"color: #000080; text-decoration-color: #000080\">│ 📋 </span><span style=\"color: #008000; text-decoration-color: #008000; font-weight: bold\">Table:</span><span style=\"color: #000080; text-decoration-color: #000080\"> teams                                        │</span>\n",
       "<span style=\"color: #000080; text-decoration-color: #000080\">│ 🔢 </span><span style=\"color: #008080; text-decoration-color: #008080; font-weight: bold\">Columns:</span><span style=\"color: #000080; text-decoration-color: #000080\"> id, name, logo_path, league_id, created_at │</span>\n",
       "<span style=\"color: #000080; text-decoration-color: #000080\">│ 📊 </span><span style=\"color: #800080; text-decoration-color: #800080; font-weight: bold\">Total Rows:</span><span style=\"color: #000080; text-decoration-color: #000080\"> 23                                      │</span>\n",
       "<span style=\"color: #000080; text-decoration-color: #000080\">╰────────────────────────────────────────────────────────╯</span>\n",
       "</pre>\n"
      ],
      "text/plain": [
       "\u001b[34m╭─\u001b[0m\u001b[34m─────────────────────\u001b[0m Table Info \u001b[34m─────────────────────\u001b[0m\u001b[34m─╮\u001b[0m\n",
       "\u001b[34m│\u001b[0m\u001b[34m \u001b[0m\u001b[34m📋 \u001b[0m\u001b[1;32mTable:\u001b[0m\u001b[34m teams\u001b[0m\u001b[34m                                       \u001b[0m\u001b[34m \u001b[0m\u001b[34m│\u001b[0m\n",
       "\u001b[34m│\u001b[0m\u001b[34m \u001b[0m\u001b[34m🔢 \u001b[0m\u001b[1;36mColumns:\u001b[0m\u001b[34m id, name, logo_path, league_id, created_at\u001b[0m\u001b[34m \u001b[0m\u001b[34m│\u001b[0m\n",
       "\u001b[34m│\u001b[0m\u001b[34m \u001b[0m\u001b[34m📊 \u001b[0m\u001b[1;35mTotal Rows:\u001b[0m\u001b[34m 23\u001b[0m\u001b[34m                                     \u001b[0m\u001b[34m \u001b[0m\u001b[34m│\u001b[0m\n",
       "\u001b[34m╰────────────────────────────────────────────────────────╯\u001b[0m\n"
      ]
     },
     "metadata": {},
     "output_type": "display_data"
    },
    {
     "data": {
      "text/html": [
       "<pre style=\"white-space:pre;overflow-x:auto;line-height:normal;font-family:Menlo,'DejaVu Sans Mono',consolas,'Courier New',monospace\"><span style=\"font-style: italic\">                                              Sample Data from teams                                               </span>\n",
       "╭────┬──────────────────┬───────────────────────────────────────────────────────┬───────────┬─────────────────────╮\n",
       "│<span style=\"font-weight: bold\"> id </span>│<span style=\"font-weight: bold\"> name             </span>│<span style=\"font-weight: bold\"> logo_path                                             </span>│<span style=\"font-weight: bold\"> league_id </span>│<span style=\"font-weight: bold\"> created_at          </span>│\n",
       "├────┼──────────────────┼───────────────────────────────────────────────────────┼───────────┼─────────────────────┤\n",
       "│<span style=\"color: #800080; text-decoration-color: #800080; font-weight: bold\"> 7  </span>│<span style=\"color: #800080; text-decoration-color: #800080; font-weight: bold\"> Barcelona        </span>│<span style=\"color: #800080; text-decoration-color: #800080; font-weight: bold\"> assets/leagues\\Barcelona.png                          </span>│<span style=\"color: #800080; text-decoration-color: #800080; font-weight: bold\"> 3         </span>│<span style=\"color: #800080; text-decoration-color: #800080; font-weight: bold\"> 2025-06-06 16:03:35 </span>│\n",
       "├────┼──────────────────┼───────────────────────────────────────────────────────┼───────────┼─────────────────────┤\n",
       "│<span style=\"color: #800080; text-decoration-color: #800080; font-weight: bold\"> 8  </span>│<span style=\"color: #800080; text-decoration-color: #800080; font-weight: bold\"> Real Madrid      </span>│<span style=\"color: #800080; text-decoration-color: #800080; font-weight: bold\"> assets/leagues\\86.png                                 </span>│<span style=\"color: #800080; text-decoration-color: #800080; font-weight: bold\"> 3         </span>│<span style=\"color: #800080; text-decoration-color: #800080; font-weight: bold\"> 2025-06-06 16:04:02 </span>│\n",
       "├────┼──────────────────┼───────────────────────────────────────────────────────┼───────────┼─────────────────────┤\n",
       "│<span style=\"color: #800080; text-decoration-color: #800080; font-weight: bold\"> 9  </span>│<span style=\"color: #800080; text-decoration-color: #800080; font-weight: bold\"> Atletico Madrid  </span>│<span style=\"color: #800080; text-decoration-color: #800080; font-weight: bold\"> assets/leagues\\atletico-madrid-new-logo-png_seeklogo… </span>│<span style=\"color: #800080; text-decoration-color: #800080; font-weight: bold\"> 3         </span>│<span style=\"color: #800080; text-decoration-color: #800080; font-weight: bold\"> 2025-06-06 16:04:33 </span>│\n",
       "├────┼──────────────────┼───────────────────────────────────────────────────────┼───────────┼─────────────────────┤\n",
       "│<span style=\"color: #800080; text-decoration-color: #800080; font-weight: bold\"> 12 </span>│<span style=\"color: #800080; text-decoration-color: #800080; font-weight: bold\"> Athletic Club    </span>│<span style=\"color: #800080; text-decoration-color: #800080; font-weight: bold\"> assets/leagues\\Athletic Club.png                      </span>│<span style=\"color: #800080; text-decoration-color: #800080; font-weight: bold\"> 3         </span>│<span style=\"color: #800080; text-decoration-color: #800080; font-weight: bold\"> 2025-06-06 23:36:12 </span>│\n",
       "├────┼──────────────────┼───────────────────────────────────────────────────────┼───────────┼─────────────────────┤\n",
       "│<span style=\"color: #800080; text-decoration-color: #800080; font-weight: bold\"> 13 </span>│<span style=\"color: #800080; text-decoration-color: #800080; font-weight: bold\"> Villarreal CF    </span>│<span style=\"color: #800080; text-decoration-color: #800080; font-weight: bold\"> assets/leagues\\Villarreal CF.png                      </span>│<span style=\"color: #800080; text-decoration-color: #800080; font-weight: bold\"> 3         </span>│<span style=\"color: #800080; text-decoration-color: #800080; font-weight: bold\"> 2025-06-06 23:37:29 </span>│\n",
       "├────┼──────────────────┼───────────────────────────────────────────────────────┼───────────┼─────────────────────┤\n",
       "│<span style=\"color: #800080; text-decoration-color: #800080; font-weight: bold\"> 14 </span>│<span style=\"color: #800080; text-decoration-color: #800080; font-weight: bold\"> Real Betis       </span>│<span style=\"color: #800080; text-decoration-color: #800080; font-weight: bold\"> assets/leagues\\RealBetis.png                          </span>│<span style=\"color: #800080; text-decoration-color: #800080; font-weight: bold\"> 3         </span>│<span style=\"color: #800080; text-decoration-color: #800080; font-weight: bold\"> 2025-06-06 23:41:05 </span>│\n",
       "├────┼──────────────────┼───────────────────────────────────────────────────────┼───────────┼─────────────────────┤\n",
       "│<span style=\"color: #800080; text-decoration-color: #800080; font-weight: bold\"> 15 </span>│<span style=\"color: #800080; text-decoration-color: #800080; font-weight: bold\"> RC Celta de Vigo </span>│<span style=\"color: #800080; text-decoration-color: #800080; font-weight: bold\"> assets/leagues\\CeltaVigo.png                          </span>│<span style=\"color: #800080; text-decoration-color: #800080; font-weight: bold\"> 3         </span>│<span style=\"color: #800080; text-decoration-color: #800080; font-weight: bold\"> 2025-06-06 23:42:22 </span>│\n",
       "├────┼──────────────────┼───────────────────────────────────────────────────────┼───────────┼─────────────────────┤\n",
       "│<span style=\"color: #800080; text-decoration-color: #800080; font-weight: bold\"> 16 </span>│<span style=\"color: #800080; text-decoration-color: #800080; font-weight: bold\"> Rayo Vallecano   </span>│<span style=\"color: #800080; text-decoration-color: #800080; font-weight: bold\"> assets/leagues\\RayoVallecano.png                      </span>│<span style=\"color: #800080; text-decoration-color: #800080; font-weight: bold\"> 3         </span>│<span style=\"color: #800080; text-decoration-color: #800080; font-weight: bold\"> 2025-06-06 23:45:36 </span>│\n",
       "├────┼──────────────────┼───────────────────────────────────────────────────────┼───────────┼─────────────────────┤\n",
       "│<span style=\"color: #800080; text-decoration-color: #800080; font-weight: bold\"> 17 </span>│<span style=\"color: #800080; text-decoration-color: #800080; font-weight: bold\"> CA Osasuna       </span>│<span style=\"color: #800080; text-decoration-color: #800080; font-weight: bold\"> assets/leagues\\CA Osasuna.png                         </span>│<span style=\"color: #800080; text-decoration-color: #800080; font-weight: bold\"> 3         </span>│<span style=\"color: #800080; text-decoration-color: #800080; font-weight: bold\"> 2025-06-07 00:01:08 </span>│\n",
       "├────┼──────────────────┼───────────────────────────────────────────────────────┼───────────┼─────────────────────┤\n",
       "│<span style=\"color: #800080; text-decoration-color: #800080; font-weight: bold\"> 18 </span>│<span style=\"color: #800080; text-decoration-color: #800080; font-weight: bold\"> RCD Mallorca     </span>│<span style=\"color: #800080; text-decoration-color: #800080; font-weight: bold\"> assets/leagues\\RCD Mallorca.png                       </span>│<span style=\"color: #800080; text-decoration-color: #800080; font-weight: bold\"> 3         </span>│<span style=\"color: #800080; text-decoration-color: #800080; font-weight: bold\"> 2025-06-07 00:03:19 </span>│\n",
       "╰────┴──────────────────┴───────────────────────────────────────────────────────┴───────────┴─────────────────────╯\n",
       "</pre>\n"
      ],
      "text/plain": [
       "\u001b[3m                                              Sample Data from teams                                               \u001b[0m\n",
       "╭────┬──────────────────┬───────────────────────────────────────────────────────┬───────────┬─────────────────────╮\n",
       "│\u001b[1m \u001b[0m\u001b[1mid\u001b[0m\u001b[1m \u001b[0m│\u001b[1m \u001b[0m\u001b[1mname            \u001b[0m\u001b[1m \u001b[0m│\u001b[1m \u001b[0m\u001b[1mlogo_path                                            \u001b[0m\u001b[1m \u001b[0m│\u001b[1m \u001b[0m\u001b[1mleague_id\u001b[0m\u001b[1m \u001b[0m│\u001b[1m \u001b[0m\u001b[1mcreated_at         \u001b[0m\u001b[1m \u001b[0m│\n",
       "├────┼──────────────────┼───────────────────────────────────────────────────────┼───────────┼─────────────────────┤\n",
       "│\u001b[1;35m \u001b[0m\u001b[1;35m7 \u001b[0m\u001b[1;35m \u001b[0m│\u001b[1;35m \u001b[0m\u001b[1;35mBarcelona       \u001b[0m\u001b[1;35m \u001b[0m│\u001b[1;35m \u001b[0m\u001b[1;35massets/leagues\\Barcelona.png                         \u001b[0m\u001b[1;35m \u001b[0m│\u001b[1;35m \u001b[0m\u001b[1;35m3        \u001b[0m\u001b[1;35m \u001b[0m│\u001b[1;35m \u001b[0m\u001b[1;35m2025-06-06 16:03:35\u001b[0m\u001b[1;35m \u001b[0m│\n",
       "├────┼──────────────────┼───────────────────────────────────────────────────────┼───────────┼─────────────────────┤\n",
       "│\u001b[1;35m \u001b[0m\u001b[1;35m8 \u001b[0m\u001b[1;35m \u001b[0m│\u001b[1;35m \u001b[0m\u001b[1;35mReal Madrid     \u001b[0m\u001b[1;35m \u001b[0m│\u001b[1;35m \u001b[0m\u001b[1;35massets/leagues\\86.png                                \u001b[0m\u001b[1;35m \u001b[0m│\u001b[1;35m \u001b[0m\u001b[1;35m3        \u001b[0m\u001b[1;35m \u001b[0m│\u001b[1;35m \u001b[0m\u001b[1;35m2025-06-06 16:04:02\u001b[0m\u001b[1;35m \u001b[0m│\n",
       "├────┼──────────────────┼───────────────────────────────────────────────────────┼───────────┼─────────────────────┤\n",
       "│\u001b[1;35m \u001b[0m\u001b[1;35m9 \u001b[0m\u001b[1;35m \u001b[0m│\u001b[1;35m \u001b[0m\u001b[1;35mAtletico Madrid \u001b[0m\u001b[1;35m \u001b[0m│\u001b[1;35m \u001b[0m\u001b[1;35massets/leagues\\atletico-madrid-new-logo-png_seeklogo…\u001b[0m\u001b[1;35m \u001b[0m│\u001b[1;35m \u001b[0m\u001b[1;35m3        \u001b[0m\u001b[1;35m \u001b[0m│\u001b[1;35m \u001b[0m\u001b[1;35m2025-06-06 16:04:33\u001b[0m\u001b[1;35m \u001b[0m│\n",
       "├────┼──────────────────┼───────────────────────────────────────────────────────┼───────────┼─────────────────────┤\n",
       "│\u001b[1;35m \u001b[0m\u001b[1;35m12\u001b[0m\u001b[1;35m \u001b[0m│\u001b[1;35m \u001b[0m\u001b[1;35mAthletic Club   \u001b[0m\u001b[1;35m \u001b[0m│\u001b[1;35m \u001b[0m\u001b[1;35massets/leagues\\Athletic Club.png                     \u001b[0m\u001b[1;35m \u001b[0m│\u001b[1;35m \u001b[0m\u001b[1;35m3        \u001b[0m\u001b[1;35m \u001b[0m│\u001b[1;35m \u001b[0m\u001b[1;35m2025-06-06 23:36:12\u001b[0m\u001b[1;35m \u001b[0m│\n",
       "├────┼──────────────────┼───────────────────────────────────────────────────────┼───────────┼─────────────────────┤\n",
       "│\u001b[1;35m \u001b[0m\u001b[1;35m13\u001b[0m\u001b[1;35m \u001b[0m│\u001b[1;35m \u001b[0m\u001b[1;35mVillarreal CF   \u001b[0m\u001b[1;35m \u001b[0m│\u001b[1;35m \u001b[0m\u001b[1;35massets/leagues\\Villarreal CF.png                     \u001b[0m\u001b[1;35m \u001b[0m│\u001b[1;35m \u001b[0m\u001b[1;35m3        \u001b[0m\u001b[1;35m \u001b[0m│\u001b[1;35m \u001b[0m\u001b[1;35m2025-06-06 23:37:29\u001b[0m\u001b[1;35m \u001b[0m│\n",
       "├────┼──────────────────┼───────────────────────────────────────────────────────┼───────────┼─────────────────────┤\n",
       "│\u001b[1;35m \u001b[0m\u001b[1;35m14\u001b[0m\u001b[1;35m \u001b[0m│\u001b[1;35m \u001b[0m\u001b[1;35mReal Betis      \u001b[0m\u001b[1;35m \u001b[0m│\u001b[1;35m \u001b[0m\u001b[1;35massets/leagues\\RealBetis.png                         \u001b[0m\u001b[1;35m \u001b[0m│\u001b[1;35m \u001b[0m\u001b[1;35m3        \u001b[0m\u001b[1;35m \u001b[0m│\u001b[1;35m \u001b[0m\u001b[1;35m2025-06-06 23:41:05\u001b[0m\u001b[1;35m \u001b[0m│\n",
       "├────┼──────────────────┼───────────────────────────────────────────────────────┼───────────┼─────────────────────┤\n",
       "│\u001b[1;35m \u001b[0m\u001b[1;35m15\u001b[0m\u001b[1;35m \u001b[0m│\u001b[1;35m \u001b[0m\u001b[1;35mRC Celta de Vigo\u001b[0m\u001b[1;35m \u001b[0m│\u001b[1;35m \u001b[0m\u001b[1;35massets/leagues\\CeltaVigo.png                         \u001b[0m\u001b[1;35m \u001b[0m│\u001b[1;35m \u001b[0m\u001b[1;35m3        \u001b[0m\u001b[1;35m \u001b[0m│\u001b[1;35m \u001b[0m\u001b[1;35m2025-06-06 23:42:22\u001b[0m\u001b[1;35m \u001b[0m│\n",
       "├────┼──────────────────┼───────────────────────────────────────────────────────┼───────────┼─────────────────────┤\n",
       "│\u001b[1;35m \u001b[0m\u001b[1;35m16\u001b[0m\u001b[1;35m \u001b[0m│\u001b[1;35m \u001b[0m\u001b[1;35mRayo Vallecano  \u001b[0m\u001b[1;35m \u001b[0m│\u001b[1;35m \u001b[0m\u001b[1;35massets/leagues\\RayoVallecano.png                     \u001b[0m\u001b[1;35m \u001b[0m│\u001b[1;35m \u001b[0m\u001b[1;35m3        \u001b[0m\u001b[1;35m \u001b[0m│\u001b[1;35m \u001b[0m\u001b[1;35m2025-06-06 23:45:36\u001b[0m\u001b[1;35m \u001b[0m│\n",
       "├────┼──────────────────┼───────────────────────────────────────────────────────┼───────────┼─────────────────────┤\n",
       "│\u001b[1;35m \u001b[0m\u001b[1;35m17\u001b[0m\u001b[1;35m \u001b[0m│\u001b[1;35m \u001b[0m\u001b[1;35mCA Osasuna      \u001b[0m\u001b[1;35m \u001b[0m│\u001b[1;35m \u001b[0m\u001b[1;35massets/leagues\\CA Osasuna.png                        \u001b[0m\u001b[1;35m \u001b[0m│\u001b[1;35m \u001b[0m\u001b[1;35m3        \u001b[0m\u001b[1;35m \u001b[0m│\u001b[1;35m \u001b[0m\u001b[1;35m2025-06-07 00:01:08\u001b[0m\u001b[1;35m \u001b[0m│\n",
       "├────┼──────────────────┼───────────────────────────────────────────────────────┼───────────┼─────────────────────┤\n",
       "│\u001b[1;35m \u001b[0m\u001b[1;35m18\u001b[0m\u001b[1;35m \u001b[0m│\u001b[1;35m \u001b[0m\u001b[1;35mRCD Mallorca    \u001b[0m\u001b[1;35m \u001b[0m│\u001b[1;35m \u001b[0m\u001b[1;35massets/leagues\\RCD Mallorca.png                      \u001b[0m\u001b[1;35m \u001b[0m│\u001b[1;35m \u001b[0m\u001b[1;35m3        \u001b[0m\u001b[1;35m \u001b[0m│\u001b[1;35m \u001b[0m\u001b[1;35m2025-06-07 00:03:19\u001b[0m\u001b[1;35m \u001b[0m│\n",
       "╰────┴──────────────────┴───────────────────────────────────────────────────────┴───────────┴─────────────────────╯\n"
      ]
     },
     "metadata": {},
     "output_type": "display_data"
    },
    {
     "data": {
      "text/html": [
       "<pre style=\"white-space:pre;overflow-x:auto;line-height:normal;font-family:Menlo,'DejaVu Sans Mono',consolas,'Courier New',monospace\"><span style=\"color: #008080; text-decoration-color: #008080; font-weight: bold\">🔌 Connection closed.</span>\n",
       "\n",
       "</pre>\n"
      ],
      "text/plain": [
       "\u001b[1;36m🔌 Connection closed.\u001b[0m\n",
       "\n"
      ]
     },
     "metadata": {},
     "output_type": "display_data"
    },
    {
     "data": {
      "text/html": [
       "<pre style=\"white-space:pre;overflow-x:auto;line-height:normal;font-family:Menlo,'DejaVu Sans Mono',consolas,'Courier New',monospace\"><span style=\"color: #000080; text-decoration-color: #000080\">╭──────────</span> Table Info <span style=\"color: #000080; text-decoration-color: #000080\">──────────╮</span>\n",
       "<span style=\"color: #000080; text-decoration-color: #000080\">│ 📋 </span><span style=\"color: #008000; text-decoration-color: #008000; font-weight: bold\">Table:</span><span style=\"color: #000080; text-decoration-color: #000080\"> team_league          │</span>\n",
       "<span style=\"color: #000080; text-decoration-color: #000080\">│ 🔢 </span><span style=\"color: #008080; text-decoration-color: #008080; font-weight: bold\">Columns:</span><span style=\"color: #000080; text-decoration-color: #000080\"> team_id, league_id │</span>\n",
       "<span style=\"color: #000080; text-decoration-color: #000080\">│ 📊 </span><span style=\"color: #800080; text-decoration-color: #800080; font-weight: bold\">Total Rows:</span><span style=\"color: #000080; text-decoration-color: #000080\"> 61              │</span>\n",
       "<span style=\"color: #000080; text-decoration-color: #000080\">╰────────────────────────────────╯</span>\n",
       "</pre>\n"
      ],
      "text/plain": [
       "\u001b[34m╭─\u001b[0m\u001b[34m─────────\u001b[0m Table Info \u001b[34m─────────\u001b[0m\u001b[34m─╮\u001b[0m\n",
       "\u001b[34m│\u001b[0m\u001b[34m \u001b[0m\u001b[34m📋 \u001b[0m\u001b[1;32mTable:\u001b[0m\u001b[34m team_league\u001b[0m\u001b[34m         \u001b[0m\u001b[34m \u001b[0m\u001b[34m│\u001b[0m\n",
       "\u001b[34m│\u001b[0m\u001b[34m \u001b[0m\u001b[34m🔢 \u001b[0m\u001b[1;36mColumns:\u001b[0m\u001b[34m team_id, league_id\u001b[0m\u001b[34m \u001b[0m\u001b[34m│\u001b[0m\n",
       "\u001b[34m│\u001b[0m\u001b[34m \u001b[0m\u001b[34m📊 \u001b[0m\u001b[1;35mTotal Rows:\u001b[0m\u001b[34m 61\u001b[0m\u001b[34m             \u001b[0m\u001b[34m \u001b[0m\u001b[34m│\u001b[0m\n",
       "\u001b[34m╰────────────────────────────────╯\u001b[0m\n"
      ]
     },
     "metadata": {},
     "output_type": "display_data"
    },
    {
     "data": {
      "text/html": [
       "<pre style=\"white-space:pre;overflow-x:auto;line-height:normal;font-family:Menlo,'DejaVu Sans Mono',consolas,'Courier New',monospace\"><span style=\"font-style: italic\">   Sample Data from    </span>\n",
       "<span style=\"font-style: italic\">      team_league      </span>\n",
       "╭─────────┬───────────╮\n",
       "│<span style=\"font-weight: bold\"> team_id </span>│<span style=\"font-weight: bold\"> league_id </span>│\n",
       "├─────────┼───────────┤\n",
       "│<span style=\"color: #800080; text-decoration-color: #800080; font-weight: bold\"> 10      </span>│<span style=\"color: #800080; text-decoration-color: #800080; font-weight: bold\"> 6         </span>│\n",
       "├─────────┼───────────┤\n",
       "│<span style=\"color: #800080; text-decoration-color: #800080; font-weight: bold\"> 10      </span>│<span style=\"color: #800080; text-decoration-color: #800080; font-weight: bold\"> 17        </span>│\n",
       "├─────────┼───────────┤\n",
       "│<span style=\"color: #800080; text-decoration-color: #800080; font-weight: bold\"> 10      </span>│<span style=\"color: #800080; text-decoration-color: #800080; font-weight: bold\"> 7         </span>│\n",
       "├─────────┼───────────┤\n",
       "│<span style=\"color: #800080; text-decoration-color: #800080; font-weight: bold\"> 11      </span>│<span style=\"color: #800080; text-decoration-color: #800080; font-weight: bold\"> 6         </span>│\n",
       "├─────────┼───────────┤\n",
       "│<span style=\"color: #800080; text-decoration-color: #800080; font-weight: bold\"> 11      </span>│<span style=\"color: #800080; text-decoration-color: #800080; font-weight: bold\"> 17        </span>│\n",
       "├─────────┼───────────┤\n",
       "│<span style=\"color: #800080; text-decoration-color: #800080; font-weight: bold\"> 7       </span>│<span style=\"color: #800080; text-decoration-color: #800080; font-weight: bold\"> 3         </span>│\n",
       "├─────────┼───────────┤\n",
       "│<span style=\"color: #800080; text-decoration-color: #800080; font-weight: bold\"> 7       </span>│<span style=\"color: #800080; text-decoration-color: #800080; font-weight: bold\"> 5         </span>│\n",
       "├─────────┼───────────┤\n",
       "│<span style=\"color: #800080; text-decoration-color: #800080; font-weight: bold\"> 7       </span>│<span style=\"color: #800080; text-decoration-color: #800080; font-weight: bold\"> 6         </span>│\n",
       "├─────────┼───────────┤\n",
       "│<span style=\"color: #800080; text-decoration-color: #800080; font-weight: bold\"> 7       </span>│<span style=\"color: #800080; text-decoration-color: #800080; font-weight: bold\"> 9         </span>│\n",
       "├─────────┼───────────┤\n",
       "│<span style=\"color: #800080; text-decoration-color: #800080; font-weight: bold\"> 8       </span>│<span style=\"color: #800080; text-decoration-color: #800080; font-weight: bold\"> 3         </span>│\n",
       "╰─────────┴───────────╯\n",
       "</pre>\n"
      ],
      "text/plain": [
       "\u001b[3m   Sample Data from    \u001b[0m\n",
       "\u001b[3m      team_league      \u001b[0m\n",
       "╭─────────┬───────────╮\n",
       "│\u001b[1m \u001b[0m\u001b[1mteam_id\u001b[0m\u001b[1m \u001b[0m│\u001b[1m \u001b[0m\u001b[1mleague_id\u001b[0m\u001b[1m \u001b[0m│\n",
       "├─────────┼───────────┤\n",
       "│\u001b[1;35m \u001b[0m\u001b[1;35m10     \u001b[0m\u001b[1;35m \u001b[0m│\u001b[1;35m \u001b[0m\u001b[1;35m6        \u001b[0m\u001b[1;35m \u001b[0m│\n",
       "├─────────┼───────────┤\n",
       "│\u001b[1;35m \u001b[0m\u001b[1;35m10     \u001b[0m\u001b[1;35m \u001b[0m│\u001b[1;35m \u001b[0m\u001b[1;35m17       \u001b[0m\u001b[1;35m \u001b[0m│\n",
       "├─────────┼───────────┤\n",
       "│\u001b[1;35m \u001b[0m\u001b[1;35m10     \u001b[0m\u001b[1;35m \u001b[0m│\u001b[1;35m \u001b[0m\u001b[1;35m7        \u001b[0m\u001b[1;35m \u001b[0m│\n",
       "├─────────┼───────────┤\n",
       "│\u001b[1;35m \u001b[0m\u001b[1;35m11     \u001b[0m\u001b[1;35m \u001b[0m│\u001b[1;35m \u001b[0m\u001b[1;35m6        \u001b[0m\u001b[1;35m \u001b[0m│\n",
       "├─────────┼───────────┤\n",
       "│\u001b[1;35m \u001b[0m\u001b[1;35m11     \u001b[0m\u001b[1;35m \u001b[0m│\u001b[1;35m \u001b[0m\u001b[1;35m17       \u001b[0m\u001b[1;35m \u001b[0m│\n",
       "├─────────┼───────────┤\n",
       "│\u001b[1;35m \u001b[0m\u001b[1;35m7      \u001b[0m\u001b[1;35m \u001b[0m│\u001b[1;35m \u001b[0m\u001b[1;35m3        \u001b[0m\u001b[1;35m \u001b[0m│\n",
       "├─────────┼───────────┤\n",
       "│\u001b[1;35m \u001b[0m\u001b[1;35m7      \u001b[0m\u001b[1;35m \u001b[0m│\u001b[1;35m \u001b[0m\u001b[1;35m5        \u001b[0m\u001b[1;35m \u001b[0m│\n",
       "├─────────┼───────────┤\n",
       "│\u001b[1;35m \u001b[0m\u001b[1;35m7      \u001b[0m\u001b[1;35m \u001b[0m│\u001b[1;35m \u001b[0m\u001b[1;35m6        \u001b[0m\u001b[1;35m \u001b[0m│\n",
       "├─────────┼───────────┤\n",
       "│\u001b[1;35m \u001b[0m\u001b[1;35m7      \u001b[0m\u001b[1;35m \u001b[0m│\u001b[1;35m \u001b[0m\u001b[1;35m9        \u001b[0m\u001b[1;35m \u001b[0m│\n",
       "├─────────┼───────────┤\n",
       "│\u001b[1;35m \u001b[0m\u001b[1;35m8      \u001b[0m\u001b[1;35m \u001b[0m│\u001b[1;35m \u001b[0m\u001b[1;35m3        \u001b[0m\u001b[1;35m \u001b[0m│\n",
       "╰─────────┴───────────╯\n"
      ]
     },
     "metadata": {},
     "output_type": "display_data"
    },
    {
     "data": {
      "text/html": [
       "<pre style=\"white-space:pre;overflow-x:auto;line-height:normal;font-family:Menlo,'DejaVu Sans Mono',consolas,'Courier New',monospace\"><span style=\"color: #008080; text-decoration-color: #008080; font-weight: bold\">🔌 Connection closed.</span>\n",
       "\n",
       "</pre>\n"
      ],
      "text/plain": [
       "\u001b[1;36m🔌 Connection closed.\u001b[0m\n",
       "\n"
      ]
     },
     "metadata": {},
     "output_type": "display_data"
    }
   ],
   "source": [
    "table_info(\"matches\")\n",
    "table_info(\"rounds\")\n",
    "table_info(\"teams\")\n",
    "table_info(\"team_league\")"
   ]
  },
  {
   "cell_type": "code",
   "execution_count": 101,
   "id": "ce25b172",
   "metadata": {},
   "outputs": [
    {
     "name": "stdout",
     "output_type": "stream",
     "text": [
      "Foreign keys enabled? 1\n"
     ]
    }
   ],
   "source": [
    "conn = get_connection()\n",
    "result = conn.execute(\"PRAGMA foreign_keys\").fetchone()\n",
    "print(\"Foreign keys enabled?\", result[0])\n",
    "conn.close()"
   ]
  },
  {
   "cell_type": "code",
   "execution_count": null,
   "id": "77431ca8",
   "metadata": {},
   "outputs": [],
   "source": []
  },
  {
   "cell_type": "markdown",
   "id": "78cf4ea9",
   "metadata": {},
   "source": [
    "# Real Data"
   ]
  },
  {
   "cell_type": "code",
   "execution_count": null,
   "id": "7ce1cb39",
   "metadata": {},
   "outputs": [
    {
     "name": "stdout",
     "output_type": "stream",
     "text": [
      "Available Leagues:\n",
      "1. Premier League (England)\n",
      "2. Ligue 1 (France)\n",
      "3. Bundesliga (Germany)\n",
      "4. Serie A (Italy)\n",
      "5. Eredivisie (Netherlands)\n",
      "6. Primeira Liga (Portugal)\n",
      "7. Primera Division (Spain)\n",
      "Fetching teams for Premier League...\n",
      "\n",
      "Team Logos Dictionary:\n",
      "Arsenal FC: https://crests.football-data.org/57.png\n",
      "Aston Villa FC: https://crests.football-data.org/58.png\n",
      "Chelsea FC: https://crests.football-data.org/61.png\n",
      "Everton FC: https://crests.football-data.org/62.png\n",
      "Fulham FC: https://crests.football-data.org/63.png\n",
      "Liverpool FC: https://crests.football-data.org/64.png\n",
      "Manchester City FC: https://crests.football-data.org/65.png\n",
      "Manchester United FC: https://crests.football-data.org/66.png\n",
      "Newcastle United FC: https://crests.football-data.org/67.png\n",
      "Tottenham Hotspur FC: https://crests.football-data.org/73.png\n",
      "Wolverhampton Wanderers FC: https://crests.football-data.org/76.png\n",
      "Leicester City FC: https://crests.football-data.org/338.png\n",
      "Southampton FC: https://crests.football-data.org/340.png\n",
      "Ipswich Town FC: https://crests.football-data.org/349.png\n",
      "Nottingham Forest FC: https://crests.football-data.org/351.png\n",
      "Crystal Palace FC: https://crests.football-data.org/354.png\n",
      "Brighton & Hove Albion FC: https://crests.football-data.org/397.png\n",
      "Brentford FC: https://crests.football-data.org/402.png\n",
      "West Ham United FC: https://crests.football-data.org/563.png\n",
      "AFC Bournemouth: https://crests.football-data.org/bournemouth.png\n"
     ]
    }
   ],
   "source": [
    "import os\n",
    "import requests\n",
    "\n",
    "# Constants\n",
    "API_TOKEN = '4c936cda044a4c2eaa3ed158b90e66d3'  # Replace with your actual API key\n",
    "BASE_URL = 'https://api.football-data.org/v4'\n",
    "HEADERS = {'X-Auth-Token': API_TOKEN}\n",
    "LOGO_DOWNLOAD_PATH = r'D:\\Football_Prediction_Game\\assets\\clubs\\Team'\n",
    "\n",
    "# Ensure the logo directory exists\n",
    "os.makedirs(LOGO_DOWNLOAD_PATH, exist_ok=True)\n",
    "\n",
    "def get_leagues():\n",
    "    \"\"\"Fetches a list of top-tier football leagues.\"\"\"\n",
    "    url = f'{BASE_URL}/competitions'\n",
    "    response = requests.get(url, headers=HEADERS)\n",
    "    if response.status_code == 200:\n",
    "        data = response.json()\n",
    "        # Only return popular leagues\n",
    "        popular_league_codes = ['PL', 'PD', 'BL1', 'SA', 'FL1', 'DED', 'PPL']\n",
    "        leagues = [comp for comp in data['competitions'] if comp['code'] in popular_league_codes]\n",
    "        return leagues\n",
    "    else:\n",
    "        print(f\"Error fetching leagues: {response.status_code} - {response.text}\")\n",
    "        return []\n",
    "\n",
    "\n",
    "def get_teams(league_id):\n",
    "    \"\"\"Fetches teams for a given league ID.\"\"\"\n",
    "    url = f'{BASE_URL}/competitions/{league_id}/teams?season=2024'\n",
    "    response = requests.get(url, headers=HEADERS)\n",
    "    if response.status_code == 200:\n",
    "        data = response.json()\n",
    "        return data['teams']\n",
    "    else:\n",
    "        print(f\"Error fetching teams: {response.status_code}\")\n",
    "        return []\n",
    "\n",
    "def download_logo(team_name, logo_url):\n",
    "    \"\"\"Downloads the team's logo to the specified directory.\"\"\"\n",
    "    try:\n",
    "        response = requests.get(logo_url, stream=True)\n",
    "        if response.status_code == 200:\n",
    "            # Sanitize team name for filename\n",
    "            filename = f\"{team_name.replace(' ', '_').replace('/', '_')}.png\"\n",
    "            filepath = os.path.join(LOGO_DOWNLOAD_PATH, filename)\n",
    "            with open(filepath, 'wb') as f:\n",
    "                for chunk in response.iter_content(1024):\n",
    "                    f.write(chunk)\n",
    "            print(f\"Downloaded logo for {team_name}\")\n",
    "        else:\n",
    "            print(f\"Failed to download logo for {team_name}: {response.status_code}\")\n",
    "    except Exception as e:\n",
    "        print(f\"Error downloading logo for {team_name}: {e}\")\n",
    "\n",
    "def main():\n",
    "    leagues = get_leagues()\n",
    "    if not leagues:\n",
    "        print(\"No leagues available.\")\n",
    "        return\n",
    "\n",
    "    # Display leagues\n",
    "    print(\"Available Leagues:\")\n",
    "    for idx, league in enumerate(leagues, start=1):\n",
    "        print(f\"{idx}. {league['name']} ({league['area']['name']})\")\n",
    "\n",
    "    # User selects a league\n",
    "    try:\n",
    "        choice = int(input(\"Select a league by number: \"))\n",
    "        if 1 <= choice <= len(leagues):\n",
    "            selected_league = leagues[choice - 1]\n",
    "            print(f\"Fetching teams for {selected_league['name']}...\")\n",
    "            teams = get_teams(selected_league['id'])\n",
    "            if teams:\n",
    "                teams_dict = {}\n",
    "                for team in teams:\n",
    "                    team_name = team['name']\n",
    "                    logo_url = team.get('crest')  # use 'crest' instead of 'crestUrl' in v4\n",
    "                    teams_dict[team_name] = logo_url\n",
    "                print(\"\\nTeam Logos Dictionary:\")\n",
    "                for name, url in teams_dict.items():\n",
    "                    print(f\"{name}: {url}\")\n",
    "                return teams_dict\n",
    "            else:\n",
    "                print(\"No teams found for this league.\")\n",
    "        else:\n",
    "            print(\"Invalid selection.\")\n",
    "    except ValueError:\n",
    "        print(\"Please enter a valid number.\")\n",
    "\n",
    "\n",
    "if __name__ == \"__main__\":\n",
    "    main()\n"
   ]
  },
  {
   "cell_type": "code",
   "execution_count": 121,
   "id": "6be9d861",
   "metadata": {},
   "outputs": [
    {
     "name": "stdout",
     "output_type": "stream",
     "text": [
      "Available Leagues:\n",
      "1. Premier League (England)\n",
      "2. Ligue 1 (France)\n",
      "3. Bundesliga (Germany)\n",
      "4. Serie A (Italy)\n",
      "5. Eredivisie (Netherlands)\n",
      "6. Primeira Liga (Portugal)\n",
      "7. Primera Division (Spain)\n",
      "\n",
      "Fetching teams for Ligue 1...\n",
      "\n",
      "Toulouse FC: https://crests.football-data.org/511.png\n",
      "Stade Brestois 29: https://crests.football-data.org/512.png\n",
      "Olympique de Marseille: https://crests.football-data.org/516.png\n",
      "Montpellier HSC: https://crests.football-data.org/518.png\n",
      "AJ Auxerre: https://crests.football-data.org/519.png\n",
      "Lille OSC: https://crests.football-data.org/521.png\n",
      "OGC Nice: https://crests.football-data.org/522.png\n",
      "Olympique Lyonnais: https://crests.football-data.org/523.png\n",
      "Paris Saint-Germain FC: https://crests.football-data.org/524.png\n",
      "AS Saint-Étienne: https://crests.football-data.org/527.png\n",
      "Stade Rennais FC 1901: https://crests.football-data.org/529.png\n",
      "Angers SCO: https://crests.football-data.org/532.png\n",
      "Le Havre AC: https://crests.football-data.org/533.png\n",
      "FC Nantes: https://crests.football-data.org/543.png\n",
      "Racing Club de Lens: https://crests.football-data.org/546.png\n",
      "Stade de Reims: https://crests.football-data.org/547.png\n",
      "AS Monaco FC: https://crests.football-data.org/548.png\n",
      "RC Strasbourg Alsace: https://crests.football-data.org/576.png\n",
      "\n",
      "Saved teams to D:\\Football_Prediction_Game\\assets\\clubs\\Team\\Ligue_1.txt\n"
     ]
    }
   ],
   "source": [
    "def main():\n",
    "    leagues = get_leagues()\n",
    "    if not leagues:\n",
    "        print(\"No leagues available.\")\n",
    "        return\n",
    "\n",
    "    # Display leagues\n",
    "    print(\"Available Leagues:\")\n",
    "    for idx, league in enumerate(leagues, start=1):\n",
    "        print(f\"{idx}. {league['name']} ({league['area']['name']})\")\n",
    "\n",
    "    # User selects a league\n",
    "    try:\n",
    "        choice = int(input(\"Select a league by number: \"))\n",
    "        if 1 <= choice <= len(leagues):\n",
    "            selected_league = leagues[choice - 1]\n",
    "            league_name_clean = selected_league['name'].replace(' ', '_').replace('/', '_')\n",
    "            print(f\"\\nFetching teams for {selected_league['name']}...\\n\")\n",
    "            teams = get_teams(selected_league['id'])\n",
    "\n",
    "            if teams:\n",
    "                teams_dict = {}\n",
    "                for team in teams:\n",
    "                    team_name = team['name']\n",
    "                    logo_url = team.get('crest')  # API v4 uses 'crest'\n",
    "                    teams_dict[team_name] = logo_url\n",
    "                    print(f\"{team_name}: {logo_url}\")\n",
    "\n",
    "                # Save to text file\n",
    "                file_path = os.path.join(LOGO_DOWNLOAD_PATH, f\"{league_name_clean}.txt\")\n",
    "                with open(file_path, 'w', encoding='utf-8') as f:\n",
    "                    for name, url in teams_dict.items():\n",
    "                        f.write(f\"{name}: {url}\\n\")\n",
    "\n",
    "                print(f\"\\nSaved teams to {file_path}\")\n",
    "                return teams_dict\n",
    "            else:\n",
    "                print(\"No teams found for this league.\")\n",
    "        else:\n",
    "            print(\"Invalid selection.\")\n",
    "    except ValueError:\n",
    "        print(\"Please enter a valid number.\")\n",
    "\n",
    "\n",
    "if __name__ == \"__main__\":\n",
    "    main()\n"
   ]
  },
  {
   "cell_type": "code",
   "execution_count": 128,
   "id": "32ca4fae",
   "metadata": {},
   "outputs": [],
   "source": [
    "import sqlite3\n",
    "\n",
    "def fetch_all(query, params=()):\n",
    "    conn = get_connection()\n",
    "    conn.row_factory = sqlite3.Row  # Enables dict-style row access\n",
    "    cur = conn.cursor()\n",
    "    cur.execute(query, params)\n",
    "    rows = cur.fetchall()\n",
    "    conn.close()\n",
    "    return [dict(row) for row in rows]\n",
    "\n",
    "def execute_query(query, params=()):\n",
    "    conn = get_connection()\n",
    "    cur = conn.cursor()\n",
    "    cur.execute(query, params)\n",
    "    conn.commit()\n",
    "    conn.close()\n"
   ]
  },
  {
   "cell_type": "code",
   "execution_count": 133,
   "id": "5592c09b",
   "metadata": {},
   "outputs": [
    {
     "name": "stdout",
     "output_type": "stream",
     "text": [
      "\n",
      "📋 List of Teams:\n",
      "1. Athletic Club\n",
      "2. Atletico Madrid\n",
      "3. Barcelona\n",
      "4. CA Osasuna\n",
      "5. RC Celta de Vigo\n",
      "6. RCD Mallorca\n",
      "7. Rayo Vallecano\n",
      "8. Real Betis\n",
      "9. Real Madrid\n",
      "10. Villarreal CF\n",
      "\n",
      "🏆 Available Leagues:\n",
      "1. Bundesliga\n",
      "2. CAF Champions League\n",
      "3. Club World Championship\n",
      "4. Copa del Rey\n",
      "5. Egyptian Premier League\n",
      "6. LaLiga\n",
      "7. Premier League\n",
      "8. Seria A\n",
      "9. Supercopa de España\n",
      "10. UEFA Champions League\n",
      "11. UEFA Conference League\n",
      "12. UEFA Europa League\n",
      "13. UEFA Nations League\n",
      "\n",
      "✅ Successfully updated leagues for team 'Real Betis'.\n"
     ]
    }
   ],
   "source": [
    "def assign_team_to_leagues_console():\n",
    "    # Fetch all teams\n",
    "    teams = fetch_all(\"SELECT id, name FROM teams\")\n",
    "    if not teams:\n",
    "        print(\"❌ No teams found.\")\n",
    "        return\n",
    "\n",
    "    print(\"\\n📋 List of Teams:\")\n",
    "    for i, team in enumerate(teams, start=1):\n",
    "        print(f\"{i}. {team['name']}\")\n",
    "\n",
    "    choice = int(input(\"\\nEnter the number of the team to assign leagues: \"))\n",
    "    selected_team = teams[choice - 1]\n",
    "    selected_team_id = selected_team['id']\n",
    "\n",
    "    # Fetch all leagues\n",
    "    leagues = fetch_all(\"SELECT id, name FROM leagues\")\n",
    "    if not leagues:\n",
    "        print(\"❌ No leagues found.\")\n",
    "        return\n",
    "\n",
    "    print(\"\\n🏆 Available Leagues:\")\n",
    "    for i, league in enumerate(leagues, start=1):\n",
    "        print(f\"{i}. {league['name']}\")\n",
    "\n",
    "    selected_numbers = input(\"\\nEnter the numbers of the leagues to assign (comma-separated): \")\n",
    "    selected_indices = [int(x.strip()) for x in selected_numbers.split(\",\")]\n",
    "    selected_league_ids = [leagues[i - 1]['id'] for i in selected_indices]\n",
    "\n",
    "    # Delete old assignments\n",
    "    execute_query(\"DELETE FROM team_league WHERE team_id = ?\", (selected_team_id,))\n",
    "\n",
    "    # Insert new assignments\n",
    "    for league_id in selected_league_ids:\n",
    "        execute_query(\n",
    "            \"INSERT INTO team_league (team_id, league_id) VALUES (?, ?)\",\n",
    "            (selected_team_id, league_id)\n",
    "        )\n",
    "\n",
    "    print(f\"\\n✅ Successfully updated leagues for team '{selected_team['name']}'.\")\n",
    "\n",
    "assign_team_to_leagues_console()"
   ]
  },
  {
   "cell_type": "code",
   "execution_count": null,
   "id": "87095846",
   "metadata": {},
   "outputs": [],
   "source": []
  }
 ],
 "metadata": {
  "kernelspec": {
   "display_name": "Python 3",
   "language": "python",
   "name": "python3"
  },
  "language_info": {
   "codemirror_mode": {
    "name": "ipython",
    "version": 3
   },
   "file_extension": ".py",
   "mimetype": "text/x-python",
   "name": "python",
   "nbconvert_exporter": "python",
   "pygments_lexer": "ipython3",
   "version": "3.13.2"
  }
 },
 "nbformat": 4,
 "nbformat_minor": 5
}
