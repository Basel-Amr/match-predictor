{
 "cells": [
  {
   "cell_type": "code",
   "execution_count": 9,
   "id": "aa00b0c6",
   "metadata": {},
   "outputs": [],
   "source": [
    "import os\n",
    "from dotenv import load_dotenv\n",
    "import sqlite3\n",
    "from rich.console import Console\n",
    "from rich.table import Table\n",
    "from rich.panel import Panel\n",
    "from rich import box"
   ]
  },
  {
   "cell_type": "code",
   "execution_count": 10,
   "id": "740fdb56",
   "metadata": {},
   "outputs": [],
   "source": [
    "# Load environment variables\n",
    "load_dotenv()\n",
    "\n",
    "console = Console()"
   ]
  },
  {
   "cell_type": "code",
   "execution_count": 11,
   "id": "966e0abc",
   "metadata": {},
   "outputs": [],
   "source": [
    "DB_FILE = os.getenv(\"DB_FILE\", \"game_database.db\")\n",
    "DB_PASSWORD = os.getenv(\"DB_PASSWORD\")"
   ]
  },
  {
   "cell_type": "code",
   "execution_count": 12,
   "id": "b6e71748",
   "metadata": {},
   "outputs": [],
   "source": [
    "def get_connection():\n",
    "    conn = sqlite3.connect(DB_FILE, timeout=10)  # Wait up to 10 seconds\n",
    "    cursor = conn.cursor()\n",
    "    cursor.execute(f\"PRAGMA key = '{DB_PASSWORD}';\")   # Your existing key setting\n",
    "    cursor.execute(\"PRAGMA foreign_keys = ON;\")        # Enable foreign key support\n",
    "    cursor.close()\n",
    "    return conn\n"
   ]
  },
  {
   "cell_type": "code",
   "execution_count": 13,
   "id": "1becba0a",
   "metadata": {},
   "outputs": [],
   "source": [
    "def execute_query(query: str):\n",
    "    try:\n",
    "        conn = get_connection()\n",
    "        cursor = conn.cursor()\n",
    "\n",
    "        console.print(\"[bold cyan]📡 Executing Query...[/bold cyan]\")\n",
    "        cursor.execute(query)\n",
    "\n",
    "        if query.strip().lower().startswith(\"select\"):\n",
    "            rows = cursor.fetchall()\n",
    "            if rows:\n",
    "                columns = [description[0] for description in cursor.description]\n",
    "\n",
    "                table = Table(title=\"Query Results\", box=box.ROUNDED, show_lines=True)\n",
    "                for col in columns:\n",
    "                    table.add_column(col, style=\"bold magenta\")\n",
    "\n",
    "                for row in rows:\n",
    "                    table.add_row(*[str(cell) for cell in row])\n",
    "\n",
    "                console.print(table)\n",
    "                console.print(f\"✅ [green]{len(rows)} rows fetched successfully.[/green]\")\n",
    "            else:\n",
    "                console.print(Panel(\"[yellow]⚠️ Query returned no rows.[/yellow]\", title=\"No Data\", style=\"yellow\"))\n",
    "        else:\n",
    "            conn.commit()\n",
    "            console.print(Panel(f\"✅ [green]Query executed successfully.[/green]\", title=\"Success\", style=\"green\"))\n",
    "\n",
    "    except Exception as e:\n",
    "        console.print(Panel(f\"❗ [red]Error executing query:[/red] {str(e)}\", title=\"Error\", style=\"red\"))\n",
    "\n",
    "    finally:\n",
    "        cursor.close()\n",
    "        conn.close()\n",
    "        console.print(\"[bold cyan]🔌 Connection closed.[/bold cyan]\\n\")"
   ]
  },
  {
   "cell_type": "code",
   "execution_count": 14,
   "id": "0df71eb5",
   "metadata": {},
   "outputs": [],
   "source": [
    "def list_tables():\n",
    "    \"\"\"List all tables with row counts.\"\"\"\n",
    "    query = \"\"\"\n",
    "    SELECT name FROM sqlite_master \n",
    "    WHERE type='table' AND name NOT LIKE 'sqlite_%'\n",
    "    ORDER BY name;\n",
    "    \"\"\"\n",
    "    try:\n",
    "        conn = get_connection()\n",
    "        cursor = conn.cursor()\n",
    "        cursor.execute(query)\n",
    "        tables = cursor.fetchall()\n",
    "\n",
    "        if not tables:\n",
    "            console.print(Panel(\"[yellow]⚠️ No tables found in the database.[/yellow]\", title=\"No Tables\", style=\"yellow\"))\n",
    "            return\n",
    "\n",
    "        table = Table(title=\"Tables in Database\", box=box.ROUNDED, show_lines=True)\n",
    "        table.add_column(\"Table Name\", style=\"bold green\")\n",
    "        table.add_column(\"Number of Records\", style=\"bold cyan\", justify=\"right\")\n",
    "\n",
    "        for (table_name,) in tables:\n",
    "            cursor.execute(f\"SELECT COUNT(*) FROM {table_name}\")\n",
    "            count = cursor.fetchone()[0]\n",
    "            table.add_row(f\"📋 {table_name}\", str(count))\n",
    "\n",
    "        console.print(table)\n",
    "    except Exception as e:\n",
    "        console.print(Panel(f\"❗ [red]Error listing tables:[/red] {str(e)}\", title=\"Error\", style=\"red\"))\n",
    "    finally:\n",
    "        cursor.close()\n",
    "        conn.close()\n",
    "        console.print(\"[bold cyan]🔌 Connection closed.[/bold cyan]\\n\")"
   ]
  },
  {
   "cell_type": "code",
   "execution_count": 15,
   "id": "e5662e81",
   "metadata": {},
   "outputs": [],
   "source": [
    "def table_info(table_name: str):\n",
    "    \"\"\"Show info about table: columns, row count, and sample rows (max 10).\"\"\"\n",
    "    try:\n",
    "        conn = get_connection()\n",
    "        cursor = conn.cursor()\n",
    "\n",
    "        # Check if table exists\n",
    "        cursor.execute(\"SELECT name FROM sqlite_master WHERE type='table' AND name=?\", (table_name,))\n",
    "        if not cursor.fetchone():\n",
    "            console.print(Panel(f\"⚠️ Table '{table_name}' does not exist.\", style=\"yellow\"))\n",
    "            return\n",
    "\n",
    "        # Get columns info\n",
    "        cursor.execute(f\"PRAGMA table_info({table_name})\")\n",
    "        columns_info = cursor.fetchall()\n",
    "        columns = [col[1] for col in columns_info]\n",
    "\n",
    "        # Get row count\n",
    "        cursor.execute(f\"SELECT COUNT(*) FROM {table_name}\")\n",
    "        row_count = cursor.fetchone()[0]\n",
    "\n",
    "        # Print columns and row count\n",
    "        info_panel = Panel.fit(\n",
    "            f\"📋 [bold green]Table:[/bold green] {table_name}\\n\"\n",
    "            f\"🔢 [bold cyan]Columns:[/bold cyan] {', '.join(columns)}\\n\"\n",
    "            f\"📊 [bold magenta]Total Rows:[/bold magenta] {row_count}\",\n",
    "            title=\"Table Info\",\n",
    "            style=\"blue\",\n",
    "        )\n",
    "        console.print(info_panel)\n",
    "\n",
    "        # Fetch and show up to 10 rows\n",
    "        cursor.execute(f\"SELECT * FROM {table_name} LIMIT 10\")\n",
    "        rows = cursor.fetchall()\n",
    "\n",
    "        if rows:\n",
    "            table = Table(title=f\"Sample Data from {table_name}\", box=box.ROUNDED, show_lines=True)\n",
    "            for col in columns:\n",
    "                table.add_column(col, style=\"bold magenta\")\n",
    "            for row in rows:\n",
    "                table.add_row(*[str(cell) for cell in row])\n",
    "            console.print(table)\n",
    "        else:\n",
    "            console.print(Panel(\"[yellow]⚠️ No data found in the table.[/yellow]\", title=\"Empty Table\", style=\"yellow\"))\n",
    "\n",
    "    except Exception as e:\n",
    "        console.print(Panel(f\"❗ [red]Error fetching table info:[/red] {str(e)}\", title=\"Error\", style=\"red\"))\n",
    "    finally:\n",
    "        cursor.close()\n",
    "        conn.close()\n",
    "        console.print(\"[bold cyan]🔌 Connection closed.[/bold cyan]\\n\")"
   ]
  },
  {
   "cell_type": "code",
   "execution_count": 16,
   "id": "4d4b74ad",
   "metadata": {},
   "outputs": [
    {
     "data": {
      "text/html": [
       "<pre style=\"white-space:pre;overflow-x:auto;line-height:normal;font-family:Menlo,'DejaVu Sans Mono',consolas,'Courier New',monospace\"><span style=\"font-style: italic\">            Tables in Database            </span>\n",
       "╭────────────────────┬───────────────────╮\n",
       "│<span style=\"font-weight: bold\"> Table Name         </span>│<span style=\"font-weight: bold\"> Number of Records </span>│\n",
       "├────────────────────┼───────────────────┤\n",
       "│<span style=\"color: #008000; text-decoration-color: #008000; font-weight: bold\"> 📋 achievements    </span>│<span style=\"color: #008080; text-decoration-color: #008080; font-weight: bold\">                 2 </span>│\n",
       "├────────────────────┼───────────────────┤\n",
       "│<span style=\"color: #008000; text-decoration-color: #008000; font-weight: bold\"> 📋 avatars         </span>│<span style=\"color: #008080; text-decoration-color: #008080; font-weight: bold\">                 0 </span>│\n",
       "├────────────────────┼───────────────────┤\n",
       "│<span style=\"color: #008000; text-decoration-color: #008000; font-weight: bold\"> 📋 leagues         </span>│<span style=\"color: #008080; text-decoration-color: #008080; font-weight: bold\">                13 </span>│\n",
       "├────────────────────┼───────────────────┤\n",
       "│<span style=\"color: #008000; text-decoration-color: #008000; font-weight: bold\"> 📋 legs            </span>│<span style=\"color: #008080; text-decoration-color: #008080; font-weight: bold\">                 4 </span>│\n",
       "├────────────────────┼───────────────────┤\n",
       "│<span style=\"color: #008000; text-decoration-color: #008000; font-weight: bold\"> 📋 matches         </span>│<span style=\"color: #008080; text-decoration-color: #008080; font-weight: bold\">                 4 </span>│\n",
       "├────────────────────┼───────────────────┤\n",
       "│<span style=\"color: #008000; text-decoration-color: #008000; font-weight: bold\"> 📋 matches_new     </span>│<span style=\"color: #008080; text-decoration-color: #008080; font-weight: bold\">                 0 </span>│\n",
       "├────────────────────┼───────────────────┤\n",
       "│<span style=\"color: #008000; text-decoration-color: #008000; font-weight: bold\"> 📋 players         </span>│<span style=\"color: #008080; text-decoration-color: #008080; font-weight: bold\">                 2 </span>│\n",
       "├────────────────────┼───────────────────┤\n",
       "│<span style=\"color: #008000; text-decoration-color: #008000; font-weight: bold\"> 📋 predictions     </span>│<span style=\"color: #008080; text-decoration-color: #008080; font-weight: bold\">                19 </span>│\n",
       "├────────────────────┼───────────────────┤\n",
       "│<span style=\"color: #008000; text-decoration-color: #008000; font-weight: bold\"> 📋 rounds          </span>│<span style=\"color: #008080; text-decoration-color: #008080; font-weight: bold\">                 3 </span>│\n",
       "├────────────────────┼───────────────────┤\n",
       "│<span style=\"color: #008000; text-decoration-color: #008000; font-weight: bold\"> 📋 stages          </span>│<span style=\"color: #008080; text-decoration-color: #008080; font-weight: bold\">                33 </span>│\n",
       "├────────────────────┼───────────────────┤\n",
       "│<span style=\"color: #008000; text-decoration-color: #008000; font-weight: bold\"> 📋 team_league     </span>│<span style=\"color: #008080; text-decoration-color: #008080; font-weight: bold\">               113 </span>│\n",
       "├────────────────────┼───────────────────┤\n",
       "│<span style=\"color: #008000; text-decoration-color: #008000; font-weight: bold\"> 📋 teams           </span>│<span style=\"color: #008080; text-decoration-color: #008080; font-weight: bold\">                57 </span>│\n",
       "├────────────────────┼───────────────────┤\n",
       "│<span style=\"color: #008000; text-decoration-color: #008000; font-weight: bold\"> 📋 two_legged_ties </span>│<span style=\"color: #008080; text-decoration-color: #008080; font-weight: bold\">                 2 </span>│\n",
       "╰────────────────────┴───────────────────╯\n",
       "</pre>\n"
      ],
      "text/plain": [
       "\u001b[3m            Tables in Database            \u001b[0m\n",
       "╭────────────────────┬───────────────────╮\n",
       "│\u001b[1m \u001b[0m\u001b[1mTable Name        \u001b[0m\u001b[1m \u001b[0m│\u001b[1m \u001b[0m\u001b[1mNumber of Records\u001b[0m\u001b[1m \u001b[0m│\n",
       "├────────────────────┼───────────────────┤\n",
       "│\u001b[1;32m \u001b[0m\u001b[1;32m📋 achievements   \u001b[0m\u001b[1;32m \u001b[0m│\u001b[1;36m \u001b[0m\u001b[1;36m                2\u001b[0m\u001b[1;36m \u001b[0m│\n",
       "├────────────────────┼───────────────────┤\n",
       "│\u001b[1;32m \u001b[0m\u001b[1;32m📋 avatars        \u001b[0m\u001b[1;32m \u001b[0m│\u001b[1;36m \u001b[0m\u001b[1;36m                0\u001b[0m\u001b[1;36m \u001b[0m│\n",
       "├────────────────────┼───────────────────┤\n",
       "│\u001b[1;32m \u001b[0m\u001b[1;32m📋 leagues        \u001b[0m\u001b[1;32m \u001b[0m│\u001b[1;36m \u001b[0m\u001b[1;36m               13\u001b[0m\u001b[1;36m \u001b[0m│\n",
       "├────────────────────┼───────────────────┤\n",
       "│\u001b[1;32m \u001b[0m\u001b[1;32m📋 legs           \u001b[0m\u001b[1;32m \u001b[0m│\u001b[1;36m \u001b[0m\u001b[1;36m                4\u001b[0m\u001b[1;36m \u001b[0m│\n",
       "├────────────────────┼───────────────────┤\n",
       "│\u001b[1;32m \u001b[0m\u001b[1;32m📋 matches        \u001b[0m\u001b[1;32m \u001b[0m│\u001b[1;36m \u001b[0m\u001b[1;36m                4\u001b[0m\u001b[1;36m \u001b[0m│\n",
       "├────────────────────┼───────────────────┤\n",
       "│\u001b[1;32m \u001b[0m\u001b[1;32m📋 matches_new    \u001b[0m\u001b[1;32m \u001b[0m│\u001b[1;36m \u001b[0m\u001b[1;36m                0\u001b[0m\u001b[1;36m \u001b[0m│\n",
       "├────────────────────┼───────────────────┤\n",
       "│\u001b[1;32m \u001b[0m\u001b[1;32m📋 players        \u001b[0m\u001b[1;32m \u001b[0m│\u001b[1;36m \u001b[0m\u001b[1;36m                2\u001b[0m\u001b[1;36m \u001b[0m│\n",
       "├────────────────────┼───────────────────┤\n",
       "│\u001b[1;32m \u001b[0m\u001b[1;32m📋 predictions    \u001b[0m\u001b[1;32m \u001b[0m│\u001b[1;36m \u001b[0m\u001b[1;36m               19\u001b[0m\u001b[1;36m \u001b[0m│\n",
       "├────────────────────┼───────────────────┤\n",
       "│\u001b[1;32m \u001b[0m\u001b[1;32m📋 rounds         \u001b[0m\u001b[1;32m \u001b[0m│\u001b[1;36m \u001b[0m\u001b[1;36m                3\u001b[0m\u001b[1;36m \u001b[0m│\n",
       "├────────────────────┼───────────────────┤\n",
       "│\u001b[1;32m \u001b[0m\u001b[1;32m📋 stages         \u001b[0m\u001b[1;32m \u001b[0m│\u001b[1;36m \u001b[0m\u001b[1;36m               33\u001b[0m\u001b[1;36m \u001b[0m│\n",
       "├────────────────────┼───────────────────┤\n",
       "│\u001b[1;32m \u001b[0m\u001b[1;32m📋 team_league    \u001b[0m\u001b[1;32m \u001b[0m│\u001b[1;36m \u001b[0m\u001b[1;36m              113\u001b[0m\u001b[1;36m \u001b[0m│\n",
       "├────────────────────┼───────────────────┤\n",
       "│\u001b[1;32m \u001b[0m\u001b[1;32m📋 teams          \u001b[0m\u001b[1;32m \u001b[0m│\u001b[1;36m \u001b[0m\u001b[1;36m               57\u001b[0m\u001b[1;36m \u001b[0m│\n",
       "├────────────────────┼───────────────────┤\n",
       "│\u001b[1;32m \u001b[0m\u001b[1;32m📋 two_legged_ties\u001b[0m\u001b[1;32m \u001b[0m│\u001b[1;36m \u001b[0m\u001b[1;36m                2\u001b[0m\u001b[1;36m \u001b[0m│\n",
       "╰────────────────────┴───────────────────╯\n"
      ]
     },
     "metadata": {},
     "output_type": "display_data"
    },
    {
     "data": {
      "text/html": [
       "<pre style=\"white-space:pre;overflow-x:auto;line-height:normal;font-family:Menlo,'DejaVu Sans Mono',consolas,'Courier New',monospace\"><span style=\"color: #008080; text-decoration-color: #008080; font-weight: bold\">🔌 Connection closed.</span>\n",
       "\n",
       "</pre>\n"
      ],
      "text/plain": [
       "\u001b[1;36m🔌 Connection closed.\u001b[0m\n",
       "\n"
      ]
     },
     "metadata": {},
     "output_type": "display_data"
    }
   ],
   "source": [
    "list_tables()"
   ]
  },
  {
   "cell_type": "code",
   "execution_count": 20,
   "id": "f1a33eac",
   "metadata": {},
   "outputs": [],
   "source": [
    "def drop_tables_interactive():\n",
    "    try:\n",
    "        conn = get_connection()\n",
    "        cursor = conn.cursor()\n",
    "\n",
    "        # Get list of user tables\n",
    "        cursor.execute(\"SELECT name FROM sqlite_master WHERE type='table' AND name NOT LIKE 'sqlite_%';\")\n",
    "        tables = [row[0] for row in cursor.fetchall()]\n",
    "\n",
    "        if not tables:\n",
    "            print(\"No user tables found to drop.\")\n",
    "            return\n",
    "\n",
    "        print(\"\\n📋 Existing tables:\")\n",
    "        for idx, table in enumerate(tables, 1):\n",
    "            print(f\"{idx}. {table}\")\n",
    "\n",
    "        print(\"\\nOptions:\")\n",
    "        print(\"  🔢 Enter the table number to drop a specific table\")\n",
    "        print(\"  💣 Enter 'all' to drop ALL tables\")\n",
    "        print(\"  ❌ Enter 'exit' to cancel and exit\")\n",
    "\n",
    "        while tables:\n",
    "            choice = input(\"\\nYour choice: \").strip().lower()\n",
    "\n",
    "            if choice == 'exit':\n",
    "                print(\"🚪 Exit without dropping tables.\")\n",
    "                break\n",
    "\n",
    "            elif choice == 'all':\n",
    "                for table in tables:\n",
    "                    try:\n",
    "                        cursor.execute(f\"DROP TABLE IF EXISTS {table};\")\n",
    "                        print(f\"✅ Dropped table '{table}'\")\n",
    "                    except sqlite3.OperationalError as e:\n",
    "                        print(f\"❌ Failed to drop '{table}': {e}\")\n",
    "                conn.commit()\n",
    "                break\n",
    "\n",
    "            elif choice.isdigit():\n",
    "                idx = int(choice)\n",
    "                if 1 <= idx <= len(tables):\n",
    "                    table = tables[idx - 1]\n",
    "                    try:\n",
    "                        cursor.execute(f\"DROP TABLE IF EXISTS {table};\")\n",
    "                        conn.commit()\n",
    "                        print(f\"✅ Dropped table '{table}'\")\n",
    "                        tables.pop(idx - 1)\n",
    "                    except sqlite3.OperationalError as e:\n",
    "                        print(f\"❌ Failed to drop '{table}': {e}\")\n",
    "\n",
    "                    if not tables:\n",
    "                        print(\"📭 No more tables left.\")\n",
    "                        break\n",
    "                    else:\n",
    "                        print(\"\\n📋 Remaining tables:\")\n",
    "                        for i, t in enumerate(tables, 1):\n",
    "                            print(f\"{i}. {t}\")\n",
    "                else:\n",
    "                    print(\"⚠️ Invalid table number, try again.\")\n",
    "            else:\n",
    "                print(\"⚠️ Invalid input, try again.\")\n",
    "\n",
    "    except sqlite3.OperationalError as e:\n",
    "        print(f\"🚫 Database operation failed: {e}\")\n",
    "    finally:\n",
    "        try:\n",
    "            cursor.close()\n",
    "        except:\n",
    "            pass\n",
    "        try:\n",
    "            conn.close()\n",
    "        except:\n",
    "            pass\n"
   ]
  },
  {
   "cell_type": "code",
   "execution_count": 13,
   "id": "d43e0204",
   "metadata": {},
   "outputs": [
    {
     "name": "stdout",
     "output_type": "stream",
     "text": [
      "\n",
      "📋 Existing tables:\n",
      "1. rounds\n",
      "2. teams\n",
      "3. matches\n",
      "4. legs\n",
      "5. avatars\n",
      "6. predictions\n",
      "7. achievements\n",
      "8. team_league\n",
      "9. players\n",
      "10. leagues\n",
      "\n",
      "Options:\n",
      "  🔢 Enter the table number to drop a specific table\n",
      "  💣 Enter 'all' to drop ALL tables\n",
      "  ❌ Enter 'exit' to cancel and exit\n",
      "❌ Failed to drop 'teams': database is locked\n",
      "\n",
      "📋 Remaining tables:\n",
      "1. rounds\n",
      "2. teams\n",
      "3. matches\n",
      "4. legs\n",
      "5. avatars\n",
      "6. predictions\n",
      "7. achievements\n",
      "8. team_league\n",
      "9. players\n",
      "10. leagues\n",
      "🚪 Exit without dropping tables.\n"
     ]
    }
   ],
   "source": [
    "drop_tables_interactive()"
   ]
  },
  {
   "cell_type": "markdown",
   "id": "17228cff",
   "metadata": {},
   "source": [
    "## 1.1 🧑‍💼 1. Players Table"
   ]
  },
  {
   "cell_type": "code",
   "execution_count": null,
   "id": "15734788",
   "metadata": {},
   "outputs": [
    {
     "data": {
      "text/html": [
       "<pre style=\"white-space:pre;overflow-x:auto;line-height:normal;font-family:Menlo,'DejaVu Sans Mono',consolas,'Courier New',monospace\"><span style=\"color: #008080; text-decoration-color: #008080; font-weight: bold\">📡 Executing Query...</span>\n",
       "</pre>\n"
      ],
      "text/plain": [
       "\u001b[1;36m📡 Executing Query\u001b[0m\u001b[1;36m...\u001b[0m\n"
      ]
     },
     "metadata": {},
     "output_type": "display_data"
    },
    {
     "data": {
      "text/html": [
       "<pre style=\"white-space:pre;overflow-x:auto;line-height:normal;font-family:Menlo,'DejaVu Sans Mono',consolas,'Courier New',monospace\"><span style=\"color: #008000; text-decoration-color: #008000\">╭────────────────────────────────────────────────────</span> Success <span style=\"color: #008000; text-decoration-color: #008000\">────────────────────────────────────────────────────╮</span>\n",
       "<span style=\"color: #008000; text-decoration-color: #008000\">│ ✅ Query executed successfully.                                                                                 │</span>\n",
       "<span style=\"color: #008000; text-decoration-color: #008000\">╰─────────────────────────────────────────────────────────────────────────────────────────────────────────────────╯</span>\n",
       "</pre>\n"
      ],
      "text/plain": [
       "\u001b[32m╭─\u001b[0m\u001b[32m───────────────────────────────────────────────────\u001b[0m Success \u001b[32m───────────────────────────────────────────────────\u001b[0m\u001b[32m─╮\u001b[0m\n",
       "\u001b[32m│\u001b[0m\u001b[32m \u001b[0m\u001b[32m✅ \u001b[0m\u001b[32mQuery executed successfully.\u001b[0m\u001b[32m                                                                                \u001b[0m\u001b[32m \u001b[0m\u001b[32m│\u001b[0m\n",
       "\u001b[32m╰─────────────────────────────────────────────────────────────────────────────────────────────────────────────────╯\u001b[0m\n"
      ]
     },
     "metadata": {},
     "output_type": "display_data"
    },
    {
     "data": {
      "text/html": [
       "<pre style=\"white-space:pre;overflow-x:auto;line-height:normal;font-family:Menlo,'DejaVu Sans Mono',consolas,'Courier New',monospace\"><span style=\"color: #008080; text-decoration-color: #008080; font-weight: bold\">🔌 Connection closed.</span>\n",
       "\n",
       "</pre>\n"
      ],
      "text/plain": [
       "\u001b[1;36m🔌 Connection closed.\u001b[0m\n",
       "\n"
      ]
     },
     "metadata": {},
     "output_type": "display_data"
    }
   ],
   "source": [
    "query_players = \"\"\"\n",
    "CREATE TABLE IF NOT EXISTS players (\n",
    "    id INTEGER PRIMARY KEY AUTOINCREMENT,\n",
    "    username TEXT NOT NULL UNIQUE,\n",
    "    email TEXT UNIQUE NOT NULL,\n",
    "    password_hash TEXT NOT NULL,\n",
    "    avatar_url TEXT,\n",
    "    role TEXT CHECK(role IN ('admin', 'player')) DEFAULT 'player',\n",
    "    is_confirmed INTEGER DEFAULT 1,\n",
    "    reset_token TEXT,\n",
    "    created_at TEXT DEFAULT CURRENT_TIMESTAMP,\n",
    "    updated_at TEXT DEFAULT CURRENT_TIMESTAMP,\n",
    "    last_login_at TEXT DEFAULT NULL\n",
    ");\n",
    "\"\"\"\n",
    "execute_query(query_players)\n"
   ]
  },
  {
   "cell_type": "markdown",
   "id": "ffaaad36",
   "metadata": {},
   "source": [
    "## 2.2 🏆 2. Leagues Table"
   ]
  },
  {
   "cell_type": "code",
   "execution_count": null,
   "id": "dffafa97",
   "metadata": {},
   "outputs": [
    {
     "data": {
      "text/html": [
       "<pre style=\"white-space:pre;overflow-x:auto;line-height:normal;font-family:Menlo,'DejaVu Sans Mono',consolas,'Courier New',monospace\"><span style=\"color: #008080; text-decoration-color: #008080; font-weight: bold\">📡 Executing Query...</span>\n",
       "</pre>\n"
      ],
      "text/plain": [
       "\u001b[1;36m📡 Executing Query\u001b[0m\u001b[1;36m...\u001b[0m\n"
      ]
     },
     "metadata": {},
     "output_type": "display_data"
    },
    {
     "data": {
      "text/html": [
       "<pre style=\"white-space:pre;overflow-x:auto;line-height:normal;font-family:Menlo,'DejaVu Sans Mono',consolas,'Courier New',monospace\"><span style=\"color: #008000; text-decoration-color: #008000\">╭────────────────────────────────────────────────────</span> Success <span style=\"color: #008000; text-decoration-color: #008000\">────────────────────────────────────────────────────╮</span>\n",
       "<span style=\"color: #008000; text-decoration-color: #008000\">│ ✅ Query executed successfully.                                                                                 │</span>\n",
       "<span style=\"color: #008000; text-decoration-color: #008000\">╰─────────────────────────────────────────────────────────────────────────────────────────────────────────────────╯</span>\n",
       "</pre>\n"
      ],
      "text/plain": [
       "\u001b[32m╭─\u001b[0m\u001b[32m───────────────────────────────────────────────────\u001b[0m Success \u001b[32m───────────────────────────────────────────────────\u001b[0m\u001b[32m─╮\u001b[0m\n",
       "\u001b[32m│\u001b[0m\u001b[32m \u001b[0m\u001b[32m✅ \u001b[0m\u001b[32mQuery executed successfully.\u001b[0m\u001b[32m                                                                                \u001b[0m\u001b[32m \u001b[0m\u001b[32m│\u001b[0m\n",
       "\u001b[32m╰─────────────────────────────────────────────────────────────────────────────────────────────────────────────────╯\u001b[0m\n"
      ]
     },
     "metadata": {},
     "output_type": "display_data"
    },
    {
     "data": {
      "text/html": [
       "<pre style=\"white-space:pre;overflow-x:auto;line-height:normal;font-family:Menlo,'DejaVu Sans Mono',consolas,'Courier New',monospace\"><span style=\"color: #008080; text-decoration-color: #008080; font-weight: bold\">🔌 Connection closed.</span>\n",
       "\n",
       "</pre>\n"
      ],
      "text/plain": [
       "\u001b[1;36m🔌 Connection closed.\u001b[0m\n",
       "\n"
      ]
     },
     "metadata": {},
     "output_type": "display_data"
    }
   ],
   "source": [
    "query_leagues = \"\"\"\n",
    "CREATE TABLE IF NOT EXISTS leagues (\n",
    "    id INTEGER PRIMARY KEY AUTOINCREMENT,\n",
    "    name TEXT UNIQUE NOT NULL,\n",
    "    country TEXT,\n",
    "    logo_path TEXT,\n",
    "    created_at TEXT DEFAULT CURRENT_TIMESTAMP\n",
    ");\n",
    "\"\"\"\n",
    "execute_query(query_leagues)\n"
   ]
  },
  {
   "cell_type": "markdown",
   "id": "7eb75d7c",
   "metadata": {},
   "source": [
    "## 3.3 📅 3. Rounds Table"
   ]
  },
  {
   "cell_type": "code",
   "execution_count": 12,
   "id": "4f920f5e",
   "metadata": {},
   "outputs": [
    {
     "data": {
      "text/html": [
       "<pre style=\"white-space:pre;overflow-x:auto;line-height:normal;font-family:Menlo,'DejaVu Sans Mono',consolas,'Courier New',monospace\"><span style=\"color: #008080; text-decoration-color: #008080; font-weight: bold\">📡 Executing Query...</span>\n",
       "</pre>\n"
      ],
      "text/plain": [
       "\u001b[1;36m📡 Executing Query\u001b[0m\u001b[1;36m...\u001b[0m\n"
      ]
     },
     "metadata": {},
     "output_type": "display_data"
    },
    {
     "data": {
      "text/html": [
       "<pre style=\"white-space:pre;overflow-x:auto;line-height:normal;font-family:Menlo,'DejaVu Sans Mono',consolas,'Courier New',monospace\"><span style=\"color: #008000; text-decoration-color: #008000\">╭────────────────────────────────────────────────────</span> Success <span style=\"color: #008000; text-decoration-color: #008000\">────────────────────────────────────────────────────╮</span>\n",
       "<span style=\"color: #008000; text-decoration-color: #008000\">│ ✅ Query executed successfully.                                                                                 │</span>\n",
       "<span style=\"color: #008000; text-decoration-color: #008000\">╰─────────────────────────────────────────────────────────────────────────────────────────────────────────────────╯</span>\n",
       "</pre>\n"
      ],
      "text/plain": [
       "\u001b[32m╭─\u001b[0m\u001b[32m───────────────────────────────────────────────────\u001b[0m Success \u001b[32m───────────────────────────────────────────────────\u001b[0m\u001b[32m─╮\u001b[0m\n",
       "\u001b[32m│\u001b[0m\u001b[32m \u001b[0m\u001b[32m✅ \u001b[0m\u001b[32mQuery executed successfully.\u001b[0m\u001b[32m                                                                                \u001b[0m\u001b[32m \u001b[0m\u001b[32m│\u001b[0m\n",
       "\u001b[32m╰─────────────────────────────────────────────────────────────────────────────────────────────────────────────────╯\u001b[0m\n"
      ]
     },
     "metadata": {},
     "output_type": "display_data"
    },
    {
     "data": {
      "text/html": [
       "<pre style=\"white-space:pre;overflow-x:auto;line-height:normal;font-family:Menlo,'DejaVu Sans Mono',consolas,'Courier New',monospace\"><span style=\"color: #008080; text-decoration-color: #008080; font-weight: bold\">🔌 Connection closed.</span>\n",
       "\n",
       "</pre>\n"
      ],
      "text/plain": [
       "\u001b[1;36m🔌 Connection closed.\u001b[0m\n",
       "\n"
      ]
     },
     "metadata": {},
     "output_type": "display_data"
    }
   ],
   "source": [
    "query_rounds = \"\"\"\n",
    "CREATE TABLE IF NOT EXISTS rounds (\n",
    "    id INTEGER PRIMARY KEY AUTOINCREMENT,\n",
    "    name TEXT NOT NULL,\n",
    "    start_date TEXT NOT NULL,\n",
    "    end_date TEXT NOT NULL,\n",
    "    created_at TEXT DEFAULT CURRENT_TIMESTAMP\n",
    ");\n",
    "\"\"\"\n",
    "execute_query(query_rounds)"
   ]
  },
  {
   "cell_type": "markdown",
   "id": "357393e7",
   "metadata": {},
   "source": [
    "## 4.4 🏟️ 4. Teams Table"
   ]
  },
  {
   "cell_type": "code",
   "execution_count": null,
   "id": "e5136418",
   "metadata": {},
   "outputs": [
    {
     "data": {
      "text/html": [
       "<pre style=\"white-space:pre;overflow-x:auto;line-height:normal;font-family:Menlo,'DejaVu Sans Mono',consolas,'Courier New',monospace\"><span style=\"color: #008080; text-decoration-color: #008080; font-weight: bold\">📡 Executing Query...</span>\n",
       "</pre>\n"
      ],
      "text/plain": [
       "\u001b[1;36m📡 Executing Query\u001b[0m\u001b[1;36m...\u001b[0m\n"
      ]
     },
     "metadata": {},
     "output_type": "display_data"
    },
    {
     "data": {
      "text/html": [
       "<pre style=\"white-space:pre;overflow-x:auto;line-height:normal;font-family:Menlo,'DejaVu Sans Mono',consolas,'Courier New',monospace\"><span style=\"color: #800000; text-decoration-color: #800000\">╭─────────────────────────────────────────────────────</span> Error <span style=\"color: #800000; text-decoration-color: #800000\">─────────────────────────────────────────────────────╮</span>\n",
       "<span style=\"color: #800000; text-decoration-color: #800000\">│ ❗ Error executing query: database is locked                                                                    │</span>\n",
       "<span style=\"color: #800000; text-decoration-color: #800000\">╰─────────────────────────────────────────────────────────────────────────────────────────────────────────────────╯</span>\n",
       "</pre>\n"
      ],
      "text/plain": [
       "\u001b[31m╭─\u001b[0m\u001b[31m────────────────────────────────────────────────────\u001b[0m Error \u001b[31m────────────────────────────────────────────────────\u001b[0m\u001b[31m─╮\u001b[0m\n",
       "\u001b[31m│\u001b[0m\u001b[31m \u001b[0m\u001b[31m❗ \u001b[0m\u001b[31mError executing query:\u001b[0m\u001b[31m database is locked\u001b[0m\u001b[31m                                                                   \u001b[0m\u001b[31m \u001b[0m\u001b[31m│\u001b[0m\n",
       "\u001b[31m╰─────────────────────────────────────────────────────────────────────────────────────────────────────────────────╯\u001b[0m\n"
      ]
     },
     "metadata": {},
     "output_type": "display_data"
    },
    {
     "data": {
      "text/html": [
       "<pre style=\"white-space:pre;overflow-x:auto;line-height:normal;font-family:Menlo,'DejaVu Sans Mono',consolas,'Courier New',monospace\"><span style=\"color: #008080; text-decoration-color: #008080; font-weight: bold\">🔌 Connection closed.</span>\n",
       "\n",
       "</pre>\n"
      ],
      "text/plain": [
       "\u001b[1;36m🔌 Connection closed.\u001b[0m\n",
       "\n"
      ]
     },
     "metadata": {},
     "output_type": "display_data"
    },
    {
     "data": {
      "text/html": [
       "<pre style=\"white-space:pre;overflow-x:auto;line-height:normal;font-family:Menlo,'DejaVu Sans Mono',consolas,'Courier New',monospace\"><span style=\"color: #008080; text-decoration-color: #008080; font-weight: bold\">📡 Executing Query...</span>\n",
       "</pre>\n"
      ],
      "text/plain": [
       "\u001b[1;36m📡 Executing Query\u001b[0m\u001b[1;36m...\u001b[0m\n"
      ]
     },
     "metadata": {},
     "output_type": "display_data"
    },
    {
     "data": {
      "text/html": [
       "<pre style=\"white-space:pre;overflow-x:auto;line-height:normal;font-family:Menlo,'DejaVu Sans Mono',consolas,'Courier New',monospace\"><span style=\"color: #800000; text-decoration-color: #800000\">╭─────────────────────────────────────────────────────</span> Error <span style=\"color: #800000; text-decoration-color: #800000\">─────────────────────────────────────────────────────╮</span>\n",
       "<span style=\"color: #800000; text-decoration-color: #800000\">│ ❗ Error executing query: table teams already exists                                                            │</span>\n",
       "<span style=\"color: #800000; text-decoration-color: #800000\">╰─────────────────────────────────────────────────────────────────────────────────────────────────────────────────╯</span>\n",
       "</pre>\n"
      ],
      "text/plain": [
       "\u001b[31m╭─\u001b[0m\u001b[31m────────────────────────────────────────────────────\u001b[0m Error \u001b[31m────────────────────────────────────────────────────\u001b[0m\u001b[31m─╮\u001b[0m\n",
       "\u001b[31m│\u001b[0m\u001b[31m \u001b[0m\u001b[31m❗ \u001b[0m\u001b[31mError executing query:\u001b[0m\u001b[31m table teams already exists\u001b[0m\u001b[31m                                                           \u001b[0m\u001b[31m \u001b[0m\u001b[31m│\u001b[0m\n",
       "\u001b[31m╰─────────────────────────────────────────────────────────────────────────────────────────────────────────────────╯\u001b[0m\n"
      ]
     },
     "metadata": {},
     "output_type": "display_data"
    },
    {
     "data": {
      "text/html": [
       "<pre style=\"white-space:pre;overflow-x:auto;line-height:normal;font-family:Menlo,'DejaVu Sans Mono',consolas,'Courier New',monospace\"><span style=\"color: #008080; text-decoration-color: #008080; font-weight: bold\">🔌 Connection closed.</span>\n",
       "\n",
       "</pre>\n"
      ],
      "text/plain": [
       "\u001b[1;36m🔌 Connection closed.\u001b[0m\n",
       "\n"
      ]
     },
     "metadata": {},
     "output_type": "display_data"
    }
   ],
   "source": [
    "query_teams = \"\"\"\n",
    "CREATE TABLE IF NOT EXISTS teams (\n",
    "    id INTEGER PRIMARY KEY AUTOINCREMENT,\n",
    "    name TEXT NOT NULL UNIQUE,\n",
    "    logo_path TEXT,\n",
    "    league_id INTEGER NOT NULL,\n",
    "    nationality TEXT,  -- New column added here\n",
    "    created_at TEXT DEFAULT CURRENT_TIMESTAMP,\n",
    "    FOREIGN KEY (league_id) REFERENCES leagues(id) ON DELETE CASCADE\n",
    ");\n",
    "\"\"\"\n",
    "\n",
    "execute_query(query_teams)\n"
   ]
  },
  {
   "cell_type": "code",
   "execution_count": 54,
   "id": "80713ee9",
   "metadata": {},
   "outputs": [
    {
     "data": {
      "text/html": [
       "<pre style=\"white-space:pre;overflow-x:auto;line-height:normal;font-family:Menlo,'DejaVu Sans Mono',consolas,'Courier New',monospace\"><span style=\"color: #008080; text-decoration-color: #008080; font-weight: bold\">📡 Executing Query...</span>\n",
       "</pre>\n"
      ],
      "text/plain": [
       "\u001b[1;36m📡 Executing Query\u001b[0m\u001b[1;36m...\u001b[0m\n"
      ]
     },
     "metadata": {},
     "output_type": "display_data"
    },
    {
     "data": {
      "text/html": [
       "<pre style=\"white-space:pre;overflow-x:auto;line-height:normal;font-family:Menlo,'DejaVu Sans Mono',consolas,'Courier New',monospace\"><span style=\"color: #008000; text-decoration-color: #008000\">╭────────────────────────────────────────────────────</span> Success <span style=\"color: #008000; text-decoration-color: #008000\">────────────────────────────────────────────────────╮</span>\n",
       "<span style=\"color: #008000; text-decoration-color: #008000\">│ ✅ Query executed successfully.                                                                                 │</span>\n",
       "<span style=\"color: #008000; text-decoration-color: #008000\">╰─────────────────────────────────────────────────────────────────────────────────────────────────────────────────╯</span>\n",
       "</pre>\n"
      ],
      "text/plain": [
       "\u001b[32m╭─\u001b[0m\u001b[32m───────────────────────────────────────────────────\u001b[0m Success \u001b[32m───────────────────────────────────────────────────\u001b[0m\u001b[32m─╮\u001b[0m\n",
       "\u001b[32m│\u001b[0m\u001b[32m \u001b[0m\u001b[32m✅ \u001b[0m\u001b[32mQuery executed successfully.\u001b[0m\u001b[32m                                                                                \u001b[0m\u001b[32m \u001b[0m\u001b[32m│\u001b[0m\n",
       "\u001b[32m╰─────────────────────────────────────────────────────────────────────────────────────────────────────────────────╯\u001b[0m\n"
      ]
     },
     "metadata": {},
     "output_type": "display_data"
    },
    {
     "data": {
      "text/html": [
       "<pre style=\"white-space:pre;overflow-x:auto;line-height:normal;font-family:Menlo,'DejaVu Sans Mono',consolas,'Courier New',monospace\"><span style=\"color: #008080; text-decoration-color: #008080; font-weight: bold\">🔌 Connection closed.</span>\n",
       "\n",
       "</pre>\n"
      ],
      "text/plain": [
       "\u001b[1;36m🔌 Connection closed.\u001b[0m\n",
       "\n"
      ]
     },
     "metadata": {},
     "output_type": "display_data"
    }
   ],
   "source": [
    "alter_query = \"ALTER TABLE teams ADD COLUMN Official_name Text NOT NULL;\"\n",
    "execute_query(alter_query)"
   ]
  },
  {
   "cell_type": "markdown",
   "id": "b67d06c4",
   "metadata": {},
   "source": [
    "## team_league join table"
   ]
  },
  {
   "cell_type": "code",
   "execution_count": null,
   "id": "42a5dd89",
   "metadata": {},
   "outputs": [
    {
     "data": {
      "text/html": [
       "<pre style=\"white-space:pre;overflow-x:auto;line-height:normal;font-family:Menlo,'DejaVu Sans Mono',consolas,'Courier New',monospace\"><span style=\"color: #008080; text-decoration-color: #008080; font-weight: bold\">📡 Executing Query...</span>\n",
       "</pre>\n"
      ],
      "text/plain": [
       "\u001b[1;36m📡 Executing Query\u001b[0m\u001b[1;36m...\u001b[0m\n"
      ]
     },
     "metadata": {},
     "output_type": "display_data"
    },
    {
     "data": {
      "text/html": [
       "<pre style=\"white-space:pre;overflow-x:auto;line-height:normal;font-family:Menlo,'DejaVu Sans Mono',consolas,'Courier New',monospace\"><span style=\"color: #008000; text-decoration-color: #008000\">╭────────────────────────────────────────────────────</span> Success <span style=\"color: #008000; text-decoration-color: #008000\">────────────────────────────────────────────────────╮</span>\n",
       "<span style=\"color: #008000; text-decoration-color: #008000\">│ ✅ Query executed successfully.                                                                                 │</span>\n",
       "<span style=\"color: #008000; text-decoration-color: #008000\">╰─────────────────────────────────────────────────────────────────────────────────────────────────────────────────╯</span>\n",
       "</pre>\n"
      ],
      "text/plain": [
       "\u001b[32m╭─\u001b[0m\u001b[32m───────────────────────────────────────────────────\u001b[0m Success \u001b[32m───────────────────────────────────────────────────\u001b[0m\u001b[32m─╮\u001b[0m\n",
       "\u001b[32m│\u001b[0m\u001b[32m \u001b[0m\u001b[32m✅ \u001b[0m\u001b[32mQuery executed successfully.\u001b[0m\u001b[32m                                                                                \u001b[0m\u001b[32m \u001b[0m\u001b[32m│\u001b[0m\n",
       "\u001b[32m╰─────────────────────────────────────────────────────────────────────────────────────────────────────────────────╯\u001b[0m\n"
      ]
     },
     "metadata": {},
     "output_type": "display_data"
    },
    {
     "data": {
      "text/html": [
       "<pre style=\"white-space:pre;overflow-x:auto;line-height:normal;font-family:Menlo,'DejaVu Sans Mono',consolas,'Courier New',monospace\"><span style=\"color: #008080; text-decoration-color: #008080; font-weight: bold\">🔌 Connection closed.</span>\n",
       "\n",
       "</pre>\n"
      ],
      "text/plain": [
       "\u001b[1;36m🔌 Connection closed.\u001b[0m\n",
       "\n"
      ]
     },
     "metadata": {},
     "output_type": "display_data"
    }
   ],
   "source": [
    "execute_query(\"\"\"\n",
    "CREATE TABLE IF NOT EXISTS team_league (\n",
    "    team_id INTEGER NOT NULL,\n",
    "    league_id INTEGER NOT NULL,\n",
    "    PRIMARY KEY (team_id, league_id),\n",
    "    FOREIGN KEY (team_id) REFERENCES teams(id) ON DELETE CASCADE,\n",
    "    FOREIGN KEY (league_id) REFERENCES leagues(id) ON DELETE CASCADE\n",
    ");\n",
    "\"\"\")\n",
    "\n"
   ]
  },
  {
   "cell_type": "markdown",
   "id": "4093b967",
   "metadata": {},
   "source": [
    "## 5.5 ⚽ 5. Matches Table"
   ]
  },
  {
   "cell_type": "code",
   "execution_count": null,
   "id": "be691de7",
   "metadata": {},
   "outputs": [
    {
     "data": {
      "text/html": [
       "<pre style=\"white-space:pre;overflow-x:auto;line-height:normal;font-family:Menlo,'DejaVu Sans Mono',consolas,'Courier New',monospace\"><span style=\"color: #008080; text-decoration-color: #008080; font-weight: bold\">📡 Executing Query...</span>\n",
       "</pre>\n"
      ],
      "text/plain": [
       "\u001b[1;36m📡 Executing Query\u001b[0m\u001b[1;36m...\u001b[0m\n"
      ]
     },
     "metadata": {},
     "output_type": "display_data"
    },
    {
     "data": {
      "text/html": [
       "<pre style=\"white-space:pre;overflow-x:auto;line-height:normal;font-family:Menlo,'DejaVu Sans Mono',consolas,'Courier New',monospace\"><span style=\"color: #008000; text-decoration-color: #008000\">╭────────────────────────────────────────────────────</span> Success <span style=\"color: #008000; text-decoration-color: #008000\">────────────────────────────────────────────────────╮</span>\n",
       "<span style=\"color: #008000; text-decoration-color: #008000\">│ ✅ Query executed successfully.                                                                                 │</span>\n",
       "<span style=\"color: #008000; text-decoration-color: #008000\">╰─────────────────────────────────────────────────────────────────────────────────────────────────────────────────╯</span>\n",
       "</pre>\n"
      ],
      "text/plain": [
       "\u001b[32m╭─\u001b[0m\u001b[32m───────────────────────────────────────────────────\u001b[0m Success \u001b[32m───────────────────────────────────────────────────\u001b[0m\u001b[32m─╮\u001b[0m\n",
       "\u001b[32m│\u001b[0m\u001b[32m \u001b[0m\u001b[32m✅ \u001b[0m\u001b[32mQuery executed successfully.\u001b[0m\u001b[32m                                                                                \u001b[0m\u001b[32m \u001b[0m\u001b[32m│\u001b[0m\n",
       "\u001b[32m╰─────────────────────────────────────────────────────────────────────────────────────────────────────────────────╯\u001b[0m\n"
      ]
     },
     "metadata": {},
     "output_type": "display_data"
    },
    {
     "data": {
      "text/html": [
       "<pre style=\"white-space:pre;overflow-x:auto;line-height:normal;font-family:Menlo,'DejaVu Sans Mono',consolas,'Courier New',monospace\"><span style=\"color: #008080; text-decoration-color: #008080; font-weight: bold\">🔌 Connection closed.</span>\n",
       "\n",
       "</pre>\n"
      ],
      "text/plain": [
       "\u001b[1;36m🔌 Connection closed.\u001b[0m\n",
       "\n"
      ]
     },
     "metadata": {},
     "output_type": "display_data"
    },
    {
     "data": {
      "text/html": [
       "<pre style=\"white-space:pre;overflow-x:auto;line-height:normal;font-family:Menlo,'DejaVu Sans Mono',consolas,'Courier New',monospace\"><span style=\"color: #008080; text-decoration-color: #008080; font-weight: bold\">📡 Executing Query...</span>\n",
       "</pre>\n"
      ],
      "text/plain": [
       "\u001b[1;36m📡 Executing Query\u001b[0m\u001b[1;36m...\u001b[0m\n"
      ]
     },
     "metadata": {},
     "output_type": "display_data"
    },
    {
     "data": {
      "text/html": [
       "<pre style=\"white-space:pre;overflow-x:auto;line-height:normal;font-family:Menlo,'DejaVu Sans Mono',consolas,'Courier New',monospace\"><span style=\"color: #008000; text-decoration-color: #008000\">╭────────────────────────────────────────────────────</span> Success <span style=\"color: #008000; text-decoration-color: #008000\">────────────────────────────────────────────────────╮</span>\n",
       "<span style=\"color: #008000; text-decoration-color: #008000\">│ ✅ Query executed successfully.                                                                                 │</span>\n",
       "<span style=\"color: #008000; text-decoration-color: #008000\">╰─────────────────────────────────────────────────────────────────────────────────────────────────────────────────╯</span>\n",
       "</pre>\n"
      ],
      "text/plain": [
       "\u001b[32m╭─\u001b[0m\u001b[32m───────────────────────────────────────────────────\u001b[0m Success \u001b[32m───────────────────────────────────────────────────\u001b[0m\u001b[32m─╮\u001b[0m\n",
       "\u001b[32m│\u001b[0m\u001b[32m \u001b[0m\u001b[32m✅ \u001b[0m\u001b[32mQuery executed successfully.\u001b[0m\u001b[32m                                                                                \u001b[0m\u001b[32m \u001b[0m\u001b[32m│\u001b[0m\n",
       "\u001b[32m╰─────────────────────────────────────────────────────────────────────────────────────────────────────────────────╯\u001b[0m\n"
      ]
     },
     "metadata": {},
     "output_type": "display_data"
    },
    {
     "data": {
      "text/html": [
       "<pre style=\"white-space:pre;overflow-x:auto;line-height:normal;font-family:Menlo,'DejaVu Sans Mono',consolas,'Courier New',monospace\"><span style=\"color: #008080; text-decoration-color: #008080; font-weight: bold\">🔌 Connection closed.</span>\n",
       "\n",
       "</pre>\n"
      ],
      "text/plain": [
       "\u001b[1;36m🔌 Connection closed.\u001b[0m\n",
       "\n"
      ]
     },
     "metadata": {},
     "output_type": "display_data"
    }
   ],
   "source": [
    "query_matches = \"\"\"\n",
    "CREATE TABLE IF NOT EXISTS matches (\n",
    "    id INTEGER PRIMARY KEY AUTOINCREMENT,\n",
    "    round_id INTEGER NOT NULL,\n",
    "    league_id INTEGER NOT NULL,\n",
    "    home_team_id INTEGER NOT NULL,\n",
    "    away_team_id INTEGER NOT NULL,\n",
    "    match_datetime TEXT NOT NULL,\n",
    "    status TEXT CHECK (status IN ('upcoming', 'live', 'finished', 'cancelled')) DEFAULT 'upcoming',\n",
    "    home_score INTEGER DEFAULT NULL,\n",
    "    away_score INTEGER DEFAULT NULL,\n",
    "    stage_id INTEGER,  -- Allow NULL\n",
    "    penalty_winner INTEGER DEFAULT NULL,  -- New column (can be home_team_id or away_team_id)\n",
    "    FOREIGN KEY (round_id) REFERENCES rounds(id) ON DELETE CASCADE,\n",
    "    FOREIGN KEY (league_id) REFERENCES leagues(id) ON DELETE CASCADE,\n",
    "    FOREIGN KEY (home_team_id) REFERENCES teams(id) ON DELETE CASCADE,\n",
    "    FOREIGN KEY (away_team_id) REFERENCES teams(id) ON DELETE CASCADE,\n",
    "    FOREIGN KEY (stage_id) REFERENCES stages(id) ON DELETE CASCADE\n",
    ");\n",
    "\"\"\"\n",
    "execute_query(query_matches)"
   ]
  },
  {
   "cell_type": "code",
   "execution_count": 127,
   "id": "d1695834",
   "metadata": {},
   "outputs": [
    {
     "data": {
      "text/html": [
       "<pre style=\"white-space:pre;overflow-x:auto;line-height:normal;font-family:Menlo,'DejaVu Sans Mono',consolas,'Courier New',monospace\"><span style=\"color: #008080; text-decoration-color: #008080; font-weight: bold\">📡 Executing Query...</span>\n",
       "</pre>\n"
      ],
      "text/plain": [
       "\u001b[1;36m📡 Executing Query\u001b[0m\u001b[1;36m...\u001b[0m\n"
      ]
     },
     "metadata": {},
     "output_type": "display_data"
    },
    {
     "data": {
      "text/html": [
       "<pre style=\"white-space:pre;overflow-x:auto;line-height:normal;font-family:Menlo,'DejaVu Sans Mono',consolas,'Courier New',monospace\"><span style=\"color: #008000; text-decoration-color: #008000\">╭────────────────────────────────────────────────────</span> Success <span style=\"color: #008000; text-decoration-color: #008000\">────────────────────────────────────────────────────╮</span>\n",
       "<span style=\"color: #008000; text-decoration-color: #008000\">│ ✅ Query executed successfully.                                                                                 │</span>\n",
       "<span style=\"color: #008000; text-decoration-color: #008000\">╰─────────────────────────────────────────────────────────────────────────────────────────────────────────────────╯</span>\n",
       "</pre>\n"
      ],
      "text/plain": [
       "\u001b[32m╭─\u001b[0m\u001b[32m───────────────────────────────────────────────────\u001b[0m Success \u001b[32m───────────────────────────────────────────────────\u001b[0m\u001b[32m─╮\u001b[0m\n",
       "\u001b[32m│\u001b[0m\u001b[32m \u001b[0m\u001b[32m✅ \u001b[0m\u001b[32mQuery executed successfully.\u001b[0m\u001b[32m                                                                                \u001b[0m\u001b[32m \u001b[0m\u001b[32m│\u001b[0m\n",
       "\u001b[32m╰─────────────────────────────────────────────────────────────────────────────────────────────────────────────────╯\u001b[0m\n"
      ]
     },
     "metadata": {},
     "output_type": "display_data"
    },
    {
     "data": {
      "text/html": [
       "<pre style=\"white-space:pre;overflow-x:auto;line-height:normal;font-family:Menlo,'DejaVu Sans Mono',consolas,'Courier New',monospace\"><span style=\"color: #008080; text-decoration-color: #008080; font-weight: bold\">🔌 Connection closed.</span>\n",
       "\n",
       "</pre>\n"
      ],
      "text/plain": [
       "\u001b[1;36m🔌 Connection closed.\u001b[0m\n",
       "\n"
      ]
     },
     "metadata": {},
     "output_type": "display_data"
    }
   ],
   "source": [
    "query_copy_data_nullable = \"\"\"\n",
    "ALTER TABLE matches ADD COLUMN penalty_winner INTEGER DEFAULT NULL;\n",
    "\"\"\"\n",
    "\n",
    "execute_query(query_copy_data_nullable)\n"
   ]
  },
  {
   "cell_type": "code",
   "execution_count": 40,
   "id": "8e71e1f4",
   "metadata": {},
   "outputs": [
    {
     "data": {
      "text/html": [
       "<pre style=\"white-space:pre;overflow-x:auto;line-height:normal;font-family:Menlo,'DejaVu Sans Mono',consolas,'Courier New',monospace\"><span style=\"color: #008080; text-decoration-color: #008080; font-weight: bold\">📡 Executing Query...</span>\n",
       "</pre>\n"
      ],
      "text/plain": [
       "\u001b[1;36m📡 Executing Query\u001b[0m\u001b[1;36m...\u001b[0m\n"
      ]
     },
     "metadata": {},
     "output_type": "display_data"
    },
    {
     "data": {
      "text/html": [
       "<pre style=\"white-space:pre;overflow-x:auto;line-height:normal;font-family:Menlo,'DejaVu Sans Mono',consolas,'Courier New',monospace\"><span style=\"color: #008000; text-decoration-color: #008000\">╭────────────────────────────────────────────────────</span> Success <span style=\"color: #008000; text-decoration-color: #008000\">────────────────────────────────────────────────────╮</span>\n",
       "<span style=\"color: #008000; text-decoration-color: #008000\">│ ✅ Query executed successfully.                                                                                 │</span>\n",
       "<span style=\"color: #008000; text-decoration-color: #008000\">╰─────────────────────────────────────────────────────────────────────────────────────────────────────────────────╯</span>\n",
       "</pre>\n"
      ],
      "text/plain": [
       "\u001b[32m╭─\u001b[0m\u001b[32m───────────────────────────────────────────────────\u001b[0m Success \u001b[32m───────────────────────────────────────────────────\u001b[0m\u001b[32m─╮\u001b[0m\n",
       "\u001b[32m│\u001b[0m\u001b[32m \u001b[0m\u001b[32m✅ \u001b[0m\u001b[32mQuery executed successfully.\u001b[0m\u001b[32m                                                                                \u001b[0m\u001b[32m \u001b[0m\u001b[32m│\u001b[0m\n",
       "\u001b[32m╰─────────────────────────────────────────────────────────────────────────────────────────────────────────────────╯\u001b[0m\n"
      ]
     },
     "metadata": {},
     "output_type": "display_data"
    },
    {
     "data": {
      "text/html": [
       "<pre style=\"white-space:pre;overflow-x:auto;line-height:normal;font-family:Menlo,'DejaVu Sans Mono',consolas,'Courier New',monospace\"><span style=\"color: #008080; text-decoration-color: #008080; font-weight: bold\">🔌 Connection closed.</span>\n",
       "\n",
       "</pre>\n"
      ],
      "text/plain": [
       "\u001b[1;36m🔌 Connection closed.\u001b[0m\n",
       "\n"
      ]
     },
     "metadata": {},
     "output_type": "display_data"
    },
    {
     "data": {
      "text/html": [
       "<pre style=\"white-space:pre;overflow-x:auto;line-height:normal;font-family:Menlo,'DejaVu Sans Mono',consolas,'Courier New',monospace\"><span style=\"color: #008080; text-decoration-color: #008080; font-weight: bold\">📡 Executing Query...</span>\n",
       "</pre>\n"
      ],
      "text/plain": [
       "\u001b[1;36m📡 Executing Query\u001b[0m\u001b[1;36m...\u001b[0m\n"
      ]
     },
     "metadata": {},
     "output_type": "display_data"
    },
    {
     "data": {
      "text/html": [
       "<pre style=\"white-space:pre;overflow-x:auto;line-height:normal;font-family:Menlo,'DejaVu Sans Mono',consolas,'Courier New',monospace\"><span style=\"color: #008000; text-decoration-color: #008000\">╭────────────────────────────────────────────────────</span> Success <span style=\"color: #008000; text-decoration-color: #008000\">────────────────────────────────────────────────────╮</span>\n",
       "<span style=\"color: #008000; text-decoration-color: #008000\">│ ✅ Query executed successfully.                                                                                 │</span>\n",
       "<span style=\"color: #008000; text-decoration-color: #008000\">╰─────────────────────────────────────────────────────────────────────────────────────────────────────────────────╯</span>\n",
       "</pre>\n"
      ],
      "text/plain": [
       "\u001b[32m╭─\u001b[0m\u001b[32m───────────────────────────────────────────────────\u001b[0m Success \u001b[32m───────────────────────────────────────────────────\u001b[0m\u001b[32m─╮\u001b[0m\n",
       "\u001b[32m│\u001b[0m\u001b[32m \u001b[0m\u001b[32m✅ \u001b[0m\u001b[32mQuery executed successfully.\u001b[0m\u001b[32m                                                                                \u001b[0m\u001b[32m \u001b[0m\u001b[32m│\u001b[0m\n",
       "\u001b[32m╰─────────────────────────────────────────────────────────────────────────────────────────────────────────────────╯\u001b[0m\n"
      ]
     },
     "metadata": {},
     "output_type": "display_data"
    },
    {
     "data": {
      "text/html": [
       "<pre style=\"white-space:pre;overflow-x:auto;line-height:normal;font-family:Menlo,'DejaVu Sans Mono',consolas,'Courier New',monospace\"><span style=\"color: #008080; text-decoration-color: #008080; font-weight: bold\">🔌 Connection closed.</span>\n",
       "\n",
       "</pre>\n"
      ],
      "text/plain": [
       "\u001b[1;36m🔌 Connection closed.\u001b[0m\n",
       "\n"
      ]
     },
     "metadata": {},
     "output_type": "display_data"
    }
   ],
   "source": [
    "query_drop_old_matches = \"DROP TABLE matches;\"\n",
    "execute_query(query_drop_old_matches)\n",
    "query_rename_table = \"ALTER TABLE matches_new RENAME TO matches;\"\n",
    "execute_query(query_rename_table)\n"
   ]
  },
  {
   "cell_type": "markdown",
   "id": "609674d2",
   "metadata": {},
   "source": [
    "## 6.6 🔁 6. Stages Table"
   ]
  },
  {
   "cell_type": "code",
   "execution_count": null,
   "id": "d6a30632",
   "metadata": {},
   "outputs": [
    {
     "data": {
      "text/html": [
       "<pre style=\"white-space:pre;overflow-x:auto;line-height:normal;font-family:Menlo,'DejaVu Sans Mono',consolas,'Courier New',monospace\"><span style=\"color: #008080; text-decoration-color: #008080; font-weight: bold\">📡 Executing Query...</span>\n",
       "</pre>\n"
      ],
      "text/plain": [
       "\u001b[1;36m📡 Executing Query\u001b[0m\u001b[1;36m...\u001b[0m\n"
      ]
     },
     "metadata": {},
     "output_type": "display_data"
    },
    {
     "data": {
      "text/html": [
       "<pre style=\"white-space:pre;overflow-x:auto;line-height:normal;font-family:Menlo,'DejaVu Sans Mono',consolas,'Courier New',monospace\"><span style=\"color: #008000; text-decoration-color: #008000\">╭────────────────────────────────────────────────────</span> Success <span style=\"color: #008000; text-decoration-color: #008000\">────────────────────────────────────────────────────╮</span>\n",
       "<span style=\"color: #008000; text-decoration-color: #008000\">│ ✅ Query executed successfully.                                                                                 │</span>\n",
       "<span style=\"color: #008000; text-decoration-color: #008000\">╰─────────────────────────────────────────────────────────────────────────────────────────────────────────────────╯</span>\n",
       "</pre>\n"
      ],
      "text/plain": [
       "\u001b[32m╭─\u001b[0m\u001b[32m───────────────────────────────────────────────────\u001b[0m Success \u001b[32m───────────────────────────────────────────────────\u001b[0m\u001b[32m─╮\u001b[0m\n",
       "\u001b[32m│\u001b[0m\u001b[32m \u001b[0m\u001b[32m✅ \u001b[0m\u001b[32mQuery executed successfully.\u001b[0m\u001b[32m                                                                                \u001b[0m\u001b[32m \u001b[0m\u001b[32m│\u001b[0m\n",
       "\u001b[32m╰─────────────────────────────────────────────────────────────────────────────────────────────────────────────────╯\u001b[0m\n"
      ]
     },
     "metadata": {},
     "output_type": "display_data"
    },
    {
     "data": {
      "text/html": [
       "<pre style=\"white-space:pre;overflow-x:auto;line-height:normal;font-family:Menlo,'DejaVu Sans Mono',consolas,'Courier New',monospace\"><span style=\"color: #008080; text-decoration-color: #008080; font-weight: bold\">🔌 Connection closed.</span>\n",
       "\n",
       "</pre>\n"
      ],
      "text/plain": [
       "\u001b[1;36m🔌 Connection closed.\u001b[0m\n",
       "\n"
      ]
     },
     "metadata": {},
     "output_type": "display_data"
    }
   ],
   "source": [
    "query_stages = \"\"\"\n",
    "CREATE TABLE IF NOT EXISTS stages (\n",
    "    id INTEGER PRIMARY KEY AUTOINCREMENT,\n",
    "    league_id INTEGER NOT NULL,\n",
    "    name TEXT NOT NULL,  -- e.g., 'Group Stage', 'Round of 16', etc.\n",
    "    stage_order INTEGER NOT NULL,  -- e.g., 1 for group, 2 for round of 16, etc.\n",
    "    can_be_draw INTEGER DEFAULT 1,\n",
    "    two_legs INTEGER DEFAULT 0,\n",
    "    must_have_winner INTEGER DEFAULT 0,\n",
    "    created_at TEXT DEFAULT CURRENT_TIMESTAMP,\n",
    "    FOREIGN KEY (league_id) REFERENCES leagues(id) ON DELETE CASCADE,\n",
    "    UNIQUE (league_id, name)  -- avoid duplicate stage names per league\n",
    ");\n",
    "\"\"\"\n",
    "execute_query(query_stages)\n"
   ]
  },
  {
   "cell_type": "code",
   "execution_count": 38,
   "id": "b9806686",
   "metadata": {},
   "outputs": [
    {
     "name": "stdout",
     "output_type": "stream",
     "text": [
      "Available leagues:\n",
      "17. Bundesliga\n",
      "16. CAF Champions League\n",
      "7. Club World Championship\n",
      "5. Copa del Rey\n",
      "15. Egyptian Premier League\n",
      "3. LaLiga\n",
      "2. Premier League\n",
      "4. Seria A\n",
      "9. Supercopa de España\n",
      "6. UEFA Champions League\n",
      "19. UEFA Conference League\n",
      "18. UEFA Europa League\n",
      "13. UEFA Nations League\n",
      "✅ Temporary stage 'Temp Stage' added with ID 1\n",
      "✅ Use stage_id = 1 when copying your matches data.\n"
     ]
    }
   ],
   "source": [
    "def get_leagues_and_choose(conn):\n",
    "    cursor = conn.cursor()\n",
    "    cursor.execute(\"SELECT id, name FROM leagues\")\n",
    "    leagues = cursor.fetchall()\n",
    "\n",
    "    if not leagues:\n",
    "        print(\"⚠️ No leagues found. Please insert a league first.\")\n",
    "        return None\n",
    "\n",
    "    print(\"Available leagues:\")\n",
    "    for league in leagues:\n",
    "        print(f\"{league[0]}. {league[1]}\")\n",
    "\n",
    "    try:\n",
    "        league_id = int(input(\"👉 Enter the ID of the league to assign the temporary stage to: \"))\n",
    "        if any(league[0] == league_id for league in leagues):\n",
    "            return league_id\n",
    "        else:\n",
    "            print(\"❌ Invalid league ID.\")\n",
    "            return None\n",
    "    except ValueError:\n",
    "        print(\"❌ Please enter a valid number.\")\n",
    "        return None\n",
    "    \n",
    "def insert_temp_stage(conn, league_id):\n",
    "    cursor = conn.cursor()\n",
    "    stage_name = \"Temp Stage\"\n",
    "    try:\n",
    "        cursor.execute(\"\"\"\n",
    "            INSERT INTO stages (league_id, name, stage_order)\n",
    "            VALUES (?, ?, ?)\n",
    "        \"\"\", (league_id, stage_name, 1))\n",
    "        conn.commit()\n",
    "        print(f\"✅ Temporary stage '{stage_name}' added with ID {cursor.lastrowid}\")\n",
    "        return cursor.lastrowid\n",
    "    except Exception as e:\n",
    "        print(f\"❌ Error inserting temporary stage: {e}\")\n",
    "        return None\n",
    "\n",
    "conn = get_connection()\n",
    "# Assuming you're using SQLite and have a connection `conn`\n",
    "league_id = get_leagues_and_choose(conn)\n",
    "if league_id:\n",
    "    stage_id = insert_temp_stage(conn, league_id)\n",
    "    if stage_id:\n",
    "        # Now use this stage_id in your matches_new insert\n",
    "        print(f\"✅ Use stage_id = {stage_id} when copying your matches data.\")\n",
    "\n"
   ]
  },
  {
   "cell_type": "code",
   "execution_count": 36,
   "id": "f69d6930",
   "metadata": {},
   "outputs": [
    {
     "data": {
      "text/html": [
       "<pre style=\"white-space:pre;overflow-x:auto;line-height:normal;font-family:Menlo,'DejaVu Sans Mono',consolas,'Courier New',monospace\"><span style=\"color: #008080; text-decoration-color: #008080; font-weight: bold\">📡 Executing Query...</span>\n",
       "</pre>\n"
      ],
      "text/plain": [
       "\u001b[1;36m📡 Executing Query\u001b[0m\u001b[1;36m...\u001b[0m\n"
      ]
     },
     "metadata": {},
     "output_type": "display_data"
    },
    {
     "data": {
      "text/html": [
       "<pre style=\"white-space:pre;overflow-x:auto;line-height:normal;font-family:Menlo,'DejaVu Sans Mono',consolas,'Courier New',monospace\"><span style=\"color: #008000; text-decoration-color: #008000\">╭────────────────────────────────────────────────────</span> Success <span style=\"color: #008000; text-decoration-color: #008000\">────────────────────────────────────────────────────╮</span>\n",
       "<span style=\"color: #008000; text-decoration-color: #008000\">│ ✅ Query executed successfully.                                                                                 │</span>\n",
       "<span style=\"color: #008000; text-decoration-color: #008000\">╰─────────────────────────────────────────────────────────────────────────────────────────────────────────────────╯</span>\n",
       "</pre>\n"
      ],
      "text/plain": [
       "\u001b[32m╭─\u001b[0m\u001b[32m───────────────────────────────────────────────────\u001b[0m Success \u001b[32m───────────────────────────────────────────────────\u001b[0m\u001b[32m─╮\u001b[0m\n",
       "\u001b[32m│\u001b[0m\u001b[32m \u001b[0m\u001b[32m✅ \u001b[0m\u001b[32mQuery executed successfully.\u001b[0m\u001b[32m                                                                                \u001b[0m\u001b[32m \u001b[0m\u001b[32m│\u001b[0m\n",
       "\u001b[32m╰─────────────────────────────────────────────────────────────────────────────────────────────────────────────────╯\u001b[0m\n"
      ]
     },
     "metadata": {},
     "output_type": "display_data"
    },
    {
     "data": {
      "text/html": [
       "<pre style=\"white-space:pre;overflow-x:auto;line-height:normal;font-family:Menlo,'DejaVu Sans Mono',consolas,'Courier New',monospace\"><span style=\"color: #008080; text-decoration-color: #008080; font-weight: bold\">🔌 Connection closed.</span>\n",
       "\n",
       "</pre>\n"
      ],
      "text/plain": [
       "\u001b[1;36m🔌 Connection closed.\u001b[0m\n",
       "\n"
      ]
     },
     "metadata": {},
     "output_type": "display_data"
    }
   ],
   "source": [
    "query_legs = \"\"\"\n",
    "CREATE TABLE IF NOT EXISTS legs (\n",
    "    id INTEGER PRIMARY KEY AUTOINCREMENT,\n",
    "    match_id INTEGER NOT NULL,\n",
    "    leg_number INTEGER NOT NULL,\n",
    "    leg_date TEXT NOT NULL,\n",
    "    home_score INTEGER,\n",
    "    away_score INTEGER,\n",
    "    can_draw BOOLEAN DEFAULT 1,\n",
    "    winner_team_id INTEGER,\n",
    "    notes TEXT,\n",
    "    FOREIGN KEY (match_id) REFERENCES matches(id) ON DELETE CASCADE,\n",
    "    FOREIGN KEY (winner_team_id) REFERENCES teams(id) ON DELETE SET NULL,\n",
    "    UNIQUE (match_id, leg_number)\n",
    ");\n",
    "\"\"\"\n",
    "execute_query(query_legs)\n"
   ]
  },
  {
   "cell_type": "code",
   "execution_count": null,
   "id": "8d8a320b",
   "metadata": {},
   "outputs": [
    {
     "data": {
      "text/html": [
       "<pre style=\"white-space:pre;overflow-x:auto;line-height:normal;font-family:Menlo,'DejaVu Sans Mono',consolas,'Courier New',monospace\"><span style=\"color: #008080; text-decoration-color: #008080; font-weight: bold\">📡 Executing Query...</span>\n",
       "</pre>\n"
      ],
      "text/plain": [
       "\u001b[1;36m📡 Executing Query\u001b[0m\u001b[1;36m...\u001b[0m\n"
      ]
     },
     "metadata": {},
     "output_type": "display_data"
    },
    {
     "data": {
      "text/html": [
       "<pre style=\"white-space:pre;overflow-x:auto;line-height:normal;font-family:Menlo,'DejaVu Sans Mono',consolas,'Courier New',monospace\"><span style=\"color: #008000; text-decoration-color: #008000\">╭────────────────────────────────────────────────────</span> Success <span style=\"color: #008000; text-decoration-color: #008000\">────────────────────────────────────────────────────╮</span>\n",
       "<span style=\"color: #008000; text-decoration-color: #008000\">│ ✅ Query executed successfully.                                                                                 │</span>\n",
       "<span style=\"color: #008000; text-decoration-color: #008000\">╰─────────────────────────────────────────────────────────────────────────────────────────────────────────────────╯</span>\n",
       "</pre>\n"
      ],
      "text/plain": [
       "\u001b[32m╭─\u001b[0m\u001b[32m───────────────────────────────────────────────────\u001b[0m Success \u001b[32m───────────────────────────────────────────────────\u001b[0m\u001b[32m─╮\u001b[0m\n",
       "\u001b[32m│\u001b[0m\u001b[32m \u001b[0m\u001b[32m✅ \u001b[0m\u001b[32mQuery executed successfully.\u001b[0m\u001b[32m                                                                                \u001b[0m\u001b[32m \u001b[0m\u001b[32m│\u001b[0m\n",
       "\u001b[32m╰─────────────────────────────────────────────────────────────────────────────────────────────────────────────────╯\u001b[0m\n"
      ]
     },
     "metadata": {},
     "output_type": "display_data"
    },
    {
     "data": {
      "text/html": [
       "<pre style=\"white-space:pre;overflow-x:auto;line-height:normal;font-family:Menlo,'DejaVu Sans Mono',consolas,'Courier New',monospace\"><span style=\"color: #008080; text-decoration-color: #008080; font-weight: bold\">🔌 Connection closed.</span>\n",
       "\n",
       "</pre>\n"
      ],
      "text/plain": [
       "\u001b[1;36m🔌 Connection closed.\u001b[0m\n",
       "\n"
      ]
     },
     "metadata": {},
     "output_type": "display_data"
    }
   ],
   "source": [
    "query_legs = \"\"\"\n",
    "CREATE TABLE IF NOT EXISTS two_legged_ties (\n",
    "    id INTEGER PRIMARY KEY AUTOINCREMENT,\n",
    "    first_leg_match_id INTEGER NOT NULL,\n",
    "    second_leg_match_id INTEGER NOT NULL,\n",
    "    winner_team_id INTEGER,  -- Nullable until calculated\n",
    "    FOREIGN KEY (first_leg_match_id) REFERENCES matches(id) ON DELETE CASCADE,\n",
    "    FOREIGN KEY (second_leg_match_id) REFERENCES matches(id) ON DELETE CASCADE,\n",
    "    FOREIGN KEY (winner_team_id) REFERENCES teams(id) ON DELETE SET NULL,\n",
    "    UNIQUE (first_leg_match_id, second_leg_match_id)\n",
    ");\n",
    "\"\"\"\n",
    "execute_query(query_legs)\n"
   ]
  },
  {
   "cell_type": "markdown",
   "id": "7952b2ab",
   "metadata": {},
   "source": [
    "## 7.7 🖼️ 7. Avatars Table"
   ]
  },
  {
   "cell_type": "code",
   "execution_count": 17,
   "id": "6b1d3cfd",
   "metadata": {},
   "outputs": [
    {
     "data": {
      "text/html": [
       "<pre style=\"white-space:pre;overflow-x:auto;line-height:normal;font-family:Menlo,'DejaVu Sans Mono',consolas,'Courier New',monospace\"><span style=\"color: #008080; text-decoration-color: #008080; font-weight: bold\">📡 Executing Query...</span>\n",
       "</pre>\n"
      ],
      "text/plain": [
       "\u001b[1;36m📡 Executing Query\u001b[0m\u001b[1;36m...\u001b[0m\n"
      ]
     },
     "metadata": {},
     "output_type": "display_data"
    },
    {
     "data": {
      "text/html": [
       "<pre style=\"white-space:pre;overflow-x:auto;line-height:normal;font-family:Menlo,'DejaVu Sans Mono',consolas,'Courier New',monospace\"><span style=\"color: #008000; text-decoration-color: #008000\">╭────────────────────────────────────────────────────</span> Success <span style=\"color: #008000; text-decoration-color: #008000\">────────────────────────────────────────────────────╮</span>\n",
       "<span style=\"color: #008000; text-decoration-color: #008000\">│ ✅ Query executed successfully.                                                                                 │</span>\n",
       "<span style=\"color: #008000; text-decoration-color: #008000\">╰─────────────────────────────────────────────────────────────────────────────────────────────────────────────────╯</span>\n",
       "</pre>\n"
      ],
      "text/plain": [
       "\u001b[32m╭─\u001b[0m\u001b[32m───────────────────────────────────────────────────\u001b[0m Success \u001b[32m───────────────────────────────────────────────────\u001b[0m\u001b[32m─╮\u001b[0m\n",
       "\u001b[32m│\u001b[0m\u001b[32m \u001b[0m\u001b[32m✅ \u001b[0m\u001b[32mQuery executed successfully.\u001b[0m\u001b[32m                                                                                \u001b[0m\u001b[32m \u001b[0m\u001b[32m│\u001b[0m\n",
       "\u001b[32m╰─────────────────────────────────────────────────────────────────────────────────────────────────────────────────╯\u001b[0m\n"
      ]
     },
     "metadata": {},
     "output_type": "display_data"
    },
    {
     "data": {
      "text/html": [
       "<pre style=\"white-space:pre;overflow-x:auto;line-height:normal;font-family:Menlo,'DejaVu Sans Mono',consolas,'Courier New',monospace\"><span style=\"color: #008080; text-decoration-color: #008080; font-weight: bold\">🔌 Connection closed.</span>\n",
       "\n",
       "</pre>\n"
      ],
      "text/plain": [
       "\u001b[1;36m🔌 Connection closed.\u001b[0m\n",
       "\n"
      ]
     },
     "metadata": {},
     "output_type": "display_data"
    }
   ],
   "source": [
    "query_avatars = \"\"\"\n",
    "CREATE TABLE IF NOT EXISTS avatars (\n",
    "    id INTEGER PRIMARY KEY AUTOINCREMENT,\n",
    "    file_path TEXT NOT NULL,                          -- Local path to the image\n",
    "    uploaded_by_player_id INTEGER,                    -- Who uploaded the avatar\n",
    "    uploaded_at TEXT DEFAULT CURRENT_TIMESTAMP,\n",
    "    FOREIGN KEY (uploaded_by_player_id) REFERENCES players(id) ON DELETE SET NULL\n",
    ");\n",
    "\"\"\"\n",
    "execute_query(query_avatars)\n"
   ]
  },
  {
   "cell_type": "markdown",
   "id": "9da00b7b",
   "metadata": {},
   "source": [
    "## 8.8 predictions Table"
   ]
  },
  {
   "cell_type": "code",
   "execution_count": null,
   "id": "25de2a39",
   "metadata": {},
   "outputs": [
    {
     "data": {
      "text/html": [
       "<pre style=\"white-space:pre;overflow-x:auto;line-height:normal;font-family:Menlo,'DejaVu Sans Mono',consolas,'Courier New',monospace\"><span style=\"color: #008080; text-decoration-color: #008080; font-weight: bold\">📡 Executing Query...</span>\n",
       "</pre>\n"
      ],
      "text/plain": [
       "\u001b[1;36m📡 Executing Query\u001b[0m\u001b[1;36m...\u001b[0m\n"
      ]
     },
     "metadata": {},
     "output_type": "display_data"
    },
    {
     "data": {
      "text/html": [
       "<pre style=\"white-space:pre;overflow-x:auto;line-height:normal;font-family:Menlo,'DejaVu Sans Mono',consolas,'Courier New',monospace\"><span style=\"color: #008000; text-decoration-color: #008000\">╭────────────────────────────────────────────────────</span> Success <span style=\"color: #008000; text-decoration-color: #008000\">────────────────────────────────────────────────────╮</span>\n",
       "<span style=\"color: #008000; text-decoration-color: #008000\">│ ✅ Query executed successfully.                                                                                 │</span>\n",
       "<span style=\"color: #008000; text-decoration-color: #008000\">╰─────────────────────────────────────────────────────────────────────────────────────────────────────────────────╯</span>\n",
       "</pre>\n"
      ],
      "text/plain": [
       "\u001b[32m╭─\u001b[0m\u001b[32m───────────────────────────────────────────────────\u001b[0m Success \u001b[32m───────────────────────────────────────────────────\u001b[0m\u001b[32m─╮\u001b[0m\n",
       "\u001b[32m│\u001b[0m\u001b[32m \u001b[0m\u001b[32m✅ \u001b[0m\u001b[32mQuery executed successfully.\u001b[0m\u001b[32m                                                                                \u001b[0m\u001b[32m \u001b[0m\u001b[32m│\u001b[0m\n",
       "\u001b[32m╰─────────────────────────────────────────────────────────────────────────────────────────────────────────────────╯\u001b[0m\n"
      ]
     },
     "metadata": {},
     "output_type": "display_data"
    },
    {
     "data": {
      "text/html": [
       "<pre style=\"white-space:pre;overflow-x:auto;line-height:normal;font-family:Menlo,'DejaVu Sans Mono',consolas,'Courier New',monospace\"><span style=\"color: #008080; text-decoration-color: #008080; font-weight: bold\">🔌 Connection closed.</span>\n",
       "\n",
       "</pre>\n"
      ],
      "text/plain": [
       "\u001b[1;36m🔌 Connection closed.\u001b[0m\n",
       "\n"
      ]
     },
     "metadata": {},
     "output_type": "display_data"
    }
   ],
   "source": [
    "query_predictions = \"\"\"\n",
    "CREATE TABLE predictions (\n",
    "    id INTEGER PRIMARY KEY AUTOINCREMENT,\n",
    "    player_id INTEGER NOT NULL,\n",
    "    match_id INTEGER NOT NULL,\n",
    "    \n",
    "    predicted_home_score INTEGER NOT NULL,\n",
    "    predicted_away_score INTEGER NOT NULL,\n",
    "    predicted_penalty_winner TEXT,                -- Team name or NULL\n",
    "    \n",
    "    score INTEGER DEFAULT 0,                      -- Computed after match ends\n",
    "\n",
    "    created_at TEXT DEFAULT CURRENT_TIMESTAMP,\n",
    "    \n",
    "    FOREIGN KEY (player_id) REFERENCES players(id) ON DELETE CASCADE,\n",
    "    FOREIGN KEY (match_id) REFERENCES matches(id) ON DELETE CASCADE,\n",
    "    \n",
    "    UNIQUE (player_id, match_id)                  -- Player can only predict once per match\n",
    ");\n",
    "\"\"\"\n",
    "execute_query(query_delte)"
   ]
  },
  {
   "cell_type": "markdown",
   "id": "8d4f2677",
   "metadata": {},
   "source": [
    "## 9.9 achievements Table"
   ]
  },
  {
   "cell_type": "code",
   "execution_count": 19,
   "id": "47fbbb02",
   "metadata": {},
   "outputs": [
    {
     "data": {
      "text/html": [
       "<pre style=\"white-space:pre;overflow-x:auto;line-height:normal;font-family:Menlo,'DejaVu Sans Mono',consolas,'Courier New',monospace\"><span style=\"color: #008080; text-decoration-color: #008080; font-weight: bold\">📡 Executing Query...</span>\n",
       "</pre>\n"
      ],
      "text/plain": [
       "\u001b[1;36m📡 Executing Query\u001b[0m\u001b[1;36m...\u001b[0m\n"
      ]
     },
     "metadata": {},
     "output_type": "display_data"
    },
    {
     "data": {
      "text/html": [
       "<pre style=\"white-space:pre;overflow-x:auto;line-height:normal;font-family:Menlo,'DejaVu Sans Mono',consolas,'Courier New',monospace\"><span style=\"color: #008000; text-decoration-color: #008000\">╭────────────────────────────────────────────────────</span> Success <span style=\"color: #008000; text-decoration-color: #008000\">────────────────────────────────────────────────────╮</span>\n",
       "<span style=\"color: #008000; text-decoration-color: #008000\">│ ✅ Query executed successfully.                                                                                 │</span>\n",
       "<span style=\"color: #008000; text-decoration-color: #008000\">╰─────────────────────────────────────────────────────────────────────────────────────────────────────────────────╯</span>\n",
       "</pre>\n"
      ],
      "text/plain": [
       "\u001b[32m╭─\u001b[0m\u001b[32m───────────────────────────────────────────────────\u001b[0m Success \u001b[32m───────────────────────────────────────────────────\u001b[0m\u001b[32m─╮\u001b[0m\n",
       "\u001b[32m│\u001b[0m\u001b[32m \u001b[0m\u001b[32m✅ \u001b[0m\u001b[32mQuery executed successfully.\u001b[0m\u001b[32m                                                                                \u001b[0m\u001b[32m \u001b[0m\u001b[32m│\u001b[0m\n",
       "\u001b[32m╰─────────────────────────────────────────────────────────────────────────────────────────────────────────────────╯\u001b[0m\n"
      ]
     },
     "metadata": {},
     "output_type": "display_data"
    },
    {
     "data": {
      "text/html": [
       "<pre style=\"white-space:pre;overflow-x:auto;line-height:normal;font-family:Menlo,'DejaVu Sans Mono',consolas,'Courier New',monospace\"><span style=\"color: #008080; text-decoration-color: #008080; font-weight: bold\">🔌 Connection closed.</span>\n",
       "\n",
       "</pre>\n"
      ],
      "text/plain": [
       "\u001b[1;36m🔌 Connection closed.\u001b[0m\n",
       "\n"
      ]
     },
     "metadata": {},
     "output_type": "display_data"
    }
   ],
   "source": [
    "query_achievements = \"\"\"\n",
    "CREATE TABLE IF NOT EXISTS achievements (\n",
    "    id INTEGER PRIMARY KEY AUTOINCREMENT,\n",
    "    player_id INTEGER NOT NULL,\n",
    "    \n",
    "    total_leagues_won INTEGER DEFAULT 0,\n",
    "    total_cups_won INTEGER DEFAULT 0,\n",
    "\n",
    "    updated_at TEXT DEFAULT CURRENT_TIMESTAMP,\n",
    "\n",
    "    FOREIGN KEY (player_id) REFERENCES players(id) ON DELETE CASCADE,\n",
    "    UNIQUE (player_id)\n",
    ");\n",
    "\"\"\"\n",
    "execute_query(query_achievements)\n"
   ]
  },
  {
   "cell_type": "code",
   "execution_count": 73,
   "id": "3a766b79",
   "metadata": {},
   "outputs": [
    {
     "data": {
      "text/html": [
       "<pre style=\"white-space:pre;overflow-x:auto;line-height:normal;font-family:Menlo,'DejaVu Sans Mono',consolas,'Courier New',monospace\"><span style=\"font-style: italic\">            Tables in Database            </span>\n",
       "╭────────────────────┬───────────────────╮\n",
       "│<span style=\"font-weight: bold\"> Table Name         </span>│<span style=\"font-weight: bold\"> Number of Records </span>│\n",
       "├────────────────────┼───────────────────┤\n",
       "│<span style=\"color: #008000; text-decoration-color: #008000; font-weight: bold\"> 📋 achievements    </span>│<span style=\"color: #008080; text-decoration-color: #008080; font-weight: bold\">                 0 </span>│\n",
       "├────────────────────┼───────────────────┤\n",
       "│<span style=\"color: #008000; text-decoration-color: #008000; font-weight: bold\"> 📋 avatars         </span>│<span style=\"color: #008080; text-decoration-color: #008080; font-weight: bold\">                 0 </span>│\n",
       "├────────────────────┼───────────────────┤\n",
       "│<span style=\"color: #008000; text-decoration-color: #008000; font-weight: bold\"> 📋 leagues         </span>│<span style=\"color: #008080; text-decoration-color: #008080; font-weight: bold\">                13 </span>│\n",
       "├────────────────────┼───────────────────┤\n",
       "│<span style=\"color: #008000; text-decoration-color: #008000; font-weight: bold\"> 📋 legs            </span>│<span style=\"color: #008080; text-decoration-color: #008080; font-weight: bold\">                 4 </span>│\n",
       "├────────────────────┼───────────────────┤\n",
       "│<span style=\"color: #008000; text-decoration-color: #008000; font-weight: bold\"> 📋 matches         </span>│<span style=\"color: #008080; text-decoration-color: #008080; font-weight: bold\">                10 </span>│\n",
       "├────────────────────┼───────────────────┤\n",
       "│<span style=\"color: #008000; text-decoration-color: #008000; font-weight: bold\"> 📋 players         </span>│<span style=\"color: #008080; text-decoration-color: #008080; font-weight: bold\">                 2 </span>│\n",
       "├────────────────────┼───────────────────┤\n",
       "│<span style=\"color: #008000; text-decoration-color: #008000; font-weight: bold\"> 📋 predictions     </span>│<span style=\"color: #008080; text-decoration-color: #008080; font-weight: bold\">                 7 </span>│\n",
       "├────────────────────┼───────────────────┤\n",
       "│<span style=\"color: #008000; text-decoration-color: #008000; font-weight: bold\"> 📋 rounds          </span>│<span style=\"color: #008080; text-decoration-color: #008080; font-weight: bold\">                 0 </span>│\n",
       "├────────────────────┼───────────────────┤\n",
       "│<span style=\"color: #008000; text-decoration-color: #008000; font-weight: bold\"> 📋 stages          </span>│<span style=\"color: #008080; text-decoration-color: #008080; font-weight: bold\">               100 </span>│\n",
       "├────────────────────┼───────────────────┤\n",
       "│<span style=\"color: #008000; text-decoration-color: #008000; font-weight: bold\"> 📋 team_league     </span>│<span style=\"color: #008080; text-decoration-color: #008080; font-weight: bold\">               113 </span>│\n",
       "├────────────────────┼───────────────────┤\n",
       "│<span style=\"color: #008000; text-decoration-color: #008000; font-weight: bold\"> 📋 teams           </span>│<span style=\"color: #008080; text-decoration-color: #008080; font-weight: bold\">                57 </span>│\n",
       "├────────────────────┼───────────────────┤\n",
       "│<span style=\"color: #008000; text-decoration-color: #008000; font-weight: bold\"> 📋 two_legged_ties </span>│<span style=\"color: #008080; text-decoration-color: #008080; font-weight: bold\">                 0 </span>│\n",
       "╰────────────────────┴───────────────────╯\n",
       "</pre>\n"
      ],
      "text/plain": [
       "\u001b[3m            Tables in Database            \u001b[0m\n",
       "╭────────────────────┬───────────────────╮\n",
       "│\u001b[1m \u001b[0m\u001b[1mTable Name        \u001b[0m\u001b[1m \u001b[0m│\u001b[1m \u001b[0m\u001b[1mNumber of Records\u001b[0m\u001b[1m \u001b[0m│\n",
       "├────────────────────┼───────────────────┤\n",
       "│\u001b[1;32m \u001b[0m\u001b[1;32m📋 achievements   \u001b[0m\u001b[1;32m \u001b[0m│\u001b[1;36m \u001b[0m\u001b[1;36m                0\u001b[0m\u001b[1;36m \u001b[0m│\n",
       "├────────────────────┼───────────────────┤\n",
       "│\u001b[1;32m \u001b[0m\u001b[1;32m📋 avatars        \u001b[0m\u001b[1;32m \u001b[0m│\u001b[1;36m \u001b[0m\u001b[1;36m                0\u001b[0m\u001b[1;36m \u001b[0m│\n",
       "├────────────────────┼───────────────────┤\n",
       "│\u001b[1;32m \u001b[0m\u001b[1;32m📋 leagues        \u001b[0m\u001b[1;32m \u001b[0m│\u001b[1;36m \u001b[0m\u001b[1;36m               13\u001b[0m\u001b[1;36m \u001b[0m│\n",
       "├────────────────────┼───────────────────┤\n",
       "│\u001b[1;32m \u001b[0m\u001b[1;32m📋 legs           \u001b[0m\u001b[1;32m \u001b[0m│\u001b[1;36m \u001b[0m\u001b[1;36m                4\u001b[0m\u001b[1;36m \u001b[0m│\n",
       "├────────────────────┼───────────────────┤\n",
       "│\u001b[1;32m \u001b[0m\u001b[1;32m📋 matches        \u001b[0m\u001b[1;32m \u001b[0m│\u001b[1;36m \u001b[0m\u001b[1;36m               10\u001b[0m\u001b[1;36m \u001b[0m│\n",
       "├────────────────────┼───────────────────┤\n",
       "│\u001b[1;32m \u001b[0m\u001b[1;32m📋 players        \u001b[0m\u001b[1;32m \u001b[0m│\u001b[1;36m \u001b[0m\u001b[1;36m                2\u001b[0m\u001b[1;36m \u001b[0m│\n",
       "├────────────────────┼───────────────────┤\n",
       "│\u001b[1;32m \u001b[0m\u001b[1;32m📋 predictions    \u001b[0m\u001b[1;32m \u001b[0m│\u001b[1;36m \u001b[0m\u001b[1;36m                7\u001b[0m\u001b[1;36m \u001b[0m│\n",
       "├────────────────────┼───────────────────┤\n",
       "│\u001b[1;32m \u001b[0m\u001b[1;32m📋 rounds         \u001b[0m\u001b[1;32m \u001b[0m│\u001b[1;36m \u001b[0m\u001b[1;36m                0\u001b[0m\u001b[1;36m \u001b[0m│\n",
       "├────────────────────┼───────────────────┤\n",
       "│\u001b[1;32m \u001b[0m\u001b[1;32m📋 stages         \u001b[0m\u001b[1;32m \u001b[0m│\u001b[1;36m \u001b[0m\u001b[1;36m              100\u001b[0m\u001b[1;36m \u001b[0m│\n",
       "├────────────────────┼───────────────────┤\n",
       "│\u001b[1;32m \u001b[0m\u001b[1;32m📋 team_league    \u001b[0m\u001b[1;32m \u001b[0m│\u001b[1;36m \u001b[0m\u001b[1;36m              113\u001b[0m\u001b[1;36m \u001b[0m│\n",
       "├────────────────────┼───────────────────┤\n",
       "│\u001b[1;32m \u001b[0m\u001b[1;32m📋 teams          \u001b[0m\u001b[1;32m \u001b[0m│\u001b[1;36m \u001b[0m\u001b[1;36m               57\u001b[0m\u001b[1;36m \u001b[0m│\n",
       "├────────────────────┼───────────────────┤\n",
       "│\u001b[1;32m \u001b[0m\u001b[1;32m📋 two_legged_ties\u001b[0m\u001b[1;32m \u001b[0m│\u001b[1;36m \u001b[0m\u001b[1;36m                0\u001b[0m\u001b[1;36m \u001b[0m│\n",
       "╰────────────────────┴───────────────────╯\n"
      ]
     },
     "metadata": {},
     "output_type": "display_data"
    },
    {
     "data": {
      "text/html": [
       "<pre style=\"white-space:pre;overflow-x:auto;line-height:normal;font-family:Menlo,'DejaVu Sans Mono',consolas,'Courier New',monospace\"><span style=\"color: #008080; text-decoration-color: #008080; font-weight: bold\">🔌 Connection closed.</span>\n",
       "\n",
       "</pre>\n"
      ],
      "text/plain": [
       "\u001b[1;36m🔌 Connection closed.\u001b[0m\n",
       "\n"
      ]
     },
     "metadata": {},
     "output_type": "display_data"
    }
   ],
   "source": [
    "list_tables()"
   ]
  },
  {
   "cell_type": "code",
   "execution_count": 101,
   "id": "a3ce467c",
   "metadata": {},
   "outputs": [
    {
     "data": {
      "text/html": [
       "<pre style=\"white-space:pre;overflow-x:auto;line-height:normal;font-family:Menlo,'DejaVu Sans Mono',consolas,'Courier New',monospace\"><span style=\"color: #000080; text-decoration-color: #000080\">╭──────────────────────────────</span> Table Info <span style=\"color: #000080; text-decoration-color: #000080\">───────────────────────────────╮</span>\n",
       "<span style=\"color: #000080; text-decoration-color: #000080\">│ 📋 </span><span style=\"color: #008000; text-decoration-color: #008000; font-weight: bold\">Table:</span><span style=\"color: #000080; text-decoration-color: #000080\"> two_legged_ties                                               │</span>\n",
       "<span style=\"color: #000080; text-decoration-color: #000080\">│ 🔢 </span><span style=\"color: #008080; text-decoration-color: #008080; font-weight: bold\">Columns:</span><span style=\"color: #000080; text-decoration-color: #000080\"> id, first_leg_match_id, second_leg_match_id, winner_team_id │</span>\n",
       "<span style=\"color: #000080; text-decoration-color: #000080\">│ 📊 </span><span style=\"color: #800080; text-decoration-color: #800080; font-weight: bold\">Total Rows:</span><span style=\"color: #000080; text-decoration-color: #000080\"> 3                                                        │</span>\n",
       "<span style=\"color: #000080; text-decoration-color: #000080\">╰─────────────────────────────────────────────────────────────────────────╯</span>\n",
       "</pre>\n"
      ],
      "text/plain": [
       "\u001b[34m╭─\u001b[0m\u001b[34m─────────────────────────────\u001b[0m Table Info \u001b[34m──────────────────────────────\u001b[0m\u001b[34m─╮\u001b[0m\n",
       "\u001b[34m│\u001b[0m\u001b[34m \u001b[0m\u001b[34m📋 \u001b[0m\u001b[1;32mTable:\u001b[0m\u001b[34m two_legged_ties\u001b[0m\u001b[34m                                              \u001b[0m\u001b[34m \u001b[0m\u001b[34m│\u001b[0m\n",
       "\u001b[34m│\u001b[0m\u001b[34m \u001b[0m\u001b[34m🔢 \u001b[0m\u001b[1;36mColumns:\u001b[0m\u001b[34m id, first_leg_match_id, second_leg_match_id, winner_team_id\u001b[0m\u001b[34m \u001b[0m\u001b[34m│\u001b[0m\n",
       "\u001b[34m│\u001b[0m\u001b[34m \u001b[0m\u001b[34m📊 \u001b[0m\u001b[1;35mTotal Rows:\u001b[0m\u001b[34m 3\u001b[0m\u001b[34m                                                       \u001b[0m\u001b[34m \u001b[0m\u001b[34m│\u001b[0m\n",
       "\u001b[34m╰─────────────────────────────────────────────────────────────────────────╯\u001b[0m\n"
      ]
     },
     "metadata": {},
     "output_type": "display_data"
    },
    {
     "data": {
      "text/html": [
       "<pre style=\"white-space:pre;overflow-x:auto;line-height:normal;font-family:Menlo,'DejaVu Sans Mono',consolas,'Courier New',monospace\"><span style=\"font-style: italic\">                 Sample Data from two_legged_ties                 </span>\n",
       "╭────┬────────────────────┬─────────────────────┬────────────────╮\n",
       "│<span style=\"font-weight: bold\"> id </span>│<span style=\"font-weight: bold\"> first_leg_match_id </span>│<span style=\"font-weight: bold\"> second_leg_match_id </span>│<span style=\"font-weight: bold\"> winner_team_id </span>│\n",
       "├────┼────────────────────┼─────────────────────┼────────────────┤\n",
       "│<span style=\"color: #800080; text-decoration-color: #800080; font-weight: bold\"> 1  </span>│<span style=\"color: #800080; text-decoration-color: #800080; font-weight: bold\"> 42                 </span>│<span style=\"color: #800080; text-decoration-color: #800080; font-weight: bold\"> 43                  </span>│<span style=\"color: #800080; text-decoration-color: #800080; font-weight: bold\"> None           </span>│\n",
       "├────┼────────────────────┼─────────────────────┼────────────────┤\n",
       "│<span style=\"color: #800080; text-decoration-color: #800080; font-weight: bold\"> 2  </span>│<span style=\"color: #800080; text-decoration-color: #800080; font-weight: bold\"> 45                 </span>│<span style=\"color: #800080; text-decoration-color: #800080; font-weight: bold\"> 46                  </span>│<span style=\"color: #800080; text-decoration-color: #800080; font-weight: bold\"> None           </span>│\n",
       "├────┼────────────────────┼─────────────────────┼────────────────┤\n",
       "│<span style=\"color: #800080; text-decoration-color: #800080; font-weight: bold\"> 3  </span>│<span style=\"color: #800080; text-decoration-color: #800080; font-weight: bold\"> 47                 </span>│<span style=\"color: #800080; text-decoration-color: #800080; font-weight: bold\"> 48                  </span>│<span style=\"color: #800080; text-decoration-color: #800080; font-weight: bold\"> None           </span>│\n",
       "╰────┴────────────────────┴─────────────────────┴────────────────╯\n",
       "</pre>\n"
      ],
      "text/plain": [
       "\u001b[3m                 Sample Data from two_legged_ties                 \u001b[0m\n",
       "╭────┬────────────────────┬─────────────────────┬────────────────╮\n",
       "│\u001b[1m \u001b[0m\u001b[1mid\u001b[0m\u001b[1m \u001b[0m│\u001b[1m \u001b[0m\u001b[1mfirst_leg_match_id\u001b[0m\u001b[1m \u001b[0m│\u001b[1m \u001b[0m\u001b[1msecond_leg_match_id\u001b[0m\u001b[1m \u001b[0m│\u001b[1m \u001b[0m\u001b[1mwinner_team_id\u001b[0m\u001b[1m \u001b[0m│\n",
       "├────┼────────────────────┼─────────────────────┼────────────────┤\n",
       "│\u001b[1;35m \u001b[0m\u001b[1;35m1 \u001b[0m\u001b[1;35m \u001b[0m│\u001b[1;35m \u001b[0m\u001b[1;35m42                \u001b[0m\u001b[1;35m \u001b[0m│\u001b[1;35m \u001b[0m\u001b[1;35m43                 \u001b[0m\u001b[1;35m \u001b[0m│\u001b[1;35m \u001b[0m\u001b[1;35mNone          \u001b[0m\u001b[1;35m \u001b[0m│\n",
       "├────┼────────────────────┼─────────────────────┼────────────────┤\n",
       "│\u001b[1;35m \u001b[0m\u001b[1;35m2 \u001b[0m\u001b[1;35m \u001b[0m│\u001b[1;35m \u001b[0m\u001b[1;35m45                \u001b[0m\u001b[1;35m \u001b[0m│\u001b[1;35m \u001b[0m\u001b[1;35m46                 \u001b[0m\u001b[1;35m \u001b[0m│\u001b[1;35m \u001b[0m\u001b[1;35mNone          \u001b[0m\u001b[1;35m \u001b[0m│\n",
       "├────┼────────────────────┼─────────────────────┼────────────────┤\n",
       "│\u001b[1;35m \u001b[0m\u001b[1;35m3 \u001b[0m\u001b[1;35m \u001b[0m│\u001b[1;35m \u001b[0m\u001b[1;35m47                \u001b[0m\u001b[1;35m \u001b[0m│\u001b[1;35m \u001b[0m\u001b[1;35m48                 \u001b[0m\u001b[1;35m \u001b[0m│\u001b[1;35m \u001b[0m\u001b[1;35mNone          \u001b[0m\u001b[1;35m \u001b[0m│\n",
       "╰────┴────────────────────┴─────────────────────┴────────────────╯\n"
      ]
     },
     "metadata": {},
     "output_type": "display_data"
    },
    {
     "data": {
      "text/html": [
       "<pre style=\"white-space:pre;overflow-x:auto;line-height:normal;font-family:Menlo,'DejaVu Sans Mono',consolas,'Courier New',monospace\"><span style=\"color: #008080; text-decoration-color: #008080; font-weight: bold\">🔌 Connection closed.</span>\n",
       "\n",
       "</pre>\n"
      ],
      "text/plain": [
       "\u001b[1;36m🔌 Connection closed.\u001b[0m\n",
       "\n"
      ]
     },
     "metadata": {},
     "output_type": "display_data"
    }
   ],
   "source": [
    "table_info(\"two_legged_ties\")"
   ]
  },
  {
   "cell_type": "code",
   "execution_count": 131,
   "id": "29327ccf",
   "metadata": {},
   "outputs": [
    {
     "data": {
      "text/html": [
       "<pre style=\"white-space:pre;overflow-x:auto;line-height:normal;font-family:Menlo,'DejaVu Sans Mono',consolas,'Courier New',monospace\"><span style=\"color: #000080; text-decoration-color: #000080\">╭──────────────────────────────────────────────────</span> Table Info <span style=\"color: #000080; text-decoration-color: #000080\">───────────────────────────────────────────────────╮</span>\n",
       "<span style=\"color: #000080; text-decoration-color: #000080\">│ 📋 </span><span style=\"color: #008000; text-decoration-color: #008000; font-weight: bold\">Table:</span><span style=\"color: #000080; text-decoration-color: #000080\"> matches                                                                                               │</span>\n",
       "<span style=\"color: #000080; text-decoration-color: #000080\">│ 🔢 </span><span style=\"color: #008080; text-decoration-color: #008080; font-weight: bold\">Columns:</span><span style=\"color: #000080; text-decoration-color: #000080\"> id, round_id, league_id, home_team_id, away_team_id, match_datetime, status, home_score,            │</span>\n",
       "<span style=\"color: #000080; text-decoration-color: #000080\">│ away_score, stage_id, penalty_winner                                                                            │</span>\n",
       "<span style=\"color: #000080; text-decoration-color: #000080\">│ 📊 </span><span style=\"color: #800080; text-decoration-color: #800080; font-weight: bold\">Total Rows:</span><span style=\"color: #000080; text-decoration-color: #000080\"> 6                                                                                                │</span>\n",
       "<span style=\"color: #000080; text-decoration-color: #000080\">╰─────────────────────────────────────────────────────────────────────────────────────────────────────────────────╯</span>\n",
       "</pre>\n"
      ],
      "text/plain": [
       "\u001b[34m╭─\u001b[0m\u001b[34m─────────────────────────────────────────────────\u001b[0m Table Info \u001b[34m──────────────────────────────────────────────────\u001b[0m\u001b[34m─╮\u001b[0m\n",
       "\u001b[34m│\u001b[0m\u001b[34m \u001b[0m\u001b[34m📋 \u001b[0m\u001b[1;32mTable:\u001b[0m\u001b[34m matches\u001b[0m\u001b[34m                                                                                              \u001b[0m\u001b[34m \u001b[0m\u001b[34m│\u001b[0m\n",
       "\u001b[34m│\u001b[0m\u001b[34m \u001b[0m\u001b[34m🔢 \u001b[0m\u001b[1;36mColumns:\u001b[0m\u001b[34m id, round_id, league_id, home_team_id, away_team_id, match_datetime, status, home_score, \u001b[0m\u001b[34m          \u001b[0m\u001b[34m \u001b[0m\u001b[34m│\u001b[0m\n",
       "\u001b[34m│\u001b[0m\u001b[34m \u001b[0m\u001b[34maway_score, stage_id, penalty_winner\u001b[0m\u001b[34m                                                                           \u001b[0m\u001b[34m \u001b[0m\u001b[34m│\u001b[0m\n",
       "\u001b[34m│\u001b[0m\u001b[34m \u001b[0m\u001b[34m📊 \u001b[0m\u001b[1;35mTotal Rows:\u001b[0m\u001b[34m 6\u001b[0m\u001b[34m                                                                                               \u001b[0m\u001b[34m \u001b[0m\u001b[34m│\u001b[0m\n",
       "\u001b[34m╰─────────────────────────────────────────────────────────────────────────────────────────────────────────────────╯\u001b[0m\n"
      ]
     },
     "metadata": {},
     "output_type": "display_data"
    },
    {
     "data": {
      "text/html": [
       "<pre style=\"white-space:pre;overflow-x:auto;line-height:normal;font-family:Menlo,'DejaVu Sans Mono',consolas,'Courier New',monospace\"><span style=\"font-style: italic\">                                             Sample Data from matches                                              </span>\n",
       "╭────┬──────────┬──────────┬──────────┬──────────┬──────────┬──────────┬──────────┬──────────┬──────────┬─────────╮\n",
       "│<span style=\"font-weight: bold\"> id </span>│<span style=\"font-weight: bold\"> round_id </span>│<span style=\"font-weight: bold\"> league_… </span>│<span style=\"font-weight: bold\"> home_te… </span>│<span style=\"font-weight: bold\"> away_te… </span>│<span style=\"font-weight: bold\"> match_d… </span>│<span style=\"font-weight: bold\"> status   </span>│<span style=\"font-weight: bold\"> home_sc… </span>│<span style=\"font-weight: bold\"> away_sc… </span>│<span style=\"font-weight: bold\"> stage_id </span>│<span style=\"font-weight: bold\"> penalt… </span>│\n",
       "├────┼──────────┼──────────┼──────────┼──────────┼──────────┼──────────┼──────────┼──────────┼──────────┼─────────┤\n",
       "│<span style=\"color: #800080; text-decoration-color: #800080; font-weight: bold\"> 57 </span>│<span style=\"color: #800080; text-decoration-color: #800080; font-weight: bold\"> 25       </span>│<span style=\"color: #800080; text-decoration-color: #800080; font-weight: bold\"> 13       </span>│<span style=\"color: #800080; text-decoration-color: #800080; font-weight: bold\"> 118      </span>│<span style=\"color: #800080; text-decoration-color: #800080; font-weight: bold\"> 121      </span>│<span style=\"color: #800080; text-decoration-color: #800080; font-weight: bold\"> 2025-06… </span>│<span style=\"color: #800080; text-decoration-color: #800080; font-weight: bold\"> finished </span>│<span style=\"color: #800080; text-decoration-color: #800080; font-weight: bold\"> 1        </span>│<span style=\"color: #800080; text-decoration-color: #800080; font-weight: bold\"> 2        </span>│<span style=\"color: #800080; text-decoration-color: #800080; font-weight: bold\"> 222      </span>│<span style=\"color: #800080; text-decoration-color: #800080; font-weight: bold\"> None    </span>│\n",
       "├────┼──────────┼──────────┼──────────┼──────────┼──────────┼──────────┼──────────┼──────────┼──────────┼─────────┤\n",
       "│<span style=\"color: #800080; text-decoration-color: #800080; font-weight: bold\"> 58 </span>│<span style=\"color: #800080; text-decoration-color: #800080; font-weight: bold\"> 25       </span>│<span style=\"color: #800080; text-decoration-color: #800080; font-weight: bold\"> 13       </span>│<span style=\"color: #800080; text-decoration-color: #800080; font-weight: bold\"> 119      </span>│<span style=\"color: #800080; text-decoration-color: #800080; font-weight: bold\"> 120      </span>│<span style=\"color: #800080; text-decoration-color: #800080; font-weight: bold\"> 2025-06… </span>│<span style=\"color: #800080; text-decoration-color: #800080; font-weight: bold\"> finished </span>│<span style=\"color: #800080; text-decoration-color: #800080; font-weight: bold\"> 4        </span>│<span style=\"color: #800080; text-decoration-color: #800080; font-weight: bold\"> 5        </span>│<span style=\"color: #800080; text-decoration-color: #800080; font-weight: bold\"> 222      </span>│<span style=\"color: #800080; text-decoration-color: #800080; font-weight: bold\"> None    </span>│\n",
       "├────┼──────────┼──────────┼──────────┼──────────┼──────────┼──────────┼──────────┼──────────┼──────────┼─────────┤\n",
       "│<span style=\"color: #800080; text-decoration-color: #800080; font-weight: bold\"> 59 </span>│<span style=\"color: #800080; text-decoration-color: #800080; font-weight: bold\"> 26       </span>│<span style=\"color: #800080; text-decoration-color: #800080; font-weight: bold\"> 13       </span>│<span style=\"color: #800080; text-decoration-color: #800080; font-weight: bold\"> 118      </span>│<span style=\"color: #800080; text-decoration-color: #800080; font-weight: bold\"> 120      </span>│<span style=\"color: #800080; text-decoration-color: #800080; font-weight: bold\"> 2025-06… </span>│<span style=\"color: #800080; text-decoration-color: #800080; font-weight: bold\"> finished </span>│<span style=\"color: #800080; text-decoration-color: #800080; font-weight: bold\"> 0        </span>│<span style=\"color: #800080; text-decoration-color: #800080; font-weight: bold\"> 2        </span>│<span style=\"color: #800080; text-decoration-color: #800080; font-weight: bold\"> 223      </span>│<span style=\"color: #800080; text-decoration-color: #800080; font-weight: bold\"> None    </span>│\n",
       "├────┼──────────┼──────────┼──────────┼──────────┼──────────┼──────────┼──────────┼──────────┼──────────┼─────────┤\n",
       "│<span style=\"color: #800080; text-decoration-color: #800080; font-weight: bold\"> 60 </span>│<span style=\"color: #800080; text-decoration-color: #800080; font-weight: bold\"> 26       </span>│<span style=\"color: #800080; text-decoration-color: #800080; font-weight: bold\"> 13       </span>│<span style=\"color: #800080; text-decoration-color: #800080; font-weight: bold\"> 121      </span>│<span style=\"color: #800080; text-decoration-color: #800080; font-weight: bold\"> 119      </span>│<span style=\"color: #800080; text-decoration-color: #800080; font-weight: bold\"> 2025-06… </span>│<span style=\"color: #800080; text-decoration-color: #800080; font-weight: bold\"> finished </span>│<span style=\"color: #800080; text-decoration-color: #800080; font-weight: bold\"> 2        </span>│<span style=\"color: #800080; text-decoration-color: #800080; font-weight: bold\"> 2        </span>│<span style=\"color: #800080; text-decoration-color: #800080; font-weight: bold\"> 224      </span>│<span style=\"color: #800080; text-decoration-color: #800080; font-weight: bold\"> 119     </span>│\n",
       "├────┼──────────┼──────────┼──────────┼──────────┼──────────┼──────────┼──────────┼──────────┼──────────┼─────────┤\n",
       "│<span style=\"color: #800080; text-decoration-color: #800080; font-weight: bold\"> 71 </span>│<span style=\"color: #800080; text-decoration-color: #800080; font-weight: bold\"> 26       </span>│<span style=\"color: #800080; text-decoration-color: #800080; font-weight: bold\"> 6        </span>│<span style=\"color: #800080; text-decoration-color: #800080; font-weight: bold\"> 65       </span>│<span style=\"color: #800080; text-decoration-color: #800080; font-weight: bold\"> 83       </span>│<span style=\"color: #800080; text-decoration-color: #800080; font-weight: bold\"> 2025-06… </span>│<span style=\"color: #800080; text-decoration-color: #800080; font-weight: bold\"> upcoming </span>│<span style=\"color: #800080; text-decoration-color: #800080; font-weight: bold\"> None     </span>│<span style=\"color: #800080; text-decoration-color: #800080; font-weight: bold\"> None     </span>│<span style=\"color: #800080; text-decoration-color: #800080; font-weight: bold\"> 220      </span>│<span style=\"color: #800080; text-decoration-color: #800080; font-weight: bold\"> None    </span>│\n",
       "│<span style=\"color: #800080; text-decoration-color: #800080; font-weight: bold\">    </span>│<span style=\"color: #800080; text-decoration-color: #800080; font-weight: bold\">          </span>│<span style=\"color: #800080; text-decoration-color: #800080; font-weight: bold\">          </span>│<span style=\"color: #800080; text-decoration-color: #800080; font-weight: bold\">          </span>│<span style=\"color: #800080; text-decoration-color: #800080; font-weight: bold\">          </span>│<span style=\"color: #800080; text-decoration-color: #800080; font-weight: bold\"> 22:00:00 </span>│<span style=\"color: #800080; text-decoration-color: #800080; font-weight: bold\">          </span>│<span style=\"color: #800080; text-decoration-color: #800080; font-weight: bold\">          </span>│<span style=\"color: #800080; text-decoration-color: #800080; font-weight: bold\">          </span>│<span style=\"color: #800080; text-decoration-color: #800080; font-weight: bold\">          </span>│<span style=\"color: #800080; text-decoration-color: #800080; font-weight: bold\">         </span>│\n",
       "├────┼──────────┼──────────┼──────────┼──────────┼──────────┼──────────┼──────────┼──────────┼──────────┼─────────┤\n",
       "│<span style=\"color: #800080; text-decoration-color: #800080; font-weight: bold\"> 72 </span>│<span style=\"color: #800080; text-decoration-color: #800080; font-weight: bold\"> 26       </span>│<span style=\"color: #800080; text-decoration-color: #800080; font-weight: bold\"> 6        </span>│<span style=\"color: #800080; text-decoration-color: #800080; font-weight: bold\"> 83       </span>│<span style=\"color: #800080; text-decoration-color: #800080; font-weight: bold\"> 65       </span>│<span style=\"color: #800080; text-decoration-color: #800080; font-weight: bold\"> 2025-06… </span>│<span style=\"color: #800080; text-decoration-color: #800080; font-weight: bold\"> upcoming </span>│<span style=\"color: #800080; text-decoration-color: #800080; font-weight: bold\"> None     </span>│<span style=\"color: #800080; text-decoration-color: #800080; font-weight: bold\"> None     </span>│<span style=\"color: #800080; text-decoration-color: #800080; font-weight: bold\"> 220      </span>│<span style=\"color: #800080; text-decoration-color: #800080; font-weight: bold\"> None    </span>│\n",
       "│<span style=\"color: #800080; text-decoration-color: #800080; font-weight: bold\">    </span>│<span style=\"color: #800080; text-decoration-color: #800080; font-weight: bold\">          </span>│<span style=\"color: #800080; text-decoration-color: #800080; font-weight: bold\">          </span>│<span style=\"color: #800080; text-decoration-color: #800080; font-weight: bold\">          </span>│<span style=\"color: #800080; text-decoration-color: #800080; font-weight: bold\">          </span>│<span style=\"color: #800080; text-decoration-color: #800080; font-weight: bold\"> 22:00:00 </span>│<span style=\"color: #800080; text-decoration-color: #800080; font-weight: bold\">          </span>│<span style=\"color: #800080; text-decoration-color: #800080; font-weight: bold\">          </span>│<span style=\"color: #800080; text-decoration-color: #800080; font-weight: bold\">          </span>│<span style=\"color: #800080; text-decoration-color: #800080; font-weight: bold\">          </span>│<span style=\"color: #800080; text-decoration-color: #800080; font-weight: bold\">         </span>│\n",
       "╰────┴──────────┴──────────┴──────────┴──────────┴──────────┴──────────┴──────────┴──────────┴──────────┴─────────╯\n",
       "</pre>\n"
      ],
      "text/plain": [
       "\u001b[3m                                             Sample Data from matches                                              \u001b[0m\n",
       "╭────┬──────────┬──────────┬──────────┬──────────┬──────────┬──────────┬──────────┬──────────┬──────────┬─────────╮\n",
       "│\u001b[1m \u001b[0m\u001b[1mid\u001b[0m\u001b[1m \u001b[0m│\u001b[1m \u001b[0m\u001b[1mround_id\u001b[0m\u001b[1m \u001b[0m│\u001b[1m \u001b[0m\u001b[1mleague_…\u001b[0m\u001b[1m \u001b[0m│\u001b[1m \u001b[0m\u001b[1mhome_te…\u001b[0m\u001b[1m \u001b[0m│\u001b[1m \u001b[0m\u001b[1maway_te…\u001b[0m\u001b[1m \u001b[0m│\u001b[1m \u001b[0m\u001b[1mmatch_d…\u001b[0m\u001b[1m \u001b[0m│\u001b[1m \u001b[0m\u001b[1mstatus  \u001b[0m\u001b[1m \u001b[0m│\u001b[1m \u001b[0m\u001b[1mhome_sc…\u001b[0m\u001b[1m \u001b[0m│\u001b[1m \u001b[0m\u001b[1maway_sc…\u001b[0m\u001b[1m \u001b[0m│\u001b[1m \u001b[0m\u001b[1mstage_id\u001b[0m\u001b[1m \u001b[0m│\u001b[1m \u001b[0m\u001b[1mpenalt…\u001b[0m\u001b[1m \u001b[0m│\n",
       "├────┼──────────┼──────────┼──────────┼──────────┼──────────┼──────────┼──────────┼──────────┼──────────┼─────────┤\n",
       "│\u001b[1;35m \u001b[0m\u001b[1;35m57\u001b[0m\u001b[1;35m \u001b[0m│\u001b[1;35m \u001b[0m\u001b[1;35m25      \u001b[0m\u001b[1;35m \u001b[0m│\u001b[1;35m \u001b[0m\u001b[1;35m13      \u001b[0m\u001b[1;35m \u001b[0m│\u001b[1;35m \u001b[0m\u001b[1;35m118     \u001b[0m\u001b[1;35m \u001b[0m│\u001b[1;35m \u001b[0m\u001b[1;35m121     \u001b[0m\u001b[1;35m \u001b[0m│\u001b[1;35m \u001b[0m\u001b[1;35m2025-06…\u001b[0m\u001b[1;35m \u001b[0m│\u001b[1;35m \u001b[0m\u001b[1;35mfinished\u001b[0m\u001b[1;35m \u001b[0m│\u001b[1;35m \u001b[0m\u001b[1;35m1       \u001b[0m\u001b[1;35m \u001b[0m│\u001b[1;35m \u001b[0m\u001b[1;35m2       \u001b[0m\u001b[1;35m \u001b[0m│\u001b[1;35m \u001b[0m\u001b[1;35m222     \u001b[0m\u001b[1;35m \u001b[0m│\u001b[1;35m \u001b[0m\u001b[1;35mNone   \u001b[0m\u001b[1;35m \u001b[0m│\n",
       "├────┼──────────┼──────────┼──────────┼──────────┼──────────┼──────────┼──────────┼──────────┼──────────┼─────────┤\n",
       "│\u001b[1;35m \u001b[0m\u001b[1;35m58\u001b[0m\u001b[1;35m \u001b[0m│\u001b[1;35m \u001b[0m\u001b[1;35m25      \u001b[0m\u001b[1;35m \u001b[0m│\u001b[1;35m \u001b[0m\u001b[1;35m13      \u001b[0m\u001b[1;35m \u001b[0m│\u001b[1;35m \u001b[0m\u001b[1;35m119     \u001b[0m\u001b[1;35m \u001b[0m│\u001b[1;35m \u001b[0m\u001b[1;35m120     \u001b[0m\u001b[1;35m \u001b[0m│\u001b[1;35m \u001b[0m\u001b[1;35m2025-06…\u001b[0m\u001b[1;35m \u001b[0m│\u001b[1;35m \u001b[0m\u001b[1;35mfinished\u001b[0m\u001b[1;35m \u001b[0m│\u001b[1;35m \u001b[0m\u001b[1;35m4       \u001b[0m\u001b[1;35m \u001b[0m│\u001b[1;35m \u001b[0m\u001b[1;35m5       \u001b[0m\u001b[1;35m \u001b[0m│\u001b[1;35m \u001b[0m\u001b[1;35m222     \u001b[0m\u001b[1;35m \u001b[0m│\u001b[1;35m \u001b[0m\u001b[1;35mNone   \u001b[0m\u001b[1;35m \u001b[0m│\n",
       "├────┼──────────┼──────────┼──────────┼──────────┼──────────┼──────────┼──────────┼──────────┼──────────┼─────────┤\n",
       "│\u001b[1;35m \u001b[0m\u001b[1;35m59\u001b[0m\u001b[1;35m \u001b[0m│\u001b[1;35m \u001b[0m\u001b[1;35m26      \u001b[0m\u001b[1;35m \u001b[0m│\u001b[1;35m \u001b[0m\u001b[1;35m13      \u001b[0m\u001b[1;35m \u001b[0m│\u001b[1;35m \u001b[0m\u001b[1;35m118     \u001b[0m\u001b[1;35m \u001b[0m│\u001b[1;35m \u001b[0m\u001b[1;35m120     \u001b[0m\u001b[1;35m \u001b[0m│\u001b[1;35m \u001b[0m\u001b[1;35m2025-06…\u001b[0m\u001b[1;35m \u001b[0m│\u001b[1;35m \u001b[0m\u001b[1;35mfinished\u001b[0m\u001b[1;35m \u001b[0m│\u001b[1;35m \u001b[0m\u001b[1;35m0       \u001b[0m\u001b[1;35m \u001b[0m│\u001b[1;35m \u001b[0m\u001b[1;35m2       \u001b[0m\u001b[1;35m \u001b[0m│\u001b[1;35m \u001b[0m\u001b[1;35m223     \u001b[0m\u001b[1;35m \u001b[0m│\u001b[1;35m \u001b[0m\u001b[1;35mNone   \u001b[0m\u001b[1;35m \u001b[0m│\n",
       "├────┼──────────┼──────────┼──────────┼──────────┼──────────┼──────────┼──────────┼──────────┼──────────┼─────────┤\n",
       "│\u001b[1;35m \u001b[0m\u001b[1;35m60\u001b[0m\u001b[1;35m \u001b[0m│\u001b[1;35m \u001b[0m\u001b[1;35m26      \u001b[0m\u001b[1;35m \u001b[0m│\u001b[1;35m \u001b[0m\u001b[1;35m13      \u001b[0m\u001b[1;35m \u001b[0m│\u001b[1;35m \u001b[0m\u001b[1;35m121     \u001b[0m\u001b[1;35m \u001b[0m│\u001b[1;35m \u001b[0m\u001b[1;35m119     \u001b[0m\u001b[1;35m \u001b[0m│\u001b[1;35m \u001b[0m\u001b[1;35m2025-06…\u001b[0m\u001b[1;35m \u001b[0m│\u001b[1;35m \u001b[0m\u001b[1;35mfinished\u001b[0m\u001b[1;35m \u001b[0m│\u001b[1;35m \u001b[0m\u001b[1;35m2       \u001b[0m\u001b[1;35m \u001b[0m│\u001b[1;35m \u001b[0m\u001b[1;35m2       \u001b[0m\u001b[1;35m \u001b[0m│\u001b[1;35m \u001b[0m\u001b[1;35m224     \u001b[0m\u001b[1;35m \u001b[0m│\u001b[1;35m \u001b[0m\u001b[1;35m119    \u001b[0m\u001b[1;35m \u001b[0m│\n",
       "├────┼──────────┼──────────┼──────────┼──────────┼──────────┼──────────┼──────────┼──────────┼──────────┼─────────┤\n",
       "│\u001b[1;35m \u001b[0m\u001b[1;35m71\u001b[0m\u001b[1;35m \u001b[0m│\u001b[1;35m \u001b[0m\u001b[1;35m26      \u001b[0m\u001b[1;35m \u001b[0m│\u001b[1;35m \u001b[0m\u001b[1;35m6       \u001b[0m\u001b[1;35m \u001b[0m│\u001b[1;35m \u001b[0m\u001b[1;35m65      \u001b[0m\u001b[1;35m \u001b[0m│\u001b[1;35m \u001b[0m\u001b[1;35m83      \u001b[0m\u001b[1;35m \u001b[0m│\u001b[1;35m \u001b[0m\u001b[1;35m2025-06…\u001b[0m\u001b[1;35m \u001b[0m│\u001b[1;35m \u001b[0m\u001b[1;35mupcoming\u001b[0m\u001b[1;35m \u001b[0m│\u001b[1;35m \u001b[0m\u001b[1;35mNone    \u001b[0m\u001b[1;35m \u001b[0m│\u001b[1;35m \u001b[0m\u001b[1;35mNone    \u001b[0m\u001b[1;35m \u001b[0m│\u001b[1;35m \u001b[0m\u001b[1;35m220     \u001b[0m\u001b[1;35m \u001b[0m│\u001b[1;35m \u001b[0m\u001b[1;35mNone   \u001b[0m\u001b[1;35m \u001b[0m│\n",
       "│\u001b[1;35m    \u001b[0m│\u001b[1;35m          \u001b[0m│\u001b[1;35m          \u001b[0m│\u001b[1;35m          \u001b[0m│\u001b[1;35m          \u001b[0m│\u001b[1;35m \u001b[0m\u001b[1;35m22:00:00\u001b[0m\u001b[1;35m \u001b[0m│\u001b[1;35m          \u001b[0m│\u001b[1;35m          \u001b[0m│\u001b[1;35m          \u001b[0m│\u001b[1;35m          \u001b[0m│\u001b[1;35m         \u001b[0m│\n",
       "├────┼──────────┼──────────┼──────────┼──────────┼──────────┼──────────┼──────────┼──────────┼──────────┼─────────┤\n",
       "│\u001b[1;35m \u001b[0m\u001b[1;35m72\u001b[0m\u001b[1;35m \u001b[0m│\u001b[1;35m \u001b[0m\u001b[1;35m26      \u001b[0m\u001b[1;35m \u001b[0m│\u001b[1;35m \u001b[0m\u001b[1;35m6       \u001b[0m\u001b[1;35m \u001b[0m│\u001b[1;35m \u001b[0m\u001b[1;35m83      \u001b[0m\u001b[1;35m \u001b[0m│\u001b[1;35m \u001b[0m\u001b[1;35m65      \u001b[0m\u001b[1;35m \u001b[0m│\u001b[1;35m \u001b[0m\u001b[1;35m2025-06…\u001b[0m\u001b[1;35m \u001b[0m│\u001b[1;35m \u001b[0m\u001b[1;35mupcoming\u001b[0m\u001b[1;35m \u001b[0m│\u001b[1;35m \u001b[0m\u001b[1;35mNone    \u001b[0m\u001b[1;35m \u001b[0m│\u001b[1;35m \u001b[0m\u001b[1;35mNone    \u001b[0m\u001b[1;35m \u001b[0m│\u001b[1;35m \u001b[0m\u001b[1;35m220     \u001b[0m\u001b[1;35m \u001b[0m│\u001b[1;35m \u001b[0m\u001b[1;35mNone   \u001b[0m\u001b[1;35m \u001b[0m│\n",
       "│\u001b[1;35m    \u001b[0m│\u001b[1;35m          \u001b[0m│\u001b[1;35m          \u001b[0m│\u001b[1;35m          \u001b[0m│\u001b[1;35m          \u001b[0m│\u001b[1;35m \u001b[0m\u001b[1;35m22:00:00\u001b[0m\u001b[1;35m \u001b[0m│\u001b[1;35m          \u001b[0m│\u001b[1;35m          \u001b[0m│\u001b[1;35m          \u001b[0m│\u001b[1;35m          \u001b[0m│\u001b[1;35m         \u001b[0m│\n",
       "╰────┴──────────┴──────────┴──────────┴──────────┴──────────┴──────────┴──────────┴──────────┴──────────┴─────────╯\n"
      ]
     },
     "metadata": {},
     "output_type": "display_data"
    },
    {
     "data": {
      "text/html": [
       "<pre style=\"white-space:pre;overflow-x:auto;line-height:normal;font-family:Menlo,'DejaVu Sans Mono',consolas,'Courier New',monospace\"><span style=\"color: #008080; text-decoration-color: #008080; font-weight: bold\">🔌 Connection closed.</span>\n",
       "\n",
       "</pre>\n"
      ],
      "text/plain": [
       "\u001b[1;36m🔌 Connection closed.\u001b[0m\n",
       "\n"
      ]
     },
     "metadata": {},
     "output_type": "display_data"
    }
   ],
   "source": [
    "table_info(\"matches\")"
   ]
  },
  {
   "cell_type": "code",
   "execution_count": 90,
   "id": "aaddaf40",
   "metadata": {},
   "outputs": [],
   "source": [
    "import sqlite3\n",
    "\n",
    "conn = sqlite3.connect(\"game_database.db\")\n",
    "cur = conn.cursor()\n",
    "\n",
    "try:\n",
    "    cur.execute(\"ALTER TABLE players ADD COLUMN avatar_url TEXT\")\n",
    "except sqlite3.OperationalError as e:\n",
    "    print(\"Column probably already exists:\", e)\n",
    "\n",
    "conn.commit()\n",
    "conn.close()\n"
   ]
  },
  {
   "cell_type": "code",
   "execution_count": 76,
   "id": "757fb2a6",
   "metadata": {},
   "outputs": [],
   "source": [
    "def show_and_clear_teams():\n",
    "    conn = get_connection()\n",
    "    cursor = conn.cursor()\n",
    "\n",
    "    # Fetch all records from teams\n",
    "    cursor.execute(\"SELECT * FROM matches;\")\n",
    "    records = cursor.fetchall()\n",
    "    print(\"Records before deletion:\")\n",
    "    if records:\n",
    "        for row in records:\n",
    "            print(row)\n",
    "    else:\n",
    "        print(\"No records found.\")\n",
    "\n",
    "    # Delete all records from teams\n",
    "    cursor.execute(\"DELETE FROM matches;\")\n",
    "    conn.commit()\n",
    "\n",
    "    # Fetch again to confirm deletion\n",
    "    cursor.execute(\"SELECT * FROM matches;\")\n",
    "    records_after = cursor.fetchall()\n",
    "    print(\"\\nRecords after deletion:\")\n",
    "    if records_after:\n",
    "        for row in records_after:\n",
    "            print(row)\n",
    "    else:\n",
    "        print(\"No records found.\")\n",
    "\n",
    "    cursor.close()\n",
    "    conn.close()\n"
   ]
  },
  {
   "cell_type": "code",
   "execution_count": 77,
   "id": "a7e524c0",
   "metadata": {},
   "outputs": [
    {
     "name": "stdout",
     "output_type": "stream",
     "text": [
      "Records before deletion:\n",
      "(21, 7, 13, 118, 121, '2025-06-04T22:15:00', 'finished', 1, 2, 182)\n",
      "(22, 7, 13, 119, 120, '2025-06-05T22:00:00', 'finished', 5, 4, 182)\n",
      "(23, 8, 13, 118, 120, '2025-06-08T16:00:00', 'finished', 0, 2, 183)\n",
      "(24, 8, 13, 121, 119, '2025-06-08T22:00:00', 'finished', 2, 2, 184)\n",
      "(25, 8, 3, 65, 67, '2025-06-09T22:16:00', 'finished', 1, 1, 137)\n",
      "(26, 11, 6, 65, 83, '2025-04-30 22:00:00', 'finished', None, None, 196)\n",
      "(27, 12, 6, 83, 65, '2025-05-06 22:00:00', 'finished', None, None, 196)\n",
      "(28, 7, 6, 117, 83, '2025-05-31 22:00:00', 'finished', None, None, 198)\n",
      "(29, 7, 6, 117, 71, '2025-05-31 22:00:00', 'finished', None, None, 198)\n",
      "(30, 13, 6, 117, 71, '2025-05-31 22:00:00', 'upcoming', None, None, 198)\n"
     ]
    },
    {
     "ename": "OperationalError",
     "evalue": "no such table: main.leagues_old",
     "output_type": "error",
     "traceback": [
      "\u001b[1;31m---------------------------------------------------------------------------\u001b[0m",
      "\u001b[1;31mOperationalError\u001b[0m                          Traceback (most recent call last)",
      "Cell \u001b[1;32mIn[77], line 1\u001b[0m\n\u001b[1;32m----> 1\u001b[0m \u001b[43mshow_and_clear_teams\u001b[49m\u001b[43m(\u001b[49m\u001b[43m)\u001b[49m\n",
      "Cell \u001b[1;32mIn[76], line 16\u001b[0m, in \u001b[0;36mshow_and_clear_teams\u001b[1;34m()\u001b[0m\n\u001b[0;32m     13\u001b[0m     \u001b[38;5;28mprint\u001b[39m(\u001b[38;5;124m\"\u001b[39m\u001b[38;5;124mNo records found.\u001b[39m\u001b[38;5;124m\"\u001b[39m)\n\u001b[0;32m     15\u001b[0m \u001b[38;5;66;03m# Delete all records from teams\u001b[39;00m\n\u001b[1;32m---> 16\u001b[0m \u001b[43mcursor\u001b[49m\u001b[38;5;241;43m.\u001b[39;49m\u001b[43mexecute\u001b[49m\u001b[43m(\u001b[49m\u001b[38;5;124;43m\"\u001b[39;49m\u001b[38;5;124;43mDELETE FROM matches;\u001b[39;49m\u001b[38;5;124;43m\"\u001b[39;49m\u001b[43m)\u001b[49m\n\u001b[0;32m     17\u001b[0m conn\u001b[38;5;241m.\u001b[39mcommit()\n\u001b[0;32m     19\u001b[0m \u001b[38;5;66;03m# Fetch again to confirm deletion\u001b[39;00m\n",
      "\u001b[1;31mOperationalError\u001b[0m: no such table: main.leagues_old"
     ]
    }
   ],
   "source": [
    "show_and_clear_teams()"
   ]
  },
  {
   "cell_type": "code",
   "execution_count": 45,
   "id": "007b6570",
   "metadata": {},
   "outputs": [
    {
     "name": "stdout",
     "output_type": "stream",
     "text": [
      "📋 Current records in 'team_league':\n",
      "(3, 11)\n",
      "(5, 3)\n",
      "(5, 5)\n",
      "(5, 6)\n",
      "(5, 7)\n",
      "(5, 9)\n",
      "(6, 3)\n",
      "(6, 5)\n",
      "(6, 6)\n",
      "(6, 9)\n",
      "\n",
      "🗑️ Deleted all records from 'team_league'.\n",
      "\n",
      "📋 Records in 'team_league' after deletion:\n",
      "No records found.\n"
     ]
    }
   ],
   "source": [
    "def show_and_clear_team_league():\n",
    "    conn = get_connection()\n",
    "    cursor = conn.cursor()\n",
    "    \n",
    "    print(\"📋 Current records in 'team_league':\")\n",
    "    cursor.execute(\"SELECT * FROM team_league;\")\n",
    "    rows = cursor.fetchall()\n",
    "    if rows:\n",
    "        for row in rows:\n",
    "            print(row)\n",
    "    else:\n",
    "        print(\"No records found.\")\n",
    "    \n",
    "    # Delete all records\n",
    "    cursor.execute(\"DELETE FROM team_league;\")\n",
    "    conn.commit()\n",
    "    print(\"\\n🗑️ Deleted all records from 'team_league'.\")\n",
    "    \n",
    "    # Display again to confirm\n",
    "    cursor.execute(\"SELECT * FROM team_league;\")\n",
    "    rows_after_delete = cursor.fetchall()\n",
    "    print(\"\\n📋 Records in 'team_league' after deletion:\")\n",
    "    if rows_after_delete:\n",
    "        for row in rows_after_delete:\n",
    "            print(row)\n",
    "    else:\n",
    "        print(\"No records found.\")\n",
    "    \n",
    "    cursor.close()\n",
    "    conn.close()\n",
    "\n",
    "# Usage:\n",
    "show_and_clear_team_league()"
   ]
  },
  {
   "cell_type": "code",
   "execution_count": 56,
   "id": "9f2b25a5",
   "metadata": {},
   "outputs": [],
   "source": [
    "def show_and_clear_tables():\n",
    "    conn = get_connection()\n",
    "    cursor = conn.cursor()\n",
    "\n",
    "    # Fetch all table names\n",
    "    cursor.execute(\"SELECT name FROM sqlite_master WHERE type='table';\")\n",
    "    tables = [row[0] for row in cursor.fetchall()]\n",
    "\n",
    "    if not tables:\n",
    "        print(\"No tables found in the database.\")\n",
    "        cursor.close()\n",
    "        conn.close()\n",
    "        return\n",
    "\n",
    "    print(\"Tables in the database:\")\n",
    "    for i, table in enumerate(tables, 1):\n",
    "        print(f\"{i}. {table}\")\n",
    "\n",
    "    # Ask user to select a table\n",
    "    while True:\n",
    "        try:\n",
    "            choice = int(input(\"\\nEnter the number of the table you want to inspect: \"))\n",
    "            if 1 <= choice <= len(tables):\n",
    "                selected_table = tables[choice - 1]\n",
    "                break\n",
    "            else:\n",
    "                print(f\"Please enter a number between 1 and {len(tables)}.\")\n",
    "        except ValueError:\n",
    "            print(\"Invalid input. Please enter a valid number.\")\n",
    "\n",
    "    # Show number of records in the selected table\n",
    "    cursor.execute(f\"SELECT COUNT(*) FROM {selected_table};\")\n",
    "    record_count = cursor.fetchone()[0]\n",
    "    print(f\"\\nTable '{selected_table}' has {record_count} record(s).\")\n",
    "\n",
    "    # Ask if user wants to delete all records\n",
    "    delete_confirm = input(\"Do you want to delete all records in this table? (yes/no): \").strip().lower()\n",
    "    if delete_confirm == \"yes\":\n",
    "        cursor.execute(f\"DELETE FROM {selected_table};\")\n",
    "        conn.commit()\n",
    "        print(f\"All records in '{selected_table}' have been deleted.\")\n",
    "\n",
    "        # Confirm deletion\n",
    "        cursor.execute(f\"SELECT COUNT(*) FROM {selected_table};\")\n",
    "        new_count = cursor.fetchone()[0]\n",
    "        print(f\"Records remaining in '{selected_table}': {new_count}\")\n",
    "    else:\n",
    "        print(\"No records were deleted.\")\n",
    "\n",
    "    cursor.close()\n",
    "    conn.close()\n"
   ]
  },
  {
   "cell_type": "code",
   "execution_count": 105,
   "id": "9569aae6",
   "metadata": {},
   "outputs": [
    {
     "name": "stdout",
     "output_type": "stream",
     "text": [
      "Tables in the database:\n",
      "1. sqlite_sequence\n",
      "2. rounds\n",
      "3. teams\n",
      "4. legs\n",
      "5. avatars\n",
      "6. predictions\n",
      "7. achievements\n",
      "8. team_league\n",
      "9. players\n",
      "10. leagues\n",
      "11. matches\n",
      "\n",
      "Table 'rounds' has 2 record(s).\n",
      "All records in 'rounds' have been deleted.\n",
      "Records remaining in 'rounds': 0\n"
     ]
    }
   ],
   "source": [
    "show_and_clear_tables()"
   ]
  },
  {
   "cell_type": "code",
   "execution_count": 102,
   "id": "7801039c",
   "metadata": {},
   "outputs": [
    {
     "data": {
      "text/html": [
       "<pre style=\"white-space:pre;overflow-x:auto;line-height:normal;font-family:Menlo,'DejaVu Sans Mono',consolas,'Courier New',monospace\"><span style=\"color: #000080; text-decoration-color: #000080\">╭──────────────────────────────────────────────────</span> Table Info <span style=\"color: #000080; text-decoration-color: #000080\">───────────────────────────────────────────────────╮</span>\n",
       "<span style=\"color: #000080; text-decoration-color: #000080\">│ 📋 </span><span style=\"color: #008000; text-decoration-color: #008000; font-weight: bold\">Table:</span><span style=\"color: #000080; text-decoration-color: #000080\"> matches                                                                                               │</span>\n",
       "<span style=\"color: #000080; text-decoration-color: #000080\">│ 🔢 </span><span style=\"color: #008080; text-decoration-color: #008080; font-weight: bold\">Columns:</span><span style=\"color: #000080; text-decoration-color: #000080\"> id, round_id, league_id, home_team_id, away_team_id, match_datetime, status, home_score,            │</span>\n",
       "<span style=\"color: #000080; text-decoration-color: #000080\">│ away_score, stage_id                                                                                            │</span>\n",
       "<span style=\"color: #000080; text-decoration-color: #000080\">│ 📊 </span><span style=\"color: #800080; text-decoration-color: #800080; font-weight: bold\">Total Rows:</span><span style=\"color: #000080; text-decoration-color: #000080\"> 10                                                                                               │</span>\n",
       "<span style=\"color: #000080; text-decoration-color: #000080\">╰─────────────────────────────────────────────────────────────────────────────────────────────────────────────────╯</span>\n",
       "</pre>\n"
      ],
      "text/plain": [
       "\u001b[34m╭─\u001b[0m\u001b[34m─────────────────────────────────────────────────\u001b[0m Table Info \u001b[34m──────────────────────────────────────────────────\u001b[0m\u001b[34m─╮\u001b[0m\n",
       "\u001b[34m│\u001b[0m\u001b[34m \u001b[0m\u001b[34m📋 \u001b[0m\u001b[1;32mTable:\u001b[0m\u001b[34m matches\u001b[0m\u001b[34m                                                                                              \u001b[0m\u001b[34m \u001b[0m\u001b[34m│\u001b[0m\n",
       "\u001b[34m│\u001b[0m\u001b[34m \u001b[0m\u001b[34m🔢 \u001b[0m\u001b[1;36mColumns:\u001b[0m\u001b[34m id, round_id, league_id, home_team_id, away_team_id, match_datetime, status, home_score, \u001b[0m\u001b[34m          \u001b[0m\u001b[34m \u001b[0m\u001b[34m│\u001b[0m\n",
       "\u001b[34m│\u001b[0m\u001b[34m \u001b[0m\u001b[34maway_score, stage_id\u001b[0m\u001b[34m                                                                                           \u001b[0m\u001b[34m \u001b[0m\u001b[34m│\u001b[0m\n",
       "\u001b[34m│\u001b[0m\u001b[34m \u001b[0m\u001b[34m📊 \u001b[0m\u001b[1;35mTotal Rows:\u001b[0m\u001b[34m 10\u001b[0m\u001b[34m                                                                                              \u001b[0m\u001b[34m \u001b[0m\u001b[34m│\u001b[0m\n",
       "\u001b[34m╰─────────────────────────────────────────────────────────────────────────────────────────────────────────────────╯\u001b[0m\n"
      ]
     },
     "metadata": {},
     "output_type": "display_data"
    },
    {
     "data": {
      "text/html": [
       "<pre style=\"white-space:pre;overflow-x:auto;line-height:normal;font-family:Menlo,'DejaVu Sans Mono',consolas,'Courier New',monospace\"><span style=\"font-style: italic\">                                             Sample Data from matches                                              </span>\n",
       "╭────┬──────────┬───────────┬────────────┬────────────┬────────────┬──────────┬────────────┬───────────┬──────────╮\n",
       "│<span style=\"font-weight: bold\"> id </span>│<span style=\"font-weight: bold\"> round_id </span>│<span style=\"font-weight: bold\"> league_id </span>│<span style=\"font-weight: bold\"> home_team… </span>│<span style=\"font-weight: bold\"> away_team… </span>│<span style=\"font-weight: bold\"> match_dat… </span>│<span style=\"font-weight: bold\"> status   </span>│<span style=\"font-weight: bold\"> home_score </span>│<span style=\"font-weight: bold\"> away_sco… </span>│<span style=\"font-weight: bold\"> stage_id </span>│\n",
       "├────┼──────────┼───────────┼────────────┼────────────┼────────────┼──────────┼────────────┼───────────┼──────────┤\n",
       "│<span style=\"color: #800080; text-decoration-color: #800080; font-weight: bold\"> 41 </span>│<span style=\"color: #800080; text-decoration-color: #800080; font-weight: bold\"> 17       </span>│<span style=\"color: #800080; text-decoration-color: #800080; font-weight: bold\"> 6         </span>│<span style=\"color: #800080; text-decoration-color: #800080; font-weight: bold\"> FC         </span>│<span style=\"color: #800080; text-decoration-color: #800080; font-weight: bold\"> Inter      </span>│<span style=\"color: #800080; text-decoration-color: #800080; font-weight: bold\"> 2025-04-30 </span>│<span style=\"color: #800080; text-decoration-color: #800080; font-weight: bold\"> upcoming </span>│<span style=\"color: #800080; text-decoration-color: #800080; font-weight: bold\"> None       </span>│<span style=\"color: #800080; text-decoration-color: #800080; font-weight: bold\"> None      </span>│<span style=\"color: #800080; text-decoration-color: #800080; font-weight: bold\"> 196      </span>│\n",
       "│<span style=\"color: #800080; text-decoration-color: #800080; font-weight: bold\">    </span>│<span style=\"color: #800080; text-decoration-color: #800080; font-weight: bold\">          </span>│<span style=\"color: #800080; text-decoration-color: #800080; font-weight: bold\">           </span>│<span style=\"color: #800080; text-decoration-color: #800080; font-weight: bold\"> Barcelona  </span>│<span style=\"color: #800080; text-decoration-color: #800080; font-weight: bold\"> Milan      </span>│<span style=\"color: #800080; text-decoration-color: #800080; font-weight: bold\"> 22:00:00   </span>│<span style=\"color: #800080; text-decoration-color: #800080; font-weight: bold\">          </span>│<span style=\"color: #800080; text-decoration-color: #800080; font-weight: bold\">            </span>│<span style=\"color: #800080; text-decoration-color: #800080; font-weight: bold\">           </span>│<span style=\"color: #800080; text-decoration-color: #800080; font-weight: bold\">          </span>│\n",
       "├────┼──────────┼───────────┼────────────┼────────────┼────────────┼──────────┼────────────┼───────────┼──────────┤\n",
       "│<span style=\"color: #800080; text-decoration-color: #800080; font-weight: bold\"> 42 </span>│<span style=\"color: #800080; text-decoration-color: #800080; font-weight: bold\"> 17       </span>│<span style=\"color: #800080; text-decoration-color: #800080; font-weight: bold\"> 6         </span>│<span style=\"color: #800080; text-decoration-color: #800080; font-weight: bold\"> FC         </span>│<span style=\"color: #800080; text-decoration-color: #800080; font-weight: bold\"> Inter      </span>│<span style=\"color: #800080; text-decoration-color: #800080; font-weight: bold\"> 2025-04-30 </span>│<span style=\"color: #800080; text-decoration-color: #800080; font-weight: bold\"> upcoming </span>│<span style=\"color: #800080; text-decoration-color: #800080; font-weight: bold\"> None       </span>│<span style=\"color: #800080; text-decoration-color: #800080; font-weight: bold\"> None      </span>│<span style=\"color: #800080; text-decoration-color: #800080; font-weight: bold\"> 196      </span>│\n",
       "│<span style=\"color: #800080; text-decoration-color: #800080; font-weight: bold\">    </span>│<span style=\"color: #800080; text-decoration-color: #800080; font-weight: bold\">          </span>│<span style=\"color: #800080; text-decoration-color: #800080; font-weight: bold\">           </span>│<span style=\"color: #800080; text-decoration-color: #800080; font-weight: bold\"> Barcelona  </span>│<span style=\"color: #800080; text-decoration-color: #800080; font-weight: bold\"> Milan      </span>│<span style=\"color: #800080; text-decoration-color: #800080; font-weight: bold\"> 22:00:00   </span>│<span style=\"color: #800080; text-decoration-color: #800080; font-weight: bold\">          </span>│<span style=\"color: #800080; text-decoration-color: #800080; font-weight: bold\">            </span>│<span style=\"color: #800080; text-decoration-color: #800080; font-weight: bold\">           </span>│<span style=\"color: #800080; text-decoration-color: #800080; font-weight: bold\">          </span>│\n",
       "├────┼──────────┼───────────┼────────────┼────────────┼────────────┼──────────┼────────────┼───────────┼──────────┤\n",
       "│<span style=\"color: #800080; text-decoration-color: #800080; font-weight: bold\"> 43 </span>│<span style=\"color: #800080; text-decoration-color: #800080; font-weight: bold\"> 17       </span>│<span style=\"color: #800080; text-decoration-color: #800080; font-weight: bold\"> 6         </span>│<span style=\"color: #800080; text-decoration-color: #800080; font-weight: bold\"> Inter      </span>│<span style=\"color: #800080; text-decoration-color: #800080; font-weight: bold\"> FC         </span>│<span style=\"color: #800080; text-decoration-color: #800080; font-weight: bold\"> 2025-05-06 </span>│<span style=\"color: #800080; text-decoration-color: #800080; font-weight: bold\"> upcoming </span>│<span style=\"color: #800080; text-decoration-color: #800080; font-weight: bold\"> None       </span>│<span style=\"color: #800080; text-decoration-color: #800080; font-weight: bold\"> None      </span>│<span style=\"color: #800080; text-decoration-color: #800080; font-weight: bold\"> 196      </span>│\n",
       "│<span style=\"color: #800080; text-decoration-color: #800080; font-weight: bold\">    </span>│<span style=\"color: #800080; text-decoration-color: #800080; font-weight: bold\">          </span>│<span style=\"color: #800080; text-decoration-color: #800080; font-weight: bold\">           </span>│<span style=\"color: #800080; text-decoration-color: #800080; font-weight: bold\"> Milan      </span>│<span style=\"color: #800080; text-decoration-color: #800080; font-weight: bold\"> Barcelona  </span>│<span style=\"color: #800080; text-decoration-color: #800080; font-weight: bold\"> 22:00:00   </span>│<span style=\"color: #800080; text-decoration-color: #800080; font-weight: bold\">          </span>│<span style=\"color: #800080; text-decoration-color: #800080; font-weight: bold\">            </span>│<span style=\"color: #800080; text-decoration-color: #800080; font-weight: bold\">           </span>│<span style=\"color: #800080; text-decoration-color: #800080; font-weight: bold\">          </span>│\n",
       "├────┼──────────┼───────────┼────────────┼────────────┼────────────┼──────────┼────────────┼───────────┼──────────┤\n",
       "│<span style=\"color: #800080; text-decoration-color: #800080; font-weight: bold\"> 45 </span>│<span style=\"color: #800080; text-decoration-color: #800080; font-weight: bold\"> 22       </span>│<span style=\"color: #800080; text-decoration-color: #800080; font-weight: bold\"> 6         </span>│<span style=\"color: #800080; text-decoration-color: #800080; font-weight: bold\"> FC         </span>│<span style=\"color: #800080; text-decoration-color: #800080; font-weight: bold\"> Inter      </span>│<span style=\"color: #800080; text-decoration-color: #800080; font-weight: bold\"> 2025-04-30 </span>│<span style=\"color: #800080; text-decoration-color: #800080; font-weight: bold\"> upcoming </span>│<span style=\"color: #800080; text-decoration-color: #800080; font-weight: bold\"> None       </span>│<span style=\"color: #800080; text-decoration-color: #800080; font-weight: bold\"> None      </span>│<span style=\"color: #800080; text-decoration-color: #800080; font-weight: bold\"> 196      </span>│\n",
       "│<span style=\"color: #800080; text-decoration-color: #800080; font-weight: bold\">    </span>│<span style=\"color: #800080; text-decoration-color: #800080; font-weight: bold\">          </span>│<span style=\"color: #800080; text-decoration-color: #800080; font-weight: bold\">           </span>│<span style=\"color: #800080; text-decoration-color: #800080; font-weight: bold\"> Barcelona  </span>│<span style=\"color: #800080; text-decoration-color: #800080; font-weight: bold\"> Milan      </span>│<span style=\"color: #800080; text-decoration-color: #800080; font-weight: bold\"> 22:00:00   </span>│<span style=\"color: #800080; text-decoration-color: #800080; font-weight: bold\">          </span>│<span style=\"color: #800080; text-decoration-color: #800080; font-weight: bold\">            </span>│<span style=\"color: #800080; text-decoration-color: #800080; font-weight: bold\">           </span>│<span style=\"color: #800080; text-decoration-color: #800080; font-weight: bold\">          </span>│\n",
       "├────┼──────────┼───────────┼────────────┼────────────┼────────────┼──────────┼────────────┼───────────┼──────────┤\n",
       "│<span style=\"color: #800080; text-decoration-color: #800080; font-weight: bold\"> 46 </span>│<span style=\"color: #800080; text-decoration-color: #800080; font-weight: bold\"> 23       </span>│<span style=\"color: #800080; text-decoration-color: #800080; font-weight: bold\"> 6         </span>│<span style=\"color: #800080; text-decoration-color: #800080; font-weight: bold\"> Inter      </span>│<span style=\"color: #800080; text-decoration-color: #800080; font-weight: bold\"> FC         </span>│<span style=\"color: #800080; text-decoration-color: #800080; font-weight: bold\"> 2025-05-06 </span>│<span style=\"color: #800080; text-decoration-color: #800080; font-weight: bold\"> upcoming </span>│<span style=\"color: #800080; text-decoration-color: #800080; font-weight: bold\"> None       </span>│<span style=\"color: #800080; text-decoration-color: #800080; font-weight: bold\"> None      </span>│<span style=\"color: #800080; text-decoration-color: #800080; font-weight: bold\"> 196      </span>│\n",
       "│<span style=\"color: #800080; text-decoration-color: #800080; font-weight: bold\">    </span>│<span style=\"color: #800080; text-decoration-color: #800080; font-weight: bold\">          </span>│<span style=\"color: #800080; text-decoration-color: #800080; font-weight: bold\">           </span>│<span style=\"color: #800080; text-decoration-color: #800080; font-weight: bold\"> Milan      </span>│<span style=\"color: #800080; text-decoration-color: #800080; font-weight: bold\"> Barcelona  </span>│<span style=\"color: #800080; text-decoration-color: #800080; font-weight: bold\"> 22:00:00   </span>│<span style=\"color: #800080; text-decoration-color: #800080; font-weight: bold\">          </span>│<span style=\"color: #800080; text-decoration-color: #800080; font-weight: bold\">            </span>│<span style=\"color: #800080; text-decoration-color: #800080; font-weight: bold\">           </span>│<span style=\"color: #800080; text-decoration-color: #800080; font-weight: bold\">          </span>│\n",
       "├────┼──────────┼───────────┼────────────┼────────────┼────────────┼──────────┼────────────┼───────────┼──────────┤\n",
       "│<span style=\"color: #800080; text-decoration-color: #800080; font-weight: bold\"> 47 </span>│<span style=\"color: #800080; text-decoration-color: #800080; font-weight: bold\"> 22       </span>│<span style=\"color: #800080; text-decoration-color: #800080; font-weight: bold\"> 6         </span>│<span style=\"color: #800080; text-decoration-color: #800080; font-weight: bold\"> Arsenal FC </span>│<span style=\"color: #800080; text-decoration-color: #800080; font-weight: bold\"> PSG        </span>│<span style=\"color: #800080; text-decoration-color: #800080; font-weight: bold\"> 2025-04-29 </span>│<span style=\"color: #800080; text-decoration-color: #800080; font-weight: bold\"> upcoming </span>│<span style=\"color: #800080; text-decoration-color: #800080; font-weight: bold\"> None       </span>│<span style=\"color: #800080; text-decoration-color: #800080; font-weight: bold\"> None      </span>│<span style=\"color: #800080; text-decoration-color: #800080; font-weight: bold\"> 196      </span>│\n",
       "│<span style=\"color: #800080; text-decoration-color: #800080; font-weight: bold\">    </span>│<span style=\"color: #800080; text-decoration-color: #800080; font-weight: bold\">          </span>│<span style=\"color: #800080; text-decoration-color: #800080; font-weight: bold\">           </span>│<span style=\"color: #800080; text-decoration-color: #800080; font-weight: bold\">            </span>│<span style=\"color: #800080; text-decoration-color: #800080; font-weight: bold\">            </span>│<span style=\"color: #800080; text-decoration-color: #800080; font-weight: bold\"> 22:00:00   </span>│<span style=\"color: #800080; text-decoration-color: #800080; font-weight: bold\">          </span>│<span style=\"color: #800080; text-decoration-color: #800080; font-weight: bold\">            </span>│<span style=\"color: #800080; text-decoration-color: #800080; font-weight: bold\">           </span>│<span style=\"color: #800080; text-decoration-color: #800080; font-weight: bold\">          </span>│\n",
       "├────┼──────────┼───────────┼────────────┼────────────┼────────────┼──────────┼────────────┼───────────┼──────────┤\n",
       "│<span style=\"color: #800080; text-decoration-color: #800080; font-weight: bold\"> 48 </span>│<span style=\"color: #800080; text-decoration-color: #800080; font-weight: bold\"> 23       </span>│<span style=\"color: #800080; text-decoration-color: #800080; font-weight: bold\"> 6         </span>│<span style=\"color: #800080; text-decoration-color: #800080; font-weight: bold\"> PSG        </span>│<span style=\"color: #800080; text-decoration-color: #800080; font-weight: bold\"> Arsenal FC </span>│<span style=\"color: #800080; text-decoration-color: #800080; font-weight: bold\"> 2025-05-07 </span>│<span style=\"color: #800080; text-decoration-color: #800080; font-weight: bold\"> upcoming </span>│<span style=\"color: #800080; text-decoration-color: #800080; font-weight: bold\"> None       </span>│<span style=\"color: #800080; text-decoration-color: #800080; font-weight: bold\"> None      </span>│<span style=\"color: #800080; text-decoration-color: #800080; font-weight: bold\"> 196      </span>│\n",
       "│<span style=\"color: #800080; text-decoration-color: #800080; font-weight: bold\">    </span>│<span style=\"color: #800080; text-decoration-color: #800080; font-weight: bold\">          </span>│<span style=\"color: #800080; text-decoration-color: #800080; font-weight: bold\">           </span>│<span style=\"color: #800080; text-decoration-color: #800080; font-weight: bold\">            </span>│<span style=\"color: #800080; text-decoration-color: #800080; font-weight: bold\">            </span>│<span style=\"color: #800080; text-decoration-color: #800080; font-weight: bold\"> 22:00:00   </span>│<span style=\"color: #800080; text-decoration-color: #800080; font-weight: bold\">          </span>│<span style=\"color: #800080; text-decoration-color: #800080; font-weight: bold\">            </span>│<span style=\"color: #800080; text-decoration-color: #800080; font-weight: bold\">           </span>│<span style=\"color: #800080; text-decoration-color: #800080; font-weight: bold\">          </span>│\n",
       "├────┼──────────┼───────────┼────────────┼────────────┼────────────┼──────────┼────────────┼───────────┼──────────┤\n",
       "│<span style=\"color: #800080; text-decoration-color: #800080; font-weight: bold\"> 49 </span>│<span style=\"color: #800080; text-decoration-color: #800080; font-weight: bold\"> 17       </span>│<span style=\"color: #800080; text-decoration-color: #800080; font-weight: bold\"> 6         </span>│<span style=\"color: #800080; text-decoration-color: #800080; font-weight: bold\"> 117        </span>│<span style=\"color: #800080; text-decoration-color: #800080; font-weight: bold\"> 83         </span>│<span style=\"color: #800080; text-decoration-color: #800080; font-weight: bold\"> 2025-05-31 </span>│<span style=\"color: #800080; text-decoration-color: #800080; font-weight: bold\"> finished </span>│<span style=\"color: #800080; text-decoration-color: #800080; font-weight: bold\"> None       </span>│<span style=\"color: #800080; text-decoration-color: #800080; font-weight: bold\"> None      </span>│<span style=\"color: #800080; text-decoration-color: #800080; font-weight: bold\"> 198      </span>│\n",
       "│<span style=\"color: #800080; text-decoration-color: #800080; font-weight: bold\">    </span>│<span style=\"color: #800080; text-decoration-color: #800080; font-weight: bold\">          </span>│<span style=\"color: #800080; text-decoration-color: #800080; font-weight: bold\">           </span>│<span style=\"color: #800080; text-decoration-color: #800080; font-weight: bold\">            </span>│<span style=\"color: #800080; text-decoration-color: #800080; font-weight: bold\">            </span>│<span style=\"color: #800080; text-decoration-color: #800080; font-weight: bold\"> 22:00:00   </span>│<span style=\"color: #800080; text-decoration-color: #800080; font-weight: bold\">          </span>│<span style=\"color: #800080; text-decoration-color: #800080; font-weight: bold\">            </span>│<span style=\"color: #800080; text-decoration-color: #800080; font-weight: bold\">           </span>│<span style=\"color: #800080; text-decoration-color: #800080; font-weight: bold\">          </span>│\n",
       "├────┼──────────┼───────────┼────────────┼────────────┼────────────┼──────────┼────────────┼───────────┼──────────┤\n",
       "│<span style=\"color: #800080; text-decoration-color: #800080; font-weight: bold\"> 52 </span>│<span style=\"color: #800080; text-decoration-color: #800080; font-weight: bold\"> 24       </span>│<span style=\"color: #800080; text-decoration-color: #800080; font-weight: bold\"> 6         </span>│<span style=\"color: #800080; text-decoration-color: #800080; font-weight: bold\"> 65         </span>│<span style=\"color: #800080; text-decoration-color: #800080; font-weight: bold\"> 82         </span>│<span style=\"color: #800080; text-decoration-color: #800080; font-weight: bold\"> 2025-06-10 </span>│<span style=\"color: #800080; text-decoration-color: #800080; font-weight: bold\"> live     </span>│<span style=\"color: #800080; text-decoration-color: #800080; font-weight: bold\"> None       </span>│<span style=\"color: #800080; text-decoration-color: #800080; font-weight: bold\"> None      </span>│<span style=\"color: #800080; text-decoration-color: #800080; font-weight: bold\"> 196      </span>│\n",
       "│<span style=\"color: #800080; text-decoration-color: #800080; font-weight: bold\">    </span>│<span style=\"color: #800080; text-decoration-color: #800080; font-weight: bold\">          </span>│<span style=\"color: #800080; text-decoration-color: #800080; font-weight: bold\">           </span>│<span style=\"color: #800080; text-decoration-color: #800080; font-weight: bold\">            </span>│<span style=\"color: #800080; text-decoration-color: #800080; font-weight: bold\">            </span>│<span style=\"color: #800080; text-decoration-color: #800080; font-weight: bold\"> 02:34:00   </span>│<span style=\"color: #800080; text-decoration-color: #800080; font-weight: bold\">          </span>│<span style=\"color: #800080; text-decoration-color: #800080; font-weight: bold\">            </span>│<span style=\"color: #800080; text-decoration-color: #800080; font-weight: bold\">           </span>│<span style=\"color: #800080; text-decoration-color: #800080; font-weight: bold\">          </span>│\n",
       "├────┼──────────┼───────────┼────────────┼────────────┼────────────┼──────────┼────────────┼───────────┼──────────┤\n",
       "│<span style=\"color: #800080; text-decoration-color: #800080; font-weight: bold\"> 53 </span>│<span style=\"color: #800080; text-decoration-color: #800080; font-weight: bold\"> 24       </span>│<span style=\"color: #800080; text-decoration-color: #800080; font-weight: bold\"> 6         </span>│<span style=\"color: #800080; text-decoration-color: #800080; font-weight: bold\"> 82         </span>│<span style=\"color: #800080; text-decoration-color: #800080; font-weight: bold\"> 65         </span>│<span style=\"color: #800080; text-decoration-color: #800080; font-weight: bold\"> 2025-06-11 </span>│<span style=\"color: #800080; text-decoration-color: #800080; font-weight: bold\"> upcoming </span>│<span style=\"color: #800080; text-decoration-color: #800080; font-weight: bold\"> None       </span>│<span style=\"color: #800080; text-decoration-color: #800080; font-weight: bold\"> None      </span>│<span style=\"color: #800080; text-decoration-color: #800080; font-weight: bold\"> 196      </span>│\n",
       "│<span style=\"color: #800080; text-decoration-color: #800080; font-weight: bold\">    </span>│<span style=\"color: #800080; text-decoration-color: #800080; font-weight: bold\">          </span>│<span style=\"color: #800080; text-decoration-color: #800080; font-weight: bold\">           </span>│<span style=\"color: #800080; text-decoration-color: #800080; font-weight: bold\">            </span>│<span style=\"color: #800080; text-decoration-color: #800080; font-weight: bold\">            </span>│<span style=\"color: #800080; text-decoration-color: #800080; font-weight: bold\"> 02:34:00   </span>│<span style=\"color: #800080; text-decoration-color: #800080; font-weight: bold\">          </span>│<span style=\"color: #800080; text-decoration-color: #800080; font-weight: bold\">            </span>│<span style=\"color: #800080; text-decoration-color: #800080; font-weight: bold\">           </span>│<span style=\"color: #800080; text-decoration-color: #800080; font-weight: bold\">          </span>│\n",
       "╰────┴──────────┴───────────┴────────────┴────────────┴────────────┴──────────┴────────────┴───────────┴──────────╯\n",
       "</pre>\n"
      ],
      "text/plain": [
       "\u001b[3m                                             Sample Data from matches                                              \u001b[0m\n",
       "╭────┬──────────┬───────────┬────────────┬────────────┬────────────┬──────────┬────────────┬───────────┬──────────╮\n",
       "│\u001b[1m \u001b[0m\u001b[1mid\u001b[0m\u001b[1m \u001b[0m│\u001b[1m \u001b[0m\u001b[1mround_id\u001b[0m\u001b[1m \u001b[0m│\u001b[1m \u001b[0m\u001b[1mleague_id\u001b[0m\u001b[1m \u001b[0m│\u001b[1m \u001b[0m\u001b[1mhome_team…\u001b[0m\u001b[1m \u001b[0m│\u001b[1m \u001b[0m\u001b[1maway_team…\u001b[0m\u001b[1m \u001b[0m│\u001b[1m \u001b[0m\u001b[1mmatch_dat…\u001b[0m\u001b[1m \u001b[0m│\u001b[1m \u001b[0m\u001b[1mstatus  \u001b[0m\u001b[1m \u001b[0m│\u001b[1m \u001b[0m\u001b[1mhome_score\u001b[0m\u001b[1m \u001b[0m│\u001b[1m \u001b[0m\u001b[1maway_sco…\u001b[0m\u001b[1m \u001b[0m│\u001b[1m \u001b[0m\u001b[1mstage_id\u001b[0m\u001b[1m \u001b[0m│\n",
       "├────┼──────────┼───────────┼────────────┼────────────┼────────────┼──────────┼────────────┼───────────┼──────────┤\n",
       "│\u001b[1;35m \u001b[0m\u001b[1;35m41\u001b[0m\u001b[1;35m \u001b[0m│\u001b[1;35m \u001b[0m\u001b[1;35m17      \u001b[0m\u001b[1;35m \u001b[0m│\u001b[1;35m \u001b[0m\u001b[1;35m6        \u001b[0m\u001b[1;35m \u001b[0m│\u001b[1;35m \u001b[0m\u001b[1;35mFC        \u001b[0m\u001b[1;35m \u001b[0m│\u001b[1;35m \u001b[0m\u001b[1;35mInter     \u001b[0m\u001b[1;35m \u001b[0m│\u001b[1;35m \u001b[0m\u001b[1;35m2025-04-30\u001b[0m\u001b[1;35m \u001b[0m│\u001b[1;35m \u001b[0m\u001b[1;35mupcoming\u001b[0m\u001b[1;35m \u001b[0m│\u001b[1;35m \u001b[0m\u001b[1;35mNone      \u001b[0m\u001b[1;35m \u001b[0m│\u001b[1;35m \u001b[0m\u001b[1;35mNone     \u001b[0m\u001b[1;35m \u001b[0m│\u001b[1;35m \u001b[0m\u001b[1;35m196     \u001b[0m\u001b[1;35m \u001b[0m│\n",
       "│\u001b[1;35m    \u001b[0m│\u001b[1;35m          \u001b[0m│\u001b[1;35m           \u001b[0m│\u001b[1;35m \u001b[0m\u001b[1;35mBarcelona \u001b[0m\u001b[1;35m \u001b[0m│\u001b[1;35m \u001b[0m\u001b[1;35mMilan     \u001b[0m\u001b[1;35m \u001b[0m│\u001b[1;35m \u001b[0m\u001b[1;35m22:00:00  \u001b[0m\u001b[1;35m \u001b[0m│\u001b[1;35m          \u001b[0m│\u001b[1;35m            \u001b[0m│\u001b[1;35m           \u001b[0m│\u001b[1;35m          \u001b[0m│\n",
       "├────┼──────────┼───────────┼────────────┼────────────┼────────────┼──────────┼────────────┼───────────┼──────────┤\n",
       "│\u001b[1;35m \u001b[0m\u001b[1;35m42\u001b[0m\u001b[1;35m \u001b[0m│\u001b[1;35m \u001b[0m\u001b[1;35m17      \u001b[0m\u001b[1;35m \u001b[0m│\u001b[1;35m \u001b[0m\u001b[1;35m6        \u001b[0m\u001b[1;35m \u001b[0m│\u001b[1;35m \u001b[0m\u001b[1;35mFC        \u001b[0m\u001b[1;35m \u001b[0m│\u001b[1;35m \u001b[0m\u001b[1;35mInter     \u001b[0m\u001b[1;35m \u001b[0m│\u001b[1;35m \u001b[0m\u001b[1;35m2025-04-30\u001b[0m\u001b[1;35m \u001b[0m│\u001b[1;35m \u001b[0m\u001b[1;35mupcoming\u001b[0m\u001b[1;35m \u001b[0m│\u001b[1;35m \u001b[0m\u001b[1;35mNone      \u001b[0m\u001b[1;35m \u001b[0m│\u001b[1;35m \u001b[0m\u001b[1;35mNone     \u001b[0m\u001b[1;35m \u001b[0m│\u001b[1;35m \u001b[0m\u001b[1;35m196     \u001b[0m\u001b[1;35m \u001b[0m│\n",
       "│\u001b[1;35m    \u001b[0m│\u001b[1;35m          \u001b[0m│\u001b[1;35m           \u001b[0m│\u001b[1;35m \u001b[0m\u001b[1;35mBarcelona \u001b[0m\u001b[1;35m \u001b[0m│\u001b[1;35m \u001b[0m\u001b[1;35mMilan     \u001b[0m\u001b[1;35m \u001b[0m│\u001b[1;35m \u001b[0m\u001b[1;35m22:00:00  \u001b[0m\u001b[1;35m \u001b[0m│\u001b[1;35m          \u001b[0m│\u001b[1;35m            \u001b[0m│\u001b[1;35m           \u001b[0m│\u001b[1;35m          \u001b[0m│\n",
       "├────┼──────────┼───────────┼────────────┼────────────┼────────────┼──────────┼────────────┼───────────┼──────────┤\n",
       "│\u001b[1;35m \u001b[0m\u001b[1;35m43\u001b[0m\u001b[1;35m \u001b[0m│\u001b[1;35m \u001b[0m\u001b[1;35m17      \u001b[0m\u001b[1;35m \u001b[0m│\u001b[1;35m \u001b[0m\u001b[1;35m6        \u001b[0m\u001b[1;35m \u001b[0m│\u001b[1;35m \u001b[0m\u001b[1;35mInter     \u001b[0m\u001b[1;35m \u001b[0m│\u001b[1;35m \u001b[0m\u001b[1;35mFC        \u001b[0m\u001b[1;35m \u001b[0m│\u001b[1;35m \u001b[0m\u001b[1;35m2025-05-06\u001b[0m\u001b[1;35m \u001b[0m│\u001b[1;35m \u001b[0m\u001b[1;35mupcoming\u001b[0m\u001b[1;35m \u001b[0m│\u001b[1;35m \u001b[0m\u001b[1;35mNone      \u001b[0m\u001b[1;35m \u001b[0m│\u001b[1;35m \u001b[0m\u001b[1;35mNone     \u001b[0m\u001b[1;35m \u001b[0m│\u001b[1;35m \u001b[0m\u001b[1;35m196     \u001b[0m\u001b[1;35m \u001b[0m│\n",
       "│\u001b[1;35m    \u001b[0m│\u001b[1;35m          \u001b[0m│\u001b[1;35m           \u001b[0m│\u001b[1;35m \u001b[0m\u001b[1;35mMilan     \u001b[0m\u001b[1;35m \u001b[0m│\u001b[1;35m \u001b[0m\u001b[1;35mBarcelona \u001b[0m\u001b[1;35m \u001b[0m│\u001b[1;35m \u001b[0m\u001b[1;35m22:00:00  \u001b[0m\u001b[1;35m \u001b[0m│\u001b[1;35m          \u001b[0m│\u001b[1;35m            \u001b[0m│\u001b[1;35m           \u001b[0m│\u001b[1;35m          \u001b[0m│\n",
       "├────┼──────────┼───────────┼────────────┼────────────┼────────────┼──────────┼────────────┼───────────┼──────────┤\n",
       "│\u001b[1;35m \u001b[0m\u001b[1;35m45\u001b[0m\u001b[1;35m \u001b[0m│\u001b[1;35m \u001b[0m\u001b[1;35m22      \u001b[0m\u001b[1;35m \u001b[0m│\u001b[1;35m \u001b[0m\u001b[1;35m6        \u001b[0m\u001b[1;35m \u001b[0m│\u001b[1;35m \u001b[0m\u001b[1;35mFC        \u001b[0m\u001b[1;35m \u001b[0m│\u001b[1;35m \u001b[0m\u001b[1;35mInter     \u001b[0m\u001b[1;35m \u001b[0m│\u001b[1;35m \u001b[0m\u001b[1;35m2025-04-30\u001b[0m\u001b[1;35m \u001b[0m│\u001b[1;35m \u001b[0m\u001b[1;35mupcoming\u001b[0m\u001b[1;35m \u001b[0m│\u001b[1;35m \u001b[0m\u001b[1;35mNone      \u001b[0m\u001b[1;35m \u001b[0m│\u001b[1;35m \u001b[0m\u001b[1;35mNone     \u001b[0m\u001b[1;35m \u001b[0m│\u001b[1;35m \u001b[0m\u001b[1;35m196     \u001b[0m\u001b[1;35m \u001b[0m│\n",
       "│\u001b[1;35m    \u001b[0m│\u001b[1;35m          \u001b[0m│\u001b[1;35m           \u001b[0m│\u001b[1;35m \u001b[0m\u001b[1;35mBarcelona \u001b[0m\u001b[1;35m \u001b[0m│\u001b[1;35m \u001b[0m\u001b[1;35mMilan     \u001b[0m\u001b[1;35m \u001b[0m│\u001b[1;35m \u001b[0m\u001b[1;35m22:00:00  \u001b[0m\u001b[1;35m \u001b[0m│\u001b[1;35m          \u001b[0m│\u001b[1;35m            \u001b[0m│\u001b[1;35m           \u001b[0m│\u001b[1;35m          \u001b[0m│\n",
       "├────┼──────────┼───────────┼────────────┼────────────┼────────────┼──────────┼────────────┼───────────┼──────────┤\n",
       "│\u001b[1;35m \u001b[0m\u001b[1;35m46\u001b[0m\u001b[1;35m \u001b[0m│\u001b[1;35m \u001b[0m\u001b[1;35m23      \u001b[0m\u001b[1;35m \u001b[0m│\u001b[1;35m \u001b[0m\u001b[1;35m6        \u001b[0m\u001b[1;35m \u001b[0m│\u001b[1;35m \u001b[0m\u001b[1;35mInter     \u001b[0m\u001b[1;35m \u001b[0m│\u001b[1;35m \u001b[0m\u001b[1;35mFC        \u001b[0m\u001b[1;35m \u001b[0m│\u001b[1;35m \u001b[0m\u001b[1;35m2025-05-06\u001b[0m\u001b[1;35m \u001b[0m│\u001b[1;35m \u001b[0m\u001b[1;35mupcoming\u001b[0m\u001b[1;35m \u001b[0m│\u001b[1;35m \u001b[0m\u001b[1;35mNone      \u001b[0m\u001b[1;35m \u001b[0m│\u001b[1;35m \u001b[0m\u001b[1;35mNone     \u001b[0m\u001b[1;35m \u001b[0m│\u001b[1;35m \u001b[0m\u001b[1;35m196     \u001b[0m\u001b[1;35m \u001b[0m│\n",
       "│\u001b[1;35m    \u001b[0m│\u001b[1;35m          \u001b[0m│\u001b[1;35m           \u001b[0m│\u001b[1;35m \u001b[0m\u001b[1;35mMilan     \u001b[0m\u001b[1;35m \u001b[0m│\u001b[1;35m \u001b[0m\u001b[1;35mBarcelona \u001b[0m\u001b[1;35m \u001b[0m│\u001b[1;35m \u001b[0m\u001b[1;35m22:00:00  \u001b[0m\u001b[1;35m \u001b[0m│\u001b[1;35m          \u001b[0m│\u001b[1;35m            \u001b[0m│\u001b[1;35m           \u001b[0m│\u001b[1;35m          \u001b[0m│\n",
       "├────┼──────────┼───────────┼────────────┼────────────┼────────────┼──────────┼────────────┼───────────┼──────────┤\n",
       "│\u001b[1;35m \u001b[0m\u001b[1;35m47\u001b[0m\u001b[1;35m \u001b[0m│\u001b[1;35m \u001b[0m\u001b[1;35m22      \u001b[0m\u001b[1;35m \u001b[0m│\u001b[1;35m \u001b[0m\u001b[1;35m6        \u001b[0m\u001b[1;35m \u001b[0m│\u001b[1;35m \u001b[0m\u001b[1;35mArsenal FC\u001b[0m\u001b[1;35m \u001b[0m│\u001b[1;35m \u001b[0m\u001b[1;35mPSG       \u001b[0m\u001b[1;35m \u001b[0m│\u001b[1;35m \u001b[0m\u001b[1;35m2025-04-29\u001b[0m\u001b[1;35m \u001b[0m│\u001b[1;35m \u001b[0m\u001b[1;35mupcoming\u001b[0m\u001b[1;35m \u001b[0m│\u001b[1;35m \u001b[0m\u001b[1;35mNone      \u001b[0m\u001b[1;35m \u001b[0m│\u001b[1;35m \u001b[0m\u001b[1;35mNone     \u001b[0m\u001b[1;35m \u001b[0m│\u001b[1;35m \u001b[0m\u001b[1;35m196     \u001b[0m\u001b[1;35m \u001b[0m│\n",
       "│\u001b[1;35m    \u001b[0m│\u001b[1;35m          \u001b[0m│\u001b[1;35m           \u001b[0m│\u001b[1;35m            \u001b[0m│\u001b[1;35m            \u001b[0m│\u001b[1;35m \u001b[0m\u001b[1;35m22:00:00  \u001b[0m\u001b[1;35m \u001b[0m│\u001b[1;35m          \u001b[0m│\u001b[1;35m            \u001b[0m│\u001b[1;35m           \u001b[0m│\u001b[1;35m          \u001b[0m│\n",
       "├────┼──────────┼───────────┼────────────┼────────────┼────────────┼──────────┼────────────┼───────────┼──────────┤\n",
       "│\u001b[1;35m \u001b[0m\u001b[1;35m48\u001b[0m\u001b[1;35m \u001b[0m│\u001b[1;35m \u001b[0m\u001b[1;35m23      \u001b[0m\u001b[1;35m \u001b[0m│\u001b[1;35m \u001b[0m\u001b[1;35m6        \u001b[0m\u001b[1;35m \u001b[0m│\u001b[1;35m \u001b[0m\u001b[1;35mPSG       \u001b[0m\u001b[1;35m \u001b[0m│\u001b[1;35m \u001b[0m\u001b[1;35mArsenal FC\u001b[0m\u001b[1;35m \u001b[0m│\u001b[1;35m \u001b[0m\u001b[1;35m2025-05-07\u001b[0m\u001b[1;35m \u001b[0m│\u001b[1;35m \u001b[0m\u001b[1;35mupcoming\u001b[0m\u001b[1;35m \u001b[0m│\u001b[1;35m \u001b[0m\u001b[1;35mNone      \u001b[0m\u001b[1;35m \u001b[0m│\u001b[1;35m \u001b[0m\u001b[1;35mNone     \u001b[0m\u001b[1;35m \u001b[0m│\u001b[1;35m \u001b[0m\u001b[1;35m196     \u001b[0m\u001b[1;35m \u001b[0m│\n",
       "│\u001b[1;35m    \u001b[0m│\u001b[1;35m          \u001b[0m│\u001b[1;35m           \u001b[0m│\u001b[1;35m            \u001b[0m│\u001b[1;35m            \u001b[0m│\u001b[1;35m \u001b[0m\u001b[1;35m22:00:00  \u001b[0m\u001b[1;35m \u001b[0m│\u001b[1;35m          \u001b[0m│\u001b[1;35m            \u001b[0m│\u001b[1;35m           \u001b[0m│\u001b[1;35m          \u001b[0m│\n",
       "├────┼──────────┼───────────┼────────────┼────────────┼────────────┼──────────┼────────────┼───────────┼──────────┤\n",
       "│\u001b[1;35m \u001b[0m\u001b[1;35m49\u001b[0m\u001b[1;35m \u001b[0m│\u001b[1;35m \u001b[0m\u001b[1;35m17      \u001b[0m\u001b[1;35m \u001b[0m│\u001b[1;35m \u001b[0m\u001b[1;35m6        \u001b[0m\u001b[1;35m \u001b[0m│\u001b[1;35m \u001b[0m\u001b[1;35m117       \u001b[0m\u001b[1;35m \u001b[0m│\u001b[1;35m \u001b[0m\u001b[1;35m83        \u001b[0m\u001b[1;35m \u001b[0m│\u001b[1;35m \u001b[0m\u001b[1;35m2025-05-31\u001b[0m\u001b[1;35m \u001b[0m│\u001b[1;35m \u001b[0m\u001b[1;35mfinished\u001b[0m\u001b[1;35m \u001b[0m│\u001b[1;35m \u001b[0m\u001b[1;35mNone      \u001b[0m\u001b[1;35m \u001b[0m│\u001b[1;35m \u001b[0m\u001b[1;35mNone     \u001b[0m\u001b[1;35m \u001b[0m│\u001b[1;35m \u001b[0m\u001b[1;35m198     \u001b[0m\u001b[1;35m \u001b[0m│\n",
       "│\u001b[1;35m    \u001b[0m│\u001b[1;35m          \u001b[0m│\u001b[1;35m           \u001b[0m│\u001b[1;35m            \u001b[0m│\u001b[1;35m            \u001b[0m│\u001b[1;35m \u001b[0m\u001b[1;35m22:00:00  \u001b[0m\u001b[1;35m \u001b[0m│\u001b[1;35m          \u001b[0m│\u001b[1;35m            \u001b[0m│\u001b[1;35m           \u001b[0m│\u001b[1;35m          \u001b[0m│\n",
       "├────┼──────────┼───────────┼────────────┼────────────┼────────────┼──────────┼────────────┼───────────┼──────────┤\n",
       "│\u001b[1;35m \u001b[0m\u001b[1;35m52\u001b[0m\u001b[1;35m \u001b[0m│\u001b[1;35m \u001b[0m\u001b[1;35m24      \u001b[0m\u001b[1;35m \u001b[0m│\u001b[1;35m \u001b[0m\u001b[1;35m6        \u001b[0m\u001b[1;35m \u001b[0m│\u001b[1;35m \u001b[0m\u001b[1;35m65        \u001b[0m\u001b[1;35m \u001b[0m│\u001b[1;35m \u001b[0m\u001b[1;35m82        \u001b[0m\u001b[1;35m \u001b[0m│\u001b[1;35m \u001b[0m\u001b[1;35m2025-06-10\u001b[0m\u001b[1;35m \u001b[0m│\u001b[1;35m \u001b[0m\u001b[1;35mlive    \u001b[0m\u001b[1;35m \u001b[0m│\u001b[1;35m \u001b[0m\u001b[1;35mNone      \u001b[0m\u001b[1;35m \u001b[0m│\u001b[1;35m \u001b[0m\u001b[1;35mNone     \u001b[0m\u001b[1;35m \u001b[0m│\u001b[1;35m \u001b[0m\u001b[1;35m196     \u001b[0m\u001b[1;35m \u001b[0m│\n",
       "│\u001b[1;35m    \u001b[0m│\u001b[1;35m          \u001b[0m│\u001b[1;35m           \u001b[0m│\u001b[1;35m            \u001b[0m│\u001b[1;35m            \u001b[0m│\u001b[1;35m \u001b[0m\u001b[1;35m02:34:00  \u001b[0m\u001b[1;35m \u001b[0m│\u001b[1;35m          \u001b[0m│\u001b[1;35m            \u001b[0m│\u001b[1;35m           \u001b[0m│\u001b[1;35m          \u001b[0m│\n",
       "├────┼──────────┼───────────┼────────────┼────────────┼────────────┼──────────┼────────────┼───────────┼──────────┤\n",
       "│\u001b[1;35m \u001b[0m\u001b[1;35m53\u001b[0m\u001b[1;35m \u001b[0m│\u001b[1;35m \u001b[0m\u001b[1;35m24      \u001b[0m\u001b[1;35m \u001b[0m│\u001b[1;35m \u001b[0m\u001b[1;35m6        \u001b[0m\u001b[1;35m \u001b[0m│\u001b[1;35m \u001b[0m\u001b[1;35m82        \u001b[0m\u001b[1;35m \u001b[0m│\u001b[1;35m \u001b[0m\u001b[1;35m65        \u001b[0m\u001b[1;35m \u001b[0m│\u001b[1;35m \u001b[0m\u001b[1;35m2025-06-11\u001b[0m\u001b[1;35m \u001b[0m│\u001b[1;35m \u001b[0m\u001b[1;35mupcoming\u001b[0m\u001b[1;35m \u001b[0m│\u001b[1;35m \u001b[0m\u001b[1;35mNone      \u001b[0m\u001b[1;35m \u001b[0m│\u001b[1;35m \u001b[0m\u001b[1;35mNone     \u001b[0m\u001b[1;35m \u001b[0m│\u001b[1;35m \u001b[0m\u001b[1;35m196     \u001b[0m\u001b[1;35m \u001b[0m│\n",
       "│\u001b[1;35m    \u001b[0m│\u001b[1;35m          \u001b[0m│\u001b[1;35m           \u001b[0m│\u001b[1;35m            \u001b[0m│\u001b[1;35m            \u001b[0m│\u001b[1;35m \u001b[0m\u001b[1;35m02:34:00  \u001b[0m\u001b[1;35m \u001b[0m│\u001b[1;35m          \u001b[0m│\u001b[1;35m            \u001b[0m│\u001b[1;35m           \u001b[0m│\u001b[1;35m          \u001b[0m│\n",
       "╰────┴──────────┴───────────┴────────────┴────────────┴────────────┴──────────┴────────────┴───────────┴──────────╯\n"
      ]
     },
     "metadata": {},
     "output_type": "display_data"
    },
    {
     "data": {
      "text/html": [
       "<pre style=\"white-space:pre;overflow-x:auto;line-height:normal;font-family:Menlo,'DejaVu Sans Mono',consolas,'Courier New',monospace\"><span style=\"color: #008080; text-decoration-color: #008080; font-weight: bold\">🔌 Connection closed.</span>\n",
       "\n",
       "</pre>\n"
      ],
      "text/plain": [
       "\u001b[1;36m🔌 Connection closed.\u001b[0m\n",
       "\n"
      ]
     },
     "metadata": {},
     "output_type": "display_data"
    },
    {
     "data": {
      "text/html": [
       "<pre style=\"white-space:pre;overflow-x:auto;line-height:normal;font-family:Menlo,'DejaVu Sans Mono',consolas,'Courier New',monospace\"><span style=\"color: #000080; text-decoration-color: #000080\">╭──────────────────────</span> Table Info <span style=\"color: #000080; text-decoration-color: #000080\">──────────────────────╮</span>\n",
       "<span style=\"color: #000080; text-decoration-color: #000080\">│ 📋 </span><span style=\"color: #008000; text-decoration-color: #008000; font-weight: bold\">Table:</span><span style=\"color: #000080; text-decoration-color: #000080\"> rounds                                       │</span>\n",
       "<span style=\"color: #000080; text-decoration-color: #000080\">│ 🔢 </span><span style=\"color: #008080; text-decoration-color: #008080; font-weight: bold\">Columns:</span><span style=\"color: #000080; text-decoration-color: #000080\"> id, name, start_date, end_date, created_at │</span>\n",
       "<span style=\"color: #000080; text-decoration-color: #000080\">│ 📊 </span><span style=\"color: #800080; text-decoration-color: #800080; font-weight: bold\">Total Rows:</span><span style=\"color: #000080; text-decoration-color: #000080\"> 2                                       │</span>\n",
       "<span style=\"color: #000080; text-decoration-color: #000080\">╰────────────────────────────────────────────────────────╯</span>\n",
       "</pre>\n"
      ],
      "text/plain": [
       "\u001b[34m╭─\u001b[0m\u001b[34m─────────────────────\u001b[0m Table Info \u001b[34m─────────────────────\u001b[0m\u001b[34m─╮\u001b[0m\n",
       "\u001b[34m│\u001b[0m\u001b[34m \u001b[0m\u001b[34m📋 \u001b[0m\u001b[1;32mTable:\u001b[0m\u001b[34m rounds\u001b[0m\u001b[34m                                      \u001b[0m\u001b[34m \u001b[0m\u001b[34m│\u001b[0m\n",
       "\u001b[34m│\u001b[0m\u001b[34m \u001b[0m\u001b[34m🔢 \u001b[0m\u001b[1;36mColumns:\u001b[0m\u001b[34m id, name, start_date, end_date, created_at\u001b[0m\u001b[34m \u001b[0m\u001b[34m│\u001b[0m\n",
       "\u001b[34m│\u001b[0m\u001b[34m \u001b[0m\u001b[34m📊 \u001b[0m\u001b[1;35mTotal Rows:\u001b[0m\u001b[34m 2\u001b[0m\u001b[34m                                      \u001b[0m\u001b[34m \u001b[0m\u001b[34m│\u001b[0m\n",
       "\u001b[34m╰────────────────────────────────────────────────────────╯\u001b[0m\n"
      ]
     },
     "metadata": {},
     "output_type": "display_data"
    },
    {
     "data": {
      "text/html": [
       "<pre style=\"white-space:pre;overflow-x:auto;line-height:normal;font-family:Menlo,'DejaVu Sans Mono',consolas,'Courier New',monospace\"><span style=\"font-style: italic\">                    Sample Data from rounds                     </span>\n",
       "╭────┬─────────┬────────────┬────────────┬─────────────────────╮\n",
       "│<span style=\"font-weight: bold\"> id </span>│<span style=\"font-weight: bold\"> name    </span>│<span style=\"font-weight: bold\"> start_date </span>│<span style=\"font-weight: bold\"> end_date   </span>│<span style=\"font-weight: bold\"> created_at          </span>│\n",
       "├────┼─────────┼────────────┼────────────┼─────────────────────┤\n",
       "│<span style=\"color: #800080; text-decoration-color: #800080; font-weight: bold\"> 17 </span>│<span style=\"color: #800080; text-decoration-color: #800080; font-weight: bold\"> Round 1 </span>│<span style=\"color: #800080; text-decoration-color: #800080; font-weight: bold\"> 2025-05-31 </span>│<span style=\"color: #800080; text-decoration-color: #800080; font-weight: bold\"> 2025-06-06 </span>│<span style=\"color: #800080; text-decoration-color: #800080; font-weight: bold\"> 2025-06-09 22:01:22 </span>│\n",
       "├────┼─────────┼────────────┼────────────┼─────────────────────┤\n",
       "│<span style=\"color: #800080; text-decoration-color: #800080; font-weight: bold\"> 24 </span>│<span style=\"color: #800080; text-decoration-color: #800080; font-weight: bold\"> Round 2 </span>│<span style=\"color: #800080; text-decoration-color: #800080; font-weight: bold\"> 2025-06-07 </span>│<span style=\"color: #800080; text-decoration-color: #800080; font-weight: bold\"> 2025-06-13 </span>│<span style=\"color: #800080; text-decoration-color: #800080; font-weight: bold\"> 2025-06-09 23:35:07 </span>│\n",
       "╰────┴─────────┴────────────┴────────────┴─────────────────────╯\n",
       "</pre>\n"
      ],
      "text/plain": [
       "\u001b[3m                    Sample Data from rounds                     \u001b[0m\n",
       "╭────┬─────────┬────────────┬────────────┬─────────────────────╮\n",
       "│\u001b[1m \u001b[0m\u001b[1mid\u001b[0m\u001b[1m \u001b[0m│\u001b[1m \u001b[0m\u001b[1mname   \u001b[0m\u001b[1m \u001b[0m│\u001b[1m \u001b[0m\u001b[1mstart_date\u001b[0m\u001b[1m \u001b[0m│\u001b[1m \u001b[0m\u001b[1mend_date  \u001b[0m\u001b[1m \u001b[0m│\u001b[1m \u001b[0m\u001b[1mcreated_at         \u001b[0m\u001b[1m \u001b[0m│\n",
       "├────┼─────────┼────────────┼────────────┼─────────────────────┤\n",
       "│\u001b[1;35m \u001b[0m\u001b[1;35m17\u001b[0m\u001b[1;35m \u001b[0m│\u001b[1;35m \u001b[0m\u001b[1;35mRound 1\u001b[0m\u001b[1;35m \u001b[0m│\u001b[1;35m \u001b[0m\u001b[1;35m2025-05-31\u001b[0m\u001b[1;35m \u001b[0m│\u001b[1;35m \u001b[0m\u001b[1;35m2025-06-06\u001b[0m\u001b[1;35m \u001b[0m│\u001b[1;35m \u001b[0m\u001b[1;35m2025-06-09 22:01:22\u001b[0m\u001b[1;35m \u001b[0m│\n",
       "├────┼─────────┼────────────┼────────────┼─────────────────────┤\n",
       "│\u001b[1;35m \u001b[0m\u001b[1;35m24\u001b[0m\u001b[1;35m \u001b[0m│\u001b[1;35m \u001b[0m\u001b[1;35mRound 2\u001b[0m\u001b[1;35m \u001b[0m│\u001b[1;35m \u001b[0m\u001b[1;35m2025-06-07\u001b[0m\u001b[1;35m \u001b[0m│\u001b[1;35m \u001b[0m\u001b[1;35m2025-06-13\u001b[0m\u001b[1;35m \u001b[0m│\u001b[1;35m \u001b[0m\u001b[1;35m2025-06-09 23:35:07\u001b[0m\u001b[1;35m \u001b[0m│\n",
       "╰────┴─────────┴────────────┴────────────┴─────────────────────╯\n"
      ]
     },
     "metadata": {},
     "output_type": "display_data"
    },
    {
     "data": {
      "text/html": [
       "<pre style=\"white-space:pre;overflow-x:auto;line-height:normal;font-family:Menlo,'DejaVu Sans Mono',consolas,'Courier New',monospace\"><span style=\"color: #008080; text-decoration-color: #008080; font-weight: bold\">🔌 Connection closed.</span>\n",
       "\n",
       "</pre>\n"
      ],
      "text/plain": [
       "\u001b[1;36m🔌 Connection closed.\u001b[0m\n",
       "\n"
      ]
     },
     "metadata": {},
     "output_type": "display_data"
    },
    {
     "data": {
      "text/html": [
       "<pre style=\"white-space:pre;overflow-x:auto;line-height:normal;font-family:Menlo,'DejaVu Sans Mono',consolas,'Courier New',monospace\"><span style=\"color: #000080; text-decoration-color: #000080\">╭────────────────────────────────────</span> Table Info <span style=\"color: #000080; text-decoration-color: #000080\">────────────────────────────────────╮</span>\n",
       "<span style=\"color: #000080; text-decoration-color: #000080\">│ 📋 </span><span style=\"color: #008000; text-decoration-color: #008000; font-weight: bold\">Table:</span><span style=\"color: #000080; text-decoration-color: #000080\"> teams                                                                    │</span>\n",
       "<span style=\"color: #000080; text-decoration-color: #000080\">│ 🔢 </span><span style=\"color: #008080; text-decoration-color: #008080; font-weight: bold\">Columns:</span><span style=\"color: #000080; text-decoration-color: #000080\"> id, name, logo_path, league_id, created_at, nationality, Official_name │</span>\n",
       "<span style=\"color: #000080; text-decoration-color: #000080\">│ 📊 </span><span style=\"color: #800080; text-decoration-color: #800080; font-weight: bold\">Total Rows:</span><span style=\"color: #000080; text-decoration-color: #000080\"> 57                                                                  │</span>\n",
       "<span style=\"color: #000080; text-decoration-color: #000080\">╰────────────────────────────────────────────────────────────────────────────────────╯</span>\n",
       "</pre>\n"
      ],
      "text/plain": [
       "\u001b[34m╭─\u001b[0m\u001b[34m───────────────────────────────────\u001b[0m Table Info \u001b[34m───────────────────────────────────\u001b[0m\u001b[34m─╮\u001b[0m\n",
       "\u001b[34m│\u001b[0m\u001b[34m \u001b[0m\u001b[34m📋 \u001b[0m\u001b[1;32mTable:\u001b[0m\u001b[34m teams\u001b[0m\u001b[34m                                                                   \u001b[0m\u001b[34m \u001b[0m\u001b[34m│\u001b[0m\n",
       "\u001b[34m│\u001b[0m\u001b[34m \u001b[0m\u001b[34m🔢 \u001b[0m\u001b[1;36mColumns:\u001b[0m\u001b[34m id, name, logo_path, league_id, created_at, nationality, Official_name\u001b[0m\u001b[34m \u001b[0m\u001b[34m│\u001b[0m\n",
       "\u001b[34m│\u001b[0m\u001b[34m \u001b[0m\u001b[34m📊 \u001b[0m\u001b[1;35mTotal Rows:\u001b[0m\u001b[34m 57\u001b[0m\u001b[34m                                                                 \u001b[0m\u001b[34m \u001b[0m\u001b[34m│\u001b[0m\n",
       "\u001b[34m╰────────────────────────────────────────────────────────────────────────────────────╯\u001b[0m\n"
      ]
     },
     "metadata": {},
     "output_type": "display_data"
    },
    {
     "data": {
      "text/html": [
       "<pre style=\"white-space:pre;overflow-x:auto;line-height:normal;font-family:Menlo,'DejaVu Sans Mono',consolas,'Courier New',monospace\"><span style=\"font-style: italic\">                                              Sample Data from teams                                               </span>\n",
       "╭────┬────────────────┬─────────────────────┬───────────┬─────────────────────┬─────────────┬─────────────────────╮\n",
       "│<span style=\"font-weight: bold\"> id </span>│<span style=\"font-weight: bold\"> name           </span>│<span style=\"font-weight: bold\"> logo_path           </span>│<span style=\"font-weight: bold\"> league_id </span>│<span style=\"font-weight: bold\"> created_at          </span>│<span style=\"font-weight: bold\"> nationality </span>│<span style=\"font-weight: bold\"> Official_name       </span>│\n",
       "├────┼────────────────┼─────────────────────┼───────────┼─────────────────────┼─────────────┼─────────────────────┤\n",
       "│<span style=\"color: #800080; text-decoration-color: #800080; font-weight: bold\"> 65 </span>│<span style=\"color: #800080; text-decoration-color: #800080; font-weight: bold\"> FC Barcelona   </span>│<span style=\"color: #800080; text-decoration-color: #800080; font-weight: bold\"> assets/teams/Barce… </span>│<span style=\"color: #800080; text-decoration-color: #800080; font-weight: bold\"> 3         </span>│<span style=\"color: #800080; text-decoration-color: #800080; font-weight: bold\"> 2025-06-09 16:45:08 </span>│<span style=\"color: #800080; text-decoration-color: #800080; font-weight: bold\"> Spain       </span>│<span style=\"color: #800080; text-decoration-color: #800080; font-weight: bold\"> FC Barcelona        </span>│\n",
       "├────┼────────────────┼─────────────────────┼───────────┼─────────────────────┼─────────────┼─────────────────────┤\n",
       "│<span style=\"color: #800080; text-decoration-color: #800080; font-weight: bold\"> 66 </span>│<span style=\"color: #800080; text-decoration-color: #800080; font-weight: bold\"> Athletic Club  </span>│<span style=\"color: #800080; text-decoration-color: #800080; font-weight: bold\"> assets/teams/Athle… </span>│<span style=\"color: #800080; text-decoration-color: #800080; font-weight: bold\"> 3         </span>│<span style=\"color: #800080; text-decoration-color: #800080; font-weight: bold\"> 2025-06-09 16:51:11 </span>│<span style=\"color: #800080; text-decoration-color: #800080; font-weight: bold\"> Spain       </span>│<span style=\"color: #800080; text-decoration-color: #800080; font-weight: bold\"> Athletic Club       </span>│\n",
       "│<span style=\"color: #800080; text-decoration-color: #800080; font-weight: bold\">    </span>│<span style=\"color: #800080; text-decoration-color: #800080; font-weight: bold\">                </span>│<span style=\"color: #800080; text-decoration-color: #800080; font-weight: bold\"> Club.png            </span>│<span style=\"color: #800080; text-decoration-color: #800080; font-weight: bold\">           </span>│<span style=\"color: #800080; text-decoration-color: #800080; font-weight: bold\">                     </span>│<span style=\"color: #800080; text-decoration-color: #800080; font-weight: bold\">             </span>│<span style=\"color: #800080; text-decoration-color: #800080; font-weight: bold\">                     </span>│\n",
       "├────┼────────────────┼─────────────────────┼───────────┼─────────────────────┼─────────────┼─────────────────────┤\n",
       "│<span style=\"color: #800080; text-decoration-color: #800080; font-weight: bold\"> 67 </span>│<span style=\"color: #800080; text-decoration-color: #800080; font-weight: bold\"> Atl. Madrid    </span>│<span style=\"color: #800080; text-decoration-color: #800080; font-weight: bold\"> assets/teams/atlet… </span>│<span style=\"color: #800080; text-decoration-color: #800080; font-weight: bold\"> 3         </span>│<span style=\"color: #800080; text-decoration-color: #800080; font-weight: bold\"> 2025-06-09 16:52:30 </span>│<span style=\"color: #800080; text-decoration-color: #800080; font-weight: bold\"> Spain       </span>│<span style=\"color: #800080; text-decoration-color: #800080; font-weight: bold\"> Club Atlético de    </span>│\n",
       "│<span style=\"color: #800080; text-decoration-color: #800080; font-weight: bold\">    </span>│<span style=\"color: #800080; text-decoration-color: #800080; font-weight: bold\">                </span>│<span style=\"color: #800080; text-decoration-color: #800080; font-weight: bold\">                     </span>│<span style=\"color: #800080; text-decoration-color: #800080; font-weight: bold\">           </span>│<span style=\"color: #800080; text-decoration-color: #800080; font-weight: bold\">                     </span>│<span style=\"color: #800080; text-decoration-color: #800080; font-weight: bold\">             </span>│<span style=\"color: #800080; text-decoration-color: #800080; font-weight: bold\"> Madrid              </span>│\n",
       "├────┼────────────────┼─────────────────────┼───────────┼─────────────────────┼─────────────┼─────────────────────┤\n",
       "│<span style=\"color: #800080; text-decoration-color: #800080; font-weight: bold\"> 68 </span>│<span style=\"color: #800080; text-decoration-color: #800080; font-weight: bold\"> Osasona        </span>│<span style=\"color: #800080; text-decoration-color: #800080; font-weight: bold\"> assets/teams/CA     </span>│<span style=\"color: #800080; text-decoration-color: #800080; font-weight: bold\"> 3         </span>│<span style=\"color: #800080; text-decoration-color: #800080; font-weight: bold\"> 2025-06-09 16:54:03 </span>│<span style=\"color: #800080; text-decoration-color: #800080; font-weight: bold\"> Spain       </span>│<span style=\"color: #800080; text-decoration-color: #800080; font-weight: bold\"> CA Osasuna          </span>│\n",
       "│<span style=\"color: #800080; text-decoration-color: #800080; font-weight: bold\">    </span>│<span style=\"color: #800080; text-decoration-color: #800080; font-weight: bold\">                </span>│<span style=\"color: #800080; text-decoration-color: #800080; font-weight: bold\"> Osasuna.png         </span>│<span style=\"color: #800080; text-decoration-color: #800080; font-weight: bold\">           </span>│<span style=\"color: #800080; text-decoration-color: #800080; font-weight: bold\">                     </span>│<span style=\"color: #800080; text-decoration-color: #800080; font-weight: bold\">             </span>│<span style=\"color: #800080; text-decoration-color: #800080; font-weight: bold\">                     </span>│\n",
       "├────┼────────────────┼─────────────────────┼───────────┼─────────────────────┼─────────────┼─────────────────────┤\n",
       "│<span style=\"color: #800080; text-decoration-color: #800080; font-weight: bold\"> 69 </span>│<span style=\"color: #800080; text-decoration-color: #800080; font-weight: bold\"> Espanyol       </span>│<span style=\"color: #800080; text-decoration-color: #800080; font-weight: bold\"> assets/teams/RCD    </span>│<span style=\"color: #800080; text-decoration-color: #800080; font-weight: bold\"> 3         </span>│<span style=\"color: #800080; text-decoration-color: #800080; font-weight: bold\"> 2025-06-09 16:54:39 </span>│<span style=\"color: #800080; text-decoration-color: #800080; font-weight: bold\"> Spain       </span>│<span style=\"color: #800080; text-decoration-color: #800080; font-weight: bold\"> RCD Espanyol de     </span>│\n",
       "│<span style=\"color: #800080; text-decoration-color: #800080; font-weight: bold\">    </span>│<span style=\"color: #800080; text-decoration-color: #800080; font-weight: bold\">                </span>│<span style=\"color: #800080; text-decoration-color: #800080; font-weight: bold\"> Espanyol.png        </span>│<span style=\"color: #800080; text-decoration-color: #800080; font-weight: bold\">           </span>│<span style=\"color: #800080; text-decoration-color: #800080; font-weight: bold\">                     </span>│<span style=\"color: #800080; text-decoration-color: #800080; font-weight: bold\">             </span>│<span style=\"color: #800080; text-decoration-color: #800080; font-weight: bold\"> Barcelona           </span>│\n",
       "├────┼────────────────┼─────────────────────┼───────────┼─────────────────────┼─────────────┼─────────────────────┤\n",
       "│<span style=\"color: #800080; text-decoration-color: #800080; font-weight: bold\"> 70 </span>│<span style=\"color: #800080; text-decoration-color: #800080; font-weight: bold\"> Getafe         </span>│<span style=\"color: #800080; text-decoration-color: #800080; font-weight: bold\"> assets/teams/Getafe </span>│<span style=\"color: #800080; text-decoration-color: #800080; font-weight: bold\"> 3         </span>│<span style=\"color: #800080; text-decoration-color: #800080; font-weight: bold\"> 2025-06-09 16:55:26 </span>│<span style=\"color: #800080; text-decoration-color: #800080; font-weight: bold\"> Spain       </span>│<span style=\"color: #800080; text-decoration-color: #800080; font-weight: bold\"> Getafe CF           </span>│\n",
       "│<span style=\"color: #800080; text-decoration-color: #800080; font-weight: bold\">    </span>│<span style=\"color: #800080; text-decoration-color: #800080; font-weight: bold\">                </span>│<span style=\"color: #800080; text-decoration-color: #800080; font-weight: bold\"> CF.png              </span>│<span style=\"color: #800080; text-decoration-color: #800080; font-weight: bold\">           </span>│<span style=\"color: #800080; text-decoration-color: #800080; font-weight: bold\">                     </span>│<span style=\"color: #800080; text-decoration-color: #800080; font-weight: bold\">             </span>│<span style=\"color: #800080; text-decoration-color: #800080; font-weight: bold\">                     </span>│\n",
       "├────┼────────────────┼─────────────────────┼───────────┼─────────────────────┼─────────────┼─────────────────────┤\n",
       "│<span style=\"color: #800080; text-decoration-color: #800080; font-weight: bold\"> 71 </span>│<span style=\"color: #800080; text-decoration-color: #800080; font-weight: bold\"> Real Madrid    </span>│<span style=\"color: #800080; text-decoration-color: #800080; font-weight: bold\"> assets/teams/86.png </span>│<span style=\"color: #800080; text-decoration-color: #800080; font-weight: bold\"> 3         </span>│<span style=\"color: #800080; text-decoration-color: #800080; font-weight: bold\"> 2025-06-09 16:56:05 </span>│<span style=\"color: #800080; text-decoration-color: #800080; font-weight: bold\"> Spain       </span>│<span style=\"color: #800080; text-decoration-color: #800080; font-weight: bold\"> Real Madrid CF      </span>│\n",
       "├────┼────────────────┼─────────────────────┼───────────┼─────────────────────┼─────────────┼─────────────────────┤\n",
       "│<span style=\"color: #800080; text-decoration-color: #800080; font-weight: bold\"> 72 </span>│<span style=\"color: #800080; text-decoration-color: #800080; font-weight: bold\"> Rayo Vallecano </span>│<span style=\"color: #800080; text-decoration-color: #800080; font-weight: bold\"> assets/teams/RayoV… </span>│<span style=\"color: #800080; text-decoration-color: #800080; font-weight: bold\"> 3         </span>│<span style=\"color: #800080; text-decoration-color: #800080; font-weight: bold\"> 2025-06-09 16:57:14 </span>│<span style=\"color: #800080; text-decoration-color: #800080; font-weight: bold\"> Spain       </span>│<span style=\"color: #800080; text-decoration-color: #800080; font-weight: bold\"> Rayo Vallecano de   </span>│\n",
       "│<span style=\"color: #800080; text-decoration-color: #800080; font-weight: bold\">    </span>│<span style=\"color: #800080; text-decoration-color: #800080; font-weight: bold\">                </span>│<span style=\"color: #800080; text-decoration-color: #800080; font-weight: bold\">                     </span>│<span style=\"color: #800080; text-decoration-color: #800080; font-weight: bold\">           </span>│<span style=\"color: #800080; text-decoration-color: #800080; font-weight: bold\">                     </span>│<span style=\"color: #800080; text-decoration-color: #800080; font-weight: bold\">             </span>│<span style=\"color: #800080; text-decoration-color: #800080; font-weight: bold\"> Madrid              </span>│\n",
       "├────┼────────────────┼─────────────────────┼───────────┼─────────────────────┼─────────────┼─────────────────────┤\n",
       "│<span style=\"color: #800080; text-decoration-color: #800080; font-weight: bold\"> 73 </span>│<span style=\"color: #800080; text-decoration-color: #800080; font-weight: bold\"> RCD Mallorca   </span>│<span style=\"color: #800080; text-decoration-color: #800080; font-weight: bold\"> assets/teams/RCD    </span>│<span style=\"color: #800080; text-decoration-color: #800080; font-weight: bold\"> 3         </span>│<span style=\"color: #800080; text-decoration-color: #800080; font-weight: bold\"> 2025-06-09 16:58:02 </span>│<span style=\"color: #800080; text-decoration-color: #800080; font-weight: bold\"> Spain       </span>│<span style=\"color: #800080; text-decoration-color: #800080; font-weight: bold\"> RCD Mallorca        </span>│\n",
       "│<span style=\"color: #800080; text-decoration-color: #800080; font-weight: bold\">    </span>│<span style=\"color: #800080; text-decoration-color: #800080; font-weight: bold\">                </span>│<span style=\"color: #800080; text-decoration-color: #800080; font-weight: bold\"> Mallorca.png        </span>│<span style=\"color: #800080; text-decoration-color: #800080; font-weight: bold\">           </span>│<span style=\"color: #800080; text-decoration-color: #800080; font-weight: bold\">                     </span>│<span style=\"color: #800080; text-decoration-color: #800080; font-weight: bold\">             </span>│<span style=\"color: #800080; text-decoration-color: #800080; font-weight: bold\">                     </span>│\n",
       "├────┼────────────────┼─────────────────────┼───────────┼─────────────────────┼─────────────┼─────────────────────┤\n",
       "│<span style=\"color: #800080; text-decoration-color: #800080; font-weight: bold\"> 74 </span>│<span style=\"color: #800080; text-decoration-color: #800080; font-weight: bold\"> Real Betis     </span>│<span style=\"color: #800080; text-decoration-color: #800080; font-weight: bold\"> assets/teams/RealB… </span>│<span style=\"color: #800080; text-decoration-color: #800080; font-weight: bold\"> 3         </span>│<span style=\"color: #800080; text-decoration-color: #800080; font-weight: bold\"> 2025-06-09 16:58:43 </span>│<span style=\"color: #800080; text-decoration-color: #800080; font-weight: bold\"> Spain       </span>│<span style=\"color: #800080; text-decoration-color: #800080; font-weight: bold\"> Real Betis Balompié </span>│\n",
       "╰────┴────────────────┴─────────────────────┴───────────┴─────────────────────┴─────────────┴─────────────────────╯\n",
       "</pre>\n"
      ],
      "text/plain": [
       "\u001b[3m                                              Sample Data from teams                                               \u001b[0m\n",
       "╭────┬────────────────┬─────────────────────┬───────────┬─────────────────────┬─────────────┬─────────────────────╮\n",
       "│\u001b[1m \u001b[0m\u001b[1mid\u001b[0m\u001b[1m \u001b[0m│\u001b[1m \u001b[0m\u001b[1mname          \u001b[0m\u001b[1m \u001b[0m│\u001b[1m \u001b[0m\u001b[1mlogo_path          \u001b[0m\u001b[1m \u001b[0m│\u001b[1m \u001b[0m\u001b[1mleague_id\u001b[0m\u001b[1m \u001b[0m│\u001b[1m \u001b[0m\u001b[1mcreated_at         \u001b[0m\u001b[1m \u001b[0m│\u001b[1m \u001b[0m\u001b[1mnationality\u001b[0m\u001b[1m \u001b[0m│\u001b[1m \u001b[0m\u001b[1mOfficial_name      \u001b[0m\u001b[1m \u001b[0m│\n",
       "├────┼────────────────┼─────────────────────┼───────────┼─────────────────────┼─────────────┼─────────────────────┤\n",
       "│\u001b[1;35m \u001b[0m\u001b[1;35m65\u001b[0m\u001b[1;35m \u001b[0m│\u001b[1;35m \u001b[0m\u001b[1;35mFC Barcelona  \u001b[0m\u001b[1;35m \u001b[0m│\u001b[1;35m \u001b[0m\u001b[1;35massets/teams/Barce…\u001b[0m\u001b[1;35m \u001b[0m│\u001b[1;35m \u001b[0m\u001b[1;35m3        \u001b[0m\u001b[1;35m \u001b[0m│\u001b[1;35m \u001b[0m\u001b[1;35m2025-06-09 16:45:08\u001b[0m\u001b[1;35m \u001b[0m│\u001b[1;35m \u001b[0m\u001b[1;35mSpain      \u001b[0m\u001b[1;35m \u001b[0m│\u001b[1;35m \u001b[0m\u001b[1;35mFC Barcelona       \u001b[0m\u001b[1;35m \u001b[0m│\n",
       "├────┼────────────────┼─────────────────────┼───────────┼─────────────────────┼─────────────┼─────────────────────┤\n",
       "│\u001b[1;35m \u001b[0m\u001b[1;35m66\u001b[0m\u001b[1;35m \u001b[0m│\u001b[1;35m \u001b[0m\u001b[1;35mAthletic Club \u001b[0m\u001b[1;35m \u001b[0m│\u001b[1;35m \u001b[0m\u001b[1;35massets/teams/Athle…\u001b[0m\u001b[1;35m \u001b[0m│\u001b[1;35m \u001b[0m\u001b[1;35m3        \u001b[0m\u001b[1;35m \u001b[0m│\u001b[1;35m \u001b[0m\u001b[1;35m2025-06-09 16:51:11\u001b[0m\u001b[1;35m \u001b[0m│\u001b[1;35m \u001b[0m\u001b[1;35mSpain      \u001b[0m\u001b[1;35m \u001b[0m│\u001b[1;35m \u001b[0m\u001b[1;35mAthletic Club      \u001b[0m\u001b[1;35m \u001b[0m│\n",
       "│\u001b[1;35m    \u001b[0m│\u001b[1;35m                \u001b[0m│\u001b[1;35m \u001b[0m\u001b[1;35mClub.png           \u001b[0m\u001b[1;35m \u001b[0m│\u001b[1;35m           \u001b[0m│\u001b[1;35m                     \u001b[0m│\u001b[1;35m             \u001b[0m│\u001b[1;35m                     \u001b[0m│\n",
       "├────┼────────────────┼─────────────────────┼───────────┼─────────────────────┼─────────────┼─────────────────────┤\n",
       "│\u001b[1;35m \u001b[0m\u001b[1;35m67\u001b[0m\u001b[1;35m \u001b[0m│\u001b[1;35m \u001b[0m\u001b[1;35mAtl. Madrid   \u001b[0m\u001b[1;35m \u001b[0m│\u001b[1;35m \u001b[0m\u001b[1;35massets/teams/atlet…\u001b[0m\u001b[1;35m \u001b[0m│\u001b[1;35m \u001b[0m\u001b[1;35m3        \u001b[0m\u001b[1;35m \u001b[0m│\u001b[1;35m \u001b[0m\u001b[1;35m2025-06-09 16:52:30\u001b[0m\u001b[1;35m \u001b[0m│\u001b[1;35m \u001b[0m\u001b[1;35mSpain      \u001b[0m\u001b[1;35m \u001b[0m│\u001b[1;35m \u001b[0m\u001b[1;35mClub Atlético de   \u001b[0m\u001b[1;35m \u001b[0m│\n",
       "│\u001b[1;35m    \u001b[0m│\u001b[1;35m                \u001b[0m│\u001b[1;35m                     \u001b[0m│\u001b[1;35m           \u001b[0m│\u001b[1;35m                     \u001b[0m│\u001b[1;35m             \u001b[0m│\u001b[1;35m \u001b[0m\u001b[1;35mMadrid             \u001b[0m\u001b[1;35m \u001b[0m│\n",
       "├────┼────────────────┼─────────────────────┼───────────┼─────────────────────┼─────────────┼─────────────────────┤\n",
       "│\u001b[1;35m \u001b[0m\u001b[1;35m68\u001b[0m\u001b[1;35m \u001b[0m│\u001b[1;35m \u001b[0m\u001b[1;35mOsasona       \u001b[0m\u001b[1;35m \u001b[0m│\u001b[1;35m \u001b[0m\u001b[1;35massets/teams/CA    \u001b[0m\u001b[1;35m \u001b[0m│\u001b[1;35m \u001b[0m\u001b[1;35m3        \u001b[0m\u001b[1;35m \u001b[0m│\u001b[1;35m \u001b[0m\u001b[1;35m2025-06-09 16:54:03\u001b[0m\u001b[1;35m \u001b[0m│\u001b[1;35m \u001b[0m\u001b[1;35mSpain      \u001b[0m\u001b[1;35m \u001b[0m│\u001b[1;35m \u001b[0m\u001b[1;35mCA Osasuna         \u001b[0m\u001b[1;35m \u001b[0m│\n",
       "│\u001b[1;35m    \u001b[0m│\u001b[1;35m                \u001b[0m│\u001b[1;35m \u001b[0m\u001b[1;35mOsasuna.png        \u001b[0m\u001b[1;35m \u001b[0m│\u001b[1;35m           \u001b[0m│\u001b[1;35m                     \u001b[0m│\u001b[1;35m             \u001b[0m│\u001b[1;35m                     \u001b[0m│\n",
       "├────┼────────────────┼─────────────────────┼───────────┼─────────────────────┼─────────────┼─────────────────────┤\n",
       "│\u001b[1;35m \u001b[0m\u001b[1;35m69\u001b[0m\u001b[1;35m \u001b[0m│\u001b[1;35m \u001b[0m\u001b[1;35mEspanyol      \u001b[0m\u001b[1;35m \u001b[0m│\u001b[1;35m \u001b[0m\u001b[1;35massets/teams/RCD   \u001b[0m\u001b[1;35m \u001b[0m│\u001b[1;35m \u001b[0m\u001b[1;35m3        \u001b[0m\u001b[1;35m \u001b[0m│\u001b[1;35m \u001b[0m\u001b[1;35m2025-06-09 16:54:39\u001b[0m\u001b[1;35m \u001b[0m│\u001b[1;35m \u001b[0m\u001b[1;35mSpain      \u001b[0m\u001b[1;35m \u001b[0m│\u001b[1;35m \u001b[0m\u001b[1;35mRCD Espanyol de    \u001b[0m\u001b[1;35m \u001b[0m│\n",
       "│\u001b[1;35m    \u001b[0m│\u001b[1;35m                \u001b[0m│\u001b[1;35m \u001b[0m\u001b[1;35mEspanyol.png       \u001b[0m\u001b[1;35m \u001b[0m│\u001b[1;35m           \u001b[0m│\u001b[1;35m                     \u001b[0m│\u001b[1;35m             \u001b[0m│\u001b[1;35m \u001b[0m\u001b[1;35mBarcelona          \u001b[0m\u001b[1;35m \u001b[0m│\n",
       "├────┼────────────────┼─────────────────────┼───────────┼─────────────────────┼─────────────┼─────────────────────┤\n",
       "│\u001b[1;35m \u001b[0m\u001b[1;35m70\u001b[0m\u001b[1;35m \u001b[0m│\u001b[1;35m \u001b[0m\u001b[1;35mGetafe        \u001b[0m\u001b[1;35m \u001b[0m│\u001b[1;35m \u001b[0m\u001b[1;35massets/teams/Getafe\u001b[0m\u001b[1;35m \u001b[0m│\u001b[1;35m \u001b[0m\u001b[1;35m3        \u001b[0m\u001b[1;35m \u001b[0m│\u001b[1;35m \u001b[0m\u001b[1;35m2025-06-09 16:55:26\u001b[0m\u001b[1;35m \u001b[0m│\u001b[1;35m \u001b[0m\u001b[1;35mSpain      \u001b[0m\u001b[1;35m \u001b[0m│\u001b[1;35m \u001b[0m\u001b[1;35mGetafe CF          \u001b[0m\u001b[1;35m \u001b[0m│\n",
       "│\u001b[1;35m    \u001b[0m│\u001b[1;35m                \u001b[0m│\u001b[1;35m \u001b[0m\u001b[1;35mCF.png             \u001b[0m\u001b[1;35m \u001b[0m│\u001b[1;35m           \u001b[0m│\u001b[1;35m                     \u001b[0m│\u001b[1;35m             \u001b[0m│\u001b[1;35m                     \u001b[0m│\n",
       "├────┼────────────────┼─────────────────────┼───────────┼─────────────────────┼─────────────┼─────────────────────┤\n",
       "│\u001b[1;35m \u001b[0m\u001b[1;35m71\u001b[0m\u001b[1;35m \u001b[0m│\u001b[1;35m \u001b[0m\u001b[1;35mReal Madrid   \u001b[0m\u001b[1;35m \u001b[0m│\u001b[1;35m \u001b[0m\u001b[1;35massets/teams/86.png\u001b[0m\u001b[1;35m \u001b[0m│\u001b[1;35m \u001b[0m\u001b[1;35m3        \u001b[0m\u001b[1;35m \u001b[0m│\u001b[1;35m \u001b[0m\u001b[1;35m2025-06-09 16:56:05\u001b[0m\u001b[1;35m \u001b[0m│\u001b[1;35m \u001b[0m\u001b[1;35mSpain      \u001b[0m\u001b[1;35m \u001b[0m│\u001b[1;35m \u001b[0m\u001b[1;35mReal Madrid CF     \u001b[0m\u001b[1;35m \u001b[0m│\n",
       "├────┼────────────────┼─────────────────────┼───────────┼─────────────────────┼─────────────┼─────────────────────┤\n",
       "│\u001b[1;35m \u001b[0m\u001b[1;35m72\u001b[0m\u001b[1;35m \u001b[0m│\u001b[1;35m \u001b[0m\u001b[1;35mRayo Vallecano\u001b[0m\u001b[1;35m \u001b[0m│\u001b[1;35m \u001b[0m\u001b[1;35massets/teams/RayoV…\u001b[0m\u001b[1;35m \u001b[0m│\u001b[1;35m \u001b[0m\u001b[1;35m3        \u001b[0m\u001b[1;35m \u001b[0m│\u001b[1;35m \u001b[0m\u001b[1;35m2025-06-09 16:57:14\u001b[0m\u001b[1;35m \u001b[0m│\u001b[1;35m \u001b[0m\u001b[1;35mSpain      \u001b[0m\u001b[1;35m \u001b[0m│\u001b[1;35m \u001b[0m\u001b[1;35mRayo Vallecano de  \u001b[0m\u001b[1;35m \u001b[0m│\n",
       "│\u001b[1;35m    \u001b[0m│\u001b[1;35m                \u001b[0m│\u001b[1;35m                     \u001b[0m│\u001b[1;35m           \u001b[0m│\u001b[1;35m                     \u001b[0m│\u001b[1;35m             \u001b[0m│\u001b[1;35m \u001b[0m\u001b[1;35mMadrid             \u001b[0m\u001b[1;35m \u001b[0m│\n",
       "├────┼────────────────┼─────────────────────┼───────────┼─────────────────────┼─────────────┼─────────────────────┤\n",
       "│\u001b[1;35m \u001b[0m\u001b[1;35m73\u001b[0m\u001b[1;35m \u001b[0m│\u001b[1;35m \u001b[0m\u001b[1;35mRCD Mallorca  \u001b[0m\u001b[1;35m \u001b[0m│\u001b[1;35m \u001b[0m\u001b[1;35massets/teams/RCD   \u001b[0m\u001b[1;35m \u001b[0m│\u001b[1;35m \u001b[0m\u001b[1;35m3        \u001b[0m\u001b[1;35m \u001b[0m│\u001b[1;35m \u001b[0m\u001b[1;35m2025-06-09 16:58:02\u001b[0m\u001b[1;35m \u001b[0m│\u001b[1;35m \u001b[0m\u001b[1;35mSpain      \u001b[0m\u001b[1;35m \u001b[0m│\u001b[1;35m \u001b[0m\u001b[1;35mRCD Mallorca       \u001b[0m\u001b[1;35m \u001b[0m│\n",
       "│\u001b[1;35m    \u001b[0m│\u001b[1;35m                \u001b[0m│\u001b[1;35m \u001b[0m\u001b[1;35mMallorca.png       \u001b[0m\u001b[1;35m \u001b[0m│\u001b[1;35m           \u001b[0m│\u001b[1;35m                     \u001b[0m│\u001b[1;35m             \u001b[0m│\u001b[1;35m                     \u001b[0m│\n",
       "├────┼────────────────┼─────────────────────┼───────────┼─────────────────────┼─────────────┼─────────────────────┤\n",
       "│\u001b[1;35m \u001b[0m\u001b[1;35m74\u001b[0m\u001b[1;35m \u001b[0m│\u001b[1;35m \u001b[0m\u001b[1;35mReal Betis    \u001b[0m\u001b[1;35m \u001b[0m│\u001b[1;35m \u001b[0m\u001b[1;35massets/teams/RealB…\u001b[0m\u001b[1;35m \u001b[0m│\u001b[1;35m \u001b[0m\u001b[1;35m3        \u001b[0m\u001b[1;35m \u001b[0m│\u001b[1;35m \u001b[0m\u001b[1;35m2025-06-09 16:58:43\u001b[0m\u001b[1;35m \u001b[0m│\u001b[1;35m \u001b[0m\u001b[1;35mSpain      \u001b[0m\u001b[1;35m \u001b[0m│\u001b[1;35m \u001b[0m\u001b[1;35mReal Betis Balompié\u001b[0m\u001b[1;35m \u001b[0m│\n",
       "╰────┴────────────────┴─────────────────────┴───────────┴─────────────────────┴─────────────┴─────────────────────╯\n"
      ]
     },
     "metadata": {},
     "output_type": "display_data"
    },
    {
     "data": {
      "text/html": [
       "<pre style=\"white-space:pre;overflow-x:auto;line-height:normal;font-family:Menlo,'DejaVu Sans Mono',consolas,'Courier New',monospace\"><span style=\"color: #008080; text-decoration-color: #008080; font-weight: bold\">🔌 Connection closed.</span>\n",
       "\n",
       "</pre>\n"
      ],
      "text/plain": [
       "\u001b[1;36m🔌 Connection closed.\u001b[0m\n",
       "\n"
      ]
     },
     "metadata": {},
     "output_type": "display_data"
    },
    {
     "data": {
      "text/html": [
       "<pre style=\"white-space:pre;overflow-x:auto;line-height:normal;font-family:Menlo,'DejaVu Sans Mono',consolas,'Courier New',monospace\"><span style=\"color: #000080; text-decoration-color: #000080\">╭──────────</span> Table Info <span style=\"color: #000080; text-decoration-color: #000080\">──────────╮</span>\n",
       "<span style=\"color: #000080; text-decoration-color: #000080\">│ 📋 </span><span style=\"color: #008000; text-decoration-color: #008000; font-weight: bold\">Table:</span><span style=\"color: #000080; text-decoration-color: #000080\"> team_league          │</span>\n",
       "<span style=\"color: #000080; text-decoration-color: #000080\">│ 🔢 </span><span style=\"color: #008080; text-decoration-color: #008080; font-weight: bold\">Columns:</span><span style=\"color: #000080; text-decoration-color: #000080\"> team_id, league_id │</span>\n",
       "<span style=\"color: #000080; text-decoration-color: #000080\">│ 📊 </span><span style=\"color: #800080; text-decoration-color: #800080; font-weight: bold\">Total Rows:</span><span style=\"color: #000080; text-decoration-color: #000080\"> 113             │</span>\n",
       "<span style=\"color: #000080; text-decoration-color: #000080\">╰────────────────────────────────╯</span>\n",
       "</pre>\n"
      ],
      "text/plain": [
       "\u001b[34m╭─\u001b[0m\u001b[34m─────────\u001b[0m Table Info \u001b[34m─────────\u001b[0m\u001b[34m─╮\u001b[0m\n",
       "\u001b[34m│\u001b[0m\u001b[34m \u001b[0m\u001b[34m📋 \u001b[0m\u001b[1;32mTable:\u001b[0m\u001b[34m team_league\u001b[0m\u001b[34m         \u001b[0m\u001b[34m \u001b[0m\u001b[34m│\u001b[0m\n",
       "\u001b[34m│\u001b[0m\u001b[34m \u001b[0m\u001b[34m🔢 \u001b[0m\u001b[1;36mColumns:\u001b[0m\u001b[34m team_id, league_id\u001b[0m\u001b[34m \u001b[0m\u001b[34m│\u001b[0m\n",
       "\u001b[34m│\u001b[0m\u001b[34m \u001b[0m\u001b[34m📊 \u001b[0m\u001b[1;35mTotal Rows:\u001b[0m\u001b[34m 113\u001b[0m\u001b[34m            \u001b[0m\u001b[34m \u001b[0m\u001b[34m│\u001b[0m\n",
       "\u001b[34m╰────────────────────────────────╯\u001b[0m\n"
      ]
     },
     "metadata": {},
     "output_type": "display_data"
    },
    {
     "data": {
      "text/html": [
       "<pre style=\"white-space:pre;overflow-x:auto;line-height:normal;font-family:Menlo,'DejaVu Sans Mono',consolas,'Courier New',monospace\"><span style=\"font-style: italic\">   Sample Data from    </span>\n",
       "<span style=\"font-style: italic\">      team_league      </span>\n",
       "╭─────────┬───────────╮\n",
       "│<span style=\"font-weight: bold\"> team_id </span>│<span style=\"font-weight: bold\"> league_id </span>│\n",
       "├─────────┼───────────┤\n",
       "│<span style=\"color: #800080; text-decoration-color: #800080; font-weight: bold\"> 65      </span>│<span style=\"color: #800080; text-decoration-color: #800080; font-weight: bold\"> 3         </span>│\n",
       "├─────────┼───────────┤\n",
       "│<span style=\"color: #800080; text-decoration-color: #800080; font-weight: bold\"> 65      </span>│<span style=\"color: #800080; text-decoration-color: #800080; font-weight: bold\"> 5         </span>│\n",
       "├─────────┼───────────┤\n",
       "│<span style=\"color: #800080; text-decoration-color: #800080; font-weight: bold\"> 65      </span>│<span style=\"color: #800080; text-decoration-color: #800080; font-weight: bold\"> 6         </span>│\n",
       "├─────────┼───────────┤\n",
       "│<span style=\"color: #800080; text-decoration-color: #800080; font-weight: bold\"> 65      </span>│<span style=\"color: #800080; text-decoration-color: #800080; font-weight: bold\"> 9         </span>│\n",
       "├─────────┼───────────┤\n",
       "│<span style=\"color: #800080; text-decoration-color: #800080; font-weight: bold\"> 66      </span>│<span style=\"color: #800080; text-decoration-color: #800080; font-weight: bold\"> 3         </span>│\n",
       "├─────────┼───────────┤\n",
       "│<span style=\"color: #800080; text-decoration-color: #800080; font-weight: bold\"> 66      </span>│<span style=\"color: #800080; text-decoration-color: #800080; font-weight: bold\"> 5         </span>│\n",
       "├─────────┼───────────┤\n",
       "│<span style=\"color: #800080; text-decoration-color: #800080; font-weight: bold\"> 66      </span>│<span style=\"color: #800080; text-decoration-color: #800080; font-weight: bold\"> 6         </span>│\n",
       "├─────────┼───────────┤\n",
       "│<span style=\"color: #800080; text-decoration-color: #800080; font-weight: bold\"> 67      </span>│<span style=\"color: #800080; text-decoration-color: #800080; font-weight: bold\"> 3         </span>│\n",
       "├─────────┼───────────┤\n",
       "│<span style=\"color: #800080; text-decoration-color: #800080; font-weight: bold\"> 67      </span>│<span style=\"color: #800080; text-decoration-color: #800080; font-weight: bold\"> 5         </span>│\n",
       "├─────────┼───────────┤\n",
       "│<span style=\"color: #800080; text-decoration-color: #800080; font-weight: bold\"> 67      </span>│<span style=\"color: #800080; text-decoration-color: #800080; font-weight: bold\"> 6         </span>│\n",
       "╰─────────┴───────────╯\n",
       "</pre>\n"
      ],
      "text/plain": [
       "\u001b[3m   Sample Data from    \u001b[0m\n",
       "\u001b[3m      team_league      \u001b[0m\n",
       "╭─────────┬───────────╮\n",
       "│\u001b[1m \u001b[0m\u001b[1mteam_id\u001b[0m\u001b[1m \u001b[0m│\u001b[1m \u001b[0m\u001b[1mleague_id\u001b[0m\u001b[1m \u001b[0m│\n",
       "├─────────┼───────────┤\n",
       "│\u001b[1;35m \u001b[0m\u001b[1;35m65     \u001b[0m\u001b[1;35m \u001b[0m│\u001b[1;35m \u001b[0m\u001b[1;35m3        \u001b[0m\u001b[1;35m \u001b[0m│\n",
       "├─────────┼───────────┤\n",
       "│\u001b[1;35m \u001b[0m\u001b[1;35m65     \u001b[0m\u001b[1;35m \u001b[0m│\u001b[1;35m \u001b[0m\u001b[1;35m5        \u001b[0m\u001b[1;35m \u001b[0m│\n",
       "├─────────┼───────────┤\n",
       "│\u001b[1;35m \u001b[0m\u001b[1;35m65     \u001b[0m\u001b[1;35m \u001b[0m│\u001b[1;35m \u001b[0m\u001b[1;35m6        \u001b[0m\u001b[1;35m \u001b[0m│\n",
       "├─────────┼───────────┤\n",
       "│\u001b[1;35m \u001b[0m\u001b[1;35m65     \u001b[0m\u001b[1;35m \u001b[0m│\u001b[1;35m \u001b[0m\u001b[1;35m9        \u001b[0m\u001b[1;35m \u001b[0m│\n",
       "├─────────┼───────────┤\n",
       "│\u001b[1;35m \u001b[0m\u001b[1;35m66     \u001b[0m\u001b[1;35m \u001b[0m│\u001b[1;35m \u001b[0m\u001b[1;35m3        \u001b[0m\u001b[1;35m \u001b[0m│\n",
       "├─────────┼───────────┤\n",
       "│\u001b[1;35m \u001b[0m\u001b[1;35m66     \u001b[0m\u001b[1;35m \u001b[0m│\u001b[1;35m \u001b[0m\u001b[1;35m5        \u001b[0m\u001b[1;35m \u001b[0m│\n",
       "├─────────┼───────────┤\n",
       "│\u001b[1;35m \u001b[0m\u001b[1;35m66     \u001b[0m\u001b[1;35m \u001b[0m│\u001b[1;35m \u001b[0m\u001b[1;35m6        \u001b[0m\u001b[1;35m \u001b[0m│\n",
       "├─────────┼───────────┤\n",
       "│\u001b[1;35m \u001b[0m\u001b[1;35m67     \u001b[0m\u001b[1;35m \u001b[0m│\u001b[1;35m \u001b[0m\u001b[1;35m3        \u001b[0m\u001b[1;35m \u001b[0m│\n",
       "├─────────┼───────────┤\n",
       "│\u001b[1;35m \u001b[0m\u001b[1;35m67     \u001b[0m\u001b[1;35m \u001b[0m│\u001b[1;35m \u001b[0m\u001b[1;35m5        \u001b[0m\u001b[1;35m \u001b[0m│\n",
       "├─────────┼───────────┤\n",
       "│\u001b[1;35m \u001b[0m\u001b[1;35m67     \u001b[0m\u001b[1;35m \u001b[0m│\u001b[1;35m \u001b[0m\u001b[1;35m6        \u001b[0m\u001b[1;35m \u001b[0m│\n",
       "╰─────────┴───────────╯\n"
      ]
     },
     "metadata": {},
     "output_type": "display_data"
    },
    {
     "data": {
      "text/html": [
       "<pre style=\"white-space:pre;overflow-x:auto;line-height:normal;font-family:Menlo,'DejaVu Sans Mono',consolas,'Courier New',monospace\"><span style=\"color: #008080; text-decoration-color: #008080; font-weight: bold\">🔌 Connection closed.</span>\n",
       "\n",
       "</pre>\n"
      ],
      "text/plain": [
       "\u001b[1;36m🔌 Connection closed.\u001b[0m\n",
       "\n"
      ]
     },
     "metadata": {},
     "output_type": "display_data"
    },
    {
     "data": {
      "text/html": [
       "<pre style=\"white-space:pre;overflow-x:auto;line-height:normal;font-family:Menlo,'DejaVu Sans Mono',consolas,'Courier New',monospace\"><span style=\"color: #000080; text-decoration-color: #000080\">╭──────────────────────────────────────────────</span> Table Info <span style=\"color: #000080; text-decoration-color: #000080\">───────────────────────────────────────────────╮</span>\n",
       "<span style=\"color: #000080; text-decoration-color: #000080\">│ 📋 </span><span style=\"color: #008000; text-decoration-color: #008000; font-weight: bold\">Table:</span><span style=\"color: #000080; text-decoration-color: #000080\"> legs                                                                                          │</span>\n",
       "<span style=\"color: #000080; text-decoration-color: #000080\">│ 🔢 </span><span style=\"color: #008080; text-decoration-color: #008080; font-weight: bold\">Columns:</span><span style=\"color: #000080; text-decoration-color: #000080\"> id, match_id, leg_number, leg_date, home_score, away_score, can_draw, winner_team_id, notes │</span>\n",
       "<span style=\"color: #000080; text-decoration-color: #000080\">│ 📊 </span><span style=\"color: #800080; text-decoration-color: #800080; font-weight: bold\">Total Rows:</span><span style=\"color: #000080; text-decoration-color: #000080\"> 4                                                                                        │</span>\n",
       "<span style=\"color: #000080; text-decoration-color: #000080\">╰─────────────────────────────────────────────────────────────────────────────────────────────────────────╯</span>\n",
       "</pre>\n"
      ],
      "text/plain": [
       "\u001b[34m╭─\u001b[0m\u001b[34m─────────────────────────────────────────────\u001b[0m Table Info \u001b[34m──────────────────────────────────────────────\u001b[0m\u001b[34m─╮\u001b[0m\n",
       "\u001b[34m│\u001b[0m\u001b[34m \u001b[0m\u001b[34m📋 \u001b[0m\u001b[1;32mTable:\u001b[0m\u001b[34m legs\u001b[0m\u001b[34m                                                                                         \u001b[0m\u001b[34m \u001b[0m\u001b[34m│\u001b[0m\n",
       "\u001b[34m│\u001b[0m\u001b[34m \u001b[0m\u001b[34m🔢 \u001b[0m\u001b[1;36mColumns:\u001b[0m\u001b[34m id, match_id, leg_number, leg_date, home_score, away_score, can_draw, winner_team_id, notes\u001b[0m\u001b[34m \u001b[0m\u001b[34m│\u001b[0m\n",
       "\u001b[34m│\u001b[0m\u001b[34m \u001b[0m\u001b[34m📊 \u001b[0m\u001b[1;35mTotal Rows:\u001b[0m\u001b[34m 4\u001b[0m\u001b[34m                                                                                       \u001b[0m\u001b[34m \u001b[0m\u001b[34m│\u001b[0m\n",
       "\u001b[34m╰─────────────────────────────────────────────────────────────────────────────────────────────────────────╯\u001b[0m\n"
      ]
     },
     "metadata": {},
     "output_type": "display_data"
    },
    {
     "data": {
      "text/html": [
       "<pre style=\"white-space:pre;overflow-x:auto;line-height:normal;font-family:Menlo,'DejaVu Sans Mono',consolas,'Courier New',monospace\"><span style=\"font-style: italic\">                                               Sample Data from legs                                               </span>\n",
       "╭────┬──────────┬────────────┬───────────────┬────────────┬────────────┬──────────┬───────────────┬───────────────╮\n",
       "│<span style=\"font-weight: bold\"> id </span>│<span style=\"font-weight: bold\"> match_id </span>│<span style=\"font-weight: bold\"> leg_number </span>│<span style=\"font-weight: bold\"> leg_date      </span>│<span style=\"font-weight: bold\"> home_score </span>│<span style=\"font-weight: bold\"> away_score </span>│<span style=\"font-weight: bold\"> can_draw </span>│<span style=\"font-weight: bold\"> winner_team_… </span>│<span style=\"font-weight: bold\"> notes         </span>│\n",
       "├────┼──────────┼────────────┼───────────────┼────────────┼────────────┼──────────┼───────────────┼───────────────┤\n",
       "│<span style=\"color: #800080; text-decoration-color: #800080; font-weight: bold\"> 42 </span>│<span style=\"color: #800080; text-decoration-color: #800080; font-weight: bold\"> 21       </span>│<span style=\"color: #800080; text-decoration-color: #800080; font-weight: bold\"> 1          </span>│<span style=\"color: #800080; text-decoration-color: #800080; font-weight: bold\"> 2025-06-04T2… </span>│<span style=\"color: #800080; text-decoration-color: #800080; font-weight: bold\"> 1          </span>│<span style=\"color: #800080; text-decoration-color: #800080; font-weight: bold\"> 2          </span>│<span style=\"color: #800080; text-decoration-color: #800080; font-weight: bold\"> 1        </span>│<span style=\"color: #800080; text-decoration-color: #800080; font-weight: bold\"> 121           </span>│<span style=\"color: #800080; text-decoration-color: #800080; font-weight: bold\"> updated from  </span>│\n",
       "│<span style=\"color: #800080; text-decoration-color: #800080; font-weight: bold\">    </span>│<span style=\"color: #800080; text-decoration-color: #800080; font-weight: bold\">          </span>│<span style=\"color: #800080; text-decoration-color: #800080; font-weight: bold\">            </span>│<span style=\"color: #800080; text-decoration-color: #800080; font-weight: bold\">               </span>│<span style=\"color: #800080; text-decoration-color: #800080; font-weight: bold\">            </span>│<span style=\"color: #800080; text-decoration-color: #800080; font-weight: bold\">            </span>│<span style=\"color: #800080; text-decoration-color: #800080; font-weight: bold\">          </span>│<span style=\"color: #800080; text-decoration-color: #800080; font-weight: bold\">               </span>│<span style=\"color: #800080; text-decoration-color: #800080; font-weight: bold\"> match edit    </span>│\n",
       "├────┼──────────┼────────────┼───────────────┼────────────┼────────────┼──────────┼───────────────┼───────────────┤\n",
       "│<span style=\"color: #800080; text-decoration-color: #800080; font-weight: bold\"> 43 </span>│<span style=\"color: #800080; text-decoration-color: #800080; font-weight: bold\"> 22       </span>│<span style=\"color: #800080; text-decoration-color: #800080; font-weight: bold\"> 1          </span>│<span style=\"color: #800080; text-decoration-color: #800080; font-weight: bold\"> 2025-06-05T2… </span>│<span style=\"color: #800080; text-decoration-color: #800080; font-weight: bold\"> 5          </span>│<span style=\"color: #800080; text-decoration-color: #800080; font-weight: bold\"> 4          </span>│<span style=\"color: #800080; text-decoration-color: #800080; font-weight: bold\"> 1        </span>│<span style=\"color: #800080; text-decoration-color: #800080; font-weight: bold\"> 119           </span>│<span style=\"color: #800080; text-decoration-color: #800080; font-weight: bold\"> updated from  </span>│\n",
       "│<span style=\"color: #800080; text-decoration-color: #800080; font-weight: bold\">    </span>│<span style=\"color: #800080; text-decoration-color: #800080; font-weight: bold\">          </span>│<span style=\"color: #800080; text-decoration-color: #800080; font-weight: bold\">            </span>│<span style=\"color: #800080; text-decoration-color: #800080; font-weight: bold\">               </span>│<span style=\"color: #800080; text-decoration-color: #800080; font-weight: bold\">            </span>│<span style=\"color: #800080; text-decoration-color: #800080; font-weight: bold\">            </span>│<span style=\"color: #800080; text-decoration-color: #800080; font-weight: bold\">          </span>│<span style=\"color: #800080; text-decoration-color: #800080; font-weight: bold\">               </span>│<span style=\"color: #800080; text-decoration-color: #800080; font-weight: bold\"> match edit    </span>│\n",
       "├────┼──────────┼────────────┼───────────────┼────────────┼────────────┼──────────┼───────────────┼───────────────┤\n",
       "│<span style=\"color: #800080; text-decoration-color: #800080; font-weight: bold\"> 44 </span>│<span style=\"color: #800080; text-decoration-color: #800080; font-weight: bold\"> 23       </span>│<span style=\"color: #800080; text-decoration-color: #800080; font-weight: bold\"> 1          </span>│<span style=\"color: #800080; text-decoration-color: #800080; font-weight: bold\"> 2025-06-08T1… </span>│<span style=\"color: #800080; text-decoration-color: #800080; font-weight: bold\"> 0          </span>│<span style=\"color: #800080; text-decoration-color: #800080; font-weight: bold\"> 2          </span>│<span style=\"color: #800080; text-decoration-color: #800080; font-weight: bold\"> 1        </span>│<span style=\"color: #800080; text-decoration-color: #800080; font-weight: bold\"> 120           </span>│<span style=\"color: #800080; text-decoration-color: #800080; font-weight: bold\"> updated from  </span>│\n",
       "│<span style=\"color: #800080; text-decoration-color: #800080; font-weight: bold\">    </span>│<span style=\"color: #800080; text-decoration-color: #800080; font-weight: bold\">          </span>│<span style=\"color: #800080; text-decoration-color: #800080; font-weight: bold\">            </span>│<span style=\"color: #800080; text-decoration-color: #800080; font-weight: bold\">               </span>│<span style=\"color: #800080; text-decoration-color: #800080; font-weight: bold\">            </span>│<span style=\"color: #800080; text-decoration-color: #800080; font-weight: bold\">            </span>│<span style=\"color: #800080; text-decoration-color: #800080; font-weight: bold\">          </span>│<span style=\"color: #800080; text-decoration-color: #800080; font-weight: bold\">               </span>│<span style=\"color: #800080; text-decoration-color: #800080; font-weight: bold\"> match edit    </span>│\n",
       "├────┼──────────┼────────────┼───────────────┼────────────┼────────────┼──────────┼───────────────┼───────────────┤\n",
       "│<span style=\"color: #800080; text-decoration-color: #800080; font-weight: bold\"> 45 </span>│<span style=\"color: #800080; text-decoration-color: #800080; font-weight: bold\"> 24       </span>│<span style=\"color: #800080; text-decoration-color: #800080; font-weight: bold\"> 1          </span>│<span style=\"color: #800080; text-decoration-color: #800080; font-weight: bold\"> 2025-06-08T2… </span>│<span style=\"color: #800080; text-decoration-color: #800080; font-weight: bold\"> 2          </span>│<span style=\"color: #800080; text-decoration-color: #800080; font-weight: bold\"> 2          </span>│<span style=\"color: #800080; text-decoration-color: #800080; font-weight: bold\"> 1        </span>│<span style=\"color: #800080; text-decoration-color: #800080; font-weight: bold\"> 121           </span>│<span style=\"color: #800080; text-decoration-color: #800080; font-weight: bold\"> updated from  </span>│\n",
       "│<span style=\"color: #800080; text-decoration-color: #800080; font-weight: bold\">    </span>│<span style=\"color: #800080; text-decoration-color: #800080; font-weight: bold\">          </span>│<span style=\"color: #800080; text-decoration-color: #800080; font-weight: bold\">            </span>│<span style=\"color: #800080; text-decoration-color: #800080; font-weight: bold\">               </span>│<span style=\"color: #800080; text-decoration-color: #800080; font-weight: bold\">            </span>│<span style=\"color: #800080; text-decoration-color: #800080; font-weight: bold\">            </span>│<span style=\"color: #800080; text-decoration-color: #800080; font-weight: bold\">          </span>│<span style=\"color: #800080; text-decoration-color: #800080; font-weight: bold\">               </span>│<span style=\"color: #800080; text-decoration-color: #800080; font-weight: bold\"> match edit    </span>│\n",
       "╰────┴──────────┴────────────┴───────────────┴────────────┴────────────┴──────────┴───────────────┴───────────────╯\n",
       "</pre>\n"
      ],
      "text/plain": [
       "\u001b[3m                                               Sample Data from legs                                               \u001b[0m\n",
       "╭────┬──────────┬────────────┬───────────────┬────────────┬────────────┬──────────┬───────────────┬───────────────╮\n",
       "│\u001b[1m \u001b[0m\u001b[1mid\u001b[0m\u001b[1m \u001b[0m│\u001b[1m \u001b[0m\u001b[1mmatch_id\u001b[0m\u001b[1m \u001b[0m│\u001b[1m \u001b[0m\u001b[1mleg_number\u001b[0m\u001b[1m \u001b[0m│\u001b[1m \u001b[0m\u001b[1mleg_date     \u001b[0m\u001b[1m \u001b[0m│\u001b[1m \u001b[0m\u001b[1mhome_score\u001b[0m\u001b[1m \u001b[0m│\u001b[1m \u001b[0m\u001b[1maway_score\u001b[0m\u001b[1m \u001b[0m│\u001b[1m \u001b[0m\u001b[1mcan_draw\u001b[0m\u001b[1m \u001b[0m│\u001b[1m \u001b[0m\u001b[1mwinner_team_…\u001b[0m\u001b[1m \u001b[0m│\u001b[1m \u001b[0m\u001b[1mnotes        \u001b[0m\u001b[1m \u001b[0m│\n",
       "├────┼──────────┼────────────┼───────────────┼────────────┼────────────┼──────────┼───────────────┼───────────────┤\n",
       "│\u001b[1;35m \u001b[0m\u001b[1;35m42\u001b[0m\u001b[1;35m \u001b[0m│\u001b[1;35m \u001b[0m\u001b[1;35m21      \u001b[0m\u001b[1;35m \u001b[0m│\u001b[1;35m \u001b[0m\u001b[1;35m1         \u001b[0m\u001b[1;35m \u001b[0m│\u001b[1;35m \u001b[0m\u001b[1;35m2025-06-04T2…\u001b[0m\u001b[1;35m \u001b[0m│\u001b[1;35m \u001b[0m\u001b[1;35m1         \u001b[0m\u001b[1;35m \u001b[0m│\u001b[1;35m \u001b[0m\u001b[1;35m2         \u001b[0m\u001b[1;35m \u001b[0m│\u001b[1;35m \u001b[0m\u001b[1;35m1       \u001b[0m\u001b[1;35m \u001b[0m│\u001b[1;35m \u001b[0m\u001b[1;35m121          \u001b[0m\u001b[1;35m \u001b[0m│\u001b[1;35m \u001b[0m\u001b[1;35mupdated from \u001b[0m\u001b[1;35m \u001b[0m│\n",
       "│\u001b[1;35m    \u001b[0m│\u001b[1;35m          \u001b[0m│\u001b[1;35m            \u001b[0m│\u001b[1;35m               \u001b[0m│\u001b[1;35m            \u001b[0m│\u001b[1;35m            \u001b[0m│\u001b[1;35m          \u001b[0m│\u001b[1;35m               \u001b[0m│\u001b[1;35m \u001b[0m\u001b[1;35mmatch edit   \u001b[0m\u001b[1;35m \u001b[0m│\n",
       "├────┼──────────┼────────────┼───────────────┼────────────┼────────────┼──────────┼───────────────┼───────────────┤\n",
       "│\u001b[1;35m \u001b[0m\u001b[1;35m43\u001b[0m\u001b[1;35m \u001b[0m│\u001b[1;35m \u001b[0m\u001b[1;35m22      \u001b[0m\u001b[1;35m \u001b[0m│\u001b[1;35m \u001b[0m\u001b[1;35m1         \u001b[0m\u001b[1;35m \u001b[0m│\u001b[1;35m \u001b[0m\u001b[1;35m2025-06-05T2…\u001b[0m\u001b[1;35m \u001b[0m│\u001b[1;35m \u001b[0m\u001b[1;35m5         \u001b[0m\u001b[1;35m \u001b[0m│\u001b[1;35m \u001b[0m\u001b[1;35m4         \u001b[0m\u001b[1;35m \u001b[0m│\u001b[1;35m \u001b[0m\u001b[1;35m1       \u001b[0m\u001b[1;35m \u001b[0m│\u001b[1;35m \u001b[0m\u001b[1;35m119          \u001b[0m\u001b[1;35m \u001b[0m│\u001b[1;35m \u001b[0m\u001b[1;35mupdated from \u001b[0m\u001b[1;35m \u001b[0m│\n",
       "│\u001b[1;35m    \u001b[0m│\u001b[1;35m          \u001b[0m│\u001b[1;35m            \u001b[0m│\u001b[1;35m               \u001b[0m│\u001b[1;35m            \u001b[0m│\u001b[1;35m            \u001b[0m│\u001b[1;35m          \u001b[0m│\u001b[1;35m               \u001b[0m│\u001b[1;35m \u001b[0m\u001b[1;35mmatch edit   \u001b[0m\u001b[1;35m \u001b[0m│\n",
       "├────┼──────────┼────────────┼───────────────┼────────────┼────────────┼──────────┼───────────────┼───────────────┤\n",
       "│\u001b[1;35m \u001b[0m\u001b[1;35m44\u001b[0m\u001b[1;35m \u001b[0m│\u001b[1;35m \u001b[0m\u001b[1;35m23      \u001b[0m\u001b[1;35m \u001b[0m│\u001b[1;35m \u001b[0m\u001b[1;35m1         \u001b[0m\u001b[1;35m \u001b[0m│\u001b[1;35m \u001b[0m\u001b[1;35m2025-06-08T1…\u001b[0m\u001b[1;35m \u001b[0m│\u001b[1;35m \u001b[0m\u001b[1;35m0         \u001b[0m\u001b[1;35m \u001b[0m│\u001b[1;35m \u001b[0m\u001b[1;35m2         \u001b[0m\u001b[1;35m \u001b[0m│\u001b[1;35m \u001b[0m\u001b[1;35m1       \u001b[0m\u001b[1;35m \u001b[0m│\u001b[1;35m \u001b[0m\u001b[1;35m120          \u001b[0m\u001b[1;35m \u001b[0m│\u001b[1;35m \u001b[0m\u001b[1;35mupdated from \u001b[0m\u001b[1;35m \u001b[0m│\n",
       "│\u001b[1;35m    \u001b[0m│\u001b[1;35m          \u001b[0m│\u001b[1;35m            \u001b[0m│\u001b[1;35m               \u001b[0m│\u001b[1;35m            \u001b[0m│\u001b[1;35m            \u001b[0m│\u001b[1;35m          \u001b[0m│\u001b[1;35m               \u001b[0m│\u001b[1;35m \u001b[0m\u001b[1;35mmatch edit   \u001b[0m\u001b[1;35m \u001b[0m│\n",
       "├────┼──────────┼────────────┼───────────────┼────────────┼────────────┼──────────┼───────────────┼───────────────┤\n",
       "│\u001b[1;35m \u001b[0m\u001b[1;35m45\u001b[0m\u001b[1;35m \u001b[0m│\u001b[1;35m \u001b[0m\u001b[1;35m24      \u001b[0m\u001b[1;35m \u001b[0m│\u001b[1;35m \u001b[0m\u001b[1;35m1         \u001b[0m\u001b[1;35m \u001b[0m│\u001b[1;35m \u001b[0m\u001b[1;35m2025-06-08T2…\u001b[0m\u001b[1;35m \u001b[0m│\u001b[1;35m \u001b[0m\u001b[1;35m2         \u001b[0m\u001b[1;35m \u001b[0m│\u001b[1;35m \u001b[0m\u001b[1;35m2         \u001b[0m\u001b[1;35m \u001b[0m│\u001b[1;35m \u001b[0m\u001b[1;35m1       \u001b[0m\u001b[1;35m \u001b[0m│\u001b[1;35m \u001b[0m\u001b[1;35m121          \u001b[0m\u001b[1;35m \u001b[0m│\u001b[1;35m \u001b[0m\u001b[1;35mupdated from \u001b[0m\u001b[1;35m \u001b[0m│\n",
       "│\u001b[1;35m    \u001b[0m│\u001b[1;35m          \u001b[0m│\u001b[1;35m            \u001b[0m│\u001b[1;35m               \u001b[0m│\u001b[1;35m            \u001b[0m│\u001b[1;35m            \u001b[0m│\u001b[1;35m          \u001b[0m│\u001b[1;35m               \u001b[0m│\u001b[1;35m \u001b[0m\u001b[1;35mmatch edit   \u001b[0m\u001b[1;35m \u001b[0m│\n",
       "╰────┴──────────┴────────────┴───────────────┴────────────┴────────────┴──────────┴───────────────┴───────────────╯\n"
      ]
     },
     "metadata": {},
     "output_type": "display_data"
    },
    {
     "data": {
      "text/html": [
       "<pre style=\"white-space:pre;overflow-x:auto;line-height:normal;font-family:Menlo,'DejaVu Sans Mono',consolas,'Courier New',monospace\"><span style=\"color: #008080; text-decoration-color: #008080; font-weight: bold\">🔌 Connection closed.</span>\n",
       "\n",
       "</pre>\n"
      ],
      "text/plain": [
       "\u001b[1;36m🔌 Connection closed.\u001b[0m\n",
       "\n"
      ]
     },
     "metadata": {},
     "output_type": "display_data"
    }
   ],
   "source": [
    "table_info(\"matches\")\n",
    "table_info(\"rounds\")\n",
    "table_info(\"teams\")\n",
    "table_info(\"team_league\")\n",
    "table_info(\"legs\")\n"
   ]
  },
  {
   "cell_type": "code",
   "execution_count": 53,
   "id": "80a2877c",
   "metadata": {},
   "outputs": [
    {
     "data": {
      "text/html": [
       "<pre style=\"white-space:pre;overflow-x:auto;line-height:normal;font-family:Menlo,'DejaVu Sans Mono',consolas,'Courier New',monospace\"><span style=\"color: #000080; text-decoration-color: #000080\">╭──────────────────────────────────────────────────</span> Table Info <span style=\"color: #000080; text-decoration-color: #000080\">───────────────────────────────────────────────────╮</span>\n",
       "<span style=\"color: #000080; text-decoration-color: #000080\">│ 📋 </span><span style=\"color: #008000; text-decoration-color: #008000; font-weight: bold\">Table:</span><span style=\"color: #000080; text-decoration-color: #000080\"> predictions                                                                                           │</span>\n",
       "<span style=\"color: #000080; text-decoration-color: #000080\">│ 🔢 </span><span style=\"color: #008080; text-decoration-color: #008080; font-weight: bold\">Columns:</span><span style=\"color: #000080; text-decoration-color: #000080\"> id, player_id, match_id, predicted_home_score, predicted_away_score, predicted_penalty_winner,      │</span>\n",
       "<span style=\"color: #000080; text-decoration-color: #000080\">│ score, created_at                                                                                               │</span>\n",
       "<span style=\"color: #000080; text-decoration-color: #000080\">│ 📊 </span><span style=\"color: #800080; text-decoration-color: #800080; font-weight: bold\">Total Rows:</span><span style=\"color: #000080; text-decoration-color: #000080\"> 0                                                                                                │</span>\n",
       "<span style=\"color: #000080; text-decoration-color: #000080\">╰─────────────────────────────────────────────────────────────────────────────────────────────────────────────────╯</span>\n",
       "</pre>\n"
      ],
      "text/plain": [
       "\u001b[34m╭─\u001b[0m\u001b[34m─────────────────────────────────────────────────\u001b[0m Table Info \u001b[34m──────────────────────────────────────────────────\u001b[0m\u001b[34m─╮\u001b[0m\n",
       "\u001b[34m│\u001b[0m\u001b[34m \u001b[0m\u001b[34m📋 \u001b[0m\u001b[1;32mTable:\u001b[0m\u001b[34m predictions\u001b[0m\u001b[34m                                                                                          \u001b[0m\u001b[34m \u001b[0m\u001b[34m│\u001b[0m\n",
       "\u001b[34m│\u001b[0m\u001b[34m \u001b[0m\u001b[34m🔢 \u001b[0m\u001b[1;36mColumns:\u001b[0m\u001b[34m id, player_id, match_id, predicted_home_score, predicted_away_score, predicted_penalty_winner, \u001b[0m\u001b[34m    \u001b[0m\u001b[34m \u001b[0m\u001b[34m│\u001b[0m\n",
       "\u001b[34m│\u001b[0m\u001b[34m \u001b[0m\u001b[34mscore, created_at\u001b[0m\u001b[34m                                                                                              \u001b[0m\u001b[34m \u001b[0m\u001b[34m│\u001b[0m\n",
       "\u001b[34m│\u001b[0m\u001b[34m \u001b[0m\u001b[34m📊 \u001b[0m\u001b[1;35mTotal Rows:\u001b[0m\u001b[34m 0\u001b[0m\u001b[34m                                                                                               \u001b[0m\u001b[34m \u001b[0m\u001b[34m│\u001b[0m\n",
       "\u001b[34m╰─────────────────────────────────────────────────────────────────────────────────────────────────────────────────╯\u001b[0m\n"
      ]
     },
     "metadata": {},
     "output_type": "display_data"
    },
    {
     "data": {
      "text/html": [
       "<pre style=\"white-space:pre;overflow-x:auto;line-height:normal;font-family:Menlo,'DejaVu Sans Mono',consolas,'Courier New',monospace\"><span style=\"color: #808000; text-decoration-color: #808000\">╭──────────────────────────────────────────────────</span> Empty Table <span style=\"color: #808000; text-decoration-color: #808000\">──────────────────────────────────────────────────╮</span>\n",
       "<span style=\"color: #808000; text-decoration-color: #808000\">│ ⚠️ No data found in the table.                                                                                   │</span>\n",
       "<span style=\"color: #808000; text-decoration-color: #808000\">╰─────────────────────────────────────────────────────────────────────────────────────────────────────────────────╯</span>\n",
       "</pre>\n"
      ],
      "text/plain": [
       "\u001b[33m╭─\u001b[0m\u001b[33m─────────────────────────────────────────────────\u001b[0m Empty Table \u001b[33m─────────────────────────────────────────────────\u001b[0m\u001b[33m─╮\u001b[0m\n",
       "\u001b[33m│\u001b[0m\u001b[33m \u001b[0m\u001b[33m⚠️ No data found in the table.\u001b[0m\u001b[33m                                                                                  \u001b[0m\u001b[33m \u001b[0m\u001b[33m│\u001b[0m\n",
       "\u001b[33m╰─────────────────────────────────────────────────────────────────────────────────────────────────────────────────╯\u001b[0m\n"
      ]
     },
     "metadata": {},
     "output_type": "display_data"
    },
    {
     "data": {
      "text/html": [
       "<pre style=\"white-space:pre;overflow-x:auto;line-height:normal;font-family:Menlo,'DejaVu Sans Mono',consolas,'Courier New',monospace\"><span style=\"color: #008080; text-decoration-color: #008080; font-weight: bold\">🔌 Connection closed.</span>\n",
       "\n",
       "</pre>\n"
      ],
      "text/plain": [
       "\u001b[1;36m🔌 Connection closed.\u001b[0m\n",
       "\n"
      ]
     },
     "metadata": {},
     "output_type": "display_data"
    },
    {
     "data": {
      "text/html": [
       "<pre style=\"white-space:pre;overflow-x:auto;line-height:normal;font-family:Menlo,'DejaVu Sans Mono',consolas,'Courier New',monospace\"><span style=\"color: #000080; text-decoration-color: #000080\">╭──────────────────────────────────────────────────</span> Table Info <span style=\"color: #000080; text-decoration-color: #000080\">───────────────────────────────────────────────────╮</span>\n",
       "<span style=\"color: #000080; text-decoration-color: #000080\">│ 📋 </span><span style=\"color: #008000; text-decoration-color: #008000; font-weight: bold\">Table:</span><span style=\"color: #000080; text-decoration-color: #000080\"> matches                                                                                               │</span>\n",
       "<span style=\"color: #000080; text-decoration-color: #000080\">│ 🔢 </span><span style=\"color: #008080; text-decoration-color: #008080; font-weight: bold\">Columns:</span><span style=\"color: #000080; text-decoration-color: #000080\"> id, round_id, league_id, home_team_id, away_team_id, match_datetime, status, home_score,            │</span>\n",
       "<span style=\"color: #000080; text-decoration-color: #000080\">│ away_score, stage_id                                                                                            │</span>\n",
       "<span style=\"color: #000080; text-decoration-color: #000080\">│ 📊 </span><span style=\"color: #800080; text-decoration-color: #800080; font-weight: bold\">Total Rows:</span><span style=\"color: #000080; text-decoration-color: #000080\"> 0                                                                                                │</span>\n",
       "<span style=\"color: #000080; text-decoration-color: #000080\">╰─────────────────────────────────────────────────────────────────────────────────────────────────────────────────╯</span>\n",
       "</pre>\n"
      ],
      "text/plain": [
       "\u001b[34m╭─\u001b[0m\u001b[34m─────────────────────────────────────────────────\u001b[0m Table Info \u001b[34m──────────────────────────────────────────────────\u001b[0m\u001b[34m─╮\u001b[0m\n",
       "\u001b[34m│\u001b[0m\u001b[34m \u001b[0m\u001b[34m📋 \u001b[0m\u001b[1;32mTable:\u001b[0m\u001b[34m matches\u001b[0m\u001b[34m                                                                                              \u001b[0m\u001b[34m \u001b[0m\u001b[34m│\u001b[0m\n",
       "\u001b[34m│\u001b[0m\u001b[34m \u001b[0m\u001b[34m🔢 \u001b[0m\u001b[1;36mColumns:\u001b[0m\u001b[34m id, round_id, league_id, home_team_id, away_team_id, match_datetime, status, home_score, \u001b[0m\u001b[34m          \u001b[0m\u001b[34m \u001b[0m\u001b[34m│\u001b[0m\n",
       "\u001b[34m│\u001b[0m\u001b[34m \u001b[0m\u001b[34maway_score, stage_id\u001b[0m\u001b[34m                                                                                           \u001b[0m\u001b[34m \u001b[0m\u001b[34m│\u001b[0m\n",
       "\u001b[34m│\u001b[0m\u001b[34m \u001b[0m\u001b[34m📊 \u001b[0m\u001b[1;35mTotal Rows:\u001b[0m\u001b[34m 0\u001b[0m\u001b[34m                                                                                               \u001b[0m\u001b[34m \u001b[0m\u001b[34m│\u001b[0m\n",
       "\u001b[34m╰─────────────────────────────────────────────────────────────────────────────────────────────────────────────────╯\u001b[0m\n"
      ]
     },
     "metadata": {},
     "output_type": "display_data"
    },
    {
     "data": {
      "text/html": [
       "<pre style=\"white-space:pre;overflow-x:auto;line-height:normal;font-family:Menlo,'DejaVu Sans Mono',consolas,'Courier New',monospace\"><span style=\"color: #808000; text-decoration-color: #808000\">╭──────────────────────────────────────────────────</span> Empty Table <span style=\"color: #808000; text-decoration-color: #808000\">──────────────────────────────────────────────────╮</span>\n",
       "<span style=\"color: #808000; text-decoration-color: #808000\">│ ⚠️ No data found in the table.                                                                                   │</span>\n",
       "<span style=\"color: #808000; text-decoration-color: #808000\">╰─────────────────────────────────────────────────────────────────────────────────────────────────────────────────╯</span>\n",
       "</pre>\n"
      ],
      "text/plain": [
       "\u001b[33m╭─\u001b[0m\u001b[33m─────────────────────────────────────────────────\u001b[0m Empty Table \u001b[33m─────────────────────────────────────────────────\u001b[0m\u001b[33m─╮\u001b[0m\n",
       "\u001b[33m│\u001b[0m\u001b[33m \u001b[0m\u001b[33m⚠️ No data found in the table.\u001b[0m\u001b[33m                                                                                  \u001b[0m\u001b[33m \u001b[0m\u001b[33m│\u001b[0m\n",
       "\u001b[33m╰─────────────────────────────────────────────────────────────────────────────────────────────────────────────────╯\u001b[0m\n"
      ]
     },
     "metadata": {},
     "output_type": "display_data"
    },
    {
     "data": {
      "text/html": [
       "<pre style=\"white-space:pre;overflow-x:auto;line-height:normal;font-family:Menlo,'DejaVu Sans Mono',consolas,'Courier New',monospace\"><span style=\"color: #008080; text-decoration-color: #008080; font-weight: bold\">🔌 Connection closed.</span>\n",
       "\n",
       "</pre>\n"
      ],
      "text/plain": [
       "\u001b[1;36m🔌 Connection closed.\u001b[0m\n",
       "\n"
      ]
     },
     "metadata": {},
     "output_type": "display_data"
    },
    {
     "data": {
      "text/html": [
       "<pre style=\"white-space:pre;overflow-x:auto;line-height:normal;font-family:Menlo,'DejaVu Sans Mono',consolas,'Courier New',monospace\"><span style=\"color: #000080; text-decoration-color: #000080\">╭──────────────────────────────────────────────</span> Table Info <span style=\"color: #000080; text-decoration-color: #000080\">───────────────────────────────────────────────╮</span>\n",
       "<span style=\"color: #000080; text-decoration-color: #000080\">│ 📋 </span><span style=\"color: #008000; text-decoration-color: #008000; font-weight: bold\">Table:</span><span style=\"color: #000080; text-decoration-color: #000080\"> legs                                                                                          │</span>\n",
       "<span style=\"color: #000080; text-decoration-color: #000080\">│ 🔢 </span><span style=\"color: #008080; text-decoration-color: #008080; font-weight: bold\">Columns:</span><span style=\"color: #000080; text-decoration-color: #000080\"> id, match_id, leg_number, leg_date, home_score, away_score, can_draw, winner_team_id, notes │</span>\n",
       "<span style=\"color: #000080; text-decoration-color: #000080\">│ 📊 </span><span style=\"color: #800080; text-decoration-color: #800080; font-weight: bold\">Total Rows:</span><span style=\"color: #000080; text-decoration-color: #000080\"> 0                                                                                        │</span>\n",
       "<span style=\"color: #000080; text-decoration-color: #000080\">╰─────────────────────────────────────────────────────────────────────────────────────────────────────────╯</span>\n",
       "</pre>\n"
      ],
      "text/plain": [
       "\u001b[34m╭─\u001b[0m\u001b[34m─────────────────────────────────────────────\u001b[0m Table Info \u001b[34m──────────────────────────────────────────────\u001b[0m\u001b[34m─╮\u001b[0m\n",
       "\u001b[34m│\u001b[0m\u001b[34m \u001b[0m\u001b[34m📋 \u001b[0m\u001b[1;32mTable:\u001b[0m\u001b[34m legs\u001b[0m\u001b[34m                                                                                         \u001b[0m\u001b[34m \u001b[0m\u001b[34m│\u001b[0m\n",
       "\u001b[34m│\u001b[0m\u001b[34m \u001b[0m\u001b[34m🔢 \u001b[0m\u001b[1;36mColumns:\u001b[0m\u001b[34m id, match_id, leg_number, leg_date, home_score, away_score, can_draw, winner_team_id, notes\u001b[0m\u001b[34m \u001b[0m\u001b[34m│\u001b[0m\n",
       "\u001b[34m│\u001b[0m\u001b[34m \u001b[0m\u001b[34m📊 \u001b[0m\u001b[1;35mTotal Rows:\u001b[0m\u001b[34m 0\u001b[0m\u001b[34m                                                                                       \u001b[0m\u001b[34m \u001b[0m\u001b[34m│\u001b[0m\n",
       "\u001b[34m╰─────────────────────────────────────────────────────────────────────────────────────────────────────────╯\u001b[0m\n"
      ]
     },
     "metadata": {},
     "output_type": "display_data"
    },
    {
     "data": {
      "text/html": [
       "<pre style=\"white-space:pre;overflow-x:auto;line-height:normal;font-family:Menlo,'DejaVu Sans Mono',consolas,'Courier New',monospace\"><span style=\"color: #808000; text-decoration-color: #808000\">╭──────────────────────────────────────────────────</span> Empty Table <span style=\"color: #808000; text-decoration-color: #808000\">──────────────────────────────────────────────────╮</span>\n",
       "<span style=\"color: #808000; text-decoration-color: #808000\">│ ⚠️ No data found in the table.                                                                                   │</span>\n",
       "<span style=\"color: #808000; text-decoration-color: #808000\">╰─────────────────────────────────────────────────────────────────────────────────────────────────────────────────╯</span>\n",
       "</pre>\n"
      ],
      "text/plain": [
       "\u001b[33m╭─\u001b[0m\u001b[33m─────────────────────────────────────────────────\u001b[0m Empty Table \u001b[33m─────────────────────────────────────────────────\u001b[0m\u001b[33m─╮\u001b[0m\n",
       "\u001b[33m│\u001b[0m\u001b[33m \u001b[0m\u001b[33m⚠️ No data found in the table.\u001b[0m\u001b[33m                                                                                  \u001b[0m\u001b[33m \u001b[0m\u001b[33m│\u001b[0m\n",
       "\u001b[33m╰─────────────────────────────────────────────────────────────────────────────────────────────────────────────────╯\u001b[0m\n"
      ]
     },
     "metadata": {},
     "output_type": "display_data"
    },
    {
     "data": {
      "text/html": [
       "<pre style=\"white-space:pre;overflow-x:auto;line-height:normal;font-family:Menlo,'DejaVu Sans Mono',consolas,'Courier New',monospace\"><span style=\"color: #008080; text-decoration-color: #008080; font-weight: bold\">🔌 Connection closed.</span>\n",
       "\n",
       "</pre>\n"
      ],
      "text/plain": [
       "\u001b[1;36m🔌 Connection closed.\u001b[0m\n",
       "\n"
      ]
     },
     "metadata": {},
     "output_type": "display_data"
    },
    {
     "data": {
      "text/html": [
       "<pre style=\"white-space:pre;overflow-x:auto;line-height:normal;font-family:Menlo,'DejaVu Sans Mono',consolas,'Courier New',monospace\"><span style=\"color: #000080; text-decoration-color: #000080\">╭────────────────────────────</span> Table Info <span style=\"color: #000080; text-decoration-color: #000080\">─────────────────────────────╮</span>\n",
       "<span style=\"color: #000080; text-decoration-color: #000080\">│ 📋 </span><span style=\"color: #008000; text-decoration-color: #008000; font-weight: bold\">Table:</span><span style=\"color: #000080; text-decoration-color: #000080\"> teams                                                     │</span>\n",
       "<span style=\"color: #000080; text-decoration-color: #000080\">│ 🔢 </span><span style=\"color: #008080; text-decoration-color: #008080; font-weight: bold\">Columns:</span><span style=\"color: #000080; text-decoration-color: #000080\"> id, name, logo_path, league_id, created_at, nationality │</span>\n",
       "<span style=\"color: #000080; text-decoration-color: #000080\">│ 📊 </span><span style=\"color: #800080; text-decoration-color: #800080; font-weight: bold\">Total Rows:</span><span style=\"color: #000080; text-decoration-color: #000080\"> 0                                                    │</span>\n",
       "<span style=\"color: #000080; text-decoration-color: #000080\">╰─────────────────────────────────────────────────────────────────────╯</span>\n",
       "</pre>\n"
      ],
      "text/plain": [
       "\u001b[34m╭─\u001b[0m\u001b[34m───────────────────────────\u001b[0m Table Info \u001b[34m────────────────────────────\u001b[0m\u001b[34m─╮\u001b[0m\n",
       "\u001b[34m│\u001b[0m\u001b[34m \u001b[0m\u001b[34m📋 \u001b[0m\u001b[1;32mTable:\u001b[0m\u001b[34m teams\u001b[0m\u001b[34m                                                    \u001b[0m\u001b[34m \u001b[0m\u001b[34m│\u001b[0m\n",
       "\u001b[34m│\u001b[0m\u001b[34m \u001b[0m\u001b[34m🔢 \u001b[0m\u001b[1;36mColumns:\u001b[0m\u001b[34m id, name, logo_path, league_id, created_at, nationality\u001b[0m\u001b[34m \u001b[0m\u001b[34m│\u001b[0m\n",
       "\u001b[34m│\u001b[0m\u001b[34m \u001b[0m\u001b[34m📊 \u001b[0m\u001b[1;35mTotal Rows:\u001b[0m\u001b[34m 0\u001b[0m\u001b[34m                                                   \u001b[0m\u001b[34m \u001b[0m\u001b[34m│\u001b[0m\n",
       "\u001b[34m╰─────────────────────────────────────────────────────────────────────╯\u001b[0m\n"
      ]
     },
     "metadata": {},
     "output_type": "display_data"
    },
    {
     "data": {
      "text/html": [
       "<pre style=\"white-space:pre;overflow-x:auto;line-height:normal;font-family:Menlo,'DejaVu Sans Mono',consolas,'Courier New',monospace\"><span style=\"color: #808000; text-decoration-color: #808000\">╭──────────────────────────────────────────────────</span> Empty Table <span style=\"color: #808000; text-decoration-color: #808000\">──────────────────────────────────────────────────╮</span>\n",
       "<span style=\"color: #808000; text-decoration-color: #808000\">│ ⚠️ No data found in the table.                                                                                   │</span>\n",
       "<span style=\"color: #808000; text-decoration-color: #808000\">╰─────────────────────────────────────────────────────────────────────────────────────────────────────────────────╯</span>\n",
       "</pre>\n"
      ],
      "text/plain": [
       "\u001b[33m╭─\u001b[0m\u001b[33m─────────────────────────────────────────────────\u001b[0m Empty Table \u001b[33m─────────────────────────────────────────────────\u001b[0m\u001b[33m─╮\u001b[0m\n",
       "\u001b[33m│\u001b[0m\u001b[33m \u001b[0m\u001b[33m⚠️ No data found in the table.\u001b[0m\u001b[33m                                                                                  \u001b[0m\u001b[33m \u001b[0m\u001b[33m│\u001b[0m\n",
       "\u001b[33m╰─────────────────────────────────────────────────────────────────────────────────────────────────────────────────╯\u001b[0m\n"
      ]
     },
     "metadata": {},
     "output_type": "display_data"
    },
    {
     "data": {
      "text/html": [
       "<pre style=\"white-space:pre;overflow-x:auto;line-height:normal;font-family:Menlo,'DejaVu Sans Mono',consolas,'Courier New',monospace\"><span style=\"color: #008080; text-decoration-color: #008080; font-weight: bold\">🔌 Connection closed.</span>\n",
       "\n",
       "</pre>\n"
      ],
      "text/plain": [
       "\u001b[1;36m🔌 Connection closed.\u001b[0m\n",
       "\n"
      ]
     },
     "metadata": {},
     "output_type": "display_data"
    }
   ],
   "source": [
    "table_info(\"predictions\")\n",
    "table_info(\"matches\")\n",
    "table_info(\"legs\")\n",
    "table_info(\"teams\")"
   ]
  },
  {
   "cell_type": "code",
   "execution_count": 101,
   "id": "ce25b172",
   "metadata": {},
   "outputs": [
    {
     "name": "stdout",
     "output_type": "stream",
     "text": [
      "Foreign keys enabled? 1\n"
     ]
    }
   ],
   "source": [
    "conn = get_connection()\n",
    "result = conn.execute(\"PRAGMA foreign_keys\").fetchone()\n",
    "print(\"Foreign keys enabled?\", result[0])\n",
    "conn.close()"
   ]
  },
  {
   "cell_type": "code",
   "execution_count": 22,
   "id": "77431ca8",
   "metadata": {},
   "outputs": [
    {
     "data": {
      "text/html": [
       "<pre style=\"white-space:pre;overflow-x:auto;line-height:normal;font-family:Menlo,'DejaVu Sans Mono',consolas,'Courier New',monospace\"><span style=\"color: #000080; text-decoration-color: #000080\">╭──────────────────────────────────────────────────</span> Table Info <span style=\"color: #000080; text-decoration-color: #000080\">───────────────────────────────────────────────────╮</span>\n",
       "<span style=\"color: #000080; text-decoration-color: #000080\">│ 📋 </span><span style=\"color: #008000; text-decoration-color: #008000; font-weight: bold\">Table:</span><span style=\"color: #000080; text-decoration-color: #000080\"> predictions                                                                                           │</span>\n",
       "<span style=\"color: #000080; text-decoration-color: #000080\">│ 🔢 </span><span style=\"color: #008080; text-decoration-color: #008080; font-weight: bold\">Columns:</span><span style=\"color: #000080; text-decoration-color: #000080\"> id, player_id, match_id, predicted_home_score, predicted_away_score, predicted_penalty_winner,      │</span>\n",
       "<span style=\"color: #000080; text-decoration-color: #000080\">│ score, created_at                                                                                               │</span>\n",
       "<span style=\"color: #000080; text-decoration-color: #000080\">│ 📊 </span><span style=\"color: #800080; text-decoration-color: #800080; font-weight: bold\">Total Rows:</span><span style=\"color: #000080; text-decoration-color: #000080\"> 6                                                                                                │</span>\n",
       "<span style=\"color: #000080; text-decoration-color: #000080\">╰─────────────────────────────────────────────────────────────────────────────────────────────────────────────────╯</span>\n",
       "</pre>\n"
      ],
      "text/plain": [
       "\u001b[34m╭─\u001b[0m\u001b[34m─────────────────────────────────────────────────\u001b[0m Table Info \u001b[34m──────────────────────────────────────────────────\u001b[0m\u001b[34m─╮\u001b[0m\n",
       "\u001b[34m│\u001b[0m\u001b[34m \u001b[0m\u001b[34m📋 \u001b[0m\u001b[1;32mTable:\u001b[0m\u001b[34m predictions\u001b[0m\u001b[34m                                                                                          \u001b[0m\u001b[34m \u001b[0m\u001b[34m│\u001b[0m\n",
       "\u001b[34m│\u001b[0m\u001b[34m \u001b[0m\u001b[34m🔢 \u001b[0m\u001b[1;36mColumns:\u001b[0m\u001b[34m id, player_id, match_id, predicted_home_score, predicted_away_score, predicted_penalty_winner, \u001b[0m\u001b[34m    \u001b[0m\u001b[34m \u001b[0m\u001b[34m│\u001b[0m\n",
       "\u001b[34m│\u001b[0m\u001b[34m \u001b[0m\u001b[34mscore, created_at\u001b[0m\u001b[34m                                                                                              \u001b[0m\u001b[34m \u001b[0m\u001b[34m│\u001b[0m\n",
       "\u001b[34m│\u001b[0m\u001b[34m \u001b[0m\u001b[34m📊 \u001b[0m\u001b[1;35mTotal Rows:\u001b[0m\u001b[34m 6\u001b[0m\u001b[34m                                                                                               \u001b[0m\u001b[34m \u001b[0m\u001b[34m│\u001b[0m\n",
       "\u001b[34m╰─────────────────────────────────────────────────────────────────────────────────────────────────────────────────╯\u001b[0m\n"
      ]
     },
     "metadata": {},
     "output_type": "display_data"
    },
    {
     "data": {
      "text/html": [
       "<pre style=\"white-space:pre;overflow-x:auto;line-height:normal;font-family:Menlo,'DejaVu Sans Mono',consolas,'Courier New',monospace\"><span style=\"font-style: italic\">                                           Sample Data from predictions                                            </span>\n",
       "╭────┬───────────┬──────────┬───────────────────┬──────────────────┬───────────────────┬───────┬──────────────────╮\n",
       "│<span style=\"font-weight: bold\"> id </span>│<span style=\"font-weight: bold\"> player_id </span>│<span style=\"font-weight: bold\"> match_id </span>│<span style=\"font-weight: bold\"> predicted_home_s… </span>│<span style=\"font-weight: bold\"> predicted_away_… </span>│<span style=\"font-weight: bold\"> predicted_penalt… </span>│<span style=\"font-weight: bold\"> score </span>│<span style=\"font-weight: bold\"> created_at       </span>│\n",
       "├────┼───────────┼──────────┼───────────────────┼──────────────────┼───────────────────┼───────┼──────────────────┤\n",
       "│<span style=\"color: #800080; text-decoration-color: #800080; font-weight: bold\"> 1  </span>│<span style=\"color: #800080; text-decoration-color: #800080; font-weight: bold\"> 8         </span>│<span style=\"color: #800080; text-decoration-color: #800080; font-weight: bold\"> 73       </span>│<span style=\"color: #800080; text-decoration-color: #800080; font-weight: bold\"> 3                 </span>│<span style=\"color: #800080; text-decoration-color: #800080; font-weight: bold\"> 1                </span>│<span style=\"color: #800080; text-decoration-color: #800080; font-weight: bold\">                   </span>│<span style=\"color: #800080; text-decoration-color: #800080; font-weight: bold\"> 0     </span>│<span style=\"color: #800080; text-decoration-color: #800080; font-weight: bold\"> 2025-06-10       </span>│\n",
       "│<span style=\"color: #800080; text-decoration-color: #800080; font-weight: bold\">    </span>│<span style=\"color: #800080; text-decoration-color: #800080; font-weight: bold\">           </span>│<span style=\"color: #800080; text-decoration-color: #800080; font-weight: bold\">          </span>│<span style=\"color: #800080; text-decoration-color: #800080; font-weight: bold\">                   </span>│<span style=\"color: #800080; text-decoration-color: #800080; font-weight: bold\">                  </span>│<span style=\"color: #800080; text-decoration-color: #800080; font-weight: bold\">                   </span>│<span style=\"color: #800080; text-decoration-color: #800080; font-weight: bold\">       </span>│<span style=\"color: #800080; text-decoration-color: #800080; font-weight: bold\"> 21:32:35         </span>│\n",
       "├────┼───────────┼──────────┼───────────────────┼──────────────────┼───────────────────┼───────┼──────────────────┤\n",
       "│<span style=\"color: #800080; text-decoration-color: #800080; font-weight: bold\"> 2  </span>│<span style=\"color: #800080; text-decoration-color: #800080; font-weight: bold\"> 8         </span>│<span style=\"color: #800080; text-decoration-color: #800080; font-weight: bold\"> 74       </span>│<span style=\"color: #800080; text-decoration-color: #800080; font-weight: bold\"> 3                 </span>│<span style=\"color: #800080; text-decoration-color: #800080; font-weight: bold\"> 1                </span>│<span style=\"color: #800080; text-decoration-color: #800080; font-weight: bold\">                   </span>│<span style=\"color: #800080; text-decoration-color: #800080; font-weight: bold\"> 0     </span>│<span style=\"color: #800080; text-decoration-color: #800080; font-weight: bold\"> 2025-06-10       </span>│\n",
       "│<span style=\"color: #800080; text-decoration-color: #800080; font-weight: bold\">    </span>│<span style=\"color: #800080; text-decoration-color: #800080; font-weight: bold\">           </span>│<span style=\"color: #800080; text-decoration-color: #800080; font-weight: bold\">          </span>│<span style=\"color: #800080; text-decoration-color: #800080; font-weight: bold\">                   </span>│<span style=\"color: #800080; text-decoration-color: #800080; font-weight: bold\">                  </span>│<span style=\"color: #800080; text-decoration-color: #800080; font-weight: bold\">                   </span>│<span style=\"color: #800080; text-decoration-color: #800080; font-weight: bold\">       </span>│<span style=\"color: #800080; text-decoration-color: #800080; font-weight: bold\"> 21:32:40         </span>│\n",
       "├────┼───────────┼──────────┼───────────────────┼──────────────────┼───────────────────┼───────┼──────────────────┤\n",
       "│<span style=\"color: #800080; text-decoration-color: #800080; font-weight: bold\"> 3  </span>│<span style=\"color: #800080; text-decoration-color: #800080; font-weight: bold\"> 8         </span>│<span style=\"color: #800080; text-decoration-color: #800080; font-weight: bold\"> 75       </span>│<span style=\"color: #800080; text-decoration-color: #800080; font-weight: bold\"> 4                 </span>│<span style=\"color: #800080; text-decoration-color: #800080; font-weight: bold\"> 1                </span>│<span style=\"color: #800080; text-decoration-color: #800080; font-weight: bold\">                   </span>│<span style=\"color: #800080; text-decoration-color: #800080; font-weight: bold\"> 0     </span>│<span style=\"color: #800080; text-decoration-color: #800080; font-weight: bold\"> 2025-06-10       </span>│\n",
       "│<span style=\"color: #800080; text-decoration-color: #800080; font-weight: bold\">    </span>│<span style=\"color: #800080; text-decoration-color: #800080; font-weight: bold\">           </span>│<span style=\"color: #800080; text-decoration-color: #800080; font-weight: bold\">          </span>│<span style=\"color: #800080; text-decoration-color: #800080; font-weight: bold\">                   </span>│<span style=\"color: #800080; text-decoration-color: #800080; font-weight: bold\">                  </span>│<span style=\"color: #800080; text-decoration-color: #800080; font-weight: bold\">                   </span>│<span style=\"color: #800080; text-decoration-color: #800080; font-weight: bold\">       </span>│<span style=\"color: #800080; text-decoration-color: #800080; font-weight: bold\"> 21:32:45         </span>│\n",
       "├────┼───────────┼──────────┼───────────────────┼──────────────────┼───────────────────┼───────┼──────────────────┤\n",
       "│<span style=\"color: #800080; text-decoration-color: #800080; font-weight: bold\"> 4  </span>│<span style=\"color: #800080; text-decoration-color: #800080; font-weight: bold\"> 8         </span>│<span style=\"color: #800080; text-decoration-color: #800080; font-weight: bold\"> 76       </span>│<span style=\"color: #800080; text-decoration-color: #800080; font-weight: bold\"> 1                 </span>│<span style=\"color: #800080; text-decoration-color: #800080; font-weight: bold\"> 2                </span>│<span style=\"color: #800080; text-decoration-color: #800080; font-weight: bold\">                   </span>│<span style=\"color: #800080; text-decoration-color: #800080; font-weight: bold\"> 0     </span>│<span style=\"color: #800080; text-decoration-color: #800080; font-weight: bold\"> 2025-06-10       </span>│\n",
       "│<span style=\"color: #800080; text-decoration-color: #800080; font-weight: bold\">    </span>│<span style=\"color: #800080; text-decoration-color: #800080; font-weight: bold\">           </span>│<span style=\"color: #800080; text-decoration-color: #800080; font-weight: bold\">          </span>│<span style=\"color: #800080; text-decoration-color: #800080; font-weight: bold\">                   </span>│<span style=\"color: #800080; text-decoration-color: #800080; font-weight: bold\">                  </span>│<span style=\"color: #800080; text-decoration-color: #800080; font-weight: bold\">                   </span>│<span style=\"color: #800080; text-decoration-color: #800080; font-weight: bold\">       </span>│<span style=\"color: #800080; text-decoration-color: #800080; font-weight: bold\"> 21:32:53         </span>│\n",
       "├────┼───────────┼──────────┼───────────────────┼──────────────────┼───────────────────┼───────┼──────────────────┤\n",
       "│<span style=\"color: #800080; text-decoration-color: #800080; font-weight: bold\"> 5  </span>│<span style=\"color: #800080; text-decoration-color: #800080; font-weight: bold\"> 8         </span>│<span style=\"color: #800080; text-decoration-color: #800080; font-weight: bold\"> 83       </span>│<span style=\"color: #800080; text-decoration-color: #800080; font-weight: bold\"> 1                 </span>│<span style=\"color: #800080; text-decoration-color: #800080; font-weight: bold\"> 3                </span>│<span style=\"color: #800080; text-decoration-color: #800080; font-weight: bold\">                   </span>│<span style=\"color: #800080; text-decoration-color: #800080; font-weight: bold\"> 0     </span>│<span style=\"color: #800080; text-decoration-color: #800080; font-weight: bold\"> 2025-06-10       </span>│\n",
       "│<span style=\"color: #800080; text-decoration-color: #800080; font-weight: bold\">    </span>│<span style=\"color: #800080; text-decoration-color: #800080; font-weight: bold\">           </span>│<span style=\"color: #800080; text-decoration-color: #800080; font-weight: bold\">          </span>│<span style=\"color: #800080; text-decoration-color: #800080; font-weight: bold\">                   </span>│<span style=\"color: #800080; text-decoration-color: #800080; font-weight: bold\">                  </span>│<span style=\"color: #800080; text-decoration-color: #800080; font-weight: bold\">                   </span>│<span style=\"color: #800080; text-decoration-color: #800080; font-weight: bold\">       </span>│<span style=\"color: #800080; text-decoration-color: #800080; font-weight: bold\"> 21:45:05         </span>│\n",
       "├────┼───────────┼──────────┼───────────────────┼──────────────────┼───────────────────┼───────┼──────────────────┤\n",
       "│<span style=\"color: #800080; text-decoration-color: #800080; font-weight: bold\"> 6  </span>│<span style=\"color: #800080; text-decoration-color: #800080; font-weight: bold\"> 8         </span>│<span style=\"color: #800080; text-decoration-color: #800080; font-weight: bold\"> 84       </span>│<span style=\"color: #800080; text-decoration-color: #800080; font-weight: bold\"> 2                 </span>│<span style=\"color: #800080; text-decoration-color: #800080; font-weight: bold\"> 1                </span>│<span style=\"color: #800080; text-decoration-color: #800080; font-weight: bold\">                   </span>│<span style=\"color: #800080; text-decoration-color: #800080; font-weight: bold\"> 0     </span>│<span style=\"color: #800080; text-decoration-color: #800080; font-weight: bold\"> 2025-06-10       </span>│\n",
       "│<span style=\"color: #800080; text-decoration-color: #800080; font-weight: bold\">    </span>│<span style=\"color: #800080; text-decoration-color: #800080; font-weight: bold\">           </span>│<span style=\"color: #800080; text-decoration-color: #800080; font-weight: bold\">          </span>│<span style=\"color: #800080; text-decoration-color: #800080; font-weight: bold\">                   </span>│<span style=\"color: #800080; text-decoration-color: #800080; font-weight: bold\">                  </span>│<span style=\"color: #800080; text-decoration-color: #800080; font-weight: bold\">                   </span>│<span style=\"color: #800080; text-decoration-color: #800080; font-weight: bold\">       </span>│<span style=\"color: #800080; text-decoration-color: #800080; font-weight: bold\"> 21:45:20         </span>│\n",
       "╰────┴───────────┴──────────┴───────────────────┴──────────────────┴───────────────────┴───────┴──────────────────╯\n",
       "</pre>\n"
      ],
      "text/plain": [
       "\u001b[3m                                           Sample Data from predictions                                            \u001b[0m\n",
       "╭────┬───────────┬──────────┬───────────────────┬──────────────────┬───────────────────┬───────┬──────────────────╮\n",
       "│\u001b[1m \u001b[0m\u001b[1mid\u001b[0m\u001b[1m \u001b[0m│\u001b[1m \u001b[0m\u001b[1mplayer_id\u001b[0m\u001b[1m \u001b[0m│\u001b[1m \u001b[0m\u001b[1mmatch_id\u001b[0m\u001b[1m \u001b[0m│\u001b[1m \u001b[0m\u001b[1mpredicted_home_s…\u001b[0m\u001b[1m \u001b[0m│\u001b[1m \u001b[0m\u001b[1mpredicted_away_…\u001b[0m\u001b[1m \u001b[0m│\u001b[1m \u001b[0m\u001b[1mpredicted_penalt…\u001b[0m\u001b[1m \u001b[0m│\u001b[1m \u001b[0m\u001b[1mscore\u001b[0m\u001b[1m \u001b[0m│\u001b[1m \u001b[0m\u001b[1mcreated_at      \u001b[0m\u001b[1m \u001b[0m│\n",
       "├────┼───────────┼──────────┼───────────────────┼──────────────────┼───────────────────┼───────┼──────────────────┤\n",
       "│\u001b[1;35m \u001b[0m\u001b[1;35m1 \u001b[0m\u001b[1;35m \u001b[0m│\u001b[1;35m \u001b[0m\u001b[1;35m8        \u001b[0m\u001b[1;35m \u001b[0m│\u001b[1;35m \u001b[0m\u001b[1;35m73      \u001b[0m\u001b[1;35m \u001b[0m│\u001b[1;35m \u001b[0m\u001b[1;35m3                \u001b[0m\u001b[1;35m \u001b[0m│\u001b[1;35m \u001b[0m\u001b[1;35m1               \u001b[0m\u001b[1;35m \u001b[0m│\u001b[1;35m \u001b[0m\u001b[1;35m                 \u001b[0m\u001b[1;35m \u001b[0m│\u001b[1;35m \u001b[0m\u001b[1;35m0    \u001b[0m\u001b[1;35m \u001b[0m│\u001b[1;35m \u001b[0m\u001b[1;35m2025-06-10      \u001b[0m\u001b[1;35m \u001b[0m│\n",
       "│\u001b[1;35m    \u001b[0m│\u001b[1;35m           \u001b[0m│\u001b[1;35m          \u001b[0m│\u001b[1;35m                   \u001b[0m│\u001b[1;35m                  \u001b[0m│\u001b[1;35m                   \u001b[0m│\u001b[1;35m       \u001b[0m│\u001b[1;35m \u001b[0m\u001b[1;35m21:32:35        \u001b[0m\u001b[1;35m \u001b[0m│\n",
       "├────┼───────────┼──────────┼───────────────────┼──────────────────┼───────────────────┼───────┼──────────────────┤\n",
       "│\u001b[1;35m \u001b[0m\u001b[1;35m2 \u001b[0m\u001b[1;35m \u001b[0m│\u001b[1;35m \u001b[0m\u001b[1;35m8        \u001b[0m\u001b[1;35m \u001b[0m│\u001b[1;35m \u001b[0m\u001b[1;35m74      \u001b[0m\u001b[1;35m \u001b[0m│\u001b[1;35m \u001b[0m\u001b[1;35m3                \u001b[0m\u001b[1;35m \u001b[0m│\u001b[1;35m \u001b[0m\u001b[1;35m1               \u001b[0m\u001b[1;35m \u001b[0m│\u001b[1;35m \u001b[0m\u001b[1;35m                 \u001b[0m\u001b[1;35m \u001b[0m│\u001b[1;35m \u001b[0m\u001b[1;35m0    \u001b[0m\u001b[1;35m \u001b[0m│\u001b[1;35m \u001b[0m\u001b[1;35m2025-06-10      \u001b[0m\u001b[1;35m \u001b[0m│\n",
       "│\u001b[1;35m    \u001b[0m│\u001b[1;35m           \u001b[0m│\u001b[1;35m          \u001b[0m│\u001b[1;35m                   \u001b[0m│\u001b[1;35m                  \u001b[0m│\u001b[1;35m                   \u001b[0m│\u001b[1;35m       \u001b[0m│\u001b[1;35m \u001b[0m\u001b[1;35m21:32:40        \u001b[0m\u001b[1;35m \u001b[0m│\n",
       "├────┼───────────┼──────────┼───────────────────┼──────────────────┼───────────────────┼───────┼──────────────────┤\n",
       "│\u001b[1;35m \u001b[0m\u001b[1;35m3 \u001b[0m\u001b[1;35m \u001b[0m│\u001b[1;35m \u001b[0m\u001b[1;35m8        \u001b[0m\u001b[1;35m \u001b[0m│\u001b[1;35m \u001b[0m\u001b[1;35m75      \u001b[0m\u001b[1;35m \u001b[0m│\u001b[1;35m \u001b[0m\u001b[1;35m4                \u001b[0m\u001b[1;35m \u001b[0m│\u001b[1;35m \u001b[0m\u001b[1;35m1               \u001b[0m\u001b[1;35m \u001b[0m│\u001b[1;35m \u001b[0m\u001b[1;35m                 \u001b[0m\u001b[1;35m \u001b[0m│\u001b[1;35m \u001b[0m\u001b[1;35m0    \u001b[0m\u001b[1;35m \u001b[0m│\u001b[1;35m \u001b[0m\u001b[1;35m2025-06-10      \u001b[0m\u001b[1;35m \u001b[0m│\n",
       "│\u001b[1;35m    \u001b[0m│\u001b[1;35m           \u001b[0m│\u001b[1;35m          \u001b[0m│\u001b[1;35m                   \u001b[0m│\u001b[1;35m                  \u001b[0m│\u001b[1;35m                   \u001b[0m│\u001b[1;35m       \u001b[0m│\u001b[1;35m \u001b[0m\u001b[1;35m21:32:45        \u001b[0m\u001b[1;35m \u001b[0m│\n",
       "├────┼───────────┼──────────┼───────────────────┼──────────────────┼───────────────────┼───────┼──────────────────┤\n",
       "│\u001b[1;35m \u001b[0m\u001b[1;35m4 \u001b[0m\u001b[1;35m \u001b[0m│\u001b[1;35m \u001b[0m\u001b[1;35m8        \u001b[0m\u001b[1;35m \u001b[0m│\u001b[1;35m \u001b[0m\u001b[1;35m76      \u001b[0m\u001b[1;35m \u001b[0m│\u001b[1;35m \u001b[0m\u001b[1;35m1                \u001b[0m\u001b[1;35m \u001b[0m│\u001b[1;35m \u001b[0m\u001b[1;35m2               \u001b[0m\u001b[1;35m \u001b[0m│\u001b[1;35m \u001b[0m\u001b[1;35m                 \u001b[0m\u001b[1;35m \u001b[0m│\u001b[1;35m \u001b[0m\u001b[1;35m0    \u001b[0m\u001b[1;35m \u001b[0m│\u001b[1;35m \u001b[0m\u001b[1;35m2025-06-10      \u001b[0m\u001b[1;35m \u001b[0m│\n",
       "│\u001b[1;35m    \u001b[0m│\u001b[1;35m           \u001b[0m│\u001b[1;35m          \u001b[0m│\u001b[1;35m                   \u001b[0m│\u001b[1;35m                  \u001b[0m│\u001b[1;35m                   \u001b[0m│\u001b[1;35m       \u001b[0m│\u001b[1;35m \u001b[0m\u001b[1;35m21:32:53        \u001b[0m\u001b[1;35m \u001b[0m│\n",
       "├────┼───────────┼──────────┼───────────────────┼──────────────────┼───────────────────┼───────┼──────────────────┤\n",
       "│\u001b[1;35m \u001b[0m\u001b[1;35m5 \u001b[0m\u001b[1;35m \u001b[0m│\u001b[1;35m \u001b[0m\u001b[1;35m8        \u001b[0m\u001b[1;35m \u001b[0m│\u001b[1;35m \u001b[0m\u001b[1;35m83      \u001b[0m\u001b[1;35m \u001b[0m│\u001b[1;35m \u001b[0m\u001b[1;35m1                \u001b[0m\u001b[1;35m \u001b[0m│\u001b[1;35m \u001b[0m\u001b[1;35m3               \u001b[0m\u001b[1;35m \u001b[0m│\u001b[1;35m \u001b[0m\u001b[1;35m                 \u001b[0m\u001b[1;35m \u001b[0m│\u001b[1;35m \u001b[0m\u001b[1;35m0    \u001b[0m\u001b[1;35m \u001b[0m│\u001b[1;35m \u001b[0m\u001b[1;35m2025-06-10      \u001b[0m\u001b[1;35m \u001b[0m│\n",
       "│\u001b[1;35m    \u001b[0m│\u001b[1;35m           \u001b[0m│\u001b[1;35m          \u001b[0m│\u001b[1;35m                   \u001b[0m│\u001b[1;35m                  \u001b[0m│\u001b[1;35m                   \u001b[0m│\u001b[1;35m       \u001b[0m│\u001b[1;35m \u001b[0m\u001b[1;35m21:45:05        \u001b[0m\u001b[1;35m \u001b[0m│\n",
       "├────┼───────────┼──────────┼───────────────────┼──────────────────┼───────────────────┼───────┼──────────────────┤\n",
       "│\u001b[1;35m \u001b[0m\u001b[1;35m6 \u001b[0m\u001b[1;35m \u001b[0m│\u001b[1;35m \u001b[0m\u001b[1;35m8        \u001b[0m\u001b[1;35m \u001b[0m│\u001b[1;35m \u001b[0m\u001b[1;35m84      \u001b[0m\u001b[1;35m \u001b[0m│\u001b[1;35m \u001b[0m\u001b[1;35m2                \u001b[0m\u001b[1;35m \u001b[0m│\u001b[1;35m \u001b[0m\u001b[1;35m1               \u001b[0m\u001b[1;35m \u001b[0m│\u001b[1;35m \u001b[0m\u001b[1;35m                 \u001b[0m\u001b[1;35m \u001b[0m│\u001b[1;35m \u001b[0m\u001b[1;35m0    \u001b[0m\u001b[1;35m \u001b[0m│\u001b[1;35m \u001b[0m\u001b[1;35m2025-06-10      \u001b[0m\u001b[1;35m \u001b[0m│\n",
       "│\u001b[1;35m    \u001b[0m│\u001b[1;35m           \u001b[0m│\u001b[1;35m          \u001b[0m│\u001b[1;35m                   \u001b[0m│\u001b[1;35m                  \u001b[0m│\u001b[1;35m                   \u001b[0m│\u001b[1;35m       \u001b[0m│\u001b[1;35m \u001b[0m\u001b[1;35m21:45:20        \u001b[0m\u001b[1;35m \u001b[0m│\n",
       "╰────┴───────────┴──────────┴───────────────────┴──────────────────┴───────────────────┴───────┴──────────────────╯\n"
      ]
     },
     "metadata": {},
     "output_type": "display_data"
    },
    {
     "data": {
      "text/html": [
       "<pre style=\"white-space:pre;overflow-x:auto;line-height:normal;font-family:Menlo,'DejaVu Sans Mono',consolas,'Courier New',monospace\"><span style=\"color: #008080; text-decoration-color: #008080; font-weight: bold\">🔌 Connection closed.</span>\n",
       "\n",
       "</pre>\n"
      ],
      "text/plain": [
       "\u001b[1;36m🔌 Connection closed.\u001b[0m\n",
       "\n"
      ]
     },
     "metadata": {},
     "output_type": "display_data"
    }
   ],
   "source": [
    "table_info(\"predictions\")"
   ]
  },
  {
   "cell_type": "code",
   "execution_count": 117,
   "id": "a77dcd4c",
   "metadata": {},
   "outputs": [
    {
     "data": {
      "text/html": [
       "<pre style=\"white-space:pre;overflow-x:auto;line-height:normal;font-family:Menlo,'DejaVu Sans Mono',consolas,'Courier New',monospace\"><span style=\"color: #000080; text-decoration-color: #000080\">╭──────────────────────────────────────────────────</span> Table Info <span style=\"color: #000080; text-decoration-color: #000080\">───────────────────────────────────────────────────╮</span>\n",
       "<span style=\"color: #000080; text-decoration-color: #000080\">│ 📋 </span><span style=\"color: #008000; text-decoration-color: #008000; font-weight: bold\">Table:</span><span style=\"color: #000080; text-decoration-color: #000080\"> predictions                                                                                           │</span>\n",
       "<span style=\"color: #000080; text-decoration-color: #000080\">│ 🔢 </span><span style=\"color: #008080; text-decoration-color: #008080; font-weight: bold\">Columns:</span><span style=\"color: #000080; text-decoration-color: #000080\"> id, player_id, match_id, predicted_home_score, predicted_away_score, predicted_penalty_winner,      │</span>\n",
       "<span style=\"color: #000080; text-decoration-color: #000080\">│ score, created_at                                                                                               │</span>\n",
       "<span style=\"color: #000080; text-decoration-color: #000080\">│ 📊 </span><span style=\"color: #800080; text-decoration-color: #800080; font-weight: bold\">Total Rows:</span><span style=\"color: #000080; text-decoration-color: #000080\"> 0                                                                                                │</span>\n",
       "<span style=\"color: #000080; text-decoration-color: #000080\">╰─────────────────────────────────────────────────────────────────────────────────────────────────────────────────╯</span>\n",
       "</pre>\n"
      ],
      "text/plain": [
       "\u001b[34m╭─\u001b[0m\u001b[34m─────────────────────────────────────────────────\u001b[0m Table Info \u001b[34m──────────────────────────────────────────────────\u001b[0m\u001b[34m─╮\u001b[0m\n",
       "\u001b[34m│\u001b[0m\u001b[34m \u001b[0m\u001b[34m📋 \u001b[0m\u001b[1;32mTable:\u001b[0m\u001b[34m predictions\u001b[0m\u001b[34m                                                                                          \u001b[0m\u001b[34m \u001b[0m\u001b[34m│\u001b[0m\n",
       "\u001b[34m│\u001b[0m\u001b[34m \u001b[0m\u001b[34m🔢 \u001b[0m\u001b[1;36mColumns:\u001b[0m\u001b[34m id, player_id, match_id, predicted_home_score, predicted_away_score, predicted_penalty_winner, \u001b[0m\u001b[34m    \u001b[0m\u001b[34m \u001b[0m\u001b[34m│\u001b[0m\n",
       "\u001b[34m│\u001b[0m\u001b[34m \u001b[0m\u001b[34mscore, created_at\u001b[0m\u001b[34m                                                                                              \u001b[0m\u001b[34m \u001b[0m\u001b[34m│\u001b[0m\n",
       "\u001b[34m│\u001b[0m\u001b[34m \u001b[0m\u001b[34m📊 \u001b[0m\u001b[1;35mTotal Rows:\u001b[0m\u001b[34m 0\u001b[0m\u001b[34m                                                                                               \u001b[0m\u001b[34m \u001b[0m\u001b[34m│\u001b[0m\n",
       "\u001b[34m╰─────────────────────────────────────────────────────────────────────────────────────────────────────────────────╯\u001b[0m\n"
      ]
     },
     "metadata": {},
     "output_type": "display_data"
    },
    {
     "data": {
      "text/html": [
       "<pre style=\"white-space:pre;overflow-x:auto;line-height:normal;font-family:Menlo,'DejaVu Sans Mono',consolas,'Courier New',monospace\"><span style=\"color: #808000; text-decoration-color: #808000\">╭──────────────────────────────────────────────────</span> Empty Table <span style=\"color: #808000; text-decoration-color: #808000\">──────────────────────────────────────────────────╮</span>\n",
       "<span style=\"color: #808000; text-decoration-color: #808000\">│ ⚠️ No data found in the table.                                                                                   │</span>\n",
       "<span style=\"color: #808000; text-decoration-color: #808000\">╰─────────────────────────────────────────────────────────────────────────────────────────────────────────────────╯</span>\n",
       "</pre>\n"
      ],
      "text/plain": [
       "\u001b[33m╭─\u001b[0m\u001b[33m─────────────────────────────────────────────────\u001b[0m Empty Table \u001b[33m─────────────────────────────────────────────────\u001b[0m\u001b[33m─╮\u001b[0m\n",
       "\u001b[33m│\u001b[0m\u001b[33m \u001b[0m\u001b[33m⚠️ No data found in the table.\u001b[0m\u001b[33m                                                                                  \u001b[0m\u001b[33m \u001b[0m\u001b[33m│\u001b[0m\n",
       "\u001b[33m╰─────────────────────────────────────────────────────────────────────────────────────────────────────────────────╯\u001b[0m\n"
      ]
     },
     "metadata": {},
     "output_type": "display_data"
    },
    {
     "data": {
      "text/html": [
       "<pre style=\"white-space:pre;overflow-x:auto;line-height:normal;font-family:Menlo,'DejaVu Sans Mono',consolas,'Courier New',monospace\"><span style=\"color: #008080; text-decoration-color: #008080; font-weight: bold\">🔌 Connection closed.</span>\n",
       "\n",
       "</pre>\n"
      ],
      "text/plain": [
       "\u001b[1;36m🔌 Connection closed.\u001b[0m\n",
       "\n"
      ]
     },
     "metadata": {},
     "output_type": "display_data"
    },
    {
     "data": {
      "text/html": [
       "<pre style=\"white-space:pre;overflow-x:auto;line-height:normal;font-family:Menlo,'DejaVu Sans Mono',consolas,'Courier New',monospace\"><span style=\"color: #000080; text-decoration-color: #000080\">╭───────────────────────────────────────────</span> Table Info <span style=\"color: #000080; text-decoration-color: #000080\">────────────────────────────────────────────╮</span>\n",
       "<span style=\"color: #000080; text-decoration-color: #000080\">│ 📋 </span><span style=\"color: #008000; text-decoration-color: #008000; font-weight: bold\">Table:</span><span style=\"color: #000080; text-decoration-color: #000080\"> stages                                                                                  │</span>\n",
       "<span style=\"color: #000080; text-decoration-color: #000080\">│ 🔢 </span><span style=\"color: #008080; text-decoration-color: #008080; font-weight: bold\">Columns:</span><span style=\"color: #000080; text-decoration-color: #000080\"> id, league_id, name, stage_order, can_be_draw, two_legs, must_have_winner, created_at │</span>\n",
       "<span style=\"color: #000080; text-decoration-color: #000080\">│ 📊 </span><span style=\"color: #800080; text-decoration-color: #800080; font-weight: bold\">Total Rows:</span><span style=\"color: #000080; text-decoration-color: #000080\"> 23                                                                                 │</span>\n",
       "<span style=\"color: #000080; text-decoration-color: #000080\">╰───────────────────────────────────────────────────────────────────────────────────────────────────╯</span>\n",
       "</pre>\n"
      ],
      "text/plain": [
       "\u001b[34m╭─\u001b[0m\u001b[34m──────────────────────────────────────────\u001b[0m Table Info \u001b[34m───────────────────────────────────────────\u001b[0m\u001b[34m─╮\u001b[0m\n",
       "\u001b[34m│\u001b[0m\u001b[34m \u001b[0m\u001b[34m📋 \u001b[0m\u001b[1;32mTable:\u001b[0m\u001b[34m stages\u001b[0m\u001b[34m                                                                                 \u001b[0m\u001b[34m \u001b[0m\u001b[34m│\u001b[0m\n",
       "\u001b[34m│\u001b[0m\u001b[34m \u001b[0m\u001b[34m🔢 \u001b[0m\u001b[1;36mColumns:\u001b[0m\u001b[34m id, league_id, name, stage_order, can_be_draw, two_legs, must_have_winner, created_at\u001b[0m\u001b[34m \u001b[0m\u001b[34m│\u001b[0m\n",
       "\u001b[34m│\u001b[0m\u001b[34m \u001b[0m\u001b[34m📊 \u001b[0m\u001b[1;35mTotal Rows:\u001b[0m\u001b[34m 23\u001b[0m\u001b[34m                                                                                \u001b[0m\u001b[34m \u001b[0m\u001b[34m│\u001b[0m\n",
       "\u001b[34m╰───────────────────────────────────────────────────────────────────────────────────────────────────╯\u001b[0m\n"
      ]
     },
     "metadata": {},
     "output_type": "display_data"
    },
    {
     "data": {
      "text/html": [
       "<pre style=\"white-space:pre;overflow-x:auto;line-height:normal;font-family:Menlo,'DejaVu Sans Mono',consolas,'Courier New',monospace\"><span style=\"font-style: italic\">                                              Sample Data from stages                                              </span>\n",
       "╭─────┬───────────┬──────────────────┬─────────────┬─────────────┬──────────┬──────────────────┬──────────────────╮\n",
       "│<span style=\"font-weight: bold\"> id  </span>│<span style=\"font-weight: bold\"> league_id </span>│<span style=\"font-weight: bold\"> name             </span>│<span style=\"font-weight: bold\"> stage_order </span>│<span style=\"font-weight: bold\"> can_be_draw </span>│<span style=\"font-weight: bold\"> two_legs </span>│<span style=\"font-weight: bold\"> must_have_winner </span>│<span style=\"font-weight: bold\"> created_at       </span>│\n",
       "├─────┼───────────┼──────────────────┼─────────────┼─────────────┼──────────┼──────────────────┼──────────────────┤\n",
       "│<span style=\"color: #800080; text-decoration-color: #800080; font-weight: bold\"> 199 </span>│<span style=\"color: #800080; text-decoration-color: #800080; font-weight: bold\"> 2         </span>│<span style=\"color: #800080; text-decoration-color: #800080; font-weight: bold\"> Football,        </span>│<span style=\"color: #800080; text-decoration-color: #800080; font-weight: bold\"> 1           </span>│<span style=\"color: #800080; text-decoration-color: #800080; font-weight: bold\"> 1           </span>│<span style=\"color: #800080; text-decoration-color: #800080; font-weight: bold\"> 0        </span>│<span style=\"color: #800080; text-decoration-color: #800080; font-weight: bold\"> 0                </span>│<span style=\"color: #800080; text-decoration-color: #800080; font-weight: bold\"> 2025-06-09       </span>│\n",
       "│<span style=\"color: #800080; text-decoration-color: #800080; font-weight: bold\">     </span>│<span style=\"color: #800080; text-decoration-color: #800080; font-weight: bold\">           </span>│<span style=\"color: #800080; text-decoration-color: #800080; font-weight: bold\"> England, Premier </span>│<span style=\"color: #800080; text-decoration-color: #800080; font-weight: bold\">             </span>│<span style=\"color: #800080; text-decoration-color: #800080; font-weight: bold\">             </span>│<span style=\"color: #800080; text-decoration-color: #800080; font-weight: bold\">          </span>│<span style=\"color: #800080; text-decoration-color: #800080; font-weight: bold\">                  </span>│<span style=\"color: #800080; text-decoration-color: #800080; font-weight: bold\"> 23:46:24         </span>│\n",
       "│<span style=\"color: #800080; text-decoration-color: #800080; font-weight: bold\">     </span>│<span style=\"color: #800080; text-decoration-color: #800080; font-weight: bold\">           </span>│<span style=\"color: #800080; text-decoration-color: #800080; font-weight: bold\"> League, Round 1  </span>│<span style=\"color: #800080; text-decoration-color: #800080; font-weight: bold\">             </span>│<span style=\"color: #800080; text-decoration-color: #800080; font-weight: bold\">             </span>│<span style=\"color: #800080; text-decoration-color: #800080; font-weight: bold\">          </span>│<span style=\"color: #800080; text-decoration-color: #800080; font-weight: bold\">                  </span>│<span style=\"color: #800080; text-decoration-color: #800080; font-weight: bold\">                  </span>│\n",
       "├─────┼───────────┼──────────────────┼─────────────┼─────────────┼──────────┼──────────────────┼──────────────────┤\n",
       "│<span style=\"color: #800080; text-decoration-color: #800080; font-weight: bold\"> 200 </span>│<span style=\"color: #800080; text-decoration-color: #800080; font-weight: bold\"> 2         </span>│<span style=\"color: #800080; text-decoration-color: #800080; font-weight: bold\"> Football,        </span>│<span style=\"color: #800080; text-decoration-color: #800080; font-weight: bold\"> 2           </span>│<span style=\"color: #800080; text-decoration-color: #800080; font-weight: bold\"> 1           </span>│<span style=\"color: #800080; text-decoration-color: #800080; font-weight: bold\"> 0        </span>│<span style=\"color: #800080; text-decoration-color: #800080; font-weight: bold\"> 0                </span>│<span style=\"color: #800080; text-decoration-color: #800080; font-weight: bold\"> 2025-06-09       </span>│\n",
       "│<span style=\"color: #800080; text-decoration-color: #800080; font-weight: bold\">     </span>│<span style=\"color: #800080; text-decoration-color: #800080; font-weight: bold\">           </span>│<span style=\"color: #800080; text-decoration-color: #800080; font-weight: bold\"> England, Premier </span>│<span style=\"color: #800080; text-decoration-color: #800080; font-weight: bold\">             </span>│<span style=\"color: #800080; text-decoration-color: #800080; font-weight: bold\">             </span>│<span style=\"color: #800080; text-decoration-color: #800080; font-weight: bold\">          </span>│<span style=\"color: #800080; text-decoration-color: #800080; font-weight: bold\">                  </span>│<span style=\"color: #800080; text-decoration-color: #800080; font-weight: bold\"> 23:46:29         </span>│\n",
       "│<span style=\"color: #800080; text-decoration-color: #800080; font-weight: bold\">     </span>│<span style=\"color: #800080; text-decoration-color: #800080; font-weight: bold\">           </span>│<span style=\"color: #800080; text-decoration-color: #800080; font-weight: bold\"> League, Round 2  </span>│<span style=\"color: #800080; text-decoration-color: #800080; font-weight: bold\">             </span>│<span style=\"color: #800080; text-decoration-color: #800080; font-weight: bold\">             </span>│<span style=\"color: #800080; text-decoration-color: #800080; font-weight: bold\">          </span>│<span style=\"color: #800080; text-decoration-color: #800080; font-weight: bold\">                  </span>│<span style=\"color: #800080; text-decoration-color: #800080; font-weight: bold\">                  </span>│\n",
       "├─────┼───────────┼──────────────────┼─────────────┼─────────────┼──────────┼──────────────────┼──────────────────┤\n",
       "│<span style=\"color: #800080; text-decoration-color: #800080; font-weight: bold\"> 201 </span>│<span style=\"color: #800080; text-decoration-color: #800080; font-weight: bold\"> 2         </span>│<span style=\"color: #800080; text-decoration-color: #800080; font-weight: bold\"> Football,        </span>│<span style=\"color: #800080; text-decoration-color: #800080; font-weight: bold\"> 3           </span>│<span style=\"color: #800080; text-decoration-color: #800080; font-weight: bold\"> 1           </span>│<span style=\"color: #800080; text-decoration-color: #800080; font-weight: bold\"> 0        </span>│<span style=\"color: #800080; text-decoration-color: #800080; font-weight: bold\"> 0                </span>│<span style=\"color: #800080; text-decoration-color: #800080; font-weight: bold\"> 2025-06-09       </span>│\n",
       "│<span style=\"color: #800080; text-decoration-color: #800080; font-weight: bold\">     </span>│<span style=\"color: #800080; text-decoration-color: #800080; font-weight: bold\">           </span>│<span style=\"color: #800080; text-decoration-color: #800080; font-weight: bold\"> England, Premier </span>│<span style=\"color: #800080; text-decoration-color: #800080; font-weight: bold\">             </span>│<span style=\"color: #800080; text-decoration-color: #800080; font-weight: bold\">             </span>│<span style=\"color: #800080; text-decoration-color: #800080; font-weight: bold\">          </span>│<span style=\"color: #800080; text-decoration-color: #800080; font-weight: bold\">                  </span>│<span style=\"color: #800080; text-decoration-color: #800080; font-weight: bold\"> 23:46:32         </span>│\n",
       "│<span style=\"color: #800080; text-decoration-color: #800080; font-weight: bold\">     </span>│<span style=\"color: #800080; text-decoration-color: #800080; font-weight: bold\">           </span>│<span style=\"color: #800080; text-decoration-color: #800080; font-weight: bold\"> League, Round 3  </span>│<span style=\"color: #800080; text-decoration-color: #800080; font-weight: bold\">             </span>│<span style=\"color: #800080; text-decoration-color: #800080; font-weight: bold\">             </span>│<span style=\"color: #800080; text-decoration-color: #800080; font-weight: bold\">          </span>│<span style=\"color: #800080; text-decoration-color: #800080; font-weight: bold\">                  </span>│<span style=\"color: #800080; text-decoration-color: #800080; font-weight: bold\">                  </span>│\n",
       "├─────┼───────────┼──────────────────┼─────────────┼─────────────┼──────────┼──────────────────┼──────────────────┤\n",
       "│<span style=\"color: #800080; text-decoration-color: #800080; font-weight: bold\"> 202 </span>│<span style=\"color: #800080; text-decoration-color: #800080; font-weight: bold\"> 2         </span>│<span style=\"color: #800080; text-decoration-color: #800080; font-weight: bold\"> Football,        </span>│<span style=\"color: #800080; text-decoration-color: #800080; font-weight: bold\"> 4           </span>│<span style=\"color: #800080; text-decoration-color: #800080; font-weight: bold\"> 1           </span>│<span style=\"color: #800080; text-decoration-color: #800080; font-weight: bold\"> 0        </span>│<span style=\"color: #800080; text-decoration-color: #800080; font-weight: bold\"> 0                </span>│<span style=\"color: #800080; text-decoration-color: #800080; font-weight: bold\"> 2025-06-09       </span>│\n",
       "│<span style=\"color: #800080; text-decoration-color: #800080; font-weight: bold\">     </span>│<span style=\"color: #800080; text-decoration-color: #800080; font-weight: bold\">           </span>│<span style=\"color: #800080; text-decoration-color: #800080; font-weight: bold\"> England, Premier </span>│<span style=\"color: #800080; text-decoration-color: #800080; font-weight: bold\">             </span>│<span style=\"color: #800080; text-decoration-color: #800080; font-weight: bold\">             </span>│<span style=\"color: #800080; text-decoration-color: #800080; font-weight: bold\">          </span>│<span style=\"color: #800080; text-decoration-color: #800080; font-weight: bold\">                  </span>│<span style=\"color: #800080; text-decoration-color: #800080; font-weight: bold\"> 23:46:35         </span>│\n",
       "│<span style=\"color: #800080; text-decoration-color: #800080; font-weight: bold\">     </span>│<span style=\"color: #800080; text-decoration-color: #800080; font-weight: bold\">           </span>│<span style=\"color: #800080; text-decoration-color: #800080; font-weight: bold\"> League, Round 4  </span>│<span style=\"color: #800080; text-decoration-color: #800080; font-weight: bold\">             </span>│<span style=\"color: #800080; text-decoration-color: #800080; font-weight: bold\">             </span>│<span style=\"color: #800080; text-decoration-color: #800080; font-weight: bold\">          </span>│<span style=\"color: #800080; text-decoration-color: #800080; font-weight: bold\">                  </span>│<span style=\"color: #800080; text-decoration-color: #800080; font-weight: bold\">                  </span>│\n",
       "├─────┼───────────┼──────────────────┼─────────────┼─────────────┼──────────┼──────────────────┼──────────────────┤\n",
       "│<span style=\"color: #800080; text-decoration-color: #800080; font-weight: bold\"> 203 </span>│<span style=\"color: #800080; text-decoration-color: #800080; font-weight: bold\"> 2         </span>│<span style=\"color: #800080; text-decoration-color: #800080; font-weight: bold\"> Football,        </span>│<span style=\"color: #800080; text-decoration-color: #800080; font-weight: bold\"> 5           </span>│<span style=\"color: #800080; text-decoration-color: #800080; font-weight: bold\"> 1           </span>│<span style=\"color: #800080; text-decoration-color: #800080; font-weight: bold\"> 0        </span>│<span style=\"color: #800080; text-decoration-color: #800080; font-weight: bold\"> 0                </span>│<span style=\"color: #800080; text-decoration-color: #800080; font-weight: bold\"> 2025-06-09       </span>│\n",
       "│<span style=\"color: #800080; text-decoration-color: #800080; font-weight: bold\">     </span>│<span style=\"color: #800080; text-decoration-color: #800080; font-weight: bold\">           </span>│<span style=\"color: #800080; text-decoration-color: #800080; font-weight: bold\"> England, Premier </span>│<span style=\"color: #800080; text-decoration-color: #800080; font-weight: bold\">             </span>│<span style=\"color: #800080; text-decoration-color: #800080; font-weight: bold\">             </span>│<span style=\"color: #800080; text-decoration-color: #800080; font-weight: bold\">          </span>│<span style=\"color: #800080; text-decoration-color: #800080; font-weight: bold\">                  </span>│<span style=\"color: #800080; text-decoration-color: #800080; font-weight: bold\"> 23:46:39         </span>│\n",
       "│<span style=\"color: #800080; text-decoration-color: #800080; font-weight: bold\">     </span>│<span style=\"color: #800080; text-decoration-color: #800080; font-weight: bold\">           </span>│<span style=\"color: #800080; text-decoration-color: #800080; font-weight: bold\"> League, Round 5  </span>│<span style=\"color: #800080; text-decoration-color: #800080; font-weight: bold\">             </span>│<span style=\"color: #800080; text-decoration-color: #800080; font-weight: bold\">             </span>│<span style=\"color: #800080; text-decoration-color: #800080; font-weight: bold\">          </span>│<span style=\"color: #800080; text-decoration-color: #800080; font-weight: bold\">                  </span>│<span style=\"color: #800080; text-decoration-color: #800080; font-weight: bold\">                  </span>│\n",
       "├─────┼───────────┼──────────────────┼─────────────┼─────────────┼──────────┼──────────────────┼──────────────────┤\n",
       "│<span style=\"color: #800080; text-decoration-color: #800080; font-weight: bold\"> 204 </span>│<span style=\"color: #800080; text-decoration-color: #800080; font-weight: bold\"> 2         </span>│<span style=\"color: #800080; text-decoration-color: #800080; font-weight: bold\"> Football,        </span>│<span style=\"color: #800080; text-decoration-color: #800080; font-weight: bold\"> 6           </span>│<span style=\"color: #800080; text-decoration-color: #800080; font-weight: bold\"> 1           </span>│<span style=\"color: #800080; text-decoration-color: #800080; font-weight: bold\"> 0        </span>│<span style=\"color: #800080; text-decoration-color: #800080; font-weight: bold\"> 0                </span>│<span style=\"color: #800080; text-decoration-color: #800080; font-weight: bold\"> 2025-06-09       </span>│\n",
       "│<span style=\"color: #800080; text-decoration-color: #800080; font-weight: bold\">     </span>│<span style=\"color: #800080; text-decoration-color: #800080; font-weight: bold\">           </span>│<span style=\"color: #800080; text-decoration-color: #800080; font-weight: bold\"> England, Premier </span>│<span style=\"color: #800080; text-decoration-color: #800080; font-weight: bold\">             </span>│<span style=\"color: #800080; text-decoration-color: #800080; font-weight: bold\">             </span>│<span style=\"color: #800080; text-decoration-color: #800080; font-weight: bold\">          </span>│<span style=\"color: #800080; text-decoration-color: #800080; font-weight: bold\">                  </span>│<span style=\"color: #800080; text-decoration-color: #800080; font-weight: bold\"> 23:46:42         </span>│\n",
       "│<span style=\"color: #800080; text-decoration-color: #800080; font-weight: bold\">     </span>│<span style=\"color: #800080; text-decoration-color: #800080; font-weight: bold\">           </span>│<span style=\"color: #800080; text-decoration-color: #800080; font-weight: bold\"> League, Round 6  </span>│<span style=\"color: #800080; text-decoration-color: #800080; font-weight: bold\">             </span>│<span style=\"color: #800080; text-decoration-color: #800080; font-weight: bold\">             </span>│<span style=\"color: #800080; text-decoration-color: #800080; font-weight: bold\">          </span>│<span style=\"color: #800080; text-decoration-color: #800080; font-weight: bold\">                  </span>│<span style=\"color: #800080; text-decoration-color: #800080; font-weight: bold\">                  </span>│\n",
       "├─────┼───────────┼──────────────────┼─────────────┼─────────────┼──────────┼──────────────────┼──────────────────┤\n",
       "│<span style=\"color: #800080; text-decoration-color: #800080; font-weight: bold\"> 205 </span>│<span style=\"color: #800080; text-decoration-color: #800080; font-weight: bold\"> 2         </span>│<span style=\"color: #800080; text-decoration-color: #800080; font-weight: bold\"> Football,        </span>│<span style=\"color: #800080; text-decoration-color: #800080; font-weight: bold\"> 7           </span>│<span style=\"color: #800080; text-decoration-color: #800080; font-weight: bold\"> 1           </span>│<span style=\"color: #800080; text-decoration-color: #800080; font-weight: bold\"> 0        </span>│<span style=\"color: #800080; text-decoration-color: #800080; font-weight: bold\"> 0                </span>│<span style=\"color: #800080; text-decoration-color: #800080; font-weight: bold\"> 2025-06-09       </span>│\n",
       "│<span style=\"color: #800080; text-decoration-color: #800080; font-weight: bold\">     </span>│<span style=\"color: #800080; text-decoration-color: #800080; font-weight: bold\">           </span>│<span style=\"color: #800080; text-decoration-color: #800080; font-weight: bold\"> England, Premier </span>│<span style=\"color: #800080; text-decoration-color: #800080; font-weight: bold\">             </span>│<span style=\"color: #800080; text-decoration-color: #800080; font-weight: bold\">             </span>│<span style=\"color: #800080; text-decoration-color: #800080; font-weight: bold\">          </span>│<span style=\"color: #800080; text-decoration-color: #800080; font-weight: bold\">                  </span>│<span style=\"color: #800080; text-decoration-color: #800080; font-weight: bold\"> 23:46:46         </span>│\n",
       "│<span style=\"color: #800080; text-decoration-color: #800080; font-weight: bold\">     </span>│<span style=\"color: #800080; text-decoration-color: #800080; font-weight: bold\">           </span>│<span style=\"color: #800080; text-decoration-color: #800080; font-weight: bold\"> League, Round 7  </span>│<span style=\"color: #800080; text-decoration-color: #800080; font-weight: bold\">             </span>│<span style=\"color: #800080; text-decoration-color: #800080; font-weight: bold\">             </span>│<span style=\"color: #800080; text-decoration-color: #800080; font-weight: bold\">          </span>│<span style=\"color: #800080; text-decoration-color: #800080; font-weight: bold\">                  </span>│<span style=\"color: #800080; text-decoration-color: #800080; font-weight: bold\">                  </span>│\n",
       "├─────┼───────────┼──────────────────┼─────────────┼─────────────┼──────────┼──────────────────┼──────────────────┤\n",
       "│<span style=\"color: #800080; text-decoration-color: #800080; font-weight: bold\"> 206 </span>│<span style=\"color: #800080; text-decoration-color: #800080; font-weight: bold\"> 2         </span>│<span style=\"color: #800080; text-decoration-color: #800080; font-weight: bold\"> Football,        </span>│<span style=\"color: #800080; text-decoration-color: #800080; font-weight: bold\"> 8           </span>│<span style=\"color: #800080; text-decoration-color: #800080; font-weight: bold\"> 1           </span>│<span style=\"color: #800080; text-decoration-color: #800080; font-weight: bold\"> 0        </span>│<span style=\"color: #800080; text-decoration-color: #800080; font-weight: bold\"> 0                </span>│<span style=\"color: #800080; text-decoration-color: #800080; font-weight: bold\"> 2025-06-09       </span>│\n",
       "│<span style=\"color: #800080; text-decoration-color: #800080; font-weight: bold\">     </span>│<span style=\"color: #800080; text-decoration-color: #800080; font-weight: bold\">           </span>│<span style=\"color: #800080; text-decoration-color: #800080; font-weight: bold\"> England, Premier </span>│<span style=\"color: #800080; text-decoration-color: #800080; font-weight: bold\">             </span>│<span style=\"color: #800080; text-decoration-color: #800080; font-weight: bold\">             </span>│<span style=\"color: #800080; text-decoration-color: #800080; font-weight: bold\">          </span>│<span style=\"color: #800080; text-decoration-color: #800080; font-weight: bold\">                  </span>│<span style=\"color: #800080; text-decoration-color: #800080; font-weight: bold\"> 23:46:52         </span>│\n",
       "│<span style=\"color: #800080; text-decoration-color: #800080; font-weight: bold\">     </span>│<span style=\"color: #800080; text-decoration-color: #800080; font-weight: bold\">           </span>│<span style=\"color: #800080; text-decoration-color: #800080; font-weight: bold\"> League, Round 8  </span>│<span style=\"color: #800080; text-decoration-color: #800080; font-weight: bold\">             </span>│<span style=\"color: #800080; text-decoration-color: #800080; font-weight: bold\">             </span>│<span style=\"color: #800080; text-decoration-color: #800080; font-weight: bold\">          </span>│<span style=\"color: #800080; text-decoration-color: #800080; font-weight: bold\">                  </span>│<span style=\"color: #800080; text-decoration-color: #800080; font-weight: bold\">                  </span>│\n",
       "├─────┼───────────┼──────────────────┼─────────────┼─────────────┼──────────┼──────────────────┼──────────────────┤\n",
       "│<span style=\"color: #800080; text-decoration-color: #800080; font-weight: bold\"> 207 </span>│<span style=\"color: #800080; text-decoration-color: #800080; font-weight: bold\"> 2         </span>│<span style=\"color: #800080; text-decoration-color: #800080; font-weight: bold\"> Football,        </span>│<span style=\"color: #800080; text-decoration-color: #800080; font-weight: bold\"> 9           </span>│<span style=\"color: #800080; text-decoration-color: #800080; font-weight: bold\"> 1           </span>│<span style=\"color: #800080; text-decoration-color: #800080; font-weight: bold\"> 0        </span>│<span style=\"color: #800080; text-decoration-color: #800080; font-weight: bold\"> 0                </span>│<span style=\"color: #800080; text-decoration-color: #800080; font-weight: bold\"> 2025-06-09       </span>│\n",
       "│<span style=\"color: #800080; text-decoration-color: #800080; font-weight: bold\">     </span>│<span style=\"color: #800080; text-decoration-color: #800080; font-weight: bold\">           </span>│<span style=\"color: #800080; text-decoration-color: #800080; font-weight: bold\"> England, Premier </span>│<span style=\"color: #800080; text-decoration-color: #800080; font-weight: bold\">             </span>│<span style=\"color: #800080; text-decoration-color: #800080; font-weight: bold\">             </span>│<span style=\"color: #800080; text-decoration-color: #800080; font-weight: bold\">          </span>│<span style=\"color: #800080; text-decoration-color: #800080; font-weight: bold\">                  </span>│<span style=\"color: #800080; text-decoration-color: #800080; font-weight: bold\"> 23:47:03         </span>│\n",
       "│<span style=\"color: #800080; text-decoration-color: #800080; font-weight: bold\">     </span>│<span style=\"color: #800080; text-decoration-color: #800080; font-weight: bold\">           </span>│<span style=\"color: #800080; text-decoration-color: #800080; font-weight: bold\"> League, Round 9  </span>│<span style=\"color: #800080; text-decoration-color: #800080; font-weight: bold\">             </span>│<span style=\"color: #800080; text-decoration-color: #800080; font-weight: bold\">             </span>│<span style=\"color: #800080; text-decoration-color: #800080; font-weight: bold\">          </span>│<span style=\"color: #800080; text-decoration-color: #800080; font-weight: bold\">                  </span>│<span style=\"color: #800080; text-decoration-color: #800080; font-weight: bold\">                  </span>│\n",
       "├─────┼───────────┼──────────────────┼─────────────┼─────────────┼──────────┼──────────────────┼──────────────────┤\n",
       "│<span style=\"color: #800080; text-decoration-color: #800080; font-weight: bold\"> 208 </span>│<span style=\"color: #800080; text-decoration-color: #800080; font-weight: bold\"> 2         </span>│<span style=\"color: #800080; text-decoration-color: #800080; font-weight: bold\"> Football,        </span>│<span style=\"color: #800080; text-decoration-color: #800080; font-weight: bold\"> 10          </span>│<span style=\"color: #800080; text-decoration-color: #800080; font-weight: bold\"> 1           </span>│<span style=\"color: #800080; text-decoration-color: #800080; font-weight: bold\"> 0        </span>│<span style=\"color: #800080; text-decoration-color: #800080; font-weight: bold\"> 0                </span>│<span style=\"color: #800080; text-decoration-color: #800080; font-weight: bold\"> 2025-06-09       </span>│\n",
       "│<span style=\"color: #800080; text-decoration-color: #800080; font-weight: bold\">     </span>│<span style=\"color: #800080; text-decoration-color: #800080; font-weight: bold\">           </span>│<span style=\"color: #800080; text-decoration-color: #800080; font-weight: bold\"> England, Premier </span>│<span style=\"color: #800080; text-decoration-color: #800080; font-weight: bold\">             </span>│<span style=\"color: #800080; text-decoration-color: #800080; font-weight: bold\">             </span>│<span style=\"color: #800080; text-decoration-color: #800080; font-weight: bold\">          </span>│<span style=\"color: #800080; text-decoration-color: #800080; font-weight: bold\">                  </span>│<span style=\"color: #800080; text-decoration-color: #800080; font-weight: bold\"> 23:47:11         </span>│\n",
       "│<span style=\"color: #800080; text-decoration-color: #800080; font-weight: bold\">     </span>│<span style=\"color: #800080; text-decoration-color: #800080; font-weight: bold\">           </span>│<span style=\"color: #800080; text-decoration-color: #800080; font-weight: bold\"> League, Round 10 </span>│<span style=\"color: #800080; text-decoration-color: #800080; font-weight: bold\">             </span>│<span style=\"color: #800080; text-decoration-color: #800080; font-weight: bold\">             </span>│<span style=\"color: #800080; text-decoration-color: #800080; font-weight: bold\">          </span>│<span style=\"color: #800080; text-decoration-color: #800080; font-weight: bold\">                  </span>│<span style=\"color: #800080; text-decoration-color: #800080; font-weight: bold\">                  </span>│\n",
       "╰─────┴───────────┴──────────────────┴─────────────┴─────────────┴──────────┴──────────────────┴──────────────────╯\n",
       "</pre>\n"
      ],
      "text/plain": [
       "\u001b[3m                                              Sample Data from stages                                              \u001b[0m\n",
       "╭─────┬───────────┬──────────────────┬─────────────┬─────────────┬──────────┬──────────────────┬──────────────────╮\n",
       "│\u001b[1m \u001b[0m\u001b[1mid \u001b[0m\u001b[1m \u001b[0m│\u001b[1m \u001b[0m\u001b[1mleague_id\u001b[0m\u001b[1m \u001b[0m│\u001b[1m \u001b[0m\u001b[1mname            \u001b[0m\u001b[1m \u001b[0m│\u001b[1m \u001b[0m\u001b[1mstage_order\u001b[0m\u001b[1m \u001b[0m│\u001b[1m \u001b[0m\u001b[1mcan_be_draw\u001b[0m\u001b[1m \u001b[0m│\u001b[1m \u001b[0m\u001b[1mtwo_legs\u001b[0m\u001b[1m \u001b[0m│\u001b[1m \u001b[0m\u001b[1mmust_have_winner\u001b[0m\u001b[1m \u001b[0m│\u001b[1m \u001b[0m\u001b[1mcreated_at      \u001b[0m\u001b[1m \u001b[0m│\n",
       "├─────┼───────────┼──────────────────┼─────────────┼─────────────┼──────────┼──────────────────┼──────────────────┤\n",
       "│\u001b[1;35m \u001b[0m\u001b[1;35m199\u001b[0m\u001b[1;35m \u001b[0m│\u001b[1;35m \u001b[0m\u001b[1;35m2        \u001b[0m\u001b[1;35m \u001b[0m│\u001b[1;35m \u001b[0m\u001b[1;35mFootball,       \u001b[0m\u001b[1;35m \u001b[0m│\u001b[1;35m \u001b[0m\u001b[1;35m1          \u001b[0m\u001b[1;35m \u001b[0m│\u001b[1;35m \u001b[0m\u001b[1;35m1          \u001b[0m\u001b[1;35m \u001b[0m│\u001b[1;35m \u001b[0m\u001b[1;35m0       \u001b[0m\u001b[1;35m \u001b[0m│\u001b[1;35m \u001b[0m\u001b[1;35m0               \u001b[0m\u001b[1;35m \u001b[0m│\u001b[1;35m \u001b[0m\u001b[1;35m2025-06-09      \u001b[0m\u001b[1;35m \u001b[0m│\n",
       "│\u001b[1;35m     \u001b[0m│\u001b[1;35m           \u001b[0m│\u001b[1;35m \u001b[0m\u001b[1;35mEngland, Premier\u001b[0m\u001b[1;35m \u001b[0m│\u001b[1;35m             \u001b[0m│\u001b[1;35m             \u001b[0m│\u001b[1;35m          \u001b[0m│\u001b[1;35m                  \u001b[0m│\u001b[1;35m \u001b[0m\u001b[1;35m23:46:24        \u001b[0m\u001b[1;35m \u001b[0m│\n",
       "│\u001b[1;35m     \u001b[0m│\u001b[1;35m           \u001b[0m│\u001b[1;35m \u001b[0m\u001b[1;35mLeague, Round 1 \u001b[0m\u001b[1;35m \u001b[0m│\u001b[1;35m             \u001b[0m│\u001b[1;35m             \u001b[0m│\u001b[1;35m          \u001b[0m│\u001b[1;35m                  \u001b[0m│\u001b[1;35m                  \u001b[0m│\n",
       "├─────┼───────────┼──────────────────┼─────────────┼─────────────┼──────────┼──────────────────┼──────────────────┤\n",
       "│\u001b[1;35m \u001b[0m\u001b[1;35m200\u001b[0m\u001b[1;35m \u001b[0m│\u001b[1;35m \u001b[0m\u001b[1;35m2        \u001b[0m\u001b[1;35m \u001b[0m│\u001b[1;35m \u001b[0m\u001b[1;35mFootball,       \u001b[0m\u001b[1;35m \u001b[0m│\u001b[1;35m \u001b[0m\u001b[1;35m2          \u001b[0m\u001b[1;35m \u001b[0m│\u001b[1;35m \u001b[0m\u001b[1;35m1          \u001b[0m\u001b[1;35m \u001b[0m│\u001b[1;35m \u001b[0m\u001b[1;35m0       \u001b[0m\u001b[1;35m \u001b[0m│\u001b[1;35m \u001b[0m\u001b[1;35m0               \u001b[0m\u001b[1;35m \u001b[0m│\u001b[1;35m \u001b[0m\u001b[1;35m2025-06-09      \u001b[0m\u001b[1;35m \u001b[0m│\n",
       "│\u001b[1;35m     \u001b[0m│\u001b[1;35m           \u001b[0m│\u001b[1;35m \u001b[0m\u001b[1;35mEngland, Premier\u001b[0m\u001b[1;35m \u001b[0m│\u001b[1;35m             \u001b[0m│\u001b[1;35m             \u001b[0m│\u001b[1;35m          \u001b[0m│\u001b[1;35m                  \u001b[0m│\u001b[1;35m \u001b[0m\u001b[1;35m23:46:29        \u001b[0m\u001b[1;35m \u001b[0m│\n",
       "│\u001b[1;35m     \u001b[0m│\u001b[1;35m           \u001b[0m│\u001b[1;35m \u001b[0m\u001b[1;35mLeague, Round 2 \u001b[0m\u001b[1;35m \u001b[0m│\u001b[1;35m             \u001b[0m│\u001b[1;35m             \u001b[0m│\u001b[1;35m          \u001b[0m│\u001b[1;35m                  \u001b[0m│\u001b[1;35m                  \u001b[0m│\n",
       "├─────┼───────────┼──────────────────┼─────────────┼─────────────┼──────────┼──────────────────┼──────────────────┤\n",
       "│\u001b[1;35m \u001b[0m\u001b[1;35m201\u001b[0m\u001b[1;35m \u001b[0m│\u001b[1;35m \u001b[0m\u001b[1;35m2        \u001b[0m\u001b[1;35m \u001b[0m│\u001b[1;35m \u001b[0m\u001b[1;35mFootball,       \u001b[0m\u001b[1;35m \u001b[0m│\u001b[1;35m \u001b[0m\u001b[1;35m3          \u001b[0m\u001b[1;35m \u001b[0m│\u001b[1;35m \u001b[0m\u001b[1;35m1          \u001b[0m\u001b[1;35m \u001b[0m│\u001b[1;35m \u001b[0m\u001b[1;35m0       \u001b[0m\u001b[1;35m \u001b[0m│\u001b[1;35m \u001b[0m\u001b[1;35m0               \u001b[0m\u001b[1;35m \u001b[0m│\u001b[1;35m \u001b[0m\u001b[1;35m2025-06-09      \u001b[0m\u001b[1;35m \u001b[0m│\n",
       "│\u001b[1;35m     \u001b[0m│\u001b[1;35m           \u001b[0m│\u001b[1;35m \u001b[0m\u001b[1;35mEngland, Premier\u001b[0m\u001b[1;35m \u001b[0m│\u001b[1;35m             \u001b[0m│\u001b[1;35m             \u001b[0m│\u001b[1;35m          \u001b[0m│\u001b[1;35m                  \u001b[0m│\u001b[1;35m \u001b[0m\u001b[1;35m23:46:32        \u001b[0m\u001b[1;35m \u001b[0m│\n",
       "│\u001b[1;35m     \u001b[0m│\u001b[1;35m           \u001b[0m│\u001b[1;35m \u001b[0m\u001b[1;35mLeague, Round 3 \u001b[0m\u001b[1;35m \u001b[0m│\u001b[1;35m             \u001b[0m│\u001b[1;35m             \u001b[0m│\u001b[1;35m          \u001b[0m│\u001b[1;35m                  \u001b[0m│\u001b[1;35m                  \u001b[0m│\n",
       "├─────┼───────────┼──────────────────┼─────────────┼─────────────┼──────────┼──────────────────┼──────────────────┤\n",
       "│\u001b[1;35m \u001b[0m\u001b[1;35m202\u001b[0m\u001b[1;35m \u001b[0m│\u001b[1;35m \u001b[0m\u001b[1;35m2        \u001b[0m\u001b[1;35m \u001b[0m│\u001b[1;35m \u001b[0m\u001b[1;35mFootball,       \u001b[0m\u001b[1;35m \u001b[0m│\u001b[1;35m \u001b[0m\u001b[1;35m4          \u001b[0m\u001b[1;35m \u001b[0m│\u001b[1;35m \u001b[0m\u001b[1;35m1          \u001b[0m\u001b[1;35m \u001b[0m│\u001b[1;35m \u001b[0m\u001b[1;35m0       \u001b[0m\u001b[1;35m \u001b[0m│\u001b[1;35m \u001b[0m\u001b[1;35m0               \u001b[0m\u001b[1;35m \u001b[0m│\u001b[1;35m \u001b[0m\u001b[1;35m2025-06-09      \u001b[0m\u001b[1;35m \u001b[0m│\n",
       "│\u001b[1;35m     \u001b[0m│\u001b[1;35m           \u001b[0m│\u001b[1;35m \u001b[0m\u001b[1;35mEngland, Premier\u001b[0m\u001b[1;35m \u001b[0m│\u001b[1;35m             \u001b[0m│\u001b[1;35m             \u001b[0m│\u001b[1;35m          \u001b[0m│\u001b[1;35m                  \u001b[0m│\u001b[1;35m \u001b[0m\u001b[1;35m23:46:35        \u001b[0m\u001b[1;35m \u001b[0m│\n",
       "│\u001b[1;35m     \u001b[0m│\u001b[1;35m           \u001b[0m│\u001b[1;35m \u001b[0m\u001b[1;35mLeague, Round 4 \u001b[0m\u001b[1;35m \u001b[0m│\u001b[1;35m             \u001b[0m│\u001b[1;35m             \u001b[0m│\u001b[1;35m          \u001b[0m│\u001b[1;35m                  \u001b[0m│\u001b[1;35m                  \u001b[0m│\n",
       "├─────┼───────────┼──────────────────┼─────────────┼─────────────┼──────────┼──────────────────┼──────────────────┤\n",
       "│\u001b[1;35m \u001b[0m\u001b[1;35m203\u001b[0m\u001b[1;35m \u001b[0m│\u001b[1;35m \u001b[0m\u001b[1;35m2        \u001b[0m\u001b[1;35m \u001b[0m│\u001b[1;35m \u001b[0m\u001b[1;35mFootball,       \u001b[0m\u001b[1;35m \u001b[0m│\u001b[1;35m \u001b[0m\u001b[1;35m5          \u001b[0m\u001b[1;35m \u001b[0m│\u001b[1;35m \u001b[0m\u001b[1;35m1          \u001b[0m\u001b[1;35m \u001b[0m│\u001b[1;35m \u001b[0m\u001b[1;35m0       \u001b[0m\u001b[1;35m \u001b[0m│\u001b[1;35m \u001b[0m\u001b[1;35m0               \u001b[0m\u001b[1;35m \u001b[0m│\u001b[1;35m \u001b[0m\u001b[1;35m2025-06-09      \u001b[0m\u001b[1;35m \u001b[0m│\n",
       "│\u001b[1;35m     \u001b[0m│\u001b[1;35m           \u001b[0m│\u001b[1;35m \u001b[0m\u001b[1;35mEngland, Premier\u001b[0m\u001b[1;35m \u001b[0m│\u001b[1;35m             \u001b[0m│\u001b[1;35m             \u001b[0m│\u001b[1;35m          \u001b[0m│\u001b[1;35m                  \u001b[0m│\u001b[1;35m \u001b[0m\u001b[1;35m23:46:39        \u001b[0m\u001b[1;35m \u001b[0m│\n",
       "│\u001b[1;35m     \u001b[0m│\u001b[1;35m           \u001b[0m│\u001b[1;35m \u001b[0m\u001b[1;35mLeague, Round 5 \u001b[0m\u001b[1;35m \u001b[0m│\u001b[1;35m             \u001b[0m│\u001b[1;35m             \u001b[0m│\u001b[1;35m          \u001b[0m│\u001b[1;35m                  \u001b[0m│\u001b[1;35m                  \u001b[0m│\n",
       "├─────┼───────────┼──────────────────┼─────────────┼─────────────┼──────────┼──────────────────┼──────────────────┤\n",
       "│\u001b[1;35m \u001b[0m\u001b[1;35m204\u001b[0m\u001b[1;35m \u001b[0m│\u001b[1;35m \u001b[0m\u001b[1;35m2        \u001b[0m\u001b[1;35m \u001b[0m│\u001b[1;35m \u001b[0m\u001b[1;35mFootball,       \u001b[0m\u001b[1;35m \u001b[0m│\u001b[1;35m \u001b[0m\u001b[1;35m6          \u001b[0m\u001b[1;35m \u001b[0m│\u001b[1;35m \u001b[0m\u001b[1;35m1          \u001b[0m\u001b[1;35m \u001b[0m│\u001b[1;35m \u001b[0m\u001b[1;35m0       \u001b[0m\u001b[1;35m \u001b[0m│\u001b[1;35m \u001b[0m\u001b[1;35m0               \u001b[0m\u001b[1;35m \u001b[0m│\u001b[1;35m \u001b[0m\u001b[1;35m2025-06-09      \u001b[0m\u001b[1;35m \u001b[0m│\n",
       "│\u001b[1;35m     \u001b[0m│\u001b[1;35m           \u001b[0m│\u001b[1;35m \u001b[0m\u001b[1;35mEngland, Premier\u001b[0m\u001b[1;35m \u001b[0m│\u001b[1;35m             \u001b[0m│\u001b[1;35m             \u001b[0m│\u001b[1;35m          \u001b[0m│\u001b[1;35m                  \u001b[0m│\u001b[1;35m \u001b[0m\u001b[1;35m23:46:42        \u001b[0m\u001b[1;35m \u001b[0m│\n",
       "│\u001b[1;35m     \u001b[0m│\u001b[1;35m           \u001b[0m│\u001b[1;35m \u001b[0m\u001b[1;35mLeague, Round 6 \u001b[0m\u001b[1;35m \u001b[0m│\u001b[1;35m             \u001b[0m│\u001b[1;35m             \u001b[0m│\u001b[1;35m          \u001b[0m│\u001b[1;35m                  \u001b[0m│\u001b[1;35m                  \u001b[0m│\n",
       "├─────┼───────────┼──────────────────┼─────────────┼─────────────┼──────────┼──────────────────┼──────────────────┤\n",
       "│\u001b[1;35m \u001b[0m\u001b[1;35m205\u001b[0m\u001b[1;35m \u001b[0m│\u001b[1;35m \u001b[0m\u001b[1;35m2        \u001b[0m\u001b[1;35m \u001b[0m│\u001b[1;35m \u001b[0m\u001b[1;35mFootball,       \u001b[0m\u001b[1;35m \u001b[0m│\u001b[1;35m \u001b[0m\u001b[1;35m7          \u001b[0m\u001b[1;35m \u001b[0m│\u001b[1;35m \u001b[0m\u001b[1;35m1          \u001b[0m\u001b[1;35m \u001b[0m│\u001b[1;35m \u001b[0m\u001b[1;35m0       \u001b[0m\u001b[1;35m \u001b[0m│\u001b[1;35m \u001b[0m\u001b[1;35m0               \u001b[0m\u001b[1;35m \u001b[0m│\u001b[1;35m \u001b[0m\u001b[1;35m2025-06-09      \u001b[0m\u001b[1;35m \u001b[0m│\n",
       "│\u001b[1;35m     \u001b[0m│\u001b[1;35m           \u001b[0m│\u001b[1;35m \u001b[0m\u001b[1;35mEngland, Premier\u001b[0m\u001b[1;35m \u001b[0m│\u001b[1;35m             \u001b[0m│\u001b[1;35m             \u001b[0m│\u001b[1;35m          \u001b[0m│\u001b[1;35m                  \u001b[0m│\u001b[1;35m \u001b[0m\u001b[1;35m23:46:46        \u001b[0m\u001b[1;35m \u001b[0m│\n",
       "│\u001b[1;35m     \u001b[0m│\u001b[1;35m           \u001b[0m│\u001b[1;35m \u001b[0m\u001b[1;35mLeague, Round 7 \u001b[0m\u001b[1;35m \u001b[0m│\u001b[1;35m             \u001b[0m│\u001b[1;35m             \u001b[0m│\u001b[1;35m          \u001b[0m│\u001b[1;35m                  \u001b[0m│\u001b[1;35m                  \u001b[0m│\n",
       "├─────┼───────────┼──────────────────┼─────────────┼─────────────┼──────────┼──────────────────┼──────────────────┤\n",
       "│\u001b[1;35m \u001b[0m\u001b[1;35m206\u001b[0m\u001b[1;35m \u001b[0m│\u001b[1;35m \u001b[0m\u001b[1;35m2        \u001b[0m\u001b[1;35m \u001b[0m│\u001b[1;35m \u001b[0m\u001b[1;35mFootball,       \u001b[0m\u001b[1;35m \u001b[0m│\u001b[1;35m \u001b[0m\u001b[1;35m8          \u001b[0m\u001b[1;35m \u001b[0m│\u001b[1;35m \u001b[0m\u001b[1;35m1          \u001b[0m\u001b[1;35m \u001b[0m│\u001b[1;35m \u001b[0m\u001b[1;35m0       \u001b[0m\u001b[1;35m \u001b[0m│\u001b[1;35m \u001b[0m\u001b[1;35m0               \u001b[0m\u001b[1;35m \u001b[0m│\u001b[1;35m \u001b[0m\u001b[1;35m2025-06-09      \u001b[0m\u001b[1;35m \u001b[0m│\n",
       "│\u001b[1;35m     \u001b[0m│\u001b[1;35m           \u001b[0m│\u001b[1;35m \u001b[0m\u001b[1;35mEngland, Premier\u001b[0m\u001b[1;35m \u001b[0m│\u001b[1;35m             \u001b[0m│\u001b[1;35m             \u001b[0m│\u001b[1;35m          \u001b[0m│\u001b[1;35m                  \u001b[0m│\u001b[1;35m \u001b[0m\u001b[1;35m23:46:52        \u001b[0m\u001b[1;35m \u001b[0m│\n",
       "│\u001b[1;35m     \u001b[0m│\u001b[1;35m           \u001b[0m│\u001b[1;35m \u001b[0m\u001b[1;35mLeague, Round 8 \u001b[0m\u001b[1;35m \u001b[0m│\u001b[1;35m             \u001b[0m│\u001b[1;35m             \u001b[0m│\u001b[1;35m          \u001b[0m│\u001b[1;35m                  \u001b[0m│\u001b[1;35m                  \u001b[0m│\n",
       "├─────┼───────────┼──────────────────┼─────────────┼─────────────┼──────────┼──────────────────┼──────────────────┤\n",
       "│\u001b[1;35m \u001b[0m\u001b[1;35m207\u001b[0m\u001b[1;35m \u001b[0m│\u001b[1;35m \u001b[0m\u001b[1;35m2        \u001b[0m\u001b[1;35m \u001b[0m│\u001b[1;35m \u001b[0m\u001b[1;35mFootball,       \u001b[0m\u001b[1;35m \u001b[0m│\u001b[1;35m \u001b[0m\u001b[1;35m9          \u001b[0m\u001b[1;35m \u001b[0m│\u001b[1;35m \u001b[0m\u001b[1;35m1          \u001b[0m\u001b[1;35m \u001b[0m│\u001b[1;35m \u001b[0m\u001b[1;35m0       \u001b[0m\u001b[1;35m \u001b[0m│\u001b[1;35m \u001b[0m\u001b[1;35m0               \u001b[0m\u001b[1;35m \u001b[0m│\u001b[1;35m \u001b[0m\u001b[1;35m2025-06-09      \u001b[0m\u001b[1;35m \u001b[0m│\n",
       "│\u001b[1;35m     \u001b[0m│\u001b[1;35m           \u001b[0m│\u001b[1;35m \u001b[0m\u001b[1;35mEngland, Premier\u001b[0m\u001b[1;35m \u001b[0m│\u001b[1;35m             \u001b[0m│\u001b[1;35m             \u001b[0m│\u001b[1;35m          \u001b[0m│\u001b[1;35m                  \u001b[0m│\u001b[1;35m \u001b[0m\u001b[1;35m23:47:03        \u001b[0m\u001b[1;35m \u001b[0m│\n",
       "│\u001b[1;35m     \u001b[0m│\u001b[1;35m           \u001b[0m│\u001b[1;35m \u001b[0m\u001b[1;35mLeague, Round 9 \u001b[0m\u001b[1;35m \u001b[0m│\u001b[1;35m             \u001b[0m│\u001b[1;35m             \u001b[0m│\u001b[1;35m          \u001b[0m│\u001b[1;35m                  \u001b[0m│\u001b[1;35m                  \u001b[0m│\n",
       "├─────┼───────────┼──────────────────┼─────────────┼─────────────┼──────────┼──────────────────┼──────────────────┤\n",
       "│\u001b[1;35m \u001b[0m\u001b[1;35m208\u001b[0m\u001b[1;35m \u001b[0m│\u001b[1;35m \u001b[0m\u001b[1;35m2        \u001b[0m\u001b[1;35m \u001b[0m│\u001b[1;35m \u001b[0m\u001b[1;35mFootball,       \u001b[0m\u001b[1;35m \u001b[0m│\u001b[1;35m \u001b[0m\u001b[1;35m10         \u001b[0m\u001b[1;35m \u001b[0m│\u001b[1;35m \u001b[0m\u001b[1;35m1          \u001b[0m\u001b[1;35m \u001b[0m│\u001b[1;35m \u001b[0m\u001b[1;35m0       \u001b[0m\u001b[1;35m \u001b[0m│\u001b[1;35m \u001b[0m\u001b[1;35m0               \u001b[0m\u001b[1;35m \u001b[0m│\u001b[1;35m \u001b[0m\u001b[1;35m2025-06-09      \u001b[0m\u001b[1;35m \u001b[0m│\n",
       "│\u001b[1;35m     \u001b[0m│\u001b[1;35m           \u001b[0m│\u001b[1;35m \u001b[0m\u001b[1;35mEngland, Premier\u001b[0m\u001b[1;35m \u001b[0m│\u001b[1;35m             \u001b[0m│\u001b[1;35m             \u001b[0m│\u001b[1;35m          \u001b[0m│\u001b[1;35m                  \u001b[0m│\u001b[1;35m \u001b[0m\u001b[1;35m23:47:11        \u001b[0m\u001b[1;35m \u001b[0m│\n",
       "│\u001b[1;35m     \u001b[0m│\u001b[1;35m           \u001b[0m│\u001b[1;35m \u001b[0m\u001b[1;35mLeague, Round 10\u001b[0m\u001b[1;35m \u001b[0m│\u001b[1;35m             \u001b[0m│\u001b[1;35m             \u001b[0m│\u001b[1;35m          \u001b[0m│\u001b[1;35m                  \u001b[0m│\u001b[1;35m                  \u001b[0m│\n",
       "╰─────┴───────────┴──────────────────┴─────────────┴─────────────┴──────────┴──────────────────┴──────────────────╯\n"
      ]
     },
     "metadata": {},
     "output_type": "display_data"
    },
    {
     "data": {
      "text/html": [
       "<pre style=\"white-space:pre;overflow-x:auto;line-height:normal;font-family:Menlo,'DejaVu Sans Mono',consolas,'Courier New',monospace\"><span style=\"color: #008080; text-decoration-color: #008080; font-weight: bold\">🔌 Connection closed.</span>\n",
       "\n",
       "</pre>\n"
      ],
      "text/plain": [
       "\u001b[1;36m🔌 Connection closed.\u001b[0m\n",
       "\n"
      ]
     },
     "metadata": {},
     "output_type": "display_data"
    },
    {
     "data": {
      "text/html": [
       "<pre style=\"white-space:pre;overflow-x:auto;line-height:normal;font-family:Menlo,'DejaVu Sans Mono',consolas,'Courier New',monospace\"><span style=\"color: #000080; text-decoration-color: #000080\">╭─────────────────────</span> Table Info <span style=\"color: #000080; text-decoration-color: #000080\">─────────────────────╮</span>\n",
       "<span style=\"color: #000080; text-decoration-color: #000080\">│ 📋 </span><span style=\"color: #008000; text-decoration-color: #008000; font-weight: bold\">Table:</span><span style=\"color: #000080; text-decoration-color: #000080\"> leagues                                    │</span>\n",
       "<span style=\"color: #000080; text-decoration-color: #000080\">│ 🔢 </span><span style=\"color: #008080; text-decoration-color: #008080; font-weight: bold\">Columns:</span><span style=\"color: #000080; text-decoration-color: #000080\"> id, name, country, logo_path, created_at │</span>\n",
       "<span style=\"color: #000080; text-decoration-color: #000080\">│ 📊 </span><span style=\"color: #800080; text-decoration-color: #800080; font-weight: bold\">Total Rows:</span><span style=\"color: #000080; text-decoration-color: #000080\"> 13                                    │</span>\n",
       "<span style=\"color: #000080; text-decoration-color: #000080\">╰──────────────────────────────────────────────────────╯</span>\n",
       "</pre>\n"
      ],
      "text/plain": [
       "\u001b[34m╭─\u001b[0m\u001b[34m────────────────────\u001b[0m Table Info \u001b[34m────────────────────\u001b[0m\u001b[34m─╮\u001b[0m\n",
       "\u001b[34m│\u001b[0m\u001b[34m \u001b[0m\u001b[34m📋 \u001b[0m\u001b[1;32mTable:\u001b[0m\u001b[34m leagues\u001b[0m\u001b[34m                                   \u001b[0m\u001b[34m \u001b[0m\u001b[34m│\u001b[0m\n",
       "\u001b[34m│\u001b[0m\u001b[34m \u001b[0m\u001b[34m🔢 \u001b[0m\u001b[1;36mColumns:\u001b[0m\u001b[34m id, name, country, logo_path, created_at\u001b[0m\u001b[34m \u001b[0m\u001b[34m│\u001b[0m\n",
       "\u001b[34m│\u001b[0m\u001b[34m \u001b[0m\u001b[34m📊 \u001b[0m\u001b[1;35mTotal Rows:\u001b[0m\u001b[34m 13\u001b[0m\u001b[34m                                   \u001b[0m\u001b[34m \u001b[0m\u001b[34m│\u001b[0m\n",
       "\u001b[34m╰──────────────────────────────────────────────────────╯\u001b[0m\n"
      ]
     },
     "metadata": {},
     "output_type": "display_data"
    },
    {
     "data": {
      "text/html": [
       "<pre style=\"white-space:pre;overflow-x:auto;line-height:normal;font-family:Menlo,'DejaVu Sans Mono',consolas,'Courier New',monospace\"><span style=\"font-style: italic\">                                            Sample Data from leagues                                            </span>\n",
       "╭────┬─────────────────────────┬─────────┬───────────────────────────────────────────────┬─────────────────────╮\n",
       "│<span style=\"font-weight: bold\"> id </span>│<span style=\"font-weight: bold\"> name                    </span>│<span style=\"font-weight: bold\"> country </span>│<span style=\"font-weight: bold\"> logo_path                                     </span>│<span style=\"font-weight: bold\"> created_at          </span>│\n",
       "├────┼─────────────────────────┼─────────┼───────────────────────────────────────────────┼─────────────────────┤\n",
       "│<span style=\"color: #800080; text-decoration-color: #800080; font-weight: bold\"> 2  </span>│<span style=\"color: #800080; text-decoration-color: #800080; font-weight: bold\"> Premier League          </span>│<span style=\"color: #800080; text-decoration-color: #800080; font-weight: bold\"> England </span>│<span style=\"color: #800080; text-decoration-color: #800080; font-weight: bold\"> assets/leagues\\PremierLeague.jpeg             </span>│<span style=\"color: #800080; text-decoration-color: #800080; font-weight: bold\"> 2025-06-06 02:11:32 </span>│\n",
       "├────┼─────────────────────────┼─────────┼───────────────────────────────────────────────┼─────────────────────┤\n",
       "│<span style=\"color: #800080; text-decoration-color: #800080; font-weight: bold\"> 3  </span>│<span style=\"color: #800080; text-decoration-color: #800080; font-weight: bold\"> LaLiga                  </span>│<span style=\"color: #800080; text-decoration-color: #800080; font-weight: bold\"> Spain   </span>│<span style=\"color: #800080; text-decoration-color: #800080; font-weight: bold\"> static/uploads\\LaLiga.jpeg                    </span>│<span style=\"color: #800080; text-decoration-color: #800080; font-weight: bold\"> 2025-06-06 02:12:31 </span>│\n",
       "├────┼─────────────────────────┼─────────┼───────────────────────────────────────────────┼─────────────────────┤\n",
       "│<span style=\"color: #800080; text-decoration-color: #800080; font-weight: bold\"> 4  </span>│<span style=\"color: #800080; text-decoration-color: #800080; font-weight: bold\"> Seria A                 </span>│<span style=\"color: #800080; text-decoration-color: #800080; font-weight: bold\"> Italy   </span>│<span style=\"color: #800080; text-decoration-color: #800080; font-weight: bold\"> static/uploads\\SERIA A.png                    </span>│<span style=\"color: #800080; text-decoration-color: #800080; font-weight: bold\"> 2025-06-06 02:12:57 </span>│\n",
       "├────┼─────────────────────────┼─────────┼───────────────────────────────────────────────┼─────────────────────┤\n",
       "│<span style=\"color: #800080; text-decoration-color: #800080; font-weight: bold\"> 5  </span>│<span style=\"color: #800080; text-decoration-color: #800080; font-weight: bold\"> Copa del Rey            </span>│<span style=\"color: #800080; text-decoration-color: #800080; font-weight: bold\"> Spain   </span>│<span style=\"color: #800080; text-decoration-color: #800080; font-weight: bold\"> static/uploads\\Copa_Del_Rey_Official_Logo.png </span>│<span style=\"color: #800080; text-decoration-color: #800080; font-weight: bold\"> 2025-06-06 02:15:00 </span>│\n",
       "├────┼─────────────────────────┼─────────┼───────────────────────────────────────────────┼─────────────────────┤\n",
       "│<span style=\"color: #800080; text-decoration-color: #800080; font-weight: bold\"> 6  </span>│<span style=\"color: #800080; text-decoration-color: #800080; font-weight: bold\"> UEFA Champions League   </span>│<span style=\"color: #800080; text-decoration-color: #800080; font-weight: bold\"> Europe  </span>│<span style=\"color: #800080; text-decoration-color: #800080; font-weight: bold\"> static/uploads\\UEFA CHAMPIONS LEAGUE.png      </span>│<span style=\"color: #800080; text-decoration-color: #800080; font-weight: bold\"> 2025-06-06 02:16:04 </span>│\n",
       "├────┼─────────────────────────┼─────────┼───────────────────────────────────────────────┼─────────────────────┤\n",
       "│<span style=\"color: #800080; text-decoration-color: #800080; font-weight: bold\"> 7  </span>│<span style=\"color: #800080; text-decoration-color: #800080; font-weight: bold\"> Club World Championship </span>│<span style=\"color: #800080; text-decoration-color: #800080; font-weight: bold\"> World   </span>│<span style=\"color: #800080; text-decoration-color: #800080; font-weight: bold\"> assets/leagues\\WorldChamptionClub.jpg         </span>│<span style=\"color: #800080; text-decoration-color: #800080; font-weight: bold\"> 2025-06-06 02:16:58 </span>│\n",
       "├────┼─────────────────────────┼─────────┼───────────────────────────────────────────────┼─────────────────────┤\n",
       "│<span style=\"color: #800080; text-decoration-color: #800080; font-weight: bold\"> 9  </span>│<span style=\"color: #800080; text-decoration-color: #800080; font-weight: bold\"> Supercopa de España     </span>│<span style=\"color: #800080; text-decoration-color: #800080; font-weight: bold\"> Spain   </span>│<span style=\"color: #800080; text-decoration-color: #800080; font-weight: bold\"> logos\\league_9.png                            </span>│<span style=\"color: #800080; text-decoration-color: #800080; font-weight: bold\"> 2025-06-06 02:56:08 </span>│\n",
       "├────┼─────────────────────────┼─────────┼───────────────────────────────────────────────┼─────────────────────┤\n",
       "│<span style=\"color: #800080; text-decoration-color: #800080; font-weight: bold\"> 13 </span>│<span style=\"color: #800080; text-decoration-color: #800080; font-weight: bold\"> UEFA Nations League     </span>│<span style=\"color: #800080; text-decoration-color: #800080; font-weight: bold\"> Europe  </span>│<span style=\"color: #800080; text-decoration-color: #800080; font-weight: bold\"> assets/leagues\\UefaNationsLeage.jpeg          </span>│<span style=\"color: #800080; text-decoration-color: #800080; font-weight: bold\"> 2025-06-06 12:01:09 </span>│\n",
       "├────┼─────────────────────────┼─────────┼───────────────────────────────────────────────┼─────────────────────┤\n",
       "│<span style=\"color: #800080; text-decoration-color: #800080; font-weight: bold\"> 15 </span>│<span style=\"color: #800080; text-decoration-color: #800080; font-weight: bold\"> Egyptian Premier League </span>│<span style=\"color: #800080; text-decoration-color: #800080; font-weight: bold\"> Egypt   </span>│<span style=\"color: #800080; text-decoration-color: #800080; font-weight: bold\"> assets\\leagues\\EgyptPremierLeague.jpeg        </span>│<span style=\"color: #800080; text-decoration-color: #800080; font-weight: bold\"> 2025-06-06 13:34:31 </span>│\n",
       "├────┼─────────────────────────┼─────────┼───────────────────────────────────────────────┼─────────────────────┤\n",
       "│<span style=\"color: #800080; text-decoration-color: #800080; font-weight: bold\"> 16 </span>│<span style=\"color: #800080; text-decoration-color: #800080; font-weight: bold\"> CAF Champions League    </span>│<span style=\"color: #800080; text-decoration-color: #800080; font-weight: bold\"> Africa  </span>│<span style=\"color: #800080; text-decoration-color: #800080; font-weight: bold\"> assets/leagues\\CAF_Champions_League.png       </span>│<span style=\"color: #800080; text-decoration-color: #800080; font-weight: bold\"> 2025-06-06 13:47:47 </span>│\n",
       "╰────┴─────────────────────────┴─────────┴───────────────────────────────────────────────┴─────────────────────╯\n",
       "</pre>\n"
      ],
      "text/plain": [
       "\u001b[3m                                            Sample Data from leagues                                            \u001b[0m\n",
       "╭────┬─────────────────────────┬─────────┬───────────────────────────────────────────────┬─────────────────────╮\n",
       "│\u001b[1m \u001b[0m\u001b[1mid\u001b[0m\u001b[1m \u001b[0m│\u001b[1m \u001b[0m\u001b[1mname                   \u001b[0m\u001b[1m \u001b[0m│\u001b[1m \u001b[0m\u001b[1mcountry\u001b[0m\u001b[1m \u001b[0m│\u001b[1m \u001b[0m\u001b[1mlogo_path                                    \u001b[0m\u001b[1m \u001b[0m│\u001b[1m \u001b[0m\u001b[1mcreated_at         \u001b[0m\u001b[1m \u001b[0m│\n",
       "├────┼─────────────────────────┼─────────┼───────────────────────────────────────────────┼─────────────────────┤\n",
       "│\u001b[1;35m \u001b[0m\u001b[1;35m2 \u001b[0m\u001b[1;35m \u001b[0m│\u001b[1;35m \u001b[0m\u001b[1;35mPremier League         \u001b[0m\u001b[1;35m \u001b[0m│\u001b[1;35m \u001b[0m\u001b[1;35mEngland\u001b[0m\u001b[1;35m \u001b[0m│\u001b[1;35m \u001b[0m\u001b[1;35massets/leagues\\PremierLeague.jpeg            \u001b[0m\u001b[1;35m \u001b[0m│\u001b[1;35m \u001b[0m\u001b[1;35m2025-06-06 02:11:32\u001b[0m\u001b[1;35m \u001b[0m│\n",
       "├────┼─────────────────────────┼─────────┼───────────────────────────────────────────────┼─────────────────────┤\n",
       "│\u001b[1;35m \u001b[0m\u001b[1;35m3 \u001b[0m\u001b[1;35m \u001b[0m│\u001b[1;35m \u001b[0m\u001b[1;35mLaLiga                 \u001b[0m\u001b[1;35m \u001b[0m│\u001b[1;35m \u001b[0m\u001b[1;35mSpain  \u001b[0m\u001b[1;35m \u001b[0m│\u001b[1;35m \u001b[0m\u001b[1;35mstatic/uploads\\LaLiga.jpeg                   \u001b[0m\u001b[1;35m \u001b[0m│\u001b[1;35m \u001b[0m\u001b[1;35m2025-06-06 02:12:31\u001b[0m\u001b[1;35m \u001b[0m│\n",
       "├────┼─────────────────────────┼─────────┼───────────────────────────────────────────────┼─────────────────────┤\n",
       "│\u001b[1;35m \u001b[0m\u001b[1;35m4 \u001b[0m\u001b[1;35m \u001b[0m│\u001b[1;35m \u001b[0m\u001b[1;35mSeria A                \u001b[0m\u001b[1;35m \u001b[0m│\u001b[1;35m \u001b[0m\u001b[1;35mItaly  \u001b[0m\u001b[1;35m \u001b[0m│\u001b[1;35m \u001b[0m\u001b[1;35mstatic/uploads\\SERIA A.png                   \u001b[0m\u001b[1;35m \u001b[0m│\u001b[1;35m \u001b[0m\u001b[1;35m2025-06-06 02:12:57\u001b[0m\u001b[1;35m \u001b[0m│\n",
       "├────┼─────────────────────────┼─────────┼───────────────────────────────────────────────┼─────────────────────┤\n",
       "│\u001b[1;35m \u001b[0m\u001b[1;35m5 \u001b[0m\u001b[1;35m \u001b[0m│\u001b[1;35m \u001b[0m\u001b[1;35mCopa del Rey           \u001b[0m\u001b[1;35m \u001b[0m│\u001b[1;35m \u001b[0m\u001b[1;35mSpain  \u001b[0m\u001b[1;35m \u001b[0m│\u001b[1;35m \u001b[0m\u001b[1;35mstatic/uploads\\Copa_Del_Rey_Official_Logo.png\u001b[0m\u001b[1;35m \u001b[0m│\u001b[1;35m \u001b[0m\u001b[1;35m2025-06-06 02:15:00\u001b[0m\u001b[1;35m \u001b[0m│\n",
       "├────┼─────────────────────────┼─────────┼───────────────────────────────────────────────┼─────────────────────┤\n",
       "│\u001b[1;35m \u001b[0m\u001b[1;35m6 \u001b[0m\u001b[1;35m \u001b[0m│\u001b[1;35m \u001b[0m\u001b[1;35mUEFA Champions League  \u001b[0m\u001b[1;35m \u001b[0m│\u001b[1;35m \u001b[0m\u001b[1;35mEurope \u001b[0m\u001b[1;35m \u001b[0m│\u001b[1;35m \u001b[0m\u001b[1;35mstatic/uploads\\UEFA CHAMPIONS LEAGUE.png     \u001b[0m\u001b[1;35m \u001b[0m│\u001b[1;35m \u001b[0m\u001b[1;35m2025-06-06 02:16:04\u001b[0m\u001b[1;35m \u001b[0m│\n",
       "├────┼─────────────────────────┼─────────┼───────────────────────────────────────────────┼─────────────────────┤\n",
       "│\u001b[1;35m \u001b[0m\u001b[1;35m7 \u001b[0m\u001b[1;35m \u001b[0m│\u001b[1;35m \u001b[0m\u001b[1;35mClub World Championship\u001b[0m\u001b[1;35m \u001b[0m│\u001b[1;35m \u001b[0m\u001b[1;35mWorld  \u001b[0m\u001b[1;35m \u001b[0m│\u001b[1;35m \u001b[0m\u001b[1;35massets/leagues\\WorldChamptionClub.jpg        \u001b[0m\u001b[1;35m \u001b[0m│\u001b[1;35m \u001b[0m\u001b[1;35m2025-06-06 02:16:58\u001b[0m\u001b[1;35m \u001b[0m│\n",
       "├────┼─────────────────────────┼─────────┼───────────────────────────────────────────────┼─────────────────────┤\n",
       "│\u001b[1;35m \u001b[0m\u001b[1;35m9 \u001b[0m\u001b[1;35m \u001b[0m│\u001b[1;35m \u001b[0m\u001b[1;35mSupercopa de España    \u001b[0m\u001b[1;35m \u001b[0m│\u001b[1;35m \u001b[0m\u001b[1;35mSpain  \u001b[0m\u001b[1;35m \u001b[0m│\u001b[1;35m \u001b[0m\u001b[1;35mlogos\\league_9.png                           \u001b[0m\u001b[1;35m \u001b[0m│\u001b[1;35m \u001b[0m\u001b[1;35m2025-06-06 02:56:08\u001b[0m\u001b[1;35m \u001b[0m│\n",
       "├────┼─────────────────────────┼─────────┼───────────────────────────────────────────────┼─────────────────────┤\n",
       "│\u001b[1;35m \u001b[0m\u001b[1;35m13\u001b[0m\u001b[1;35m \u001b[0m│\u001b[1;35m \u001b[0m\u001b[1;35mUEFA Nations League    \u001b[0m\u001b[1;35m \u001b[0m│\u001b[1;35m \u001b[0m\u001b[1;35mEurope \u001b[0m\u001b[1;35m \u001b[0m│\u001b[1;35m \u001b[0m\u001b[1;35massets/leagues\\UefaNationsLeage.jpeg         \u001b[0m\u001b[1;35m \u001b[0m│\u001b[1;35m \u001b[0m\u001b[1;35m2025-06-06 12:01:09\u001b[0m\u001b[1;35m \u001b[0m│\n",
       "├────┼─────────────────────────┼─────────┼───────────────────────────────────────────────┼─────────────────────┤\n",
       "│\u001b[1;35m \u001b[0m\u001b[1;35m15\u001b[0m\u001b[1;35m \u001b[0m│\u001b[1;35m \u001b[0m\u001b[1;35mEgyptian Premier League\u001b[0m\u001b[1;35m \u001b[0m│\u001b[1;35m \u001b[0m\u001b[1;35mEgypt  \u001b[0m\u001b[1;35m \u001b[0m│\u001b[1;35m \u001b[0m\u001b[1;35massets\\leagues\\EgyptPremierLeague.jpeg       \u001b[0m\u001b[1;35m \u001b[0m│\u001b[1;35m \u001b[0m\u001b[1;35m2025-06-06 13:34:31\u001b[0m\u001b[1;35m \u001b[0m│\n",
       "├────┼─────────────────────────┼─────────┼───────────────────────────────────────────────┼─────────────────────┤\n",
       "│\u001b[1;35m \u001b[0m\u001b[1;35m16\u001b[0m\u001b[1;35m \u001b[0m│\u001b[1;35m \u001b[0m\u001b[1;35mCAF Champions League   \u001b[0m\u001b[1;35m \u001b[0m│\u001b[1;35m \u001b[0m\u001b[1;35mAfrica \u001b[0m\u001b[1;35m \u001b[0m│\u001b[1;35m \u001b[0m\u001b[1;35massets/leagues\\CAF_Champions_League.png      \u001b[0m\u001b[1;35m \u001b[0m│\u001b[1;35m \u001b[0m\u001b[1;35m2025-06-06 13:47:47\u001b[0m\u001b[1;35m \u001b[0m│\n",
       "╰────┴─────────────────────────┴─────────┴───────────────────────────────────────────────┴─────────────────────╯\n"
      ]
     },
     "metadata": {},
     "output_type": "display_data"
    },
    {
     "data": {
      "text/html": [
       "<pre style=\"white-space:pre;overflow-x:auto;line-height:normal;font-family:Menlo,'DejaVu Sans Mono',consolas,'Courier New',monospace\"><span style=\"color: #008080; text-decoration-color: #008080; font-weight: bold\">🔌 Connection closed.</span>\n",
       "\n",
       "</pre>\n"
      ],
      "text/plain": [
       "\u001b[1;36m🔌 Connection closed.\u001b[0m\n",
       "\n"
      ]
     },
     "metadata": {},
     "output_type": "display_data"
    },
    {
     "data": {
      "text/html": [
       "<pre style=\"white-space:pre;overflow-x:auto;line-height:normal;font-family:Menlo,'DejaVu Sans Mono',consolas,'Courier New',monospace\"><span style=\"color: #000080; text-decoration-color: #000080\">╭────────────────────────────────────</span> Table Info <span style=\"color: #000080; text-decoration-color: #000080\">────────────────────────────────────╮</span>\n",
       "<span style=\"color: #000080; text-decoration-color: #000080\">│ 📋 </span><span style=\"color: #008000; text-decoration-color: #008000; font-weight: bold\">Table:</span><span style=\"color: #000080; text-decoration-color: #000080\"> teams                                                                    │</span>\n",
       "<span style=\"color: #000080; text-decoration-color: #000080\">│ 🔢 </span><span style=\"color: #008080; text-decoration-color: #008080; font-weight: bold\">Columns:</span><span style=\"color: #000080; text-decoration-color: #000080\"> id, name, logo_path, league_id, created_at, nationality, Official_name │</span>\n",
       "<span style=\"color: #000080; text-decoration-color: #000080\">│ 📊 </span><span style=\"color: #800080; text-decoration-color: #800080; font-weight: bold\">Total Rows:</span><span style=\"color: #000080; text-decoration-color: #000080\"> 57                                                                  │</span>\n",
       "<span style=\"color: #000080; text-decoration-color: #000080\">╰────────────────────────────────────────────────────────────────────────────────────╯</span>\n",
       "</pre>\n"
      ],
      "text/plain": [
       "\u001b[34m╭─\u001b[0m\u001b[34m───────────────────────────────────\u001b[0m Table Info \u001b[34m───────────────────────────────────\u001b[0m\u001b[34m─╮\u001b[0m\n",
       "\u001b[34m│\u001b[0m\u001b[34m \u001b[0m\u001b[34m📋 \u001b[0m\u001b[1;32mTable:\u001b[0m\u001b[34m teams\u001b[0m\u001b[34m                                                                   \u001b[0m\u001b[34m \u001b[0m\u001b[34m│\u001b[0m\n",
       "\u001b[34m│\u001b[0m\u001b[34m \u001b[0m\u001b[34m🔢 \u001b[0m\u001b[1;36mColumns:\u001b[0m\u001b[34m id, name, logo_path, league_id, created_at, nationality, Official_name\u001b[0m\u001b[34m \u001b[0m\u001b[34m│\u001b[0m\n",
       "\u001b[34m│\u001b[0m\u001b[34m \u001b[0m\u001b[34m📊 \u001b[0m\u001b[1;35mTotal Rows:\u001b[0m\u001b[34m 57\u001b[0m\u001b[34m                                                                 \u001b[0m\u001b[34m \u001b[0m\u001b[34m│\u001b[0m\n",
       "\u001b[34m╰────────────────────────────────────────────────────────────────────────────────────╯\u001b[0m\n"
      ]
     },
     "metadata": {},
     "output_type": "display_data"
    },
    {
     "data": {
      "text/html": [
       "<pre style=\"white-space:pre;overflow-x:auto;line-height:normal;font-family:Menlo,'DejaVu Sans Mono',consolas,'Courier New',monospace\"><span style=\"font-style: italic\">                                              Sample Data from teams                                               </span>\n",
       "╭────┬────────────────┬─────────────────────┬───────────┬─────────────────────┬─────────────┬─────────────────────╮\n",
       "│<span style=\"font-weight: bold\"> id </span>│<span style=\"font-weight: bold\"> name           </span>│<span style=\"font-weight: bold\"> logo_path           </span>│<span style=\"font-weight: bold\"> league_id </span>│<span style=\"font-weight: bold\"> created_at          </span>│<span style=\"font-weight: bold\"> nationality </span>│<span style=\"font-weight: bold\"> Official_name       </span>│\n",
       "├────┼────────────────┼─────────────────────┼───────────┼─────────────────────┼─────────────┼─────────────────────┤\n",
       "│<span style=\"color: #800080; text-decoration-color: #800080; font-weight: bold\"> 65 </span>│<span style=\"color: #800080; text-decoration-color: #800080; font-weight: bold\"> FC Barcelona   </span>│<span style=\"color: #800080; text-decoration-color: #800080; font-weight: bold\"> assets/teams/Barce… </span>│<span style=\"color: #800080; text-decoration-color: #800080; font-weight: bold\"> 3         </span>│<span style=\"color: #800080; text-decoration-color: #800080; font-weight: bold\"> 2025-06-09 16:45:08 </span>│<span style=\"color: #800080; text-decoration-color: #800080; font-weight: bold\"> Spain       </span>│<span style=\"color: #800080; text-decoration-color: #800080; font-weight: bold\"> FC Barcelona        </span>│\n",
       "├────┼────────────────┼─────────────────────┼───────────┼─────────────────────┼─────────────┼─────────────────────┤\n",
       "│<span style=\"color: #800080; text-decoration-color: #800080; font-weight: bold\"> 66 </span>│<span style=\"color: #800080; text-decoration-color: #800080; font-weight: bold\"> Athletic Club  </span>│<span style=\"color: #800080; text-decoration-color: #800080; font-weight: bold\"> assets/teams/Athle… </span>│<span style=\"color: #800080; text-decoration-color: #800080; font-weight: bold\"> 3         </span>│<span style=\"color: #800080; text-decoration-color: #800080; font-weight: bold\"> 2025-06-09 16:51:11 </span>│<span style=\"color: #800080; text-decoration-color: #800080; font-weight: bold\"> Spain       </span>│<span style=\"color: #800080; text-decoration-color: #800080; font-weight: bold\"> Athletic Club       </span>│\n",
       "│<span style=\"color: #800080; text-decoration-color: #800080; font-weight: bold\">    </span>│<span style=\"color: #800080; text-decoration-color: #800080; font-weight: bold\">                </span>│<span style=\"color: #800080; text-decoration-color: #800080; font-weight: bold\"> Club.png            </span>│<span style=\"color: #800080; text-decoration-color: #800080; font-weight: bold\">           </span>│<span style=\"color: #800080; text-decoration-color: #800080; font-weight: bold\">                     </span>│<span style=\"color: #800080; text-decoration-color: #800080; font-weight: bold\">             </span>│<span style=\"color: #800080; text-decoration-color: #800080; font-weight: bold\">                     </span>│\n",
       "├────┼────────────────┼─────────────────────┼───────────┼─────────────────────┼─────────────┼─────────────────────┤\n",
       "│<span style=\"color: #800080; text-decoration-color: #800080; font-weight: bold\"> 67 </span>│<span style=\"color: #800080; text-decoration-color: #800080; font-weight: bold\"> Atl. Madrid    </span>│<span style=\"color: #800080; text-decoration-color: #800080; font-weight: bold\"> assets/teams/atlet… </span>│<span style=\"color: #800080; text-decoration-color: #800080; font-weight: bold\"> 3         </span>│<span style=\"color: #800080; text-decoration-color: #800080; font-weight: bold\"> 2025-06-09 16:52:30 </span>│<span style=\"color: #800080; text-decoration-color: #800080; font-weight: bold\"> Spain       </span>│<span style=\"color: #800080; text-decoration-color: #800080; font-weight: bold\"> Club Atlético de    </span>│\n",
       "│<span style=\"color: #800080; text-decoration-color: #800080; font-weight: bold\">    </span>│<span style=\"color: #800080; text-decoration-color: #800080; font-weight: bold\">                </span>│<span style=\"color: #800080; text-decoration-color: #800080; font-weight: bold\">                     </span>│<span style=\"color: #800080; text-decoration-color: #800080; font-weight: bold\">           </span>│<span style=\"color: #800080; text-decoration-color: #800080; font-weight: bold\">                     </span>│<span style=\"color: #800080; text-decoration-color: #800080; font-weight: bold\">             </span>│<span style=\"color: #800080; text-decoration-color: #800080; font-weight: bold\"> Madrid              </span>│\n",
       "├────┼────────────────┼─────────────────────┼───────────┼─────────────────────┼─────────────┼─────────────────────┤\n",
       "│<span style=\"color: #800080; text-decoration-color: #800080; font-weight: bold\"> 68 </span>│<span style=\"color: #800080; text-decoration-color: #800080; font-weight: bold\"> Osasona        </span>│<span style=\"color: #800080; text-decoration-color: #800080; font-weight: bold\"> assets/teams/CA     </span>│<span style=\"color: #800080; text-decoration-color: #800080; font-weight: bold\"> 3         </span>│<span style=\"color: #800080; text-decoration-color: #800080; font-weight: bold\"> 2025-06-09 16:54:03 </span>│<span style=\"color: #800080; text-decoration-color: #800080; font-weight: bold\"> Spain       </span>│<span style=\"color: #800080; text-decoration-color: #800080; font-weight: bold\"> CA Osasuna          </span>│\n",
       "│<span style=\"color: #800080; text-decoration-color: #800080; font-weight: bold\">    </span>│<span style=\"color: #800080; text-decoration-color: #800080; font-weight: bold\">                </span>│<span style=\"color: #800080; text-decoration-color: #800080; font-weight: bold\"> Osasuna.png         </span>│<span style=\"color: #800080; text-decoration-color: #800080; font-weight: bold\">           </span>│<span style=\"color: #800080; text-decoration-color: #800080; font-weight: bold\">                     </span>│<span style=\"color: #800080; text-decoration-color: #800080; font-weight: bold\">             </span>│<span style=\"color: #800080; text-decoration-color: #800080; font-weight: bold\">                     </span>│\n",
       "├────┼────────────────┼─────────────────────┼───────────┼─────────────────────┼─────────────┼─────────────────────┤\n",
       "│<span style=\"color: #800080; text-decoration-color: #800080; font-weight: bold\"> 69 </span>│<span style=\"color: #800080; text-decoration-color: #800080; font-weight: bold\"> Espanyol       </span>│<span style=\"color: #800080; text-decoration-color: #800080; font-weight: bold\"> assets/teams/RCD    </span>│<span style=\"color: #800080; text-decoration-color: #800080; font-weight: bold\"> 3         </span>│<span style=\"color: #800080; text-decoration-color: #800080; font-weight: bold\"> 2025-06-09 16:54:39 </span>│<span style=\"color: #800080; text-decoration-color: #800080; font-weight: bold\"> Spain       </span>│<span style=\"color: #800080; text-decoration-color: #800080; font-weight: bold\"> RCD Espanyol de     </span>│\n",
       "│<span style=\"color: #800080; text-decoration-color: #800080; font-weight: bold\">    </span>│<span style=\"color: #800080; text-decoration-color: #800080; font-weight: bold\">                </span>│<span style=\"color: #800080; text-decoration-color: #800080; font-weight: bold\"> Espanyol.png        </span>│<span style=\"color: #800080; text-decoration-color: #800080; font-weight: bold\">           </span>│<span style=\"color: #800080; text-decoration-color: #800080; font-weight: bold\">                     </span>│<span style=\"color: #800080; text-decoration-color: #800080; font-weight: bold\">             </span>│<span style=\"color: #800080; text-decoration-color: #800080; font-weight: bold\"> Barcelona           </span>│\n",
       "├────┼────────────────┼─────────────────────┼───────────┼─────────────────────┼─────────────┼─────────────────────┤\n",
       "│<span style=\"color: #800080; text-decoration-color: #800080; font-weight: bold\"> 70 </span>│<span style=\"color: #800080; text-decoration-color: #800080; font-weight: bold\"> Getafe         </span>│<span style=\"color: #800080; text-decoration-color: #800080; font-weight: bold\"> assets/teams/Getafe </span>│<span style=\"color: #800080; text-decoration-color: #800080; font-weight: bold\"> 3         </span>│<span style=\"color: #800080; text-decoration-color: #800080; font-weight: bold\"> 2025-06-09 16:55:26 </span>│<span style=\"color: #800080; text-decoration-color: #800080; font-weight: bold\"> Spain       </span>│<span style=\"color: #800080; text-decoration-color: #800080; font-weight: bold\"> Getafe CF           </span>│\n",
       "│<span style=\"color: #800080; text-decoration-color: #800080; font-weight: bold\">    </span>│<span style=\"color: #800080; text-decoration-color: #800080; font-weight: bold\">                </span>│<span style=\"color: #800080; text-decoration-color: #800080; font-weight: bold\"> CF.png              </span>│<span style=\"color: #800080; text-decoration-color: #800080; font-weight: bold\">           </span>│<span style=\"color: #800080; text-decoration-color: #800080; font-weight: bold\">                     </span>│<span style=\"color: #800080; text-decoration-color: #800080; font-weight: bold\">             </span>│<span style=\"color: #800080; text-decoration-color: #800080; font-weight: bold\">                     </span>│\n",
       "├────┼────────────────┼─────────────────────┼───────────┼─────────────────────┼─────────────┼─────────────────────┤\n",
       "│<span style=\"color: #800080; text-decoration-color: #800080; font-weight: bold\"> 71 </span>│<span style=\"color: #800080; text-decoration-color: #800080; font-weight: bold\"> Real Madrid    </span>│<span style=\"color: #800080; text-decoration-color: #800080; font-weight: bold\"> assets/teams/86.png </span>│<span style=\"color: #800080; text-decoration-color: #800080; font-weight: bold\"> 3         </span>│<span style=\"color: #800080; text-decoration-color: #800080; font-weight: bold\"> 2025-06-09 16:56:05 </span>│<span style=\"color: #800080; text-decoration-color: #800080; font-weight: bold\"> Spain       </span>│<span style=\"color: #800080; text-decoration-color: #800080; font-weight: bold\"> Real Madrid CF      </span>│\n",
       "├────┼────────────────┼─────────────────────┼───────────┼─────────────────────┼─────────────┼─────────────────────┤\n",
       "│<span style=\"color: #800080; text-decoration-color: #800080; font-weight: bold\"> 72 </span>│<span style=\"color: #800080; text-decoration-color: #800080; font-weight: bold\"> Rayo Vallecano </span>│<span style=\"color: #800080; text-decoration-color: #800080; font-weight: bold\"> assets/teams/RayoV… </span>│<span style=\"color: #800080; text-decoration-color: #800080; font-weight: bold\"> 3         </span>│<span style=\"color: #800080; text-decoration-color: #800080; font-weight: bold\"> 2025-06-09 16:57:14 </span>│<span style=\"color: #800080; text-decoration-color: #800080; font-weight: bold\"> Spain       </span>│<span style=\"color: #800080; text-decoration-color: #800080; font-weight: bold\"> Rayo Vallecano de   </span>│\n",
       "│<span style=\"color: #800080; text-decoration-color: #800080; font-weight: bold\">    </span>│<span style=\"color: #800080; text-decoration-color: #800080; font-weight: bold\">                </span>│<span style=\"color: #800080; text-decoration-color: #800080; font-weight: bold\">                     </span>│<span style=\"color: #800080; text-decoration-color: #800080; font-weight: bold\">           </span>│<span style=\"color: #800080; text-decoration-color: #800080; font-weight: bold\">                     </span>│<span style=\"color: #800080; text-decoration-color: #800080; font-weight: bold\">             </span>│<span style=\"color: #800080; text-decoration-color: #800080; font-weight: bold\"> Madrid              </span>│\n",
       "├────┼────────────────┼─────────────────────┼───────────┼─────────────────────┼─────────────┼─────────────────────┤\n",
       "│<span style=\"color: #800080; text-decoration-color: #800080; font-weight: bold\"> 73 </span>│<span style=\"color: #800080; text-decoration-color: #800080; font-weight: bold\"> RCD Mallorca   </span>│<span style=\"color: #800080; text-decoration-color: #800080; font-weight: bold\"> assets/teams/RCD    </span>│<span style=\"color: #800080; text-decoration-color: #800080; font-weight: bold\"> 3         </span>│<span style=\"color: #800080; text-decoration-color: #800080; font-weight: bold\"> 2025-06-09 16:58:02 </span>│<span style=\"color: #800080; text-decoration-color: #800080; font-weight: bold\"> Spain       </span>│<span style=\"color: #800080; text-decoration-color: #800080; font-weight: bold\"> RCD Mallorca        </span>│\n",
       "│<span style=\"color: #800080; text-decoration-color: #800080; font-weight: bold\">    </span>│<span style=\"color: #800080; text-decoration-color: #800080; font-weight: bold\">                </span>│<span style=\"color: #800080; text-decoration-color: #800080; font-weight: bold\"> Mallorca.png        </span>│<span style=\"color: #800080; text-decoration-color: #800080; font-weight: bold\">           </span>│<span style=\"color: #800080; text-decoration-color: #800080; font-weight: bold\">                     </span>│<span style=\"color: #800080; text-decoration-color: #800080; font-weight: bold\">             </span>│<span style=\"color: #800080; text-decoration-color: #800080; font-weight: bold\">                     </span>│\n",
       "├────┼────────────────┼─────────────────────┼───────────┼─────────────────────┼─────────────┼─────────────────────┤\n",
       "│<span style=\"color: #800080; text-decoration-color: #800080; font-weight: bold\"> 74 </span>│<span style=\"color: #800080; text-decoration-color: #800080; font-weight: bold\"> Real Betis     </span>│<span style=\"color: #800080; text-decoration-color: #800080; font-weight: bold\"> assets/teams/RealB… </span>│<span style=\"color: #800080; text-decoration-color: #800080; font-weight: bold\"> 3         </span>│<span style=\"color: #800080; text-decoration-color: #800080; font-weight: bold\"> 2025-06-09 16:58:43 </span>│<span style=\"color: #800080; text-decoration-color: #800080; font-weight: bold\"> Spain       </span>│<span style=\"color: #800080; text-decoration-color: #800080; font-weight: bold\"> Real Betis Balompié </span>│\n",
       "╰────┴────────────────┴─────────────────────┴───────────┴─────────────────────┴─────────────┴─────────────────────╯\n",
       "</pre>\n"
      ],
      "text/plain": [
       "\u001b[3m                                              Sample Data from teams                                               \u001b[0m\n",
       "╭────┬────────────────┬─────────────────────┬───────────┬─────────────────────┬─────────────┬─────────────────────╮\n",
       "│\u001b[1m \u001b[0m\u001b[1mid\u001b[0m\u001b[1m \u001b[0m│\u001b[1m \u001b[0m\u001b[1mname          \u001b[0m\u001b[1m \u001b[0m│\u001b[1m \u001b[0m\u001b[1mlogo_path          \u001b[0m\u001b[1m \u001b[0m│\u001b[1m \u001b[0m\u001b[1mleague_id\u001b[0m\u001b[1m \u001b[0m│\u001b[1m \u001b[0m\u001b[1mcreated_at         \u001b[0m\u001b[1m \u001b[0m│\u001b[1m \u001b[0m\u001b[1mnationality\u001b[0m\u001b[1m \u001b[0m│\u001b[1m \u001b[0m\u001b[1mOfficial_name      \u001b[0m\u001b[1m \u001b[0m│\n",
       "├────┼────────────────┼─────────────────────┼───────────┼─────────────────────┼─────────────┼─────────────────────┤\n",
       "│\u001b[1;35m \u001b[0m\u001b[1;35m65\u001b[0m\u001b[1;35m \u001b[0m│\u001b[1;35m \u001b[0m\u001b[1;35mFC Barcelona  \u001b[0m\u001b[1;35m \u001b[0m│\u001b[1;35m \u001b[0m\u001b[1;35massets/teams/Barce…\u001b[0m\u001b[1;35m \u001b[0m│\u001b[1;35m \u001b[0m\u001b[1;35m3        \u001b[0m\u001b[1;35m \u001b[0m│\u001b[1;35m \u001b[0m\u001b[1;35m2025-06-09 16:45:08\u001b[0m\u001b[1;35m \u001b[0m│\u001b[1;35m \u001b[0m\u001b[1;35mSpain      \u001b[0m\u001b[1;35m \u001b[0m│\u001b[1;35m \u001b[0m\u001b[1;35mFC Barcelona       \u001b[0m\u001b[1;35m \u001b[0m│\n",
       "├────┼────────────────┼─────────────────────┼───────────┼─────────────────────┼─────────────┼─────────────────────┤\n",
       "│\u001b[1;35m \u001b[0m\u001b[1;35m66\u001b[0m\u001b[1;35m \u001b[0m│\u001b[1;35m \u001b[0m\u001b[1;35mAthletic Club \u001b[0m\u001b[1;35m \u001b[0m│\u001b[1;35m \u001b[0m\u001b[1;35massets/teams/Athle…\u001b[0m\u001b[1;35m \u001b[0m│\u001b[1;35m \u001b[0m\u001b[1;35m3        \u001b[0m\u001b[1;35m \u001b[0m│\u001b[1;35m \u001b[0m\u001b[1;35m2025-06-09 16:51:11\u001b[0m\u001b[1;35m \u001b[0m│\u001b[1;35m \u001b[0m\u001b[1;35mSpain      \u001b[0m\u001b[1;35m \u001b[0m│\u001b[1;35m \u001b[0m\u001b[1;35mAthletic Club      \u001b[0m\u001b[1;35m \u001b[0m│\n",
       "│\u001b[1;35m    \u001b[0m│\u001b[1;35m                \u001b[0m│\u001b[1;35m \u001b[0m\u001b[1;35mClub.png           \u001b[0m\u001b[1;35m \u001b[0m│\u001b[1;35m           \u001b[0m│\u001b[1;35m                     \u001b[0m│\u001b[1;35m             \u001b[0m│\u001b[1;35m                     \u001b[0m│\n",
       "├────┼────────────────┼─────────────────────┼───────────┼─────────────────────┼─────────────┼─────────────────────┤\n",
       "│\u001b[1;35m \u001b[0m\u001b[1;35m67\u001b[0m\u001b[1;35m \u001b[0m│\u001b[1;35m \u001b[0m\u001b[1;35mAtl. Madrid   \u001b[0m\u001b[1;35m \u001b[0m│\u001b[1;35m \u001b[0m\u001b[1;35massets/teams/atlet…\u001b[0m\u001b[1;35m \u001b[0m│\u001b[1;35m \u001b[0m\u001b[1;35m3        \u001b[0m\u001b[1;35m \u001b[0m│\u001b[1;35m \u001b[0m\u001b[1;35m2025-06-09 16:52:30\u001b[0m\u001b[1;35m \u001b[0m│\u001b[1;35m \u001b[0m\u001b[1;35mSpain      \u001b[0m\u001b[1;35m \u001b[0m│\u001b[1;35m \u001b[0m\u001b[1;35mClub Atlético de   \u001b[0m\u001b[1;35m \u001b[0m│\n",
       "│\u001b[1;35m    \u001b[0m│\u001b[1;35m                \u001b[0m│\u001b[1;35m                     \u001b[0m│\u001b[1;35m           \u001b[0m│\u001b[1;35m                     \u001b[0m│\u001b[1;35m             \u001b[0m│\u001b[1;35m \u001b[0m\u001b[1;35mMadrid             \u001b[0m\u001b[1;35m \u001b[0m│\n",
       "├────┼────────────────┼─────────────────────┼───────────┼─────────────────────┼─────────────┼─────────────────────┤\n",
       "│\u001b[1;35m \u001b[0m\u001b[1;35m68\u001b[0m\u001b[1;35m \u001b[0m│\u001b[1;35m \u001b[0m\u001b[1;35mOsasona       \u001b[0m\u001b[1;35m \u001b[0m│\u001b[1;35m \u001b[0m\u001b[1;35massets/teams/CA    \u001b[0m\u001b[1;35m \u001b[0m│\u001b[1;35m \u001b[0m\u001b[1;35m3        \u001b[0m\u001b[1;35m \u001b[0m│\u001b[1;35m \u001b[0m\u001b[1;35m2025-06-09 16:54:03\u001b[0m\u001b[1;35m \u001b[0m│\u001b[1;35m \u001b[0m\u001b[1;35mSpain      \u001b[0m\u001b[1;35m \u001b[0m│\u001b[1;35m \u001b[0m\u001b[1;35mCA Osasuna         \u001b[0m\u001b[1;35m \u001b[0m│\n",
       "│\u001b[1;35m    \u001b[0m│\u001b[1;35m                \u001b[0m│\u001b[1;35m \u001b[0m\u001b[1;35mOsasuna.png        \u001b[0m\u001b[1;35m \u001b[0m│\u001b[1;35m           \u001b[0m│\u001b[1;35m                     \u001b[0m│\u001b[1;35m             \u001b[0m│\u001b[1;35m                     \u001b[0m│\n",
       "├────┼────────────────┼─────────────────────┼───────────┼─────────────────────┼─────────────┼─────────────────────┤\n",
       "│\u001b[1;35m \u001b[0m\u001b[1;35m69\u001b[0m\u001b[1;35m \u001b[0m│\u001b[1;35m \u001b[0m\u001b[1;35mEspanyol      \u001b[0m\u001b[1;35m \u001b[0m│\u001b[1;35m \u001b[0m\u001b[1;35massets/teams/RCD   \u001b[0m\u001b[1;35m \u001b[0m│\u001b[1;35m \u001b[0m\u001b[1;35m3        \u001b[0m\u001b[1;35m \u001b[0m│\u001b[1;35m \u001b[0m\u001b[1;35m2025-06-09 16:54:39\u001b[0m\u001b[1;35m \u001b[0m│\u001b[1;35m \u001b[0m\u001b[1;35mSpain      \u001b[0m\u001b[1;35m \u001b[0m│\u001b[1;35m \u001b[0m\u001b[1;35mRCD Espanyol de    \u001b[0m\u001b[1;35m \u001b[0m│\n",
       "│\u001b[1;35m    \u001b[0m│\u001b[1;35m                \u001b[0m│\u001b[1;35m \u001b[0m\u001b[1;35mEspanyol.png       \u001b[0m\u001b[1;35m \u001b[0m│\u001b[1;35m           \u001b[0m│\u001b[1;35m                     \u001b[0m│\u001b[1;35m             \u001b[0m│\u001b[1;35m \u001b[0m\u001b[1;35mBarcelona          \u001b[0m\u001b[1;35m \u001b[0m│\n",
       "├────┼────────────────┼─────────────────────┼───────────┼─────────────────────┼─────────────┼─────────────────────┤\n",
       "│\u001b[1;35m \u001b[0m\u001b[1;35m70\u001b[0m\u001b[1;35m \u001b[0m│\u001b[1;35m \u001b[0m\u001b[1;35mGetafe        \u001b[0m\u001b[1;35m \u001b[0m│\u001b[1;35m \u001b[0m\u001b[1;35massets/teams/Getafe\u001b[0m\u001b[1;35m \u001b[0m│\u001b[1;35m \u001b[0m\u001b[1;35m3        \u001b[0m\u001b[1;35m \u001b[0m│\u001b[1;35m \u001b[0m\u001b[1;35m2025-06-09 16:55:26\u001b[0m\u001b[1;35m \u001b[0m│\u001b[1;35m \u001b[0m\u001b[1;35mSpain      \u001b[0m\u001b[1;35m \u001b[0m│\u001b[1;35m \u001b[0m\u001b[1;35mGetafe CF          \u001b[0m\u001b[1;35m \u001b[0m│\n",
       "│\u001b[1;35m    \u001b[0m│\u001b[1;35m                \u001b[0m│\u001b[1;35m \u001b[0m\u001b[1;35mCF.png             \u001b[0m\u001b[1;35m \u001b[0m│\u001b[1;35m           \u001b[0m│\u001b[1;35m                     \u001b[0m│\u001b[1;35m             \u001b[0m│\u001b[1;35m                     \u001b[0m│\n",
       "├────┼────────────────┼─────────────────────┼───────────┼─────────────────────┼─────────────┼─────────────────────┤\n",
       "│\u001b[1;35m \u001b[0m\u001b[1;35m71\u001b[0m\u001b[1;35m \u001b[0m│\u001b[1;35m \u001b[0m\u001b[1;35mReal Madrid   \u001b[0m\u001b[1;35m \u001b[0m│\u001b[1;35m \u001b[0m\u001b[1;35massets/teams/86.png\u001b[0m\u001b[1;35m \u001b[0m│\u001b[1;35m \u001b[0m\u001b[1;35m3        \u001b[0m\u001b[1;35m \u001b[0m│\u001b[1;35m \u001b[0m\u001b[1;35m2025-06-09 16:56:05\u001b[0m\u001b[1;35m \u001b[0m│\u001b[1;35m \u001b[0m\u001b[1;35mSpain      \u001b[0m\u001b[1;35m \u001b[0m│\u001b[1;35m \u001b[0m\u001b[1;35mReal Madrid CF     \u001b[0m\u001b[1;35m \u001b[0m│\n",
       "├────┼────────────────┼─────────────────────┼───────────┼─────────────────────┼─────────────┼─────────────────────┤\n",
       "│\u001b[1;35m \u001b[0m\u001b[1;35m72\u001b[0m\u001b[1;35m \u001b[0m│\u001b[1;35m \u001b[0m\u001b[1;35mRayo Vallecano\u001b[0m\u001b[1;35m \u001b[0m│\u001b[1;35m \u001b[0m\u001b[1;35massets/teams/RayoV…\u001b[0m\u001b[1;35m \u001b[0m│\u001b[1;35m \u001b[0m\u001b[1;35m3        \u001b[0m\u001b[1;35m \u001b[0m│\u001b[1;35m \u001b[0m\u001b[1;35m2025-06-09 16:57:14\u001b[0m\u001b[1;35m \u001b[0m│\u001b[1;35m \u001b[0m\u001b[1;35mSpain      \u001b[0m\u001b[1;35m \u001b[0m│\u001b[1;35m \u001b[0m\u001b[1;35mRayo Vallecano de  \u001b[0m\u001b[1;35m \u001b[0m│\n",
       "│\u001b[1;35m    \u001b[0m│\u001b[1;35m                \u001b[0m│\u001b[1;35m                     \u001b[0m│\u001b[1;35m           \u001b[0m│\u001b[1;35m                     \u001b[0m│\u001b[1;35m             \u001b[0m│\u001b[1;35m \u001b[0m\u001b[1;35mMadrid             \u001b[0m\u001b[1;35m \u001b[0m│\n",
       "├────┼────────────────┼─────────────────────┼───────────┼─────────────────────┼─────────────┼─────────────────────┤\n",
       "│\u001b[1;35m \u001b[0m\u001b[1;35m73\u001b[0m\u001b[1;35m \u001b[0m│\u001b[1;35m \u001b[0m\u001b[1;35mRCD Mallorca  \u001b[0m\u001b[1;35m \u001b[0m│\u001b[1;35m \u001b[0m\u001b[1;35massets/teams/RCD   \u001b[0m\u001b[1;35m \u001b[0m│\u001b[1;35m \u001b[0m\u001b[1;35m3        \u001b[0m\u001b[1;35m \u001b[0m│\u001b[1;35m \u001b[0m\u001b[1;35m2025-06-09 16:58:02\u001b[0m\u001b[1;35m \u001b[0m│\u001b[1;35m \u001b[0m\u001b[1;35mSpain      \u001b[0m\u001b[1;35m \u001b[0m│\u001b[1;35m \u001b[0m\u001b[1;35mRCD Mallorca       \u001b[0m\u001b[1;35m \u001b[0m│\n",
       "│\u001b[1;35m    \u001b[0m│\u001b[1;35m                \u001b[0m│\u001b[1;35m \u001b[0m\u001b[1;35mMallorca.png       \u001b[0m\u001b[1;35m \u001b[0m│\u001b[1;35m           \u001b[0m│\u001b[1;35m                     \u001b[0m│\u001b[1;35m             \u001b[0m│\u001b[1;35m                     \u001b[0m│\n",
       "├────┼────────────────┼─────────────────────┼───────────┼─────────────────────┼─────────────┼─────────────────────┤\n",
       "│\u001b[1;35m \u001b[0m\u001b[1;35m74\u001b[0m\u001b[1;35m \u001b[0m│\u001b[1;35m \u001b[0m\u001b[1;35mReal Betis    \u001b[0m\u001b[1;35m \u001b[0m│\u001b[1;35m \u001b[0m\u001b[1;35massets/teams/RealB…\u001b[0m\u001b[1;35m \u001b[0m│\u001b[1;35m \u001b[0m\u001b[1;35m3        \u001b[0m\u001b[1;35m \u001b[0m│\u001b[1;35m \u001b[0m\u001b[1;35m2025-06-09 16:58:43\u001b[0m\u001b[1;35m \u001b[0m│\u001b[1;35m \u001b[0m\u001b[1;35mSpain      \u001b[0m\u001b[1;35m \u001b[0m│\u001b[1;35m \u001b[0m\u001b[1;35mReal Betis Balompié\u001b[0m\u001b[1;35m \u001b[0m│\n",
       "╰────┴────────────────┴─────────────────────┴───────────┴─────────────────────┴─────────────┴─────────────────────╯\n"
      ]
     },
     "metadata": {},
     "output_type": "display_data"
    },
    {
     "data": {
      "text/html": [
       "<pre style=\"white-space:pre;overflow-x:auto;line-height:normal;font-family:Menlo,'DejaVu Sans Mono',consolas,'Courier New',monospace\"><span style=\"color: #008080; text-decoration-color: #008080; font-weight: bold\">🔌 Connection closed.</span>\n",
       "\n",
       "</pre>\n"
      ],
      "text/plain": [
       "\u001b[1;36m🔌 Connection closed.\u001b[0m\n",
       "\n"
      ]
     },
     "metadata": {},
     "output_type": "display_data"
    }
   ],
   "source": [
    "\n",
    "table_info(\"predictions\")\n",
    "table_info(\"stages\")\n",
    "table_info(\"leagues\")\n",
    "table_info(\"teams\")"
   ]
  },
  {
   "cell_type": "markdown",
   "id": "78cf4ea9",
   "metadata": {},
   "source": [
    "# Real Data"
   ]
  },
  {
   "cell_type": "code",
   "execution_count": 57,
   "id": "7ce1cb39",
   "metadata": {},
   "outputs": [
    {
     "name": "stdout",
     "output_type": "stream",
     "text": [
      "Available Leagues:\n",
      "1. Premier League (England)\n",
      "2. Ligue 1 (France)\n",
      "3. Bundesliga (Germany)\n",
      "4. Serie A (Italy)\n",
      "5. Eredivisie (Netherlands)\n",
      "6. Primeira Liga (Portugal)\n",
      "7. Primera Division (Spain)\n",
      "Fetching teams for Premier League...\n",
      "\n",
      "Team Logos Dictionary:\n",
      "Arsenal FC: https://crests.football-data.org/57.png\n",
      "Aston Villa FC: https://crests.football-data.org/58.png\n",
      "Chelsea FC: https://crests.football-data.org/61.png\n",
      "Everton FC: https://crests.football-data.org/62.png\n",
      "Fulham FC: https://crests.football-data.org/63.png\n",
      "Liverpool FC: https://crests.football-data.org/64.png\n",
      "Manchester City FC: https://crests.football-data.org/65.png\n",
      "Manchester United FC: https://crests.football-data.org/66.png\n",
      "Newcastle United FC: https://crests.football-data.org/67.png\n",
      "Tottenham Hotspur FC: https://crests.football-data.org/73.png\n",
      "Wolverhampton Wanderers FC: https://crests.football-data.org/76.png\n",
      "Leicester City FC: https://crests.football-data.org/338.png\n",
      "Southampton FC: https://crests.football-data.org/340.png\n",
      "Ipswich Town FC: https://crests.football-data.org/349.png\n",
      "Nottingham Forest FC: https://crests.football-data.org/351.png\n",
      "Crystal Palace FC: https://crests.football-data.org/354.png\n",
      "Brighton & Hove Albion FC: https://crests.football-data.org/397.png\n",
      "Brentford FC: https://crests.football-data.org/402.png\n",
      "West Ham United FC: https://crests.football-data.org/563.png\n",
      "AFC Bournemouth: https://crests.football-data.org/bournemouth.png\n"
     ]
    }
   ],
   "source": [
    "import os\n",
    "import requests\n",
    "\n",
    "# Constants\n",
    "API_TOKEN = '4c936cda044a4c2eaa3ed158b90e66d3'  # Replace with your actual API key\n",
    "BASE_URL = 'https://api.football-data.org/v4'\n",
    "HEADERS = {'X-Auth-Token': API_TOKEN}\n",
    "LOGO_DOWNLOAD_PATH = r'D:\\Football_Prediction_Game\\assets\\clubs\\Team'\n",
    "\n",
    "# Ensure the logo directory exists\n",
    "os.makedirs(LOGO_DOWNLOAD_PATH, exist_ok=True)\n",
    "\n",
    "def get_leagues():\n",
    "    \"\"\"Fetches a list of top-tier football leagues.\"\"\"\n",
    "    url = f'{BASE_URL}/competitions'\n",
    "    response = requests.get(url, headers=HEADERS)\n",
    "    if response.status_code == 200:\n",
    "        data = response.json()\n",
    "        # Only return popular leagues\n",
    "        popular_league_codes = ['PL', 'PD', 'BL1', 'SA', 'FL1', 'DED', 'PPL']\n",
    "        leagues = [comp for comp in data['competitions'] if comp['code'] in popular_league_codes]\n",
    "        return leagues\n",
    "    else:\n",
    "        print(f\"Error fetching leagues: {response.status_code} - {response.text}\")\n",
    "        return []\n",
    "\n",
    "\n",
    "def get_teams(league_id):\n",
    "    \"\"\"Fetches teams for a given league ID.\"\"\"\n",
    "    url = f'{BASE_URL}/competitions/{league_id}/teams?season=2024'\n",
    "    response = requests.get(url, headers=HEADERS)\n",
    "    if response.status_code == 200:\n",
    "        data = response.json()\n",
    "        return data['teams']\n",
    "    else:\n",
    "        print(f\"Error fetching teams: {response.status_code}\")\n",
    "        return []\n",
    "\n",
    "def download_logo(team_name, logo_url):\n",
    "    \"\"\"Downloads the team's logo to the specified directory.\"\"\"\n",
    "    try:\n",
    "        response = requests.get(logo_url, stream=True)\n",
    "        if response.status_code == 200:\n",
    "            # Sanitize team name for filename\n",
    "            filename = f\"{team_name.replace(' ', '_').replace('/', '_')}.png\"\n",
    "            filepath = os.path.join(LOGO_DOWNLOAD_PATH, filename)\n",
    "            with open(filepath, 'wb') as f:\n",
    "                for chunk in response.iter_content(1024):\n",
    "                    f.write(chunk)\n",
    "            print(f\"Downloaded logo for {team_name}\")\n",
    "        else:\n",
    "            print(f\"Failed to download logo for {team_name}: {response.status_code}\")\n",
    "    except Exception as e:\n",
    "        print(f\"Error downloading logo for {team_name}: {e}\")\n",
    "\n",
    "def main():\n",
    "    leagues = get_leagues()\n",
    "    if not leagues:\n",
    "        print(\"No leagues available.\")\n",
    "        return\n",
    "\n",
    "    # Display leagues\n",
    "    print(\"Available Leagues:\")\n",
    "    for idx, league in enumerate(leagues, start=1):\n",
    "        print(f\"{idx}. {league['name']} ({league['area']['name']})\")\n",
    "\n",
    "    # User selects a league\n",
    "    try:\n",
    "        choice = int(input(\"Select a league by number: \"))\n",
    "        if 1 <= choice <= len(leagues):\n",
    "            selected_league = leagues[choice - 1]\n",
    "            print(f\"Fetching teams for {selected_league['name']}...\")\n",
    "            teams = get_teams(selected_league['id'])\n",
    "            if teams:\n",
    "                teams_dict = {}\n",
    "                for team in teams:\n",
    "                    team_name = team['name']\n",
    "                    logo_url = team.get('crest')  # use 'crest' instead of 'crestUrl' in v4\n",
    "                    teams_dict[team_name] = logo_url\n",
    "                print(\"\\nTeam Logos Dictionary:\")\n",
    "                for name, url in teams_dict.items():\n",
    "                    print(f\"{name}: {url}\")\n",
    "                return teams_dict\n",
    "            else:\n",
    "                print(\"No teams found for this league.\")\n",
    "        else:\n",
    "            print(\"Invalid selection.\")\n",
    "    except ValueError:\n",
    "        print(\"Please enter a valid number.\")\n",
    "\n",
    "\n",
    "if __name__ == \"__main__\":\n",
    "    main()\n"
   ]
  },
  {
   "cell_type": "code",
   "execution_count": 64,
   "id": "6be9d861",
   "metadata": {},
   "outputs": [
    {
     "name": "stdout",
     "output_type": "stream",
     "text": [
      "Available Leagues:\n",
      "1. Premier League (England)\n",
      "2. Ligue 1 (France)\n",
      "3. Bundesliga (Germany)\n",
      "4. Serie A (Italy)\n",
      "5. Eredivisie (Netherlands)\n",
      "6. Primeira Liga (Portugal)\n",
      "7. Primera Division (Spain)\n",
      "\n",
      "Fetching teams for Primera Division...\n",
      "\n",
      "Athletic Club: https://crests.football-data.org/77.png\n",
      "Club Atlético de Madrid: https://crests.football-data.org/78.png\n",
      "CA Osasuna: https://crests.football-data.org/79.png\n",
      "RCD Espanyol de Barcelona: https://crests.football-data.org/80.png\n",
      "FC Barcelona: https://crests.football-data.org/81.png\n",
      "Getafe CF: https://crests.football-data.org/82.png\n",
      "Real Madrid CF: https://crests.football-data.org/86.png\n",
      "Rayo Vallecano de Madrid: https://crests.football-data.org/87.png\n",
      "RCD Mallorca: https://crests.football-data.org/89.png\n",
      "Real Betis Balompié: https://crests.football-data.org/90.png\n",
      "Real Sociedad de Fútbol: https://crests.football-data.org/92.png\n",
      "Villarreal CF: https://crests.football-data.org/94.png\n",
      "Valencia CF: https://crests.football-data.org/95.png\n",
      "Real Valladolid CF: https://crests.football-data.org/250.png\n",
      "Deportivo Alavés: https://crests.football-data.org/263.png\n",
      "UD Las Palmas: https://crests.football-data.org/275.png\n",
      "Girona FC: https://crests.football-data.org/298.png\n",
      "RC Celta de Vigo: https://crests.football-data.org/558.png\n",
      "Sevilla FC: https://crests.football-data.org/559.png\n",
      "CD Leganés: https://crests.football-data.org/745.png\n",
      "\n",
      "Saved teams to D:\\Football_Prediction_Game\\assets\\clubs\\Team\\Primera_Division.txt\n"
     ]
    }
   ],
   "source": [
    "def main():\n",
    "    leagues = get_leagues()\n",
    "    if not leagues:\n",
    "        print(\"No leagues available.\")\n",
    "        return\n",
    "\n",
    "    # Display leagues\n",
    "    print(\"Available Leagues:\")\n",
    "    for idx, league in enumerate(leagues, start=1):\n",
    "        print(f\"{idx}. {league['name']} ({league['area']['name']})\")\n",
    "\n",
    "    # User selects a league\n",
    "    try:\n",
    "        choice = int(input(\"Select a league by number: \"))\n",
    "        if 1 <= choice <= len(leagues):\n",
    "            selected_league = leagues[choice - 1]\n",
    "            league_name_clean = selected_league['name'].replace(' ', '_').replace('/', '_')\n",
    "            print(f\"\\nFetching teams for {selected_league['name']}...\\n\")\n",
    "            teams = get_teams(selected_league['id'])\n",
    "\n",
    "            if teams:\n",
    "                teams_dict = {}\n",
    "                for team in teams:\n",
    "                    team_name = team['name']\n",
    "                    logo_url = team.get('crest')  # API v4 uses 'crest'\n",
    "                    teams_dict[team_name] = logo_url\n",
    "                    print(f\"{team_name}: {logo_url}\")\n",
    "\n",
    "                # Save to text file\n",
    "                file_path = os.path.join(LOGO_DOWNLOAD_PATH, f\"{league_name_clean}.txt\")\n",
    "                with open(file_path, 'w', encoding='utf-8') as f:\n",
    "                    for name, url in teams_dict.items():\n",
    "                        f.write(f\"{name}: {url}\\n\")\n",
    "\n",
    "                print(f\"\\nSaved teams to {file_path}\")\n",
    "                return teams_dict\n",
    "            else:\n",
    "                print(\"No teams found for this league.\")\n",
    "        else:\n",
    "            print(\"Invalid selection.\")\n",
    "    except ValueError:\n",
    "        print(\"Please enter a valid number.\")\n",
    "\n",
    "\n",
    "if __name__ == \"__main__\":\n",
    "    main()\n"
   ]
  },
  {
   "cell_type": "code",
   "execution_count": 8,
   "id": "32ca4fae",
   "metadata": {},
   "outputs": [],
   "source": [
    "import sqlite3\n",
    "\n",
    "def fetch_all(query, params=()):\n",
    "    conn = get_connection()\n",
    "    conn.row_factory = sqlite3.Row  # Enables dict-style row access\n",
    "    cur = conn.cursor()\n",
    "    cur.execute(query, params)\n",
    "    rows = cur.fetchall()\n",
    "    conn.close()\n",
    "    return [dict(row) for row in rows]\n",
    "\n",
    "def execute_query(query, params=()):\n",
    "    conn = get_connection()\n",
    "    cur = conn.cursor()\n",
    "    cur.execute(query, params)\n",
    "    conn.commit()\n",
    "    conn.close()\n"
   ]
  },
  {
   "cell_type": "code",
   "execution_count": 9,
   "id": "5592c09b",
   "metadata": {},
   "outputs": [
    {
     "name": "stdout",
     "output_type": "stream",
     "text": [
      "\n",
      "📋 List of Teams:\n",
      "1. AFC Bournemouth\n",
      "2. Al Ahly\n",
      "3. Al-Ain\n",
      "4. Al-Hilal\n",
      "5. Arsenal FC\n",
      "6. Aston Villa FC\n",
      "7. Athletic Club\n",
      "8. Atletico Madrid\n",
      "9. Barcelona\n",
      "10. Borussia Dortmund\n",
      "11. Brentford FC\n",
      "12. Brighton & Hove Albion FC\n",
      "13. CA Osasuna\n",
      "14. Chelsea FC\n",
      "15. Crystal Palace FC\n",
      "16. Deportivo Alavés\n",
      "17. Elche\n",
      "18. Everton FC\n",
      "19. FC Bayern München\n",
      "20. France\n",
      "21. Fulham FC\n",
      "22. Germany\n",
      "23. Getafe CF\n",
      "24. Girona FC\n",
      "25. Inter Miami\n",
      "26. Juventus FC\n",
      "27. Levante UD\n",
      "28. Liverpool FC\n",
      "29. Manchester City FC\n",
      "30. Manchester United FC\n",
      "31. Newcastle United FC\n",
      "32. Nottingham Forest FC\n",
      "33. Paris Saint-Germain FC\n",
      "34. Portugal\n",
      "35. Pyramids\n",
      "36. RC Celta de Vigo\n",
      "37. RCD Espanyol\n",
      "38. RCD Mallorca\n",
      "39. Rayo Vallecano\n",
      "40. Real Betis\n",
      "41. Real Madrid\n",
      "42. Real Sociedad\n",
      "43. Sevilla FC\n",
      "44. Spain\n",
      "45. Test\n",
      "46. Tottenham Hotspur FC\n",
      "47. Valencia CF\n",
      "48. Villarreal CF\n",
      "49. West Ham United FC\n",
      "50. Wolverhampton Wanderers FC\n",
      "51. Zamalek\n",
      "\n",
      "🏆 Available Leagues:\n",
      "1. Bundesliga\n",
      "2. CAF Champions League\n",
      "3. Club World Championship\n",
      "4. Copa del Rey\n",
      "5. Egyptian Premier League\n",
      "6. LaLiga\n",
      "7. Premier League\n",
      "8. Seria A\n",
      "9. Supercopa de España\n",
      "10. UEFA Champions League\n",
      "11. UEFA Conference League\n",
      "12. UEFA Europa League\n",
      "13. UEFA Nations League\n",
      "\n",
      "✅ Successfully updated leagues for team 'Juventus FC'.\n"
     ]
    }
   ],
   "source": [
    "def assign_team_to_leagues_console():\n",
    "    # Fetch all teams\n",
    "    teams = fetch_all(\"SELECT id, name FROM teams\")\n",
    "    if not teams:\n",
    "        print(\"❌ No teams found.\")\n",
    "        return\n",
    "\n",
    "    print(\"\\n📋 List of Teams:\")\n",
    "    for i, team in enumerate(teams, start=1):\n",
    "        print(f\"{i}. {team['name']}\")\n",
    "\n",
    "    choice = int(input(\"\\nEnter the number of the team to assign leagues: \"))\n",
    "    selected_team = teams[choice - 1]\n",
    "    selected_team_id = selected_team['id']\n",
    "\n",
    "    # Fetch all leagues\n",
    "    leagues = fetch_all(\"SELECT id, name FROM leagues\")\n",
    "    if not leagues:\n",
    "        print(\"❌ No leagues found.\")\n",
    "        return\n",
    "\n",
    "    print(\"\\n🏆 Available Leagues:\")\n",
    "    for i, league in enumerate(leagues, start=1):\n",
    "        print(f\"{i}. {league['name']}\")\n",
    "\n",
    "    selected_numbers = input(\"\\nEnter the numbers of the leagues to assign (comma-separated): \")\n",
    "    selected_indices = [int(x.strip()) for x in selected_numbers.split(\",\")]\n",
    "    selected_league_ids = [leagues[i - 1]['id'] for i in selected_indices]\n",
    "\n",
    "    # Delete old assignments\n",
    "    execute_query(\"DELETE FROM team_league WHERE team_id = ?\", (selected_team_id,))\n",
    "\n",
    "    # Insert new assignments\n",
    "    for league_id in selected_league_ids:\n",
    "        execute_query(\n",
    "            \"INSERT INTO team_league (team_id, league_id) VALUES (?, ?)\",\n",
    "            (selected_team_id, league_id)\n",
    "        )\n",
    "\n",
    "    print(f\"\\n✅ Successfully updated leagues for team '{selected_team['name']}'.\")\n",
    "\n",
    "assign_team_to_leagues_console()"
   ]
  },
  {
   "cell_type": "code",
   "execution_count": 133,
   "id": "8f0703f1",
   "metadata": {},
   "outputs": [
    {
     "data": {
      "text/html": [
       "<pre style=\"white-space:pre;overflow-x:auto;line-height:normal;font-family:Menlo,'DejaVu Sans Mono',consolas,'Courier New',monospace\"><span style=\"color: #000080; text-decoration-color: #000080\">╭──────────────────────────────────────────────────</span> Table Info <span style=\"color: #000080; text-decoration-color: #000080\">───────────────────────────────────────────────────╮</span>\n",
       "<span style=\"color: #000080; text-decoration-color: #000080\">│ 📋 </span><span style=\"color: #008000; text-decoration-color: #008000; font-weight: bold\">Table:</span><span style=\"color: #000080; text-decoration-color: #000080\"> matches                                                                                               │</span>\n",
       "<span style=\"color: #000080; text-decoration-color: #000080\">│ 🔢 </span><span style=\"color: #008080; text-decoration-color: #008080; font-weight: bold\">Columns:</span><span style=\"color: #000080; text-decoration-color: #000080\"> id, round_id, league_id, home_team_id, away_team_id, match_datetime, status, home_score,            │</span>\n",
       "<span style=\"color: #000080; text-decoration-color: #000080\">│ away_score, stage_id, penalty_winner                                                                            │</span>\n",
       "<span style=\"color: #000080; text-decoration-color: #000080\">│ 📊 </span><span style=\"color: #800080; text-decoration-color: #800080; font-weight: bold\">Total Rows:</span><span style=\"color: #000080; text-decoration-color: #000080\"> 6                                                                                                │</span>\n",
       "<span style=\"color: #000080; text-decoration-color: #000080\">╰─────────────────────────────────────────────────────────────────────────────────────────────────────────────────╯</span>\n",
       "</pre>\n"
      ],
      "text/plain": [
       "\u001b[34m╭─\u001b[0m\u001b[34m─────────────────────────────────────────────────\u001b[0m Table Info \u001b[34m──────────────────────────────────────────────────\u001b[0m\u001b[34m─╮\u001b[0m\n",
       "\u001b[34m│\u001b[0m\u001b[34m \u001b[0m\u001b[34m📋 \u001b[0m\u001b[1;32mTable:\u001b[0m\u001b[34m matches\u001b[0m\u001b[34m                                                                                              \u001b[0m\u001b[34m \u001b[0m\u001b[34m│\u001b[0m\n",
       "\u001b[34m│\u001b[0m\u001b[34m \u001b[0m\u001b[34m🔢 \u001b[0m\u001b[1;36mColumns:\u001b[0m\u001b[34m id, round_id, league_id, home_team_id, away_team_id, match_datetime, status, home_score, \u001b[0m\u001b[34m          \u001b[0m\u001b[34m \u001b[0m\u001b[34m│\u001b[0m\n",
       "\u001b[34m│\u001b[0m\u001b[34m \u001b[0m\u001b[34maway_score, stage_id, penalty_winner\u001b[0m\u001b[34m                                                                           \u001b[0m\u001b[34m \u001b[0m\u001b[34m│\u001b[0m\n",
       "\u001b[34m│\u001b[0m\u001b[34m \u001b[0m\u001b[34m📊 \u001b[0m\u001b[1;35mTotal Rows:\u001b[0m\u001b[34m 6\u001b[0m\u001b[34m                                                                                               \u001b[0m\u001b[34m \u001b[0m\u001b[34m│\u001b[0m\n",
       "\u001b[34m╰─────────────────────────────────────────────────────────────────────────────────────────────────────────────────╯\u001b[0m\n"
      ]
     },
     "metadata": {},
     "output_type": "display_data"
    },
    {
     "data": {
      "text/html": [
       "<pre style=\"white-space:pre;overflow-x:auto;line-height:normal;font-family:Menlo,'DejaVu Sans Mono',consolas,'Courier New',monospace\"><span style=\"font-style: italic\">                                             Sample Data from matches                                              </span>\n",
       "╭────┬──────────┬──────────┬──────────┬──────────┬──────────┬──────────┬──────────┬──────────┬──────────┬─────────╮\n",
       "│<span style=\"font-weight: bold\"> id </span>│<span style=\"font-weight: bold\"> round_id </span>│<span style=\"font-weight: bold\"> league_… </span>│<span style=\"font-weight: bold\"> home_te… </span>│<span style=\"font-weight: bold\"> away_te… </span>│<span style=\"font-weight: bold\"> match_d… </span>│<span style=\"font-weight: bold\"> status   </span>│<span style=\"font-weight: bold\"> home_sc… </span>│<span style=\"font-weight: bold\"> away_sc… </span>│<span style=\"font-weight: bold\"> stage_id </span>│<span style=\"font-weight: bold\"> penalt… </span>│\n",
       "├────┼──────────┼──────────┼──────────┼──────────┼──────────┼──────────┼──────────┼──────────┼──────────┼─────────┤\n",
       "│<span style=\"color: #800080; text-decoration-color: #800080; font-weight: bold\"> 57 </span>│<span style=\"color: #800080; text-decoration-color: #800080; font-weight: bold\"> 25       </span>│<span style=\"color: #800080; text-decoration-color: #800080; font-weight: bold\"> 13       </span>│<span style=\"color: #800080; text-decoration-color: #800080; font-weight: bold\"> 118      </span>│<span style=\"color: #800080; text-decoration-color: #800080; font-weight: bold\"> 121      </span>│<span style=\"color: #800080; text-decoration-color: #800080; font-weight: bold\"> 2025-06… </span>│<span style=\"color: #800080; text-decoration-color: #800080; font-weight: bold\"> finished </span>│<span style=\"color: #800080; text-decoration-color: #800080; font-weight: bold\"> 1        </span>│<span style=\"color: #800080; text-decoration-color: #800080; font-weight: bold\"> 2        </span>│<span style=\"color: #800080; text-decoration-color: #800080; font-weight: bold\"> 222      </span>│<span style=\"color: #800080; text-decoration-color: #800080; font-weight: bold\"> None    </span>│\n",
       "├────┼──────────┼──────────┼──────────┼──────────┼──────────┼──────────┼──────────┼──────────┼──────────┼─────────┤\n",
       "│<span style=\"color: #800080; text-decoration-color: #800080; font-weight: bold\"> 58 </span>│<span style=\"color: #800080; text-decoration-color: #800080; font-weight: bold\"> 25       </span>│<span style=\"color: #800080; text-decoration-color: #800080; font-weight: bold\"> 13       </span>│<span style=\"color: #800080; text-decoration-color: #800080; font-weight: bold\"> 119      </span>│<span style=\"color: #800080; text-decoration-color: #800080; font-weight: bold\"> 120      </span>│<span style=\"color: #800080; text-decoration-color: #800080; font-weight: bold\"> 2025-06… </span>│<span style=\"color: #800080; text-decoration-color: #800080; font-weight: bold\"> finished </span>│<span style=\"color: #800080; text-decoration-color: #800080; font-weight: bold\"> 4        </span>│<span style=\"color: #800080; text-decoration-color: #800080; font-weight: bold\"> 5        </span>│<span style=\"color: #800080; text-decoration-color: #800080; font-weight: bold\"> 222      </span>│<span style=\"color: #800080; text-decoration-color: #800080; font-weight: bold\"> None    </span>│\n",
       "├────┼──────────┼──────────┼──────────┼──────────┼──────────┼──────────┼──────────┼──────────┼──────────┼─────────┤\n",
       "│<span style=\"color: #800080; text-decoration-color: #800080; font-weight: bold\"> 59 </span>│<span style=\"color: #800080; text-decoration-color: #800080; font-weight: bold\"> 26       </span>│<span style=\"color: #800080; text-decoration-color: #800080; font-weight: bold\"> 13       </span>│<span style=\"color: #800080; text-decoration-color: #800080; font-weight: bold\"> 118      </span>│<span style=\"color: #800080; text-decoration-color: #800080; font-weight: bold\"> 120      </span>│<span style=\"color: #800080; text-decoration-color: #800080; font-weight: bold\"> 2025-06… </span>│<span style=\"color: #800080; text-decoration-color: #800080; font-weight: bold\"> finished </span>│<span style=\"color: #800080; text-decoration-color: #800080; font-weight: bold\"> 0        </span>│<span style=\"color: #800080; text-decoration-color: #800080; font-weight: bold\"> 2        </span>│<span style=\"color: #800080; text-decoration-color: #800080; font-weight: bold\"> 223      </span>│<span style=\"color: #800080; text-decoration-color: #800080; font-weight: bold\"> None    </span>│\n",
       "├────┼──────────┼──────────┼──────────┼──────────┼──────────┼──────────┼──────────┼──────────┼──────────┼─────────┤\n",
       "│<span style=\"color: #800080; text-decoration-color: #800080; font-weight: bold\"> 60 </span>│<span style=\"color: #800080; text-decoration-color: #800080; font-weight: bold\"> 26       </span>│<span style=\"color: #800080; text-decoration-color: #800080; font-weight: bold\"> 13       </span>│<span style=\"color: #800080; text-decoration-color: #800080; font-weight: bold\"> 121      </span>│<span style=\"color: #800080; text-decoration-color: #800080; font-weight: bold\"> 119      </span>│<span style=\"color: #800080; text-decoration-color: #800080; font-weight: bold\"> 2025-06… </span>│<span style=\"color: #800080; text-decoration-color: #800080; font-weight: bold\"> finished </span>│<span style=\"color: #800080; text-decoration-color: #800080; font-weight: bold\"> 2        </span>│<span style=\"color: #800080; text-decoration-color: #800080; font-weight: bold\"> 2        </span>│<span style=\"color: #800080; text-decoration-color: #800080; font-weight: bold\"> 224      </span>│<span style=\"color: #800080; text-decoration-color: #800080; font-weight: bold\"> 121     </span>│\n",
       "├────┼──────────┼──────────┼──────────┼──────────┼──────────┼──────────┼──────────┼──────────┼──────────┼─────────┤\n",
       "│<span style=\"color: #800080; text-decoration-color: #800080; font-weight: bold\"> 71 </span>│<span style=\"color: #800080; text-decoration-color: #800080; font-weight: bold\"> 26       </span>│<span style=\"color: #800080; text-decoration-color: #800080; font-weight: bold\"> 6        </span>│<span style=\"color: #800080; text-decoration-color: #800080; font-weight: bold\"> 65       </span>│<span style=\"color: #800080; text-decoration-color: #800080; font-weight: bold\"> 83       </span>│<span style=\"color: #800080; text-decoration-color: #800080; font-weight: bold\"> 2025-06… </span>│<span style=\"color: #800080; text-decoration-color: #800080; font-weight: bold\"> finished </span>│<span style=\"color: #800080; text-decoration-color: #800080; font-weight: bold\"> 2        </span>│<span style=\"color: #800080; text-decoration-color: #800080; font-weight: bold\"> 1        </span>│<span style=\"color: #800080; text-decoration-color: #800080; font-weight: bold\"> 220      </span>│<span style=\"color: #800080; text-decoration-color: #800080; font-weight: bold\"> None    </span>│\n",
       "├────┼──────────┼──────────┼──────────┼──────────┼──────────┼──────────┼──────────┼──────────┼──────────┼─────────┤\n",
       "│<span style=\"color: #800080; text-decoration-color: #800080; font-weight: bold\"> 72 </span>│<span style=\"color: #800080; text-decoration-color: #800080; font-weight: bold\"> 26       </span>│<span style=\"color: #800080; text-decoration-color: #800080; font-weight: bold\"> 6        </span>│<span style=\"color: #800080; text-decoration-color: #800080; font-weight: bold\"> 83       </span>│<span style=\"color: #800080; text-decoration-color: #800080; font-weight: bold\"> 65       </span>│<span style=\"color: #800080; text-decoration-color: #800080; font-weight: bold\"> 2025-06… </span>│<span style=\"color: #800080; text-decoration-color: #800080; font-weight: bold\"> finished </span>│<span style=\"color: #800080; text-decoration-color: #800080; font-weight: bold\"> 2        </span>│<span style=\"color: #800080; text-decoration-color: #800080; font-weight: bold\"> 1        </span>│<span style=\"color: #800080; text-decoration-color: #800080; font-weight: bold\"> 220      </span>│<span style=\"color: #800080; text-decoration-color: #800080; font-weight: bold\"> 83      </span>│\n",
       "╰────┴──────────┴──────────┴──────────┴──────────┴──────────┴──────────┴──────────┴──────────┴──────────┴─────────╯\n",
       "</pre>\n"
      ],
      "text/plain": [
       "\u001b[3m                                             Sample Data from matches                                              \u001b[0m\n",
       "╭────┬──────────┬──────────┬──────────┬──────────┬──────────┬──────────┬──────────┬──────────┬──────────┬─────────╮\n",
       "│\u001b[1m \u001b[0m\u001b[1mid\u001b[0m\u001b[1m \u001b[0m│\u001b[1m \u001b[0m\u001b[1mround_id\u001b[0m\u001b[1m \u001b[0m│\u001b[1m \u001b[0m\u001b[1mleague_…\u001b[0m\u001b[1m \u001b[0m│\u001b[1m \u001b[0m\u001b[1mhome_te…\u001b[0m\u001b[1m \u001b[0m│\u001b[1m \u001b[0m\u001b[1maway_te…\u001b[0m\u001b[1m \u001b[0m│\u001b[1m \u001b[0m\u001b[1mmatch_d…\u001b[0m\u001b[1m \u001b[0m│\u001b[1m \u001b[0m\u001b[1mstatus  \u001b[0m\u001b[1m \u001b[0m│\u001b[1m \u001b[0m\u001b[1mhome_sc…\u001b[0m\u001b[1m \u001b[0m│\u001b[1m \u001b[0m\u001b[1maway_sc…\u001b[0m\u001b[1m \u001b[0m│\u001b[1m \u001b[0m\u001b[1mstage_id\u001b[0m\u001b[1m \u001b[0m│\u001b[1m \u001b[0m\u001b[1mpenalt…\u001b[0m\u001b[1m \u001b[0m│\n",
       "├────┼──────────┼──────────┼──────────┼──────────┼──────────┼──────────┼──────────┼──────────┼──────────┼─────────┤\n",
       "│\u001b[1;35m \u001b[0m\u001b[1;35m57\u001b[0m\u001b[1;35m \u001b[0m│\u001b[1;35m \u001b[0m\u001b[1;35m25      \u001b[0m\u001b[1;35m \u001b[0m│\u001b[1;35m \u001b[0m\u001b[1;35m13      \u001b[0m\u001b[1;35m \u001b[0m│\u001b[1;35m \u001b[0m\u001b[1;35m118     \u001b[0m\u001b[1;35m \u001b[0m│\u001b[1;35m \u001b[0m\u001b[1;35m121     \u001b[0m\u001b[1;35m \u001b[0m│\u001b[1;35m \u001b[0m\u001b[1;35m2025-06…\u001b[0m\u001b[1;35m \u001b[0m│\u001b[1;35m \u001b[0m\u001b[1;35mfinished\u001b[0m\u001b[1;35m \u001b[0m│\u001b[1;35m \u001b[0m\u001b[1;35m1       \u001b[0m\u001b[1;35m \u001b[0m│\u001b[1;35m \u001b[0m\u001b[1;35m2       \u001b[0m\u001b[1;35m \u001b[0m│\u001b[1;35m \u001b[0m\u001b[1;35m222     \u001b[0m\u001b[1;35m \u001b[0m│\u001b[1;35m \u001b[0m\u001b[1;35mNone   \u001b[0m\u001b[1;35m \u001b[0m│\n",
       "├────┼──────────┼──────────┼──────────┼──────────┼──────────┼──────────┼──────────┼──────────┼──────────┼─────────┤\n",
       "│\u001b[1;35m \u001b[0m\u001b[1;35m58\u001b[0m\u001b[1;35m \u001b[0m│\u001b[1;35m \u001b[0m\u001b[1;35m25      \u001b[0m\u001b[1;35m \u001b[0m│\u001b[1;35m \u001b[0m\u001b[1;35m13      \u001b[0m\u001b[1;35m \u001b[0m│\u001b[1;35m \u001b[0m\u001b[1;35m119     \u001b[0m\u001b[1;35m \u001b[0m│\u001b[1;35m \u001b[0m\u001b[1;35m120     \u001b[0m\u001b[1;35m \u001b[0m│\u001b[1;35m \u001b[0m\u001b[1;35m2025-06…\u001b[0m\u001b[1;35m \u001b[0m│\u001b[1;35m \u001b[0m\u001b[1;35mfinished\u001b[0m\u001b[1;35m \u001b[0m│\u001b[1;35m \u001b[0m\u001b[1;35m4       \u001b[0m\u001b[1;35m \u001b[0m│\u001b[1;35m \u001b[0m\u001b[1;35m5       \u001b[0m\u001b[1;35m \u001b[0m│\u001b[1;35m \u001b[0m\u001b[1;35m222     \u001b[0m\u001b[1;35m \u001b[0m│\u001b[1;35m \u001b[0m\u001b[1;35mNone   \u001b[0m\u001b[1;35m \u001b[0m│\n",
       "├────┼──────────┼──────────┼──────────┼──────────┼──────────┼──────────┼──────────┼──────────┼──────────┼─────────┤\n",
       "│\u001b[1;35m \u001b[0m\u001b[1;35m59\u001b[0m\u001b[1;35m \u001b[0m│\u001b[1;35m \u001b[0m\u001b[1;35m26      \u001b[0m\u001b[1;35m \u001b[0m│\u001b[1;35m \u001b[0m\u001b[1;35m13      \u001b[0m\u001b[1;35m \u001b[0m│\u001b[1;35m \u001b[0m\u001b[1;35m118     \u001b[0m\u001b[1;35m \u001b[0m│\u001b[1;35m \u001b[0m\u001b[1;35m120     \u001b[0m\u001b[1;35m \u001b[0m│\u001b[1;35m \u001b[0m\u001b[1;35m2025-06…\u001b[0m\u001b[1;35m \u001b[0m│\u001b[1;35m \u001b[0m\u001b[1;35mfinished\u001b[0m\u001b[1;35m \u001b[0m│\u001b[1;35m \u001b[0m\u001b[1;35m0       \u001b[0m\u001b[1;35m \u001b[0m│\u001b[1;35m \u001b[0m\u001b[1;35m2       \u001b[0m\u001b[1;35m \u001b[0m│\u001b[1;35m \u001b[0m\u001b[1;35m223     \u001b[0m\u001b[1;35m \u001b[0m│\u001b[1;35m \u001b[0m\u001b[1;35mNone   \u001b[0m\u001b[1;35m \u001b[0m│\n",
       "├────┼──────────┼──────────┼──────────┼──────────┼──────────┼──────────┼──────────┼──────────┼──────────┼─────────┤\n",
       "│\u001b[1;35m \u001b[0m\u001b[1;35m60\u001b[0m\u001b[1;35m \u001b[0m│\u001b[1;35m \u001b[0m\u001b[1;35m26      \u001b[0m\u001b[1;35m \u001b[0m│\u001b[1;35m \u001b[0m\u001b[1;35m13      \u001b[0m\u001b[1;35m \u001b[0m│\u001b[1;35m \u001b[0m\u001b[1;35m121     \u001b[0m\u001b[1;35m \u001b[0m│\u001b[1;35m \u001b[0m\u001b[1;35m119     \u001b[0m\u001b[1;35m \u001b[0m│\u001b[1;35m \u001b[0m\u001b[1;35m2025-06…\u001b[0m\u001b[1;35m \u001b[0m│\u001b[1;35m \u001b[0m\u001b[1;35mfinished\u001b[0m\u001b[1;35m \u001b[0m│\u001b[1;35m \u001b[0m\u001b[1;35m2       \u001b[0m\u001b[1;35m \u001b[0m│\u001b[1;35m \u001b[0m\u001b[1;35m2       \u001b[0m\u001b[1;35m \u001b[0m│\u001b[1;35m \u001b[0m\u001b[1;35m224     \u001b[0m\u001b[1;35m \u001b[0m│\u001b[1;35m \u001b[0m\u001b[1;35m121    \u001b[0m\u001b[1;35m \u001b[0m│\n",
       "├────┼──────────┼──────────┼──────────┼──────────┼──────────┼──────────┼──────────┼──────────┼──────────┼─────────┤\n",
       "│\u001b[1;35m \u001b[0m\u001b[1;35m71\u001b[0m\u001b[1;35m \u001b[0m│\u001b[1;35m \u001b[0m\u001b[1;35m26      \u001b[0m\u001b[1;35m \u001b[0m│\u001b[1;35m \u001b[0m\u001b[1;35m6       \u001b[0m\u001b[1;35m \u001b[0m│\u001b[1;35m \u001b[0m\u001b[1;35m65      \u001b[0m\u001b[1;35m \u001b[0m│\u001b[1;35m \u001b[0m\u001b[1;35m83      \u001b[0m\u001b[1;35m \u001b[0m│\u001b[1;35m \u001b[0m\u001b[1;35m2025-06…\u001b[0m\u001b[1;35m \u001b[0m│\u001b[1;35m \u001b[0m\u001b[1;35mfinished\u001b[0m\u001b[1;35m \u001b[0m│\u001b[1;35m \u001b[0m\u001b[1;35m2       \u001b[0m\u001b[1;35m \u001b[0m│\u001b[1;35m \u001b[0m\u001b[1;35m1       \u001b[0m\u001b[1;35m \u001b[0m│\u001b[1;35m \u001b[0m\u001b[1;35m220     \u001b[0m\u001b[1;35m \u001b[0m│\u001b[1;35m \u001b[0m\u001b[1;35mNone   \u001b[0m\u001b[1;35m \u001b[0m│\n",
       "├────┼──────────┼──────────┼──────────┼──────────┼──────────┼──────────┼──────────┼──────────┼──────────┼─────────┤\n",
       "│\u001b[1;35m \u001b[0m\u001b[1;35m72\u001b[0m\u001b[1;35m \u001b[0m│\u001b[1;35m \u001b[0m\u001b[1;35m26      \u001b[0m\u001b[1;35m \u001b[0m│\u001b[1;35m \u001b[0m\u001b[1;35m6       \u001b[0m\u001b[1;35m \u001b[0m│\u001b[1;35m \u001b[0m\u001b[1;35m83      \u001b[0m\u001b[1;35m \u001b[0m│\u001b[1;35m \u001b[0m\u001b[1;35m65      \u001b[0m\u001b[1;35m \u001b[0m│\u001b[1;35m \u001b[0m\u001b[1;35m2025-06…\u001b[0m\u001b[1;35m \u001b[0m│\u001b[1;35m \u001b[0m\u001b[1;35mfinished\u001b[0m\u001b[1;35m \u001b[0m│\u001b[1;35m \u001b[0m\u001b[1;35m2       \u001b[0m\u001b[1;35m \u001b[0m│\u001b[1;35m \u001b[0m\u001b[1;35m1       \u001b[0m\u001b[1;35m \u001b[0m│\u001b[1;35m \u001b[0m\u001b[1;35m220     \u001b[0m\u001b[1;35m \u001b[0m│\u001b[1;35m \u001b[0m\u001b[1;35m83     \u001b[0m\u001b[1;35m \u001b[0m│\n",
       "╰────┴──────────┴──────────┴──────────┴──────────┴──────────┴──────────┴──────────┴──────────┴──────────┴─────────╯\n"
      ]
     },
     "metadata": {},
     "output_type": "display_data"
    },
    {
     "data": {
      "text/html": [
       "<pre style=\"white-space:pre;overflow-x:auto;line-height:normal;font-family:Menlo,'DejaVu Sans Mono',consolas,'Courier New',monospace\"><span style=\"color: #008080; text-decoration-color: #008080; font-weight: bold\">🔌 Connection closed.</span>\n",
       "\n",
       "</pre>\n"
      ],
      "text/plain": [
       "\u001b[1;36m🔌 Connection closed.\u001b[0m\n",
       "\n"
      ]
     },
     "metadata": {},
     "output_type": "display_data"
    },
    {
     "data": {
      "text/html": [
       "<pre style=\"white-space:pre;overflow-x:auto;line-height:normal;font-family:Menlo,'DejaVu Sans Mono',consolas,'Courier New',monospace\"><span style=\"color: #000080; text-decoration-color: #000080\">╭──────────────────────</span> Table Info <span style=\"color: #000080; text-decoration-color: #000080\">──────────────────────╮</span>\n",
       "<span style=\"color: #000080; text-decoration-color: #000080\">│ 📋 </span><span style=\"color: #008000; text-decoration-color: #008000; font-weight: bold\">Table:</span><span style=\"color: #000080; text-decoration-color: #000080\"> rounds                                       │</span>\n",
       "<span style=\"color: #000080; text-decoration-color: #000080\">│ 🔢 </span><span style=\"color: #008080; text-decoration-color: #008080; font-weight: bold\">Columns:</span><span style=\"color: #000080; text-decoration-color: #000080\"> id, name, start_date, end_date, created_at │</span>\n",
       "<span style=\"color: #000080; text-decoration-color: #000080\">│ 📊 </span><span style=\"color: #800080; text-decoration-color: #800080; font-weight: bold\">Total Rows:</span><span style=\"color: #000080; text-decoration-color: #000080\"> 2                                       │</span>\n",
       "<span style=\"color: #000080; text-decoration-color: #000080\">╰────────────────────────────────────────────────────────╯</span>\n",
       "</pre>\n"
      ],
      "text/plain": [
       "\u001b[34m╭─\u001b[0m\u001b[34m─────────────────────\u001b[0m Table Info \u001b[34m─────────────────────\u001b[0m\u001b[34m─╮\u001b[0m\n",
       "\u001b[34m│\u001b[0m\u001b[34m \u001b[0m\u001b[34m📋 \u001b[0m\u001b[1;32mTable:\u001b[0m\u001b[34m rounds\u001b[0m\u001b[34m                                      \u001b[0m\u001b[34m \u001b[0m\u001b[34m│\u001b[0m\n",
       "\u001b[34m│\u001b[0m\u001b[34m \u001b[0m\u001b[34m🔢 \u001b[0m\u001b[1;36mColumns:\u001b[0m\u001b[34m id, name, start_date, end_date, created_at\u001b[0m\u001b[34m \u001b[0m\u001b[34m│\u001b[0m\n",
       "\u001b[34m│\u001b[0m\u001b[34m \u001b[0m\u001b[34m📊 \u001b[0m\u001b[1;35mTotal Rows:\u001b[0m\u001b[34m 2\u001b[0m\u001b[34m                                      \u001b[0m\u001b[34m \u001b[0m\u001b[34m│\u001b[0m\n",
       "\u001b[34m╰────────────────────────────────────────────────────────╯\u001b[0m\n"
      ]
     },
     "metadata": {},
     "output_type": "display_data"
    },
    {
     "data": {
      "text/html": [
       "<pre style=\"white-space:pre;overflow-x:auto;line-height:normal;font-family:Menlo,'DejaVu Sans Mono',consolas,'Courier New',monospace\"><span style=\"font-style: italic\">                    Sample Data from rounds                     </span>\n",
       "╭────┬─────────┬────────────┬────────────┬─────────────────────╮\n",
       "│<span style=\"font-weight: bold\"> id </span>│<span style=\"font-weight: bold\"> name    </span>│<span style=\"font-weight: bold\"> start_date </span>│<span style=\"font-weight: bold\"> end_date   </span>│<span style=\"font-weight: bold\"> created_at          </span>│\n",
       "├────┼─────────┼────────────┼────────────┼─────────────────────┤\n",
       "│<span style=\"color: #800080; text-decoration-color: #800080; font-weight: bold\"> 25 </span>│<span style=\"color: #800080; text-decoration-color: #800080; font-weight: bold\"> Round 1 </span>│<span style=\"color: #800080; text-decoration-color: #800080; font-weight: bold\"> 2025-05-31 </span>│<span style=\"color: #800080; text-decoration-color: #800080; font-weight: bold\"> 2025-06-06 </span>│<span style=\"color: #800080; text-decoration-color: #800080; font-weight: bold\"> 2025-06-10 00:01:30 </span>│\n",
       "├────┼─────────┼────────────┼────────────┼─────────────────────┤\n",
       "│<span style=\"color: #800080; text-decoration-color: #800080; font-weight: bold\"> 26 </span>│<span style=\"color: #800080; text-decoration-color: #800080; font-weight: bold\"> Round 2 </span>│<span style=\"color: #800080; text-decoration-color: #800080; font-weight: bold\"> 2025-06-07 </span>│<span style=\"color: #800080; text-decoration-color: #800080; font-weight: bold\"> 2025-06-13 </span>│<span style=\"color: #800080; text-decoration-color: #800080; font-weight: bold\"> 2025-06-10 00:02:24 </span>│\n",
       "╰────┴─────────┴────────────┴────────────┴─────────────────────╯\n",
       "</pre>\n"
      ],
      "text/plain": [
       "\u001b[3m                    Sample Data from rounds                     \u001b[0m\n",
       "╭────┬─────────┬────────────┬────────────┬─────────────────────╮\n",
       "│\u001b[1m \u001b[0m\u001b[1mid\u001b[0m\u001b[1m \u001b[0m│\u001b[1m \u001b[0m\u001b[1mname   \u001b[0m\u001b[1m \u001b[0m│\u001b[1m \u001b[0m\u001b[1mstart_date\u001b[0m\u001b[1m \u001b[0m│\u001b[1m \u001b[0m\u001b[1mend_date  \u001b[0m\u001b[1m \u001b[0m│\u001b[1m \u001b[0m\u001b[1mcreated_at         \u001b[0m\u001b[1m \u001b[0m│\n",
       "├────┼─────────┼────────────┼────────────┼─────────────────────┤\n",
       "│\u001b[1;35m \u001b[0m\u001b[1;35m25\u001b[0m\u001b[1;35m \u001b[0m│\u001b[1;35m \u001b[0m\u001b[1;35mRound 1\u001b[0m\u001b[1;35m \u001b[0m│\u001b[1;35m \u001b[0m\u001b[1;35m2025-05-31\u001b[0m\u001b[1;35m \u001b[0m│\u001b[1;35m \u001b[0m\u001b[1;35m2025-06-06\u001b[0m\u001b[1;35m \u001b[0m│\u001b[1;35m \u001b[0m\u001b[1;35m2025-06-10 00:01:30\u001b[0m\u001b[1;35m \u001b[0m│\n",
       "├────┼─────────┼────────────┼────────────┼─────────────────────┤\n",
       "│\u001b[1;35m \u001b[0m\u001b[1;35m26\u001b[0m\u001b[1;35m \u001b[0m│\u001b[1;35m \u001b[0m\u001b[1;35mRound 2\u001b[0m\u001b[1;35m \u001b[0m│\u001b[1;35m \u001b[0m\u001b[1;35m2025-06-07\u001b[0m\u001b[1;35m \u001b[0m│\u001b[1;35m \u001b[0m\u001b[1;35m2025-06-13\u001b[0m\u001b[1;35m \u001b[0m│\u001b[1;35m \u001b[0m\u001b[1;35m2025-06-10 00:02:24\u001b[0m\u001b[1;35m \u001b[0m│\n",
       "╰────┴─────────┴────────────┴────────────┴─────────────────────╯\n"
      ]
     },
     "metadata": {},
     "output_type": "display_data"
    },
    {
     "data": {
      "text/html": [
       "<pre style=\"white-space:pre;overflow-x:auto;line-height:normal;font-family:Menlo,'DejaVu Sans Mono',consolas,'Courier New',monospace\"><span style=\"color: #008080; text-decoration-color: #008080; font-weight: bold\">🔌 Connection closed.</span>\n",
       "\n",
       "</pre>\n"
      ],
      "text/plain": [
       "\u001b[1;36m🔌 Connection closed.\u001b[0m\n",
       "\n"
      ]
     },
     "metadata": {},
     "output_type": "display_data"
    },
    {
     "data": {
      "text/html": [
       "<pre style=\"white-space:pre;overflow-x:auto;line-height:normal;font-family:Menlo,'DejaVu Sans Mono',consolas,'Courier New',monospace\"><span style=\"color: #000080; text-decoration-color: #000080\">╭──────────────────────────────</span> Table Info <span style=\"color: #000080; text-decoration-color: #000080\">───────────────────────────────╮</span>\n",
       "<span style=\"color: #000080; text-decoration-color: #000080\">│ 📋 </span><span style=\"color: #008000; text-decoration-color: #008000; font-weight: bold\">Table:</span><span style=\"color: #000080; text-decoration-color: #000080\"> two_legged_ties                                               │</span>\n",
       "<span style=\"color: #000080; text-decoration-color: #000080\">│ 🔢 </span><span style=\"color: #008080; text-decoration-color: #008080; font-weight: bold\">Columns:</span><span style=\"color: #000080; text-decoration-color: #000080\"> id, first_leg_match_id, second_leg_match_id, winner_team_id │</span>\n",
       "<span style=\"color: #000080; text-decoration-color: #000080\">│ 📊 </span><span style=\"color: #800080; text-decoration-color: #800080; font-weight: bold\">Total Rows:</span><span style=\"color: #000080; text-decoration-color: #000080\"> 2                                                        │</span>\n",
       "<span style=\"color: #000080; text-decoration-color: #000080\">╰─────────────────────────────────────────────────────────────────────────╯</span>\n",
       "</pre>\n"
      ],
      "text/plain": [
       "\u001b[34m╭─\u001b[0m\u001b[34m─────────────────────────────\u001b[0m Table Info \u001b[34m──────────────────────────────\u001b[0m\u001b[34m─╮\u001b[0m\n",
       "\u001b[34m│\u001b[0m\u001b[34m \u001b[0m\u001b[34m📋 \u001b[0m\u001b[1;32mTable:\u001b[0m\u001b[34m two_legged_ties\u001b[0m\u001b[34m                                              \u001b[0m\u001b[34m \u001b[0m\u001b[34m│\u001b[0m\n",
       "\u001b[34m│\u001b[0m\u001b[34m \u001b[0m\u001b[34m🔢 \u001b[0m\u001b[1;36mColumns:\u001b[0m\u001b[34m id, first_leg_match_id, second_leg_match_id, winner_team_id\u001b[0m\u001b[34m \u001b[0m\u001b[34m│\u001b[0m\n",
       "\u001b[34m│\u001b[0m\u001b[34m \u001b[0m\u001b[34m📊 \u001b[0m\u001b[1;35mTotal Rows:\u001b[0m\u001b[34m 2\u001b[0m\u001b[34m                                                       \u001b[0m\u001b[34m \u001b[0m\u001b[34m│\u001b[0m\n",
       "\u001b[34m╰─────────────────────────────────────────────────────────────────────────╯\u001b[0m\n"
      ]
     },
     "metadata": {},
     "output_type": "display_data"
    },
    {
     "data": {
      "text/html": [
       "<pre style=\"white-space:pre;overflow-x:auto;line-height:normal;font-family:Menlo,'DejaVu Sans Mono',consolas,'Courier New',monospace\"><span style=\"font-style: italic\">                 Sample Data from two_legged_ties                 </span>\n",
       "╭────┬────────────────────┬─────────────────────┬────────────────╮\n",
       "│<span style=\"font-weight: bold\"> id </span>│<span style=\"font-weight: bold\"> first_leg_match_id </span>│<span style=\"font-weight: bold\"> second_leg_match_id </span>│<span style=\"font-weight: bold\"> winner_team_id </span>│\n",
       "├────┼────────────────────┼─────────────────────┼────────────────┤\n",
       "│<span style=\"color: #800080; text-decoration-color: #800080; font-weight: bold\"> 4  </span>│<span style=\"color: #800080; text-decoration-color: #800080; font-weight: bold\"> 69                 </span>│<span style=\"color: #800080; text-decoration-color: #800080; font-weight: bold\"> 70                  </span>│<span style=\"color: #800080; text-decoration-color: #800080; font-weight: bold\"> None           </span>│\n",
       "├────┼────────────────────┼─────────────────────┼────────────────┤\n",
       "│<span style=\"color: #800080; text-decoration-color: #800080; font-weight: bold\"> 5  </span>│<span style=\"color: #800080; text-decoration-color: #800080; font-weight: bold\"> 71                 </span>│<span style=\"color: #800080; text-decoration-color: #800080; font-weight: bold\"> 72                  </span>│<span style=\"color: #800080; text-decoration-color: #800080; font-weight: bold\"> 83             </span>│\n",
       "╰────┴────────────────────┴─────────────────────┴────────────────╯\n",
       "</pre>\n"
      ],
      "text/plain": [
       "\u001b[3m                 Sample Data from two_legged_ties                 \u001b[0m\n",
       "╭────┬────────────────────┬─────────────────────┬────────────────╮\n",
       "│\u001b[1m \u001b[0m\u001b[1mid\u001b[0m\u001b[1m \u001b[0m│\u001b[1m \u001b[0m\u001b[1mfirst_leg_match_id\u001b[0m\u001b[1m \u001b[0m│\u001b[1m \u001b[0m\u001b[1msecond_leg_match_id\u001b[0m\u001b[1m \u001b[0m│\u001b[1m \u001b[0m\u001b[1mwinner_team_id\u001b[0m\u001b[1m \u001b[0m│\n",
       "├────┼────────────────────┼─────────────────────┼────────────────┤\n",
       "│\u001b[1;35m \u001b[0m\u001b[1;35m4 \u001b[0m\u001b[1;35m \u001b[0m│\u001b[1;35m \u001b[0m\u001b[1;35m69                \u001b[0m\u001b[1;35m \u001b[0m│\u001b[1;35m \u001b[0m\u001b[1;35m70                 \u001b[0m\u001b[1;35m \u001b[0m│\u001b[1;35m \u001b[0m\u001b[1;35mNone          \u001b[0m\u001b[1;35m \u001b[0m│\n",
       "├────┼────────────────────┼─────────────────────┼────────────────┤\n",
       "│\u001b[1;35m \u001b[0m\u001b[1;35m5 \u001b[0m\u001b[1;35m \u001b[0m│\u001b[1;35m \u001b[0m\u001b[1;35m71                \u001b[0m\u001b[1;35m \u001b[0m│\u001b[1;35m \u001b[0m\u001b[1;35m72                 \u001b[0m\u001b[1;35m \u001b[0m│\u001b[1;35m \u001b[0m\u001b[1;35m83            \u001b[0m\u001b[1;35m \u001b[0m│\n",
       "╰────┴────────────────────┴─────────────────────┴────────────────╯\n"
      ]
     },
     "metadata": {},
     "output_type": "display_data"
    },
    {
     "data": {
      "text/html": [
       "<pre style=\"white-space:pre;overflow-x:auto;line-height:normal;font-family:Menlo,'DejaVu Sans Mono',consolas,'Courier New',monospace\"><span style=\"color: #008080; text-decoration-color: #008080; font-weight: bold\">🔌 Connection closed.</span>\n",
       "\n",
       "</pre>\n"
      ],
      "text/plain": [
       "\u001b[1;36m🔌 Connection closed.\u001b[0m\n",
       "\n"
      ]
     },
     "metadata": {},
     "output_type": "display_data"
    }
   ],
   "source": [
    "table_info(\"matches\")\n",
    "table_info(\"rounds\")\n",
    "table_info(\"two_legged_ties\")"
   ]
  },
  {
   "cell_type": "code",
   "execution_count": 100,
   "id": "d6d37443",
   "metadata": {},
   "outputs": [
    {
     "data": {
      "text/html": [
       "<pre style=\"white-space:pre;overflow-x:auto;line-height:normal;font-family:Menlo,'DejaVu Sans Mono',consolas,'Courier New',monospace\"><span style=\"color: #008080; text-decoration-color: #008080; font-weight: bold\">📡 Executing Query...</span>\n",
       "</pre>\n"
      ],
      "text/plain": [
       "\u001b[1;36m📡 Executing Query\u001b[0m\u001b[1;36m...\u001b[0m\n"
      ]
     },
     "metadata": {},
     "output_type": "display_data"
    },
    {
     "data": {
      "text/html": [
       "<pre style=\"white-space:pre;overflow-x:auto;line-height:normal;font-family:Menlo,'DejaVu Sans Mono',consolas,'Courier New',monospace\"><span style=\"color: #800000; text-decoration-color: #800000\">╭─────────────────────────────────────────────────────</span> Error <span style=\"color: #800000; text-decoration-color: #800000\">─────────────────────────────────────────────────────╮</span>\n",
       "<span style=\"color: #800000; text-decoration-color: #800000\">│ ❗ Error executing query: FOREIGN KEY constraint failed                                                         │</span>\n",
       "<span style=\"color: #800000; text-decoration-color: #800000\">╰─────────────────────────────────────────────────────────────────────────────────────────────────────────────────╯</span>\n",
       "</pre>\n"
      ],
      "text/plain": [
       "\u001b[31m╭─\u001b[0m\u001b[31m────────────────────────────────────────────────────\u001b[0m Error \u001b[31m────────────────────────────────────────────────────\u001b[0m\u001b[31m─╮\u001b[0m\n",
       "\u001b[31m│\u001b[0m\u001b[31m \u001b[0m\u001b[31m❗ \u001b[0m\u001b[31mError executing query:\u001b[0m\u001b[31m FOREIGN KEY constraint failed\u001b[0m\u001b[31m                                                        \u001b[0m\u001b[31m \u001b[0m\u001b[31m│\u001b[0m\n",
       "\u001b[31m╰─────────────────────────────────────────────────────────────────────────────────────────────────────────────────╯\u001b[0m\n"
      ]
     },
     "metadata": {},
     "output_type": "display_data"
    },
    {
     "data": {
      "text/html": [
       "<pre style=\"white-space:pre;overflow-x:auto;line-height:normal;font-family:Menlo,'DejaVu Sans Mono',consolas,'Courier New',monospace\"><span style=\"color: #008080; text-decoration-color: #008080; font-weight: bold\">🔌 Connection closed.</span>\n",
       "\n",
       "</pre>\n"
      ],
      "text/plain": [
       "\u001b[1;36m🔌 Connection closed.\u001b[0m\n",
       "\n"
      ]
     },
     "metadata": {},
     "output_type": "display_data"
    },
    {
     "name": "stdout",
     "output_type": "stream",
     "text": [
      "✅ All matches have been assigned to round_id = 47\n"
     ]
    }
   ],
   "source": [
    "def assign_all_matches_to_round(round_id=47):\n",
    "    query = f\"\"\"\n",
    "    UPDATE matches\n",
    "    SET round_id = {round_id};\n",
    "    \"\"\"\n",
    "    try:\n",
    "        execute_query(query)\n",
    "        print(f\"✅ All matches have been assigned to round_id = {round_id}\")\n",
    "    except Exception as e:\n",
    "        print(f\"❌ Error updating matches: {e}\")\n",
    "\n",
    "assign_all_matches_to_round()"
   ]
  },
  {
   "cell_type": "code",
   "execution_count": 110,
   "id": "c892de96",
   "metadata": {},
   "outputs": [
    {
     "name": "stdout",
     "output_type": "stream",
     "text": [
      "All records deleted successfully.\n"
     ]
    }
   ],
   "source": [
    "def delete_all_records(connection):\n",
    "    \"\"\"\n",
    "    Delete all records from the 'two_legged_ties', 'matches', 'stages', and 'rounds' tables.\n",
    "    \n",
    "    Args:\n",
    "        connection: SQLite3 connection object.\n",
    "    \"\"\"\n",
    "    try:\n",
    "        cursor = connection.cursor()\n",
    "        # Disable foreign key constraint temporarily to avoid issues during deletion\n",
    "        cursor.execute(\"PRAGMA foreign_keys = OFF;\")\n",
    "        \n",
    "        # Delete in order from dependent to parent tables\n",
    "        cursor.execute(\"DELETE FROM two_legged_ties;\")\n",
    "        cursor.execute(\"DELETE FROM matches;\")\n",
    "        cursor.execute(\"DELETE FROM stages;\")\n",
    "        cursor.execute(\"DELETE FROM rounds;\")\n",
    "        \n",
    "        connection.commit()\n",
    "        print(\"All records deleted successfully.\")\n",
    "    except Exception as e:\n",
    "        print(f\"Error deleting records: {e}\")\n",
    "        connection.rollback()\n",
    "    finally:\n",
    "        # Re-enable foreign keys\n",
    "        cursor.execute(\"PRAGMA foreign_keys = ON;\")\n",
    "conn = get_connection()\n",
    "delete_all_records(conn)\n"
   ]
  },
  {
   "cell_type": "code",
   "execution_count": 35,
   "id": "43bae62a",
   "metadata": {},
   "outputs": [
    {
     "data": {
      "text/html": [
       "<pre style=\"white-space:pre;overflow-x:auto;line-height:normal;font-family:Menlo,'DejaVu Sans Mono',consolas,'Courier New',monospace\"><span style=\"color: #008080; text-decoration-color: #008080; font-weight: bold\">📡 Executing Query...</span>\n",
       "</pre>\n"
      ],
      "text/plain": [
       "\u001b[1;36m📡 Executing Query\u001b[0m\u001b[1;36m...\u001b[0m\n"
      ]
     },
     "metadata": {},
     "output_type": "display_data"
    },
    {
     "data": {
      "text/html": [
       "<pre style=\"white-space:pre;overflow-x:auto;line-height:normal;font-family:Menlo,'DejaVu Sans Mono',consolas,'Courier New',monospace\"><span style=\"color: #008000; text-decoration-color: #008000\">╭────────────────────────────────────────────────────</span> Success <span style=\"color: #008000; text-decoration-color: #008000\">────────────────────────────────────────────────────╮</span>\n",
       "<span style=\"color: #008000; text-decoration-color: #008000\">│ ✅ Query executed successfully.                                                                                 │</span>\n",
       "<span style=\"color: #008000; text-decoration-color: #008000\">╰─────────────────────────────────────────────────────────────────────────────────────────────────────────────────╯</span>\n",
       "</pre>\n"
      ],
      "text/plain": [
       "\u001b[32m╭─\u001b[0m\u001b[32m───────────────────────────────────────────────────\u001b[0m Success \u001b[32m───────────────────────────────────────────────────\u001b[0m\u001b[32m─╮\u001b[0m\n",
       "\u001b[32m│\u001b[0m\u001b[32m \u001b[0m\u001b[32m✅ \u001b[0m\u001b[32mQuery executed successfully.\u001b[0m\u001b[32m                                                                                \u001b[0m\u001b[32m \u001b[0m\u001b[32m│\u001b[0m\n",
       "\u001b[32m╰─────────────────────────────────────────────────────────────────────────────────────────────────────────────────╯\u001b[0m\n"
      ]
     },
     "metadata": {},
     "output_type": "display_data"
    },
    {
     "data": {
      "text/html": [
       "<pre style=\"white-space:pre;overflow-x:auto;line-height:normal;font-family:Menlo,'DejaVu Sans Mono',consolas,'Courier New',monospace\"><span style=\"color: #008080; text-decoration-color: #008080; font-weight: bold\">🔌 Connection closed.</span>\n",
       "\n",
       "</pre>\n"
      ],
      "text/plain": [
       "\u001b[1;36m🔌 Connection closed.\u001b[0m\n",
       "\n"
      ]
     },
     "metadata": {},
     "output_type": "display_data"
    }
   ],
   "source": [
    "query_delete_predictions = \"DELETE FROM predictions;\"\n",
    "execute_query(query_delete_predictions)"
   ]
  },
  {
   "cell_type": "code",
   "execution_count": 37,
   "id": "a1cc2626",
   "metadata": {},
   "outputs": [
    {
     "data": {
      "text/html": [
       "<pre style=\"white-space:pre;overflow-x:auto;line-height:normal;font-family:Menlo,'DejaVu Sans Mono',consolas,'Courier New',monospace\"><span style=\"color: #000080; text-decoration-color: #000080\">╭──────────────────────────────────────────────────</span> Table Info <span style=\"color: #000080; text-decoration-color: #000080\">───────────────────────────────────────────────────╮</span>\n",
       "<span style=\"color: #000080; text-decoration-color: #000080\">│ 📋 </span><span style=\"color: #008000; text-decoration-color: #008000; font-weight: bold\">Table:</span><span style=\"color: #000080; text-decoration-color: #000080\"> players                                                                                               │</span>\n",
       "<span style=\"color: #000080; text-decoration-color: #000080\">│ 🔢 </span><span style=\"color: #008080; text-decoration-color: #008080; font-weight: bold\">Columns:</span><span style=\"color: #000080; text-decoration-color: #000080\"> id, username, email, password_hash, avatar_path, role, is_confirmed, reset_token, created_at,       │</span>\n",
       "<span style=\"color: #000080; text-decoration-color: #000080\">│ updated_at, last_login_at, avatar_url                                                                           │</span>\n",
       "<span style=\"color: #000080; text-decoration-color: #000080\">│ 📊 </span><span style=\"color: #800080; text-decoration-color: #800080; font-weight: bold\">Total Rows:</span><span style=\"color: #000080; text-decoration-color: #000080\"> 2                                                                                                │</span>\n",
       "<span style=\"color: #000080; text-decoration-color: #000080\">╰─────────────────────────────────────────────────────────────────────────────────────────────────────────────────╯</span>\n",
       "</pre>\n"
      ],
      "text/plain": [
       "\u001b[34m╭─\u001b[0m\u001b[34m─────────────────────────────────────────────────\u001b[0m Table Info \u001b[34m──────────────────────────────────────────────────\u001b[0m\u001b[34m─╮\u001b[0m\n",
       "\u001b[34m│\u001b[0m\u001b[34m \u001b[0m\u001b[34m📋 \u001b[0m\u001b[1;32mTable:\u001b[0m\u001b[34m players\u001b[0m\u001b[34m                                                                                              \u001b[0m\u001b[34m \u001b[0m\u001b[34m│\u001b[0m\n",
       "\u001b[34m│\u001b[0m\u001b[34m \u001b[0m\u001b[34m🔢 \u001b[0m\u001b[1;36mColumns:\u001b[0m\u001b[34m id, username, email, password_hash, avatar_path, role, is_confirmed, reset_token, created_at, \u001b[0m\u001b[34m     \u001b[0m\u001b[34m \u001b[0m\u001b[34m│\u001b[0m\n",
       "\u001b[34m│\u001b[0m\u001b[34m \u001b[0m\u001b[34mupdated_at, last_login_at, avatar_url\u001b[0m\u001b[34m                                                                          \u001b[0m\u001b[34m \u001b[0m\u001b[34m│\u001b[0m\n",
       "\u001b[34m│\u001b[0m\u001b[34m \u001b[0m\u001b[34m📊 \u001b[0m\u001b[1;35mTotal Rows:\u001b[0m\u001b[34m 2\u001b[0m\u001b[34m                                                                                               \u001b[0m\u001b[34m \u001b[0m\u001b[34m│\u001b[0m\n",
       "\u001b[34m╰─────────────────────────────────────────────────────────────────────────────────────────────────────────────────╯\u001b[0m\n"
      ]
     },
     "metadata": {},
     "output_type": "display_data"
    },
    {
     "data": {
      "text/html": [
       "<pre style=\"white-space:pre;overflow-x:auto;line-height:normal;font-family:Menlo,'DejaVu Sans Mono',consolas,'Courier New',monospace\"><span style=\"font-style: italic\">                                             Sample Data from players                                              </span>\n",
       "╭────┬─────────┬─────────┬─────────┬─────────┬────────┬─────────┬─────────┬─────────┬─────────┬─────────┬─────────╮\n",
       "│<span style=\"font-weight: bold\"> id </span>│<span style=\"font-weight: bold\"> userna… </span>│<span style=\"font-weight: bold\"> email   </span>│<span style=\"font-weight: bold\"> passwo… </span>│<span style=\"font-weight: bold\"> avatar… </span>│<span style=\"font-weight: bold\"> role   </span>│<span style=\"font-weight: bold\"> is_con… </span>│<span style=\"font-weight: bold\"> reset_… </span>│<span style=\"font-weight: bold\"> create… </span>│<span style=\"font-weight: bold\"> update… </span>│<span style=\"font-weight: bold\"> last_l… </span>│<span style=\"font-weight: bold\"> avatar… </span>│\n",
       "├────┼─────────┼─────────┼─────────┼─────────┼────────┼─────────┼─────────┼─────────┼─────────┼─────────┼─────────┤\n",
       "│<span style=\"color: #800080; text-decoration-color: #800080; font-weight: bold\"> 8  </span>│<span style=\"color: #800080; text-decoration-color: #800080; font-weight: bold\"> BaselA… </span>│<span style=\"color: #800080; text-decoration-color: #800080; font-weight: bold\"> BaselA… </span>│<span style=\"color: #800080; text-decoration-color: #800080; font-weight: bold\"> b'$2b$… </span>│<span style=\"color: #800080; text-decoration-color: #800080; font-weight: bold\"> assets… </span>│<span style=\"color: #800080; text-decoration-color: #800080; font-weight: bold\"> admin  </span>│<span style=\"color: #800080; text-decoration-color: #800080; font-weight: bold\"> 1       </span>│<span style=\"color: #800080; text-decoration-color: #800080; font-weight: bold\"> None    </span>│<span style=\"color: #800080; text-decoration-color: #800080; font-weight: bold\"> 2025-0… </span>│<span style=\"color: #800080; text-decoration-color: #800080; font-weight: bold\"> 2025-0… </span>│<span style=\"color: #800080; text-decoration-color: #800080; font-weight: bold\"> 2025-0… </span>│<span style=\"color: #800080; text-decoration-color: #800080; font-weight: bold\"> assets… </span>│\n",
       "│<span style=\"color: #800080; text-decoration-color: #800080; font-weight: bold\">    </span>│<span style=\"color: #800080; text-decoration-color: #800080; font-weight: bold\">         </span>│<span style=\"color: #800080; text-decoration-color: #800080; font-weight: bold\">         </span>│<span style=\"color: #800080; text-decoration-color: #800080; font-weight: bold\">         </span>│<span style=\"color: #800080; text-decoration-color: #800080; font-weight: bold\">         </span>│<span style=\"color: #800080; text-decoration-color: #800080; font-weight: bold\">        </span>│<span style=\"color: #800080; text-decoration-color: #800080; font-weight: bold\">         </span>│<span style=\"color: #800080; text-decoration-color: #800080; font-weight: bold\">         </span>│<span style=\"color: #800080; text-decoration-color: #800080; font-weight: bold\"> 14:00:… </span>│<span style=\"color: #800080; text-decoration-color: #800080; font-weight: bold\"> 15:24:… </span>│<span style=\"color: #800080; text-decoration-color: #800080; font-weight: bold\">         </span>│<span style=\"color: #800080; text-decoration-color: #800080; font-weight: bold\">         </span>│\n",
       "├────┼─────────┼─────────┼─────────┼─────────┼────────┼─────────┼─────────┼─────────┼─────────┼─────────┼─────────┤\n",
       "│<span style=\"color: #800080; text-decoration-color: #800080; font-weight: bold\"> 14 </span>│<span style=\"color: #800080; text-decoration-color: #800080; font-weight: bold\"> Mohamed </span>│<span style=\"color: #800080; text-decoration-color: #800080; font-weight: bold\"> basela… </span>│<span style=\"color: #800080; text-decoration-color: #800080; font-weight: bold\"> b'$2b$… </span>│<span style=\"color: #800080; text-decoration-color: #800080; font-weight: bold\"> None    </span>│<span style=\"color: #800080; text-decoration-color: #800080; font-weight: bold\"> player </span>│<span style=\"color: #800080; text-decoration-color: #800080; font-weight: bold\"> 1       </span>│<span style=\"color: #800080; text-decoration-color: #800080; font-weight: bold\"> None    </span>│<span style=\"color: #800080; text-decoration-color: #800080; font-weight: bold\"> 2025-0… </span>│<span style=\"color: #800080; text-decoration-color: #800080; font-weight: bold\"> 2025-0… </span>│<span style=\"color: #800080; text-decoration-color: #800080; font-weight: bold\"> 2025-0… </span>│<span style=\"color: #800080; text-decoration-color: #800080; font-weight: bold\"> None    </span>│\n",
       "│<span style=\"color: #800080; text-decoration-color: #800080; font-weight: bold\">    </span>│<span style=\"color: #800080; text-decoration-color: #800080; font-weight: bold\"> Khaled  </span>│<span style=\"color: #800080; text-decoration-color: #800080; font-weight: bold\">         </span>│<span style=\"color: #800080; text-decoration-color: #800080; font-weight: bold\">         </span>│<span style=\"color: #800080; text-decoration-color: #800080; font-weight: bold\">         </span>│<span style=\"color: #800080; text-decoration-color: #800080; font-weight: bold\">        </span>│<span style=\"color: #800080; text-decoration-color: #800080; font-weight: bold\">         </span>│<span style=\"color: #800080; text-decoration-color: #800080; font-weight: bold\">         </span>│<span style=\"color: #800080; text-decoration-color: #800080; font-weight: bold\"> 18:00:… </span>│<span style=\"color: #800080; text-decoration-color: #800080; font-weight: bold\"> 23:13:… </span>│<span style=\"color: #800080; text-decoration-color: #800080; font-weight: bold\">         </span>│<span style=\"color: #800080; text-decoration-color: #800080; font-weight: bold\">         </span>│\n",
       "╰────┴─────────┴─────────┴─────────┴─────────┴────────┴─────────┴─────────┴─────────┴─────────┴─────────┴─────────╯\n",
       "</pre>\n"
      ],
      "text/plain": [
       "\u001b[3m                                             Sample Data from players                                              \u001b[0m\n",
       "╭────┬─────────┬─────────┬─────────┬─────────┬────────┬─────────┬─────────┬─────────┬─────────┬─────────┬─────────╮\n",
       "│\u001b[1m \u001b[0m\u001b[1mid\u001b[0m\u001b[1m \u001b[0m│\u001b[1m \u001b[0m\u001b[1muserna…\u001b[0m\u001b[1m \u001b[0m│\u001b[1m \u001b[0m\u001b[1memail  \u001b[0m\u001b[1m \u001b[0m│\u001b[1m \u001b[0m\u001b[1mpasswo…\u001b[0m\u001b[1m \u001b[0m│\u001b[1m \u001b[0m\u001b[1mavatar…\u001b[0m\u001b[1m \u001b[0m│\u001b[1m \u001b[0m\u001b[1mrole  \u001b[0m\u001b[1m \u001b[0m│\u001b[1m \u001b[0m\u001b[1mis_con…\u001b[0m\u001b[1m \u001b[0m│\u001b[1m \u001b[0m\u001b[1mreset_…\u001b[0m\u001b[1m \u001b[0m│\u001b[1m \u001b[0m\u001b[1mcreate…\u001b[0m\u001b[1m \u001b[0m│\u001b[1m \u001b[0m\u001b[1mupdate…\u001b[0m\u001b[1m \u001b[0m│\u001b[1m \u001b[0m\u001b[1mlast_l…\u001b[0m\u001b[1m \u001b[0m│\u001b[1m \u001b[0m\u001b[1mavatar…\u001b[0m\u001b[1m \u001b[0m│\n",
       "├────┼─────────┼─────────┼─────────┼─────────┼────────┼─────────┼─────────┼─────────┼─────────┼─────────┼─────────┤\n",
       "│\u001b[1;35m \u001b[0m\u001b[1;35m8 \u001b[0m\u001b[1;35m \u001b[0m│\u001b[1;35m \u001b[0m\u001b[1;35mBaselA…\u001b[0m\u001b[1;35m \u001b[0m│\u001b[1;35m \u001b[0m\u001b[1;35mBaselA…\u001b[0m\u001b[1;35m \u001b[0m│\u001b[1;35m \u001b[0m\u001b[1;35mb'$2b$…\u001b[0m\u001b[1;35m \u001b[0m│\u001b[1;35m \u001b[0m\u001b[1;35massets…\u001b[0m\u001b[1;35m \u001b[0m│\u001b[1;35m \u001b[0m\u001b[1;35madmin \u001b[0m\u001b[1;35m \u001b[0m│\u001b[1;35m \u001b[0m\u001b[1;35m1      \u001b[0m\u001b[1;35m \u001b[0m│\u001b[1;35m \u001b[0m\u001b[1;35mNone   \u001b[0m\u001b[1;35m \u001b[0m│\u001b[1;35m \u001b[0m\u001b[1;35m2025-0…\u001b[0m\u001b[1;35m \u001b[0m│\u001b[1;35m \u001b[0m\u001b[1;35m2025-0…\u001b[0m\u001b[1;35m \u001b[0m│\u001b[1;35m \u001b[0m\u001b[1;35m2025-0…\u001b[0m\u001b[1;35m \u001b[0m│\u001b[1;35m \u001b[0m\u001b[1;35massets…\u001b[0m\u001b[1;35m \u001b[0m│\n",
       "│\u001b[1;35m    \u001b[0m│\u001b[1;35m         \u001b[0m│\u001b[1;35m         \u001b[0m│\u001b[1;35m         \u001b[0m│\u001b[1;35m         \u001b[0m│\u001b[1;35m        \u001b[0m│\u001b[1;35m         \u001b[0m│\u001b[1;35m         \u001b[0m│\u001b[1;35m \u001b[0m\u001b[1;35m14:00:…\u001b[0m\u001b[1;35m \u001b[0m│\u001b[1;35m \u001b[0m\u001b[1;35m15:24:…\u001b[0m\u001b[1;35m \u001b[0m│\u001b[1;35m         \u001b[0m│\u001b[1;35m         \u001b[0m│\n",
       "├────┼─────────┼─────────┼─────────┼─────────┼────────┼─────────┼─────────┼─────────┼─────────┼─────────┼─────────┤\n",
       "│\u001b[1;35m \u001b[0m\u001b[1;35m14\u001b[0m\u001b[1;35m \u001b[0m│\u001b[1;35m \u001b[0m\u001b[1;35mMohamed\u001b[0m\u001b[1;35m \u001b[0m│\u001b[1;35m \u001b[0m\u001b[1;35mbasela…\u001b[0m\u001b[1;35m \u001b[0m│\u001b[1;35m \u001b[0m\u001b[1;35mb'$2b$…\u001b[0m\u001b[1;35m \u001b[0m│\u001b[1;35m \u001b[0m\u001b[1;35mNone   \u001b[0m\u001b[1;35m \u001b[0m│\u001b[1;35m \u001b[0m\u001b[1;35mplayer\u001b[0m\u001b[1;35m \u001b[0m│\u001b[1;35m \u001b[0m\u001b[1;35m1      \u001b[0m\u001b[1;35m \u001b[0m│\u001b[1;35m \u001b[0m\u001b[1;35mNone   \u001b[0m\u001b[1;35m \u001b[0m│\u001b[1;35m \u001b[0m\u001b[1;35m2025-0…\u001b[0m\u001b[1;35m \u001b[0m│\u001b[1;35m \u001b[0m\u001b[1;35m2025-0…\u001b[0m\u001b[1;35m \u001b[0m│\u001b[1;35m \u001b[0m\u001b[1;35m2025-0…\u001b[0m\u001b[1;35m \u001b[0m│\u001b[1;35m \u001b[0m\u001b[1;35mNone   \u001b[0m\u001b[1;35m \u001b[0m│\n",
       "│\u001b[1;35m    \u001b[0m│\u001b[1;35m \u001b[0m\u001b[1;35mKhaled \u001b[0m\u001b[1;35m \u001b[0m│\u001b[1;35m         \u001b[0m│\u001b[1;35m         \u001b[0m│\u001b[1;35m         \u001b[0m│\u001b[1;35m        \u001b[0m│\u001b[1;35m         \u001b[0m│\u001b[1;35m         \u001b[0m│\u001b[1;35m \u001b[0m\u001b[1;35m18:00:…\u001b[0m\u001b[1;35m \u001b[0m│\u001b[1;35m \u001b[0m\u001b[1;35m23:13:…\u001b[0m\u001b[1;35m \u001b[0m│\u001b[1;35m         \u001b[0m│\u001b[1;35m         \u001b[0m│\n",
       "╰────┴─────────┴─────────┴─────────┴─────────┴────────┴─────────┴─────────┴─────────┴─────────┴─────────┴─────────╯\n"
      ]
     },
     "metadata": {},
     "output_type": "display_data"
    },
    {
     "data": {
      "text/html": [
       "<pre style=\"white-space:pre;overflow-x:auto;line-height:normal;font-family:Menlo,'DejaVu Sans Mono',consolas,'Courier New',monospace\"><span style=\"color: #008080; text-decoration-color: #008080; font-weight: bold\">🔌 Connection closed.</span>\n",
       "\n",
       "</pre>\n"
      ],
      "text/plain": [
       "\u001b[1;36m🔌 Connection closed.\u001b[0m\n",
       "\n"
      ]
     },
     "metadata": {},
     "output_type": "display_data"
    }
   ],
   "source": [
    "table_info(\"players\")"
   ]
  },
  {
   "cell_type": "code",
   "execution_count": 28,
   "id": "0a993587",
   "metadata": {},
   "outputs": [
    {
     "data": {
      "text/plain": [
       "<sqlite3.Cursor at 0x1a032ca6a40>"
      ]
     },
     "execution_count": 28,
     "metadata": {},
     "output_type": "execute_result"
    }
   ],
   "source": [
    "con = get_connection()\n",
    "con.execute(\"PRAGMA foreign_keys = ON;\")"
   ]
  },
  {
   "cell_type": "code",
   "execution_count": null,
   "id": "d04ef962",
   "metadata": {},
   "outputs": [],
   "source": []
  }
 ],
 "metadata": {
  "kernelspec": {
   "display_name": "Python 3",
   "language": "python",
   "name": "python3"
  },
  "language_info": {
   "codemirror_mode": {
    "name": "ipython",
    "version": 3
   },
   "file_extension": ".py",
   "mimetype": "text/x-python",
   "name": "python",
   "nbconvert_exporter": "python",
   "pygments_lexer": "ipython3",
   "version": "3.13.2"
  }
 },
 "nbformat": 4,
 "nbformat_minor": 5
}
